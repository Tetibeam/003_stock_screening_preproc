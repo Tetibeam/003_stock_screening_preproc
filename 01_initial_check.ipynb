{
 "cells": [
  {
   "cell_type": "markdown",
   "id": "4cd607b5",
   "metadata": {},
   "source": [
    "## 初期設定"
   ]
  },
  {
   "cell_type": "code",
   "execution_count": 3,
   "id": "3fe0f794",
   "metadata": {},
   "outputs": [
    {
     "name": "stdout",
     "output_type": "stream",
     "text": [
      "The autoreload extension is already loaded. To reload it, use:\n",
      "  %reload_ext autoreload\n",
      "🔁 autoreload 有効化完了\n"
     ]
    }
   ],
   "source": [
    "# --- Notebook初期設定 ---\n",
    "%load_ext autoreload\n",
    "%autoreload 2\n",
    "import src.config as cfg\n",
    "import src.data_loader as dl\n",
    "import src.cleaning_utils as cu\n",
    "print(\"🔁 autoreload 有効化完了\")\n",
    "import yaml\n",
    "import os\n",
    "import pandas as pd\n",
    "import numpy as np\n",
    "import plotly.express as px\n",
    "import plotly.graph_objects as go"
   ]
  },
  {
   "cell_type": "code",
   "execution_count": 4,
   "id": "b79cbfce",
   "metadata": {},
   "outputs": [
    {
     "data": {
      "text/plain": [
       "{'project_name': 'stock_screening_preproc',\n",
       " 'data_path': './data',\n",
       " 'years': [2010,\n",
       "  2011,\n",
       "  2012,\n",
       "  2013,\n",
       "  2014,\n",
       "  2015,\n",
       "  2016,\n",
       "  2017,\n",
       "  2018,\n",
       "  2019,\n",
       "  2020,\n",
       "  2021,\n",
       "  2022,\n",
       "  2023,\n",
       "  2024,\n",
       "  2025],\n",
       " 'files': ['fy-balance-sheet.csv',\n",
       "  'fy-cash-flow-statement.csv',\n",
       "  'fy-profit-and-loss.csv',\n",
       "  'fy-stock-dividend.csv'],\n",
       " 'files_reference': ['CodeData.csv'],\n",
       " 'na_values': ['-', '0', 'NaN', ''],\n",
       " 'output': {'base_path': './output',\n",
       "  'files': {'fy-balance-sheet.csv': 'all_fy-balance-sheet.csv',\n",
       "   'fy-cash-flow-statement.csv': 'all_fy-cash-flow-statement.csv',\n",
       "   'fy-profit-and-loss.csv': 'all_fy-profit-and-loss.csv',\n",
       "   'fy-stock-dividend.csv': 'all_fy-stock-dividend.csv'}}}"
      ]
     },
     "metadata": {},
     "output_type": "display_data"
    }
   ],
   "source": [
    "# 設定読み込み\n",
    "settings = cfg.load_settings(\"setting.yaml\")\n",
    "display(settings)"
   ]
  },
  {
   "cell_type": "markdown",
   "id": "b9a6ff0d",
   "metadata": {},
   "source": [
    "## 本ファイルの説明\n",
    "データが最低限の品質基準を満たしているかを迅速かつ網羅的に確認します。\n"
   ]
  },
  {
   "cell_type": "markdown",
   "id": "efdaa036",
   "metadata": {},
   "source": [
    "### データのロードの確認"
   ]
  },
  {
   "cell_type": "code",
   "execution_count": null,
   "id": "0867fa3c",
   "metadata": {},
   "outputs": [
    {
     "data": {
      "text/plain": [
       "(3034, 8)"
      ]
     },
     "metadata": {},
     "output_type": "display_data"
    },
    {
     "data": {
      "text/plain": [
       "3034"
      ]
     },
     "metadata": {},
     "output_type": "display_data"
    },
    {
     "data": {
      "text/plain": [
       "12"
      ]
     },
     "metadata": {},
     "output_type": "display_data"
    },
    {
     "data": {
      "text/plain": [
       "(3101, 8)"
      ]
     },
     "metadata": {},
     "output_type": "display_data"
    },
    {
     "data": {
      "text/plain": [
       "3101"
      ]
     },
     "metadata": {},
     "output_type": "display_data"
    },
    {
     "data": {
      "text/plain": [
       "12"
      ]
     },
     "metadata": {},
     "output_type": "display_data"
    },
    {
     "data": {
      "text/plain": [
       "(3138, 8)"
      ]
     },
     "metadata": {},
     "output_type": "display_data"
    },
    {
     "data": {
      "text/plain": [
       "3138"
      ]
     },
     "metadata": {},
     "output_type": "display_data"
    },
    {
     "data": {
      "text/plain": [
       "12"
      ]
     },
     "metadata": {},
     "output_type": "display_data"
    },
    {
     "data": {
      "text/plain": [
       "(3220, 8)"
      ]
     },
     "metadata": {},
     "output_type": "display_data"
    },
    {
     "data": {
      "text/plain": [
       "3220"
      ]
     },
     "metadata": {},
     "output_type": "display_data"
    },
    {
     "data": {
      "text/plain": [
       "12"
      ]
     },
     "metadata": {},
     "output_type": "display_data"
    },
    {
     "data": {
      "text/plain": [
       "(3258, 8)"
      ]
     },
     "metadata": {},
     "output_type": "display_data"
    },
    {
     "data": {
      "text/plain": [
       "3258"
      ]
     },
     "metadata": {},
     "output_type": "display_data"
    },
    {
     "data": {
      "text/plain": [
       "12"
      ]
     },
     "metadata": {},
     "output_type": "display_data"
    },
    {
     "data": {
      "text/plain": [
       "(3321, 8)"
      ]
     },
     "metadata": {},
     "output_type": "display_data"
    },
    {
     "data": {
      "text/plain": [
       "3321"
      ]
     },
     "metadata": {},
     "output_type": "display_data"
    },
    {
     "data": {
      "text/plain": [
       "12"
      ]
     },
     "metadata": {},
     "output_type": "display_data"
    },
    {
     "data": {
      "text/plain": [
       "(3399, 8)"
      ]
     },
     "metadata": {},
     "output_type": "display_data"
    },
    {
     "data": {
      "text/plain": [
       "3399"
      ]
     },
     "metadata": {},
     "output_type": "display_data"
    },
    {
     "data": {
      "text/plain": [
       "12"
      ]
     },
     "metadata": {},
     "output_type": "display_data"
    },
    {
     "data": {
      "text/plain": [
       "(3479, 8)"
      ]
     },
     "metadata": {},
     "output_type": "display_data"
    },
    {
     "data": {
      "text/plain": [
       "3479"
      ]
     },
     "metadata": {},
     "output_type": "display_data"
    },
    {
     "data": {
      "text/plain": [
       "12"
      ]
     },
     "metadata": {},
     "output_type": "display_data"
    },
    {
     "data": {
      "text/plain": [
       "(3582, 8)"
      ]
     },
     "metadata": {},
     "output_type": "display_data"
    },
    {
     "data": {
      "text/plain": [
       "3582"
      ]
     },
     "metadata": {},
     "output_type": "display_data"
    },
    {
     "data": {
      "text/plain": [
       "12"
      ]
     },
     "metadata": {},
     "output_type": "display_data"
    },
    {
     "data": {
      "text/plain": [
       "(3652, 8)"
      ]
     },
     "metadata": {},
     "output_type": "display_data"
    },
    {
     "data": {
      "text/plain": [
       "3652"
      ]
     },
     "metadata": {},
     "output_type": "display_data"
    },
    {
     "data": {
      "text/plain": [
       "12"
      ]
     },
     "metadata": {},
     "output_type": "display_data"
    },
    {
     "data": {
      "text/plain": [
       "(3645, 8)"
      ]
     },
     "metadata": {},
     "output_type": "display_data"
    },
    {
     "data": {
      "text/plain": [
       "3645"
      ]
     },
     "metadata": {},
     "output_type": "display_data"
    },
    {
     "data": {
      "text/plain": [
       "12"
      ]
     },
     "metadata": {},
     "output_type": "display_data"
    },
    {
     "data": {
      "text/plain": [
       "(3618, 8)"
      ]
     },
     "metadata": {},
     "output_type": "display_data"
    },
    {
     "data": {
      "text/plain": [
       "3618"
      ]
     },
     "metadata": {},
     "output_type": "display_data"
    },
    {
     "data": {
      "text/plain": [
       "12"
      ]
     },
     "metadata": {},
     "output_type": "display_data"
    },
    {
     "data": {
      "text/plain": [
       "(3606, 8)"
      ]
     },
     "metadata": {},
     "output_type": "display_data"
    },
    {
     "data": {
      "text/plain": [
       "3606"
      ]
     },
     "metadata": {},
     "output_type": "display_data"
    },
    {
     "data": {
      "text/plain": [
       "12"
      ]
     },
     "metadata": {},
     "output_type": "display_data"
    },
    {
     "data": {
      "text/plain": [
       "(3606, 8)"
      ]
     },
     "metadata": {},
     "output_type": "display_data"
    },
    {
     "data": {
      "text/plain": [
       "3606"
      ]
     },
     "metadata": {},
     "output_type": "display_data"
    },
    {
     "data": {
      "text/plain": [
       "12"
      ]
     },
     "metadata": {},
     "output_type": "display_data"
    },
    {
     "data": {
      "text/plain": [
       "(3574, 8)"
      ]
     },
     "metadata": {},
     "output_type": "display_data"
    },
    {
     "data": {
      "text/plain": [
       "3574"
      ]
     },
     "metadata": {},
     "output_type": "display_data"
    },
    {
     "data": {
      "text/plain": [
       "12"
      ]
     },
     "metadata": {},
     "output_type": "display_data"
    },
    {
     "data": {
      "text/plain": [
       "(3846, 8)"
      ]
     },
     "metadata": {},
     "output_type": "display_data"
    },
    {
     "data": {
      "text/plain": [
       "3846"
      ]
     },
     "metadata": {},
     "output_type": "display_data"
    },
    {
     "data": {
      "text/plain": [
       "31"
      ]
     },
     "metadata": {},
     "output_type": "display_data"
    }
   ],
   "source": [
    "# 財務データ 結合前\n",
    "for file in settings[\"files\"]:\n",
    "    df = dl.load_data_by_files(settings[\"data_path\"], settings[\"years\"], file, [\"\"])\n",
    "    print(file, df[].shape)\n",
    "    #display(df[year][\"コード\"].unique())\n",
    "    display(df[year][\"コード\"].nunique())\n",
    "    display(df[year][\"年度\"].nunique())"
   ]
  },
  {
   "cell_type": "code",
   "execution_count": null,
   "id": "3518e1fb",
   "metadata": {},
   "outputs": [
    {
     "name": "stdout",
     "output_type": "stream",
     "text": [
      "fy-balance-sheet.csv (63377, 10)\n"
     ]
    },
    {
     "data": {
      "text/html": [
       "<div>\n",
       "<style scoped>\n",
       "    .dataframe tbody tr th:only-of-type {\n",
       "        vertical-align: middle;\n",
       "    }\n",
       "\n",
       "    .dataframe tbody tr th {\n",
       "        vertical-align: top;\n",
       "    }\n",
       "\n",
       "    .dataframe thead th {\n",
       "        text-align: right;\n",
       "    }\n",
       "</style>\n",
       "<table border=\"1\" class=\"dataframe\">\n",
       "  <thead>\n",
       "    <tr style=\"text-align: right;\">\n",
       "      <th></th>\n",
       "      <th>コード</th>\n",
       "      <th>年度</th>\n",
       "      <th>総資産</th>\n",
       "      <th>純資産</th>\n",
       "      <th>株主資本</th>\n",
       "      <th>利益剰余金</th>\n",
       "      <th>短期借入金</th>\n",
       "      <th>長期借入金</th>\n",
       "      <th>BPS</th>\n",
       "      <th>自己資本比率</th>\n",
       "    </tr>\n",
       "  </thead>\n",
       "  <tbody>\n",
       "    <tr>\n",
       "      <th>0</th>\n",
       "      <td>1301</td>\n",
       "      <td>2010/03</td>\n",
       "      <td>6.430100e+10</td>\n",
       "      <td>1.853800e+10</td>\n",
       "      <td>1.839100e+10</td>\n",
       "      <td>1.258900e+10</td>\n",
       "      <td>2.672400e+10</td>\n",
       "      <td>2.712000e+09</td>\n",
       "      <td>1651.87</td>\n",
       "      <td>28.1</td>\n",
       "    </tr>\n",
       "    <tr>\n",
       "      <th>1</th>\n",
       "      <td>1332</td>\n",
       "      <td>2010/03</td>\n",
       "      <td>3.839240e+11</td>\n",
       "      <td>7.956700e+10</td>\n",
       "      <td>6.976600e+10</td>\n",
       "      <td>3.253000e+10</td>\n",
       "      <td>1.146390e+11</td>\n",
       "      <td>1.069930e+11</td>\n",
       "      <td>231.06</td>\n",
       "      <td>16.0</td>\n",
       "    </tr>\n",
       "    <tr>\n",
       "      <th>2</th>\n",
       "      <td>1333</td>\n",
       "      <td>2010/03</td>\n",
       "      <td>1.136840e+11</td>\n",
       "      <td>2.443500e+10</td>\n",
       "      <td>NaN</td>\n",
       "      <td>NaN</td>\n",
       "      <td>NaN</td>\n",
       "      <td>NaN</td>\n",
       "      <td>NaN</td>\n",
       "      <td>21.5</td>\n",
       "    </tr>\n",
       "    <tr>\n",
       "      <th>3</th>\n",
       "      <td>1352</td>\n",
       "      <td>2010/03</td>\n",
       "      <td>1.196700e+10</td>\n",
       "      <td>5.439000e+09</td>\n",
       "      <td>5.268000e+09</td>\n",
       "      <td>1.561000e+09</td>\n",
       "      <td>NaN</td>\n",
       "      <td>4.970000e+08</td>\n",
       "      <td>628.95</td>\n",
       "      <td>44.0</td>\n",
       "    </tr>\n",
       "    <tr>\n",
       "      <th>4</th>\n",
       "      <td>1375</td>\n",
       "      <td>2010/03</td>\n",
       "      <td>3.208300e+10</td>\n",
       "      <td>6.318000e+09</td>\n",
       "      <td>6.307000e+09</td>\n",
       "      <td>3.056000e+09</td>\n",
       "      <td>NaN</td>\n",
       "      <td>7.786000e+09</td>\n",
       "      <td>1.62</td>\n",
       "      <td>19.0</td>\n",
       "    </tr>\n",
       "    <tr>\n",
       "      <th>...</th>\n",
       "      <td>...</td>\n",
       "      <td>...</td>\n",
       "      <td>...</td>\n",
       "      <td>...</td>\n",
       "      <td>...</td>\n",
       "      <td>...</td>\n",
       "      <td>...</td>\n",
       "      <td>...</td>\n",
       "      <td>...</td>\n",
       "      <td>...</td>\n",
       "    </tr>\n",
       "    <tr>\n",
       "      <th>63372</th>\n",
       "      <td>9993</td>\n",
       "      <td>2025/02</td>\n",
       "      <td>5.557700e+10</td>\n",
       "      <td>2.596900e+10</td>\n",
       "      <td>2.583000e+10</td>\n",
       "      <td>2.145900e+10</td>\n",
       "      <td>8.100000e+09</td>\n",
       "      <td>3.620000e+09</td>\n",
       "      <td>2407.43</td>\n",
       "      <td>46.7</td>\n",
       "    </tr>\n",
       "    <tr>\n",
       "      <th>63373</th>\n",
       "      <td>9994</td>\n",
       "      <td>2025/03</td>\n",
       "      <td>6.694200e+10</td>\n",
       "      <td>3.733000e+10</td>\n",
       "      <td>3.472400e+10</td>\n",
       "      <td>2.567000e+10</td>\n",
       "      <td>3.100000e+09</td>\n",
       "      <td>2.968000e+09</td>\n",
       "      <td>3251.97</td>\n",
       "      <td>52.7</td>\n",
       "    </tr>\n",
       "    <tr>\n",
       "      <th>63374</th>\n",
       "      <td>9995</td>\n",
       "      <td>2024/03</td>\n",
       "      <td>4.905900e+10</td>\n",
       "      <td>2.659300e+10</td>\n",
       "      <td>2.458000e+10</td>\n",
       "      <td>1.370700e+10</td>\n",
       "      <td>1.152400e+10</td>\n",
       "      <td>NaN</td>\n",
       "      <td>901.34</td>\n",
       "      <td>54.2</td>\n",
       "    </tr>\n",
       "    <tr>\n",
       "      <th>63375</th>\n",
       "      <td>9996</td>\n",
       "      <td>2025/03</td>\n",
       "      <td>3.559724e+10</td>\n",
       "      <td>2.626856e+10</td>\n",
       "      <td>2.616686e+10</td>\n",
       "      <td>2.431879e+10</td>\n",
       "      <td>6.830000e+08</td>\n",
       "      <td>NaN</td>\n",
       "      <td>3149.63</td>\n",
       "      <td>73.8</td>\n",
       "    </tr>\n",
       "    <tr>\n",
       "      <th>63376</th>\n",
       "      <td>9997</td>\n",
       "      <td>2025/03</td>\n",
       "      <td>3.124620e+11</td>\n",
       "      <td>1.416560e+11</td>\n",
       "      <td>1.401490e+11</td>\n",
       "      <td>1.189560e+11</td>\n",
       "      <td>2.484900e+10</td>\n",
       "      <td>1.028530e+11</td>\n",
       "      <td>1468.53</td>\n",
       "      <td>45.2</td>\n",
       "    </tr>\n",
       "  </tbody>\n",
       "</table>\n",
       "<p>63377 rows × 10 columns</p>\n",
       "</div>"
      ],
      "text/plain": [
       "        コード       年度           総資産           純資産          株主資本         利益剰余金  \\\n",
       "0      1301  2010/03  6.430100e+10  1.853800e+10  1.839100e+10  1.258900e+10   \n",
       "1      1332  2010/03  3.839240e+11  7.956700e+10  6.976600e+10  3.253000e+10   \n",
       "2      1333  2010/03  1.136840e+11  2.443500e+10           NaN           NaN   \n",
       "3      1352  2010/03  1.196700e+10  5.439000e+09  5.268000e+09  1.561000e+09   \n",
       "4      1375  2010/03  3.208300e+10  6.318000e+09  6.307000e+09  3.056000e+09   \n",
       "...     ...      ...           ...           ...           ...           ...   \n",
       "63372  9993  2025/02  5.557700e+10  2.596900e+10  2.583000e+10  2.145900e+10   \n",
       "63373  9994  2025/03  6.694200e+10  3.733000e+10  3.472400e+10  2.567000e+10   \n",
       "63374  9995  2024/03  4.905900e+10  2.659300e+10  2.458000e+10  1.370700e+10   \n",
       "63375  9996  2025/03  3.559724e+10  2.626856e+10  2.616686e+10  2.431879e+10   \n",
       "63376  9997  2025/03  3.124620e+11  1.416560e+11  1.401490e+11  1.189560e+11   \n",
       "\n",
       "              短期借入金         長期借入金      BPS  自己資本比率  \n",
       "0      2.672400e+10  2.712000e+09  1651.87    28.1  \n",
       "1      1.146390e+11  1.069930e+11   231.06    16.0  \n",
       "2               NaN           NaN      NaN    21.5  \n",
       "3               NaN  4.970000e+08   628.95    44.0  \n",
       "4               NaN  7.786000e+09     1.62    19.0  \n",
       "...             ...           ...      ...     ...  \n",
       "63372  8.100000e+09  3.620000e+09  2407.43    46.7  \n",
       "63373  3.100000e+09  2.968000e+09  3251.97    52.7  \n",
       "63374  1.152400e+10           NaN   901.34    54.2  \n",
       "63375  6.830000e+08           NaN  3149.63    73.8  \n",
       "63376  2.484900e+10  1.028530e+11  1468.53    45.2  \n",
       "\n",
       "[63377 rows x 10 columns]"
      ]
     },
     "metadata": {},
     "output_type": "display_data"
    },
    {
     "data": {
      "text/plain": [
       "array(['1301', '1332', '1333', ..., '431A', '436A', '5016'],\n",
       "      shape=(4461,), dtype=object)"
      ]
     },
     "metadata": {},
     "output_type": "display_data"
    },
    {
     "data": {
      "text/plain": [
       "188"
      ]
     },
     "metadata": {},
     "output_type": "display_data"
    },
    {
     "name": "stdout",
     "output_type": "stream",
     "text": [
      "fy-cash-flow-statement.csv (61550, 8)\n"
     ]
    },
    {
     "data": {
      "text/html": [
       "<div>\n",
       "<style scoped>\n",
       "    .dataframe tbody tr th:only-of-type {\n",
       "        vertical-align: middle;\n",
       "    }\n",
       "\n",
       "    .dataframe tbody tr th {\n",
       "        vertical-align: top;\n",
       "    }\n",
       "\n",
       "    .dataframe thead th {\n",
       "        text-align: right;\n",
       "    }\n",
       "</style>\n",
       "<table border=\"1\" class=\"dataframe\">\n",
       "  <thead>\n",
       "    <tr style=\"text-align: right;\">\n",
       "      <th></th>\n",
       "      <th>コード</th>\n",
       "      <th>年度</th>\n",
       "      <th>営業CF</th>\n",
       "      <th>投資CF</th>\n",
       "      <th>財務CF</th>\n",
       "      <th>設備投資</th>\n",
       "      <th>現金同等物</th>\n",
       "      <th>営業CFマージン</th>\n",
       "    </tr>\n",
       "  </thead>\n",
       "  <tbody>\n",
       "    <tr>\n",
       "      <th>0</th>\n",
       "      <td>1301</td>\n",
       "      <td>2010/03</td>\n",
       "      <td>2.326000e+09</td>\n",
       "      <td>-4.515000e+09</td>\n",
       "      <td>1.142000e+09</td>\n",
       "      <td>NaN</td>\n",
       "      <td>2.672000e+09</td>\n",
       "      <td>1.60</td>\n",
       "    </tr>\n",
       "    <tr>\n",
       "      <th>1</th>\n",
       "      <td>1332</td>\n",
       "      <td>2010/03</td>\n",
       "      <td>3.355000e+10</td>\n",
       "      <td>-2.877100e+10</td>\n",
       "      <td>-1.568100e+10</td>\n",
       "      <td>-1.958800e+10</td>\n",
       "      <td>2.095200e+10</td>\n",
       "      <td>6.97</td>\n",
       "    </tr>\n",
       "    <tr>\n",
       "      <th>2</th>\n",
       "      <td>1352</td>\n",
       "      <td>2010/03</td>\n",
       "      <td>1.370000e+09</td>\n",
       "      <td>-2.205000e+09</td>\n",
       "      <td>-5.550000e+08</td>\n",
       "      <td>-1.985000e+09</td>\n",
       "      <td>8.240000e+08</td>\n",
       "      <td>3.78</td>\n",
       "    </tr>\n",
       "    <tr>\n",
       "      <th>3</th>\n",
       "      <td>1375</td>\n",
       "      <td>2010/03</td>\n",
       "      <td>3.434000e+09</td>\n",
       "      <td>-9.790000e+08</td>\n",
       "      <td>-1.597000e+09</td>\n",
       "      <td>-5.240000e+08</td>\n",
       "      <td>1.969000e+09</td>\n",
       "      <td>13.14</td>\n",
       "    </tr>\n",
       "    <tr>\n",
       "      <th>4</th>\n",
       "      <td>1376</td>\n",
       "      <td>2010/05</td>\n",
       "      <td>2.376787e+09</td>\n",
       "      <td>5.599700e+07</td>\n",
       "      <td>-1.082478e+09</td>\n",
       "      <td>-1.760820e+08</td>\n",
       "      <td>2.352426e+09</td>\n",
       "      <td>5.17</td>\n",
       "    </tr>\n",
       "    <tr>\n",
       "      <th>...</th>\n",
       "      <td>...</td>\n",
       "      <td>...</td>\n",
       "      <td>...</td>\n",
       "      <td>...</td>\n",
       "      <td>...</td>\n",
       "      <td>...</td>\n",
       "      <td>...</td>\n",
       "      <td>...</td>\n",
       "    </tr>\n",
       "    <tr>\n",
       "      <th>61545</th>\n",
       "      <td>9993</td>\n",
       "      <td>2025/02</td>\n",
       "      <td>3.317000e+09</td>\n",
       "      <td>-2.396000e+09</td>\n",
       "      <td>-1.200000e+09</td>\n",
       "      <td>-2.797000e+09</td>\n",
       "      <td>5.333000e+09</td>\n",
       "      <td>3.23</td>\n",
       "    </tr>\n",
       "    <tr>\n",
       "      <th>61546</th>\n",
       "      <td>9994</td>\n",
       "      <td>2025/03</td>\n",
       "      <td>2.807000e+09</td>\n",
       "      <td>-1.780000e+09</td>\n",
       "      <td>-1.977000e+09</td>\n",
       "      <td>-1.905000e+09</td>\n",
       "      <td>1.258800e+10</td>\n",
       "      <td>1.75</td>\n",
       "    </tr>\n",
       "    <tr>\n",
       "      <th>61547</th>\n",
       "      <td>9995</td>\n",
       "      <td>2024/03</td>\n",
       "      <td>-7.329000e+09</td>\n",
       "      <td>6.530000e+08</td>\n",
       "      <td>6.294000e+09</td>\n",
       "      <td>-9.200000e+07</td>\n",
       "      <td>5.219000e+09</td>\n",
       "      <td>-9.99</td>\n",
       "    </tr>\n",
       "    <tr>\n",
       "      <th>61548</th>\n",
       "      <td>9996</td>\n",
       "      <td>2025/03</td>\n",
       "      <td>-2.301360e+08</td>\n",
       "      <td>-3.780844e+09</td>\n",
       "      <td>-3.509370e+08</td>\n",
       "      <td>-8.860000e+08</td>\n",
       "      <td>7.221621e+09</td>\n",
       "      <td>-0.47</td>\n",
       "    </tr>\n",
       "    <tr>\n",
       "      <th>61549</th>\n",
       "      <td>9997</td>\n",
       "      <td>2025/03</td>\n",
       "      <td>9.689000e+09</td>\n",
       "      <td>-1.779200e+10</td>\n",
       "      <td>6.721000e+09</td>\n",
       "      <td>-1.522800e+10</td>\n",
       "      <td>3.621300e+10</td>\n",
       "      <td>4.60</td>\n",
       "    </tr>\n",
       "  </tbody>\n",
       "</table>\n",
       "<p>61550 rows × 8 columns</p>\n",
       "</div>"
      ],
      "text/plain": [
       "        コード       年度          営業CF          投資CF          財務CF          設備投資  \\\n",
       "0      1301  2010/03  2.326000e+09 -4.515000e+09  1.142000e+09           NaN   \n",
       "1      1332  2010/03  3.355000e+10 -2.877100e+10 -1.568100e+10 -1.958800e+10   \n",
       "2      1352  2010/03  1.370000e+09 -2.205000e+09 -5.550000e+08 -1.985000e+09   \n",
       "3      1375  2010/03  3.434000e+09 -9.790000e+08 -1.597000e+09 -5.240000e+08   \n",
       "4      1376  2010/05  2.376787e+09  5.599700e+07 -1.082478e+09 -1.760820e+08   \n",
       "...     ...      ...           ...           ...           ...           ...   \n",
       "61545  9993  2025/02  3.317000e+09 -2.396000e+09 -1.200000e+09 -2.797000e+09   \n",
       "61546  9994  2025/03  2.807000e+09 -1.780000e+09 -1.977000e+09 -1.905000e+09   \n",
       "61547  9995  2024/03 -7.329000e+09  6.530000e+08  6.294000e+09 -9.200000e+07   \n",
       "61548  9996  2025/03 -2.301360e+08 -3.780844e+09 -3.509370e+08 -8.860000e+08   \n",
       "61549  9997  2025/03  9.689000e+09 -1.779200e+10  6.721000e+09 -1.522800e+10   \n",
       "\n",
       "              現金同等物  営業CFマージン  \n",
       "0      2.672000e+09      1.60  \n",
       "1      2.095200e+10      6.97  \n",
       "2      8.240000e+08      3.78  \n",
       "3      1.969000e+09     13.14  \n",
       "4      2.352426e+09      5.17  \n",
       "...             ...       ...  \n",
       "61545  5.333000e+09      3.23  \n",
       "61546  1.258800e+10      1.75  \n",
       "61547  5.219000e+09     -9.99  \n",
       "61548  7.221621e+09     -0.47  \n",
       "61549  3.621300e+10      4.60  \n",
       "\n",
       "[61550 rows x 8 columns]"
      ]
     },
     "metadata": {},
     "output_type": "display_data"
    },
    {
     "data": {
      "text/plain": [
       "array(['1301', '1332', '1352', ..., '431A', '436A', '5016'],\n",
       "      shape=(4461,), dtype=object)"
      ]
     },
     "metadata": {},
     "output_type": "display_data"
    },
    {
     "data": {
      "text/plain": [
       "188"
      ]
     },
     "metadata": {},
     "output_type": "display_data"
    },
    {
     "name": "stdout",
     "output_type": "stream",
     "text": [
      "fy-profit-and-loss.csv (63366, 9)\n"
     ]
    },
    {
     "data": {
      "text/html": [
       "<div>\n",
       "<style scoped>\n",
       "    .dataframe tbody tr th:only-of-type {\n",
       "        vertical-align: middle;\n",
       "    }\n",
       "\n",
       "    .dataframe tbody tr th {\n",
       "        vertical-align: top;\n",
       "    }\n",
       "\n",
       "    .dataframe thead th {\n",
       "        text-align: right;\n",
       "    }\n",
       "</style>\n",
       "<table border=\"1\" class=\"dataframe\">\n",
       "  <thead>\n",
       "    <tr style=\"text-align: right;\">\n",
       "      <th></th>\n",
       "      <th>コード</th>\n",
       "      <th>年度</th>\n",
       "      <th>売上高</th>\n",
       "      <th>営業利益</th>\n",
       "      <th>経常利益</th>\n",
       "      <th>純利益</th>\n",
       "      <th>EPS</th>\n",
       "      <th>ROE</th>\n",
       "      <th>ROA</th>\n",
       "    </tr>\n",
       "  </thead>\n",
       "  <tbody>\n",
       "    <tr>\n",
       "      <th>0</th>\n",
       "      <td>1301</td>\n",
       "      <td>2010/03</td>\n",
       "      <td>1.457780e+11</td>\n",
       "      <td>2.180000e+09</td>\n",
       "      <td>2.550000e+09</td>\n",
       "      <td>1.086000e+09</td>\n",
       "      <td>99.38</td>\n",
       "      <td>6.02</td>\n",
       "      <td>1.69</td>\n",
       "    </tr>\n",
       "    <tr>\n",
       "      <th>1</th>\n",
       "      <td>1332</td>\n",
       "      <td>2010/03</td>\n",
       "      <td>4.815740e+11</td>\n",
       "      <td>6.227000e+09</td>\n",
       "      <td>6.174000e+09</td>\n",
       "      <td>4.400000e+07</td>\n",
       "      <td>0.16</td>\n",
       "      <td>0.07</td>\n",
       "      <td>0.01</td>\n",
       "    </tr>\n",
       "    <tr>\n",
       "      <th>2</th>\n",
       "      <td>1333</td>\n",
       "      <td>2010/03</td>\n",
       "      <td>1.749070e+11</td>\n",
       "      <td>NaN</td>\n",
       "      <td>-5.040000e+08</td>\n",
       "      <td>7.420000e+08</td>\n",
       "      <td>2.47</td>\n",
       "      <td>NaN</td>\n",
       "      <td>0.65</td>\n",
       "    </tr>\n",
       "    <tr>\n",
       "      <th>3</th>\n",
       "      <td>1352</td>\n",
       "      <td>2010/03</td>\n",
       "      <td>3.625300e+10</td>\n",
       "      <td>2.710000e+08</td>\n",
       "      <td>3.830000e+08</td>\n",
       "      <td>2.270000e+08</td>\n",
       "      <td>27.09</td>\n",
       "      <td>4.31</td>\n",
       "      <td>1.90</td>\n",
       "    </tr>\n",
       "    <tr>\n",
       "      <th>4</th>\n",
       "      <td>1375</td>\n",
       "      <td>2010/03</td>\n",
       "      <td>2.614000e+10</td>\n",
       "      <td>2.701000e+09</td>\n",
       "      <td>NaN</td>\n",
       "      <td>1.143000e+09</td>\n",
       "      <td>0.29</td>\n",
       "      <td>18.12</td>\n",
       "      <td>3.56</td>\n",
       "    </tr>\n",
       "    <tr>\n",
       "      <th>...</th>\n",
       "      <td>...</td>\n",
       "      <td>...</td>\n",
       "      <td>...</td>\n",
       "      <td>...</td>\n",
       "      <td>...</td>\n",
       "      <td>...</td>\n",
       "      <td>...</td>\n",
       "      <td>...</td>\n",
       "      <td>...</td>\n",
       "    </tr>\n",
       "    <tr>\n",
       "      <th>63361</th>\n",
       "      <td>9993</td>\n",
       "      <td>2025/02</td>\n",
       "      <td>1.025580e+11</td>\n",
       "      <td>-8.210000e+08</td>\n",
       "      <td>-4.070000e+08</td>\n",
       "      <td>-2.617000e+09</td>\n",
       "      <td>-242.76</td>\n",
       "      <td>NaN</td>\n",
       "      <td>NaN</td>\n",
       "    </tr>\n",
       "    <tr>\n",
       "      <th>63362</th>\n",
       "      <td>9994</td>\n",
       "      <td>2025/03</td>\n",
       "      <td>1.601640e+11</td>\n",
       "      <td>5.425000e+09</td>\n",
       "      <td>5.566000e+09</td>\n",
       "      <td>3.644000e+09</td>\n",
       "      <td>336.12</td>\n",
       "      <td>10.34</td>\n",
       "      <td>5.44</td>\n",
       "    </tr>\n",
       "    <tr>\n",
       "      <th>63363</th>\n",
       "      <td>9995</td>\n",
       "      <td>2024/03</td>\n",
       "      <td>7.336100e+10</td>\n",
       "      <td>8.620000e+08</td>\n",
       "      <td>1.067000e+09</td>\n",
       "      <td>9.940000e+08</td>\n",
       "      <td>34.93</td>\n",
       "      <td>3.74</td>\n",
       "      <td>2.03</td>\n",
       "    </tr>\n",
       "    <tr>\n",
       "      <th>63364</th>\n",
       "      <td>9996</td>\n",
       "      <td>2025/03</td>\n",
       "      <td>4.913719e+10</td>\n",
       "      <td>1.667976e+09</td>\n",
       "      <td>1.945411e+09</td>\n",
       "      <td>1.315196e+09</td>\n",
       "      <td>157.69</td>\n",
       "      <td>5.01</td>\n",
       "      <td>3.69</td>\n",
       "    </tr>\n",
       "    <tr>\n",
       "      <th>63365</th>\n",
       "      <td>9997</td>\n",
       "      <td>2025/03</td>\n",
       "      <td>2.108560e+11</td>\n",
       "      <td>1.188700e+10</td>\n",
       "      <td>1.325500e+10</td>\n",
       "      <td>8.797000e+09</td>\n",
       "      <td>91.24</td>\n",
       "      <td>6.23</td>\n",
       "      <td>2.82</td>\n",
       "    </tr>\n",
       "  </tbody>\n",
       "</table>\n",
       "<p>63366 rows × 9 columns</p>\n",
       "</div>"
      ],
      "text/plain": [
       "        コード       年度           売上高          営業利益          経常利益           純利益  \\\n",
       "0      1301  2010/03  1.457780e+11  2.180000e+09  2.550000e+09  1.086000e+09   \n",
       "1      1332  2010/03  4.815740e+11  6.227000e+09  6.174000e+09  4.400000e+07   \n",
       "2      1333  2010/03  1.749070e+11           NaN -5.040000e+08  7.420000e+08   \n",
       "3      1352  2010/03  3.625300e+10  2.710000e+08  3.830000e+08  2.270000e+08   \n",
       "4      1375  2010/03  2.614000e+10  2.701000e+09           NaN  1.143000e+09   \n",
       "...     ...      ...           ...           ...           ...           ...   \n",
       "63361  9993  2025/02  1.025580e+11 -8.210000e+08 -4.070000e+08 -2.617000e+09   \n",
       "63362  9994  2025/03  1.601640e+11  5.425000e+09  5.566000e+09  3.644000e+09   \n",
       "63363  9995  2024/03  7.336100e+10  8.620000e+08  1.067000e+09  9.940000e+08   \n",
       "63364  9996  2025/03  4.913719e+10  1.667976e+09  1.945411e+09  1.315196e+09   \n",
       "63365  9997  2025/03  2.108560e+11  1.188700e+10  1.325500e+10  8.797000e+09   \n",
       "\n",
       "          EPS    ROE   ROA  \n",
       "0       99.38   6.02  1.69  \n",
       "1        0.16   0.07  0.01  \n",
       "2        2.47    NaN  0.65  \n",
       "3       27.09   4.31  1.90  \n",
       "4        0.29  18.12  3.56  \n",
       "...       ...    ...   ...  \n",
       "63361 -242.76    NaN   NaN  \n",
       "63362  336.12  10.34  5.44  \n",
       "63363   34.93   3.74  2.03  \n",
       "63364  157.69   5.01  3.69  \n",
       "63365   91.24   6.23  2.82  \n",
       "\n",
       "[63366 rows x 9 columns]"
      ]
     },
     "metadata": {},
     "output_type": "display_data"
    },
    {
     "data": {
      "text/plain": [
       "array(['1301', '1332', '1333', ..., '431A', '436A', '5016'],\n",
       "      shape=(4460,), dtype=object)"
      ]
     },
     "metadata": {},
     "output_type": "display_data"
    },
    {
     "data": {
      "text/plain": [
       "188"
      ]
     },
     "metadata": {},
     "output_type": "display_data"
    },
    {
     "name": "stdout",
     "output_type": "stream",
     "text": [
      "fy-stock-dividend.csv (55079, 8)\n"
     ]
    },
    {
     "data": {
      "text/html": [
       "<div>\n",
       "<style scoped>\n",
       "    .dataframe tbody tr th:only-of-type {\n",
       "        vertical-align: middle;\n",
       "    }\n",
       "\n",
       "    .dataframe tbody tr th {\n",
       "        vertical-align: top;\n",
       "    }\n",
       "\n",
       "    .dataframe thead th {\n",
       "        text-align: right;\n",
       "    }\n",
       "</style>\n",
       "<table border=\"1\" class=\"dataframe\">\n",
       "  <thead>\n",
       "    <tr style=\"text-align: right;\">\n",
       "      <th></th>\n",
       "      <th>コード</th>\n",
       "      <th>年度</th>\n",
       "      <th>一株配当</th>\n",
       "      <th>剰余金の配当</th>\n",
       "      <th>自社株買い</th>\n",
       "      <th>配当性向</th>\n",
       "      <th>総還元性向</th>\n",
       "      <th>純資産配当率</th>\n",
       "    </tr>\n",
       "  </thead>\n",
       "  <tbody>\n",
       "    <tr>\n",
       "      <th>0</th>\n",
       "      <td>1301</td>\n",
       "      <td>2010/03</td>\n",
       "      <td>50.0</td>\n",
       "      <td>5.290000e+08</td>\n",
       "      <td>NaN</td>\n",
       "      <td>48.71</td>\n",
       "      <td>48.7</td>\n",
       "      <td>NaN</td>\n",
       "    </tr>\n",
       "    <tr>\n",
       "      <th>1</th>\n",
       "      <td>1332</td>\n",
       "      <td>2010/03</td>\n",
       "      <td>10.0</td>\n",
       "      <td>2.764000e+09</td>\n",
       "      <td>3000000.0</td>\n",
       "      <td>6281.82</td>\n",
       "      <td>6288.6</td>\n",
       "      <td>NaN</td>\n",
       "    </tr>\n",
       "    <tr>\n",
       "      <th>2</th>\n",
       "      <td>1352</td>\n",
       "      <td>2010/03</td>\n",
       "      <td>20.0</td>\n",
       "      <td>1.670000e+08</td>\n",
       "      <td>NaN</td>\n",
       "      <td>73.57</td>\n",
       "      <td>NaN</td>\n",
       "      <td>NaN</td>\n",
       "    </tr>\n",
       "    <tr>\n",
       "      <th>3</th>\n",
       "      <td>1375</td>\n",
       "      <td>2010/03</td>\n",
       "      <td>0.1</td>\n",
       "      <td>2.970000e+08</td>\n",
       "      <td>264000000.0</td>\n",
       "      <td>25.98</td>\n",
       "      <td>49.1</td>\n",
       "      <td>NaN</td>\n",
       "    </tr>\n",
       "    <tr>\n",
       "      <th>4</th>\n",
       "      <td>1376</td>\n",
       "      <td>2010/05</td>\n",
       "      <td>19.0</td>\n",
       "      <td>1.982400e+08</td>\n",
       "      <td>277000.0</td>\n",
       "      <td>20.20</td>\n",
       "      <td>20.2</td>\n",
       "      <td>NaN</td>\n",
       "    </tr>\n",
       "    <tr>\n",
       "      <th>...</th>\n",
       "      <td>...</td>\n",
       "      <td>...</td>\n",
       "      <td>...</td>\n",
       "      <td>...</td>\n",
       "      <td>...</td>\n",
       "      <td>...</td>\n",
       "      <td>...</td>\n",
       "      <td>...</td>\n",
       "    </tr>\n",
       "    <tr>\n",
       "      <th>55074</th>\n",
       "      <td>9993</td>\n",
       "      <td>2025/02</td>\n",
       "      <td>27.0</td>\n",
       "      <td>2.910000e+08</td>\n",
       "      <td>NaN</td>\n",
       "      <td>NaN</td>\n",
       "      <td>NaN</td>\n",
       "      <td>1.1</td>\n",
       "    </tr>\n",
       "    <tr>\n",
       "      <th>55075</th>\n",
       "      <td>9994</td>\n",
       "      <td>2025/03</td>\n",
       "      <td>54.0</td>\n",
       "      <td>5.960000e+08</td>\n",
       "      <td>NaN</td>\n",
       "      <td>16.10</td>\n",
       "      <td>NaN</td>\n",
       "      <td>1.7</td>\n",
       "    </tr>\n",
       "    <tr>\n",
       "      <th>55076</th>\n",
       "      <td>9995</td>\n",
       "      <td>2023/03</td>\n",
       "      <td>12.0</td>\n",
       "      <td>3.120000e+08</td>\n",
       "      <td>NaN</td>\n",
       "      <td>35.10</td>\n",
       "      <td>35.1</td>\n",
       "      <td>1.4</td>\n",
       "    </tr>\n",
       "    <tr>\n",
       "      <th>55077</th>\n",
       "      <td>9996</td>\n",
       "      <td>2025/03</td>\n",
       "      <td>45.0</td>\n",
       "      <td>3.502930e+08</td>\n",
       "      <td>196000.0</td>\n",
       "      <td>28.50</td>\n",
       "      <td>28.5</td>\n",
       "      <td>1.5</td>\n",
       "    </tr>\n",
       "    <tr>\n",
       "      <th>55078</th>\n",
       "      <td>9997</td>\n",
       "      <td>2025/03</td>\n",
       "      <td>29.0</td>\n",
       "      <td>2.386000e+09</td>\n",
       "      <td>345000000.0</td>\n",
       "      <td>31.80</td>\n",
       "      <td>35.7</td>\n",
       "      <td>2.0</td>\n",
       "    </tr>\n",
       "  </tbody>\n",
       "</table>\n",
       "<p>55079 rows × 8 columns</p>\n",
       "</div>"
      ],
      "text/plain": [
       "        コード       年度  一株配当        剰余金の配当        自社株買い     配当性向   総還元性向  純資産配当率\n",
       "0      1301  2010/03  50.0  5.290000e+08          NaN    48.71    48.7     NaN\n",
       "1      1332  2010/03  10.0  2.764000e+09    3000000.0  6281.82  6288.6     NaN\n",
       "2      1352  2010/03  20.0  1.670000e+08          NaN    73.57     NaN     NaN\n",
       "3      1375  2010/03   0.1  2.970000e+08  264000000.0    25.98    49.1     NaN\n",
       "4      1376  2010/05  19.0  1.982400e+08     277000.0    20.20    20.2     NaN\n",
       "...     ...      ...   ...           ...          ...      ...     ...     ...\n",
       "55074  9993  2025/02  27.0  2.910000e+08          NaN      NaN     NaN     1.1\n",
       "55075  9994  2025/03  54.0  5.960000e+08          NaN    16.10     NaN     1.7\n",
       "55076  9995  2023/03  12.0  3.120000e+08          NaN    35.10    35.1     1.4\n",
       "55077  9996  2025/03  45.0  3.502930e+08     196000.0    28.50    28.5     1.5\n",
       "55078  9997  2025/03  29.0  2.386000e+09  345000000.0    31.80    35.7     2.0\n",
       "\n",
       "[55079 rows x 8 columns]"
      ]
     },
     "metadata": {},
     "output_type": "display_data"
    },
    {
     "data": {
      "text/plain": [
       "array(['1301', '1332', '1352', ..., '7409', '7709', '9168'],\n",
       "      shape=(4275,), dtype=object)"
      ]
     },
     "metadata": {},
     "output_type": "display_data"
    },
    {
     "data": {
      "text/plain": [
       "188"
      ]
     },
     "metadata": {},
     "output_type": "display_data"
    }
   ],
   "source": [
    "# 財務データ ファイルごとの結合\n",
    "df_DATAs_BY_FILEs = dl.load_yearly_data(settings[\"data_path\"], settings[\"years\"], settings[\"files\"],)\n",
    "for filename in df_DATAs_BY_FILEs:\n",
    "    print(filename, df_DATAs_BY_FILEs[filename].shape)\n",
    "    display(df_DATAs_BY_FILEs[filename])\n",
    "    display(df_DATAs_BY_FILEs[filename][\"コード\"].unique())\n",
    "    display(df_DATAs_BY_FILEs[filename][\"年度\"].nunique())"
   ]
  },
  {
   "cell_type": "code",
   "execution_count": null,
   "id": "7bf3b27c",
   "metadata": {},
   "outputs": [
    {
     "name": "stdout",
     "output_type": "stream",
     "text": [
      "(78079, 29)\n"
     ]
    },
    {
     "data": {
      "text/plain": [
       "array(['1301', '130A', '1332', ..., '9995', '9996', '9997'],\n",
       "      shape=(4461,), dtype=object)"
      ]
     },
     "metadata": {},
     "output_type": "display_data"
    },
    {
     "data": {
      "text/plain": [
       "188"
      ]
     },
     "metadata": {},
     "output_type": "display_data"
    }
   ],
   "source": [
    "# 財務データ　全結合\n",
    "df_ALL_DATAs = dl.merge_all_data(df_DATAs_BY_FILEs)\n",
    "print(df_ALL_DATAs.shape)\n",
    "#display(df_ALL_DATAs)\n",
    "display(df_ALL_DATAs[\"コード\"].unique())\n",
    "display(df_ALL_DATAs[\"年度\"].nunique())"
   ]
  },
  {
   "cell_type": "code",
   "execution_count": null,
   "id": "ee6804e3",
   "metadata": {},
   "outputs": [
    {
     "name": "stdout",
     "output_type": "stream",
     "text": [
      "CodeData.csv (4403, 10)\n"
     ]
    },
    {
     "data": {
      "text/html": [
       "<div>\n",
       "<style scoped>\n",
       "    .dataframe tbody tr th:only-of-type {\n",
       "        vertical-align: middle;\n",
       "    }\n",
       "\n",
       "    .dataframe tbody tr th {\n",
       "        vertical-align: top;\n",
       "    }\n",
       "\n",
       "    .dataframe thead th {\n",
       "        text-align: right;\n",
       "    }\n",
       "</style>\n",
       "<table border=\"1\" class=\"dataframe\">\n",
       "  <thead>\n",
       "    <tr style=\"text-align: right;\">\n",
       "      <th></th>\n",
       "      <th>日付</th>\n",
       "      <th>コード</th>\n",
       "      <th>銘柄名</th>\n",
       "      <th>市場・商品区分</th>\n",
       "      <th>33業種コード</th>\n",
       "      <th>33業種区分</th>\n",
       "      <th>17業種コード</th>\n",
       "      <th>17業種区分</th>\n",
       "      <th>規模コード</th>\n",
       "      <th>規模区分</th>\n",
       "    </tr>\n",
       "  </thead>\n",
       "  <tbody>\n",
       "    <tr>\n",
       "      <th>0</th>\n",
       "      <td>20250930</td>\n",
       "      <td>1301</td>\n",
       "      <td>極洋</td>\n",
       "      <td>プライム（内国株式）</td>\n",
       "      <td>50</td>\n",
       "      <td>水産・農林業</td>\n",
       "      <td>1</td>\n",
       "      <td>食品</td>\n",
       "      <td>7</td>\n",
       "      <td>TOPIX Small 2</td>\n",
       "    </tr>\n",
       "    <tr>\n",
       "      <th>1</th>\n",
       "      <td>20250930</td>\n",
       "      <td>1305</td>\n",
       "      <td>ｉＦｒｅｅＥＴＦ　ＴＯＰＩＸ（年１回決算型）</td>\n",
       "      <td>ETF・ETN</td>\n",
       "      <td>-</td>\n",
       "      <td>-</td>\n",
       "      <td>-</td>\n",
       "      <td>-</td>\n",
       "      <td>-</td>\n",
       "      <td>-</td>\n",
       "    </tr>\n",
       "    <tr>\n",
       "      <th>2</th>\n",
       "      <td>20250930</td>\n",
       "      <td>1306</td>\n",
       "      <td>ＮＥＸＴ　ＦＵＮＤＳ　ＴＯＰＩＸ連動型上場投信</td>\n",
       "      <td>ETF・ETN</td>\n",
       "      <td>-</td>\n",
       "      <td>-</td>\n",
       "      <td>-</td>\n",
       "      <td>-</td>\n",
       "      <td>-</td>\n",
       "      <td>-</td>\n",
       "    </tr>\n",
       "    <tr>\n",
       "      <th>3</th>\n",
       "      <td>20250930</td>\n",
       "      <td>1308</td>\n",
       "      <td>上場インデックスファンドＴＯＰＩＸ</td>\n",
       "      <td>ETF・ETN</td>\n",
       "      <td>-</td>\n",
       "      <td>-</td>\n",
       "      <td>-</td>\n",
       "      <td>-</td>\n",
       "      <td>-</td>\n",
       "      <td>-</td>\n",
       "    </tr>\n",
       "    <tr>\n",
       "      <th>4</th>\n",
       "      <td>20250930</td>\n",
       "      <td>1309</td>\n",
       "      <td>ＮＥＸＴ　ＦＵＮＤＳ　ＣｈｉｎａＡＭＣ・中国株式・上証５０連動型上場投信</td>\n",
       "      <td>ETF・ETN</td>\n",
       "      <td>-</td>\n",
       "      <td>-</td>\n",
       "      <td>-</td>\n",
       "      <td>-</td>\n",
       "      <td>-</td>\n",
       "      <td>-</td>\n",
       "    </tr>\n",
       "    <tr>\n",
       "      <th>...</th>\n",
       "      <td>...</td>\n",
       "      <td>...</td>\n",
       "      <td>...</td>\n",
       "      <td>...</td>\n",
       "      <td>...</td>\n",
       "      <td>...</td>\n",
       "      <td>...</td>\n",
       "      <td>...</td>\n",
       "      <td>...</td>\n",
       "      <td>...</td>\n",
       "    </tr>\n",
       "    <tr>\n",
       "      <th>4398</th>\n",
       "      <td>20250930</td>\n",
       "      <td>9991</td>\n",
       "      <td>ジェコス</td>\n",
       "      <td>プライム（内国株式）</td>\n",
       "      <td>6050</td>\n",
       "      <td>卸売業</td>\n",
       "      <td>13</td>\n",
       "      <td>商社・卸売</td>\n",
       "      <td>7</td>\n",
       "      <td>TOPIX Small 2</td>\n",
       "    </tr>\n",
       "    <tr>\n",
       "      <th>4399</th>\n",
       "      <td>20250930</td>\n",
       "      <td>9993</td>\n",
       "      <td>ヤマザワ</td>\n",
       "      <td>スタンダード（内国株式）</td>\n",
       "      <td>6100</td>\n",
       "      <td>小売業</td>\n",
       "      <td>14</td>\n",
       "      <td>小売</td>\n",
       "      <td>-</td>\n",
       "      <td>-</td>\n",
       "    </tr>\n",
       "    <tr>\n",
       "      <th>4400</th>\n",
       "      <td>20250930</td>\n",
       "      <td>9994</td>\n",
       "      <td>やまや</td>\n",
       "      <td>スタンダード（内国株式）</td>\n",
       "      <td>6100</td>\n",
       "      <td>小売業</td>\n",
       "      <td>14</td>\n",
       "      <td>小売</td>\n",
       "      <td>-</td>\n",
       "      <td>-</td>\n",
       "    </tr>\n",
       "    <tr>\n",
       "      <th>4401</th>\n",
       "      <td>20250930</td>\n",
       "      <td>9996</td>\n",
       "      <td>サトー商会</td>\n",
       "      <td>スタンダード（内国株式）</td>\n",
       "      <td>6050</td>\n",
       "      <td>卸売業</td>\n",
       "      <td>13</td>\n",
       "      <td>商社・卸売</td>\n",
       "      <td>-</td>\n",
       "      <td>-</td>\n",
       "    </tr>\n",
       "    <tr>\n",
       "      <th>4402</th>\n",
       "      <td>20250930</td>\n",
       "      <td>9997</td>\n",
       "      <td>ベルーナ</td>\n",
       "      <td>プライム（内国株式）</td>\n",
       "      <td>6100</td>\n",
       "      <td>小売業</td>\n",
       "      <td>14</td>\n",
       "      <td>小売</td>\n",
       "      <td>6</td>\n",
       "      <td>TOPIX Small 1</td>\n",
       "    </tr>\n",
       "  </tbody>\n",
       "</table>\n",
       "<p>4403 rows × 10 columns</p>\n",
       "</div>"
      ],
      "text/plain": [
       "            日付   コード                                   銘柄名       市場・商品区分  \\\n",
       "0     20250930  1301                                    極洋    プライム（内国株式）   \n",
       "1     20250930  1305                ｉＦｒｅｅＥＴＦ　ＴＯＰＩＸ（年１回決算型）       ETF・ETN   \n",
       "2     20250930  1306               ＮＥＸＴ　ＦＵＮＤＳ　ＴＯＰＩＸ連動型上場投信       ETF・ETN   \n",
       "3     20250930  1308                     上場インデックスファンドＴＯＰＩＸ       ETF・ETN   \n",
       "4     20250930  1309  ＮＥＸＴ　ＦＵＮＤＳ　ＣｈｉｎａＡＭＣ・中国株式・上証５０連動型上場投信       ETF・ETN   \n",
       "...        ...   ...                                   ...           ...   \n",
       "4398  20250930  9991                                  ジェコス    プライム（内国株式）   \n",
       "4399  20250930  9993                                  ヤマザワ  スタンダード（内国株式）   \n",
       "4400  20250930  9994                                   やまや  スタンダード（内国株式）   \n",
       "4401  20250930  9996                                 サトー商会  スタンダード（内国株式）   \n",
       "4402  20250930  9997                                  ベルーナ    プライム（内国株式）   \n",
       "\n",
       "     33業種コード  33業種区分 17業種コード 17業種区分 規模コード           規模区分  \n",
       "0         50  水産・農林業       1     食品     7  TOPIX Small 2  \n",
       "1          -       -       -      -     -              -  \n",
       "2          -       -       -      -     -              -  \n",
       "3          -       -       -      -     -              -  \n",
       "4          -       -       -      -     -              -  \n",
       "...      ...     ...     ...    ...   ...            ...  \n",
       "4398    6050     卸売業      13  商社・卸売     7  TOPIX Small 2  \n",
       "4399    6100     小売業      14     小売     -              -  \n",
       "4400    6100     小売業      14     小売     -              -  \n",
       "4401    6050     卸売業      13  商社・卸売     -              -  \n",
       "4402    6100     小売業      14     小売     6  TOPIX Small 1  \n",
       "\n",
       "[4403 rows x 10 columns]"
      ]
     },
     "metadata": {},
     "output_type": "display_data"
    }
   ],
   "source": [
    "# 上場企業の情報\n",
    "df = dl.load_code_list_info(settings[\"data_path\"], settings[\"files_reference\"][0])\n",
    "print(settings[\"files_reference\"][0], df.shape)\n",
    "display(df)"
   ]
  },
  {
   "cell_type": "markdown",
   "id": "ebeeca61",
   "metadata": {},
   "source": [
    "### データ型の整合性チェック"
   ]
  },
  {
   "cell_type": "markdown",
   "id": "dc595948",
   "metadata": {},
   "source": [
    "### 初期品質の概要把握"
   ]
  }
 ],
 "metadata": {
  "kernelspec": {
   "display_name": ".venv",
   "language": "python",
   "name": "python3"
  },
  "language_info": {
   "codemirror_mode": {
    "name": "ipython",
    "version": 3
   },
   "file_extension": ".py",
   "mimetype": "text/x-python",
   "name": "python",
   "nbconvert_exporter": "python",
   "pygments_lexer": "ipython3",
   "version": "3.13.7"
  }
 },
 "nbformat": 4,
 "nbformat_minor": 5
}
