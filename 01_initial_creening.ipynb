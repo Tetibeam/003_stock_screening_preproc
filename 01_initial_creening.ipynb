{
 "cells": [
  {
   "cell_type": "markdown",
   "id": "b9a6ff0d",
   "metadata": {},
   "source": [
    "## 本ファイルの説明\n",
    "データが最低限の品質基準を満たしているかを網羅的に確認し、ファイルロードからクリーニングまでのプロセスを決定します。\n",
    "\n",
    "<details>\n",
    "<summary><b>結果</b></summary>\n",
    "\n",
    "\n",
    "</details>\n"
   ]
  },
  {
   "cell_type": "markdown",
   "id": "4cd607b5",
   "metadata": {},
   "source": [
    "### 初期設定"
   ]
  },
  {
   "cell_type": "code",
   "execution_count": 9,
   "id": "3fe0f794",
   "metadata": {},
   "outputs": [
    {
     "name": "stdout",
     "output_type": "stream",
     "text": [
      "The autoreload extension is already loaded. To reload it, use:\n",
      "  %reload_ext autoreload\n",
      "🔁 autoreload 有効化完了\n"
     ]
    }
   ],
   "source": [
    "# --- Notebook初期設定 ---\n",
    "%load_ext autoreload\n",
    "%autoreload 2\n",
    "import src.config as cfg\n",
    "import src.data_loader as dl\n",
    "import src.data_cleaning_utils as cu\n",
    "import src.eda_utils as eu\n",
    "print(\"🔁 autoreload 有効化完了\")\n",
    "import yaml\n",
    "import os\n",
    "import pandas as pd\n",
    "import numpy as np\n",
    "import plotly.express as px\n",
    "import plotly.graph_objects as go\n",
    "from collections import defaultdict"
   ]
  },
  {
   "cell_type": "code",
   "execution_count": 10,
   "id": "b79cbfce",
   "metadata": {},
   "outputs": [],
   "source": [
    "# 設定読み込み\n",
    "settings = cfg.load_settings(\"setting.yaml\")\n",
    "#display(settings)"
   ]
  },
  {
   "cell_type": "markdown",
   "id": "efdaa036",
   "metadata": {},
   "source": [
    "### データのロードの確認\n",
    "ファイル重複やファイル欠損、破壊がないかを確かめ、プロセスを確定します。\n",
    "<details>\n",
    "<summary><b>結果</b></summary>\n",
    "\n",
    "ファイルの重複や欠損はなく、正しくロードされました。  \n",
    "修正処理は不要です。\n",
    "</details>"
   ]
  },
  {
   "cell_type": "code",
   "execution_count": 11,
   "id": "4fc5321e",
   "metadata": {},
   "outputs": [
    {
     "name": "stdout",
     "output_type": "stream",
     "text": [
      "\n",
      "ファイル毎にデータをロードします\n",
      "\n",
      "次に欠けてるファイルがないか確認します\n",
      "\n",
      "重複ファイルがないか確認します\n",
      "\n",
      "データロードの確認を終了します。\n"
     ]
    }
   ],
   "source": [
    "print(\"\\nファイル毎にデータをロードします\")\n",
    "df_DATAs_BY_ALL_FILEs = {\n",
    "    (filename, year): dl.load_on_startup(settings[\"data_path\"][\"raw\"], str(year), filename,header=1,force_str=True)\n",
    "    for filename in settings[\"files\"][\"raw\"]\n",
    "    for year in settings[\"years\"]\n",
    "}\n",
    "#display(df_DATAs_BY_ALL_FILEs)\n",
    "\n",
    "print(\"\\n次に欠けてるファイルがないか確認します\")\n",
    "results = [dl.chk_file_missing(df) for df in df_DATAs_BY_ALL_FILEs.values()]\n",
    "\n",
    "print(\"\\n重複ファイルがないか確認します\")\n",
    "dl.chk_duplicate_files_df(dl.chk_duplicate_dfs(df_DATAs_BY_ALL_FILEs, False, False))\n",
    "\n",
    "print(\"\\nデータロードの確認を終了します。\")\n"
   ]
  },
  {
   "cell_type": "markdown",
   "id": "59706c4a",
   "metadata": {},
   "source": [
    "### 欠損値表現の確認\n",
    "欠損値の表現を確認し、修正プロセスを決定します。\n",
    "\n",
    "<details>\n",
    "<summary><b>結果</b></summary>\n",
    "\n",
    "\"-\"が欠損値として使われています。  \n",
    "これはsetting.yamlのnan_valuesに登録し欠損値として読み込みます。  \n",
    "  \n",
    "また、ゼロも使われています。  \n",
    "ゼロは値として残し、必要に応じてfeatures_generatorで再計算し更新します。\n",
    "\n",
    "以下がゼロが使われている項目です。  \n",
    "{'fy-balance-sheet.csv': ['BPS', '短期借入金', '総資産', '自己資本比率', '長期借入金']  \n",
    "'fy-cash-flow-statement.csv': ['営業CF', '営業CFマージン', '投資CF', '現金同等物', '設備投資', '財務CF']  \n",
    "'fy-profit-and-loss.csv': ['EPS', 'ROA', 'ROE', '営業利益', '売上高', '純利益', '経常利益'],  \n",
    "'fy-stock-dividend.csv': ['一株配当', '剰余金の配当', '純資産配当率', '総還元性向', '自社株買い', '配当性向']}\n",
    "</details>"
   ]
  },
  {
   "cell_type": "code",
   "execution_count": 12,
   "id": "117cdb5f",
   "metadata": {},
   "outputs": [
    {
     "name": "stdout",
     "output_type": "stream",
     "text": [
      "\n",
      "ファイル毎にデータをロードします\n",
      "\n",
      "ファイルごとに各文字列の個数をカウントします\n"
     ]
    },
    {
     "ename": "AttributeError",
     "evalue": "module 'src.data_cleaning_utils' has no attribute 'chk_missing_values_expression'",
     "output_type": "error",
     "traceback": [
      "\u001b[31m---------------------------------------------------------------------------\u001b[39m",
      "\u001b[31mAttributeError\u001b[39m                            Traceback (most recent call last)",
      "\u001b[36mCell\u001b[39m\u001b[36m \u001b[39m\u001b[32mIn[12]\u001b[39m\u001b[32m, line 12\u001b[39m\n\u001b[32m     10\u001b[39m df_placeholder_counts = pd.DataFrame()\n\u001b[32m     11\u001b[39m \u001b[38;5;28;01mfor\u001b[39;00m (filename,year), df \u001b[38;5;129;01min\u001b[39;00m df_DATAs_BY_ALL_FILEs.items():\n\u001b[32m---> \u001b[39m\u001b[32m12\u001b[39m     df_tmp = \u001b[43mcu\u001b[49m\u001b[43m.\u001b[49m\u001b[43mchk_missing_values_expression\u001b[49m(df, filename, year)\n\u001b[32m     13\u001b[39m     df_placeholder_counts = pd.concat([df_placeholder_counts,df_tmp], axis=\u001b[32m0\u001b[39m)\n\u001b[32m     14\u001b[39m \u001b[38;5;66;03m#display(df_placeholder_counts)\u001b[39;00m\n",
      "\u001b[31mAttributeError\u001b[39m: module 'src.data_cleaning_utils' has no attribute 'chk_missing_values_expression'"
     ]
    }
   ],
   "source": [
    "print(\"\\nファイル毎にデータをロードします\")\n",
    "df_DATAs_BY_ALL_FILEs = {\n",
    "    (filename, year): dl.load_on_startup(settings[\"data_path\"][\"raw\"], str(year), filename,header=1,force_str=True)\n",
    "    for filename in settings[\"files\"][\"raw\"]\n",
    "    for year in settings[\"years\"]\n",
    "}\n",
    "#display(df_DATAs_BY_ALL_FILEs)\n",
    "\n",
    "print(\"\\nファイルごとに各文字列の個数をカウントします\")\n",
    "df_placeholder_counts = pd.DataFrame()\n",
    "for (filename,year), df in df_DATAs_BY_ALL_FILEs.items():\n",
    "    df_tmp = cu.chk_missing_values_expression(df, filename, year)\n",
    "    df_placeholder_counts = pd.concat([df_placeholder_counts,df_tmp], axis=0)\n",
    "#display(df_placeholder_counts)\n",
    "\n",
    "print(\"\\n欠損値と疑われる文字と該当する列を出力します。\")\n",
    "result = cu.chk_missing_and_suspect(df_placeholder_counts)\n",
    "# 例: \"欠損コードA\" に該当する列リスト\n",
    "display(result)"
   ]
  },
  {
   "cell_type": "code",
   "execution_count": null,
   "id": "05162b07",
   "metadata": {},
   "outputs": [],
   "source": [
    "# ゼロ値のチェック\n",
    "#del list\n",
    "merged = defaultdict(list)\n",
    "for (filename, year), df in df_DATAs_BY_ALL_FILEs.items():\n",
    "    merged[filename].append(df)\n",
    "# ファイルごとに結合（行方向）\n",
    "df_merged_by_file = {fname: pd.concat(dfs, ignore_index=True) for fname, dfs in merged.items()}\n",
    "#display(df_final[\"fy-balance-sheet.csv\"])\n",
    "\n",
    "print(\"\\nファイルごとにゼロを含むコードをチェックします。\")\n",
    "df_result = eu.chk_zero_data(df_merged_by_file)\n",
    "\n",
    "df = df_result[df_result[\"ファイル名\"] == settings[\"files\"][\"raw\"][0]]\n",
    "df = df[df[\"対象列\"] == \"総資産\"].dropna(how=\"all\",axis=1)\n",
    "#display(df)"
   ]
  },
  {
   "cell_type": "code",
   "execution_count": null,
   "id": "420050e3",
   "metadata": {},
   "outputs": [],
   "source": [
    "# アルファベット値のチェック\n",
    "print(\"\")\n",
    "print(\"アルファベットが含まれているコードを出力します。\")\n",
    "code_list = [\n",
    "    code\n",
    "    for (_, _), df in df_DATAs_BY_ALL_FILEs.items()\n",
    "    for code in df[\"コード\"].astype(str)[\n",
    "        df[\"コード\"].astype(str).str.contains(\"[A-Za-z]\", na=False)].unique()\n",
    "]\n",
    "print(code_list)"
   ]
  },
  {
   "cell_type": "markdown",
   "id": "868eb6bf",
   "metadata": {},
   "source": [
    "### データ型の整合性確認\n",
    "ロードしたファイルの方が各列で共通になるようにします。\n",
    "<details>\n",
    "<summary><b>結果</b></summary>\n",
    "以下のように処理しています。\n",
    "\n",
    "- コード：string\n",
    "- 年度：timestump\n",
    "- その他：float\n",
    "</details>"
   ]
  },
  {
   "cell_type": "code",
   "execution_count": 13,
   "id": "4c5d8aa8",
   "metadata": {},
   "outputs": [
    {
     "name": "stdout",
     "output_type": "stream",
     "text": [
      "\n",
      "ファイル毎にデータをロードします\n"
     ]
    }
   ],
   "source": [
    "print(\"\\nファイル毎にデータをロードします\")\n",
    "df_DATAs_BY_ALL_FILEs = {\n",
    "    (filename, year): dl.load_on_startup(settings[\"data_path\"][\"raw\"], str(year), filename, header=1, na_values=settings[\"na_values\"])\n",
    "    for filename in settings[\"files\"][\"raw\"]\n",
    "    for year in settings[\"years\"]\n",
    "}"
   ]
  },
  {
   "cell_type": "code",
   "execution_count": 14,
   "id": "443e4d5d",
   "metadata": {},
   "outputs": [
    {
     "name": "stdout",
     "output_type": "stream",
     "text": [
      "\n",
      "読み込みで処理できなかった残りの文字列カラムに対し、replaceでクリーンアップ\n"
     ]
    }
   ],
   "source": [
    "print(\"\\n読み込みで処理できなかった残りの文字列カラムに対し、replaceでクリーンアップ\")\n",
    "for keys,df in df_DATAs_BY_ALL_FILEs.items():\n",
    "    object_cols = df.select_dtypes(include='object').columns\n",
    "    df_DATAs_BY_ALL_FILEs[keys].loc[:, object_cols] = df.loc[:, object_cols].replace(\"-\", np.nan)\n"
   ]
  },
  {
   "cell_type": "code",
   "execution_count": 15,
   "id": "dab04af1",
   "metadata": {},
   "outputs": [
    {
     "name": "stdout",
     "output_type": "stream",
     "text": [
      "\n",
      "コードと年度以外をfloat化\n"
     ]
    }
   ],
   "source": [
    "print(\"\\nコードと年度以外をfloat化\")\n",
    "except_codes= [\"コード\", \"年度\"]\n",
    "df_type_change = {\n",
    "    key: cu.convert_columns_type(df, df.drop(columns=except_codes, errors=\"ignore\").columns, \"float\", False)\n",
    "    for key, df in df_DATAs_BY_ALL_FILEs.items()\n",
    "}"
   ]
  },
  {
   "cell_type": "code",
   "execution_count": 16,
   "id": "9606fc36",
   "metadata": {},
   "outputs": [
    {
     "name": "stdout",
     "output_type": "stream",
     "text": [
      "\n",
      "コードをstring化\n"
     ]
    }
   ],
   "source": [
    "print(\"\\nコードをstring化\")\n",
    "df_type_change = {\n",
    "    key: df.assign(コード=df[\"コード\"].astype(\"string\"))\n",
    "    for key, df in df_type_change.items()\n",
    "}"
   ]
  },
  {
   "cell_type": "code",
   "execution_count": 17,
   "id": "e60aa9c5",
   "metadata": {},
   "outputs": [
    {
     "name": "stdout",
     "output_type": "stream",
     "text": [
      "\n",
      "年度をdatetime化\n"
     ]
    }
   ],
   "source": [
    "print(\"\\n年度をdatetime化\")\n",
    "df_type_change = {\n",
    "    key: df.assign(年度=pd.to_datetime(df[\"年度\"], format=\"%Y/%m\"))\n",
    "    for key, df in df_type_change.items()\n",
    "}"
   ]
  },
  {
   "cell_type": "code",
   "execution_count": 18,
   "id": "4c506a34",
   "metadata": {},
   "outputs": [
    {
     "name": "stdout",
     "output_type": "stream",
     "text": [
      "\n",
      "dtypeの最終チェック\n"
     ]
    }
   ],
   "source": [
    "print(\"\\ndtypeの最終チェック\")\n",
    "for _, df in df_type_change.items():\n",
    "    cu.chk_finale_dtype(df, settings[\"dtype_chk\"][\"raw\"])"
   ]
  },
  {
   "cell_type": "markdown",
   "id": "e449b485",
   "metadata": {},
   "source": [
    "### 初期品質の確認\n",
    "\n",
    "指標となる以下の数を確認し、必要な処理のプロセスを決定します。\n",
    "\n",
    "- コード\n",
    "- 年度\n",
    "- 列\n",
    "\n",
    "<summary><b>結果</b></summary>\n",
    "\n",
    "</details>"
   ]
  },
  {
   "cell_type": "code",
   "execution_count": 19,
   "id": "0867fa3c",
   "metadata": {},
   "outputs": [
    {
     "name": "stdout",
     "output_type": "stream",
     "text": [
      "\n",
      "処理済みデータをロードします。\n",
      "\n",
      "企業コード数、年度の数、列数の年推移をグラフ化します。\n",
      "\n",
      "2025年に登録されている年度を表示します。\n"
     ]
    },
    {
     "data": {
      "text/plain": [
       "<DatetimeArray>\n",
       "['2025-03-01 00:00:00', '2024-12-01 00:00:00', '2025-02-01 00:00:00',\n",
       " '2025-05-01 00:00:00', '2025-06-01 00:00:00', '2024-10-01 00:00:00',\n",
       " '2024-11-01 00:00:00', '2023-12-01 00:00:00', '2024-08-01 00:00:00',\n",
       " '2025-01-01 00:00:00', '2025-04-01 00:00:00', '2024-09-01 00:00:00',\n",
       " '2024-07-01 00:00:00', '2024-03-01 00:00:00', '2023-03-01 00:00:00',\n",
       " '2023-06-01 00:00:00', '2023-09-01 00:00:00', '2025-07-01 00:00:00',\n",
       " '2024-05-01 00:00:00', '2024-02-01 00:00:00', '2023-02-01 00:00:00',\n",
       " '2025-08-01 00:00:00', '2024-01-01 00:00:00', '2023-08-01 00:00:00',\n",
       " '2023-11-01 00:00:00', '2024-04-01 00:00:00', '2024-06-01 00:00:00',\n",
       " '2023-05-01 00:00:00', '2023-04-01 00:00:00', '2023-07-01 00:00:00',\n",
       " '2023-01-01 00:00:00']\n",
       "Length: 31, dtype: datetime64[ns]"
      ]
     },
     "metadata": {},
     "output_type": "display_data"
    },
    {
     "name": "stdout",
     "output_type": "stream",
     "text": [
      "\n",
      "最新年に登録されている過去の年度と過去のデータが同じか確認します\n",
      "まずは、年度を限定して、コードの一覧を見ます\n",
      "\n",
      "コードを限定し、過去のデータファイルと同じかどうか調べます。\n"
     ]
    },
    {
     "data": {
      "text/html": [
       "<div>\n",
       "<style scoped>\n",
       "    .dataframe tbody tr th:only-of-type {\n",
       "        vertical-align: middle;\n",
       "    }\n",
       "\n",
       "    .dataframe tbody tr th {\n",
       "        vertical-align: top;\n",
       "    }\n",
       "\n",
       "    .dataframe thead th {\n",
       "        text-align: right;\n",
       "    }\n",
       "</style>\n",
       "<table border=\"1\" class=\"dataframe\">\n",
       "  <thead>\n",
       "    <tr style=\"text-align: right;\">\n",
       "      <th></th>\n",
       "      <th>コード</th>\n",
       "      <th>年度</th>\n",
       "      <th>総資産</th>\n",
       "      <th>純資産</th>\n",
       "      <th>株主資本</th>\n",
       "      <th>利益剰余金</th>\n",
       "      <th>短期借入金</th>\n",
       "      <th>長期借入金</th>\n",
       "      <th>BPS</th>\n",
       "      <th>自己資本比率</th>\n",
       "    </tr>\n",
       "  </thead>\n",
       "  <tbody>\n",
       "    <tr>\n",
       "      <th>1</th>\n",
       "      <td>130A</td>\n",
       "      <td>2024-12-01</td>\n",
       "      <td>2248958000.0</td>\n",
       "      <td>2209548000.0</td>\n",
       "      <td>2209548000.0</td>\n",
       "      <td>-203393000.0</td>\n",
       "      <td>&lt;NA&gt;</td>\n",
       "      <td>&lt;NA&gt;</td>\n",
       "      <td>340.61</td>\n",
       "      <td>98.2</td>\n",
       "    </tr>\n",
       "  </tbody>\n",
       "</table>\n",
       "</div>"
      ],
      "text/plain": [
       "    コード         年度           総資産           純資産          株主資本        利益剰余金  \\\n",
       "1  130A 2024-12-01  2248958000.0  2209548000.0  2209548000.0 -203393000.0   \n",
       "\n",
       "   短期借入金  長期借入金     BPS  自己資本比率  \n",
       "1   <NA>   <NA>  340.61    98.2  "
      ]
     },
     "metadata": {},
     "output_type": "display_data"
    },
    {
     "data": {
      "text/html": [
       "<div>\n",
       "<style scoped>\n",
       "    .dataframe tbody tr th:only-of-type {\n",
       "        vertical-align: middle;\n",
       "    }\n",
       "\n",
       "    .dataframe tbody tr th {\n",
       "        vertical-align: top;\n",
       "    }\n",
       "\n",
       "    .dataframe thead th {\n",
       "        text-align: right;\n",
       "    }\n",
       "</style>\n",
       "<table border=\"1\" class=\"dataframe\">\n",
       "  <thead>\n",
       "    <tr style=\"text-align: right;\">\n",
       "      <th></th>\n",
       "      <th>コード</th>\n",
       "      <th>年度</th>\n",
       "      <th>総資産</th>\n",
       "      <th>純資産</th>\n",
       "      <th>株主資本</th>\n",
       "      <th>利益剰余金</th>\n",
       "      <th>短期借入金</th>\n",
       "      <th>長期借入金</th>\n",
       "      <th>BPS</th>\n",
       "      <th>自己資本比率</th>\n",
       "    </tr>\n",
       "  </thead>\n",
       "  <tbody>\n",
       "    <tr>\n",
       "      <th>1</th>\n",
       "      <td>130A</td>\n",
       "      <td>2024-12-01</td>\n",
       "      <td>2248000000.0</td>\n",
       "      <td>2209000000.0</td>\n",
       "      <td>2209548000.0</td>\n",
       "      <td>-203393000.0</td>\n",
       "      <td>&lt;NA&gt;</td>\n",
       "      <td>&lt;NA&gt;</td>\n",
       "      <td>340.61</td>\n",
       "      <td>98.2</td>\n",
       "    </tr>\n",
       "  </tbody>\n",
       "</table>\n",
       "</div>"
      ],
      "text/plain": [
       "    コード         年度           総資産           純資産          株主資本        利益剰余金  \\\n",
       "1  130A 2024-12-01  2248000000.0  2209000000.0  2209548000.0 -203393000.0   \n",
       "\n",
       "   短期借入金  長期借入金     BPS  自己資本比率  \n",
       "1   <NA>   <NA>  340.61    98.2  "
      ]
     },
     "metadata": {},
     "output_type": "display_data"
    }
   ],
   "source": [
    "#pd.set_option('display.max_rows', None)\n",
    "#pd.set_option('display.max_rows', 60)\n",
    "\n",
    "print(\"\\n処理済みデータをロードします。\")\n",
    "df_PROCESSED = df_type_change\n",
    "#display(df_PROCESSED)\n",
    "\n",
    "\n",
    "print(\"\\n企業コード数、年度の数、列数の年推移をグラフ化します。\")\n",
    "df_file_info = pd.DataFrame([\n",
    "    {\"file\": filename, \"year\": year, \"code_counts\": df[\"コード\"].nunique(), \"year_counts\": df[\"年度\"].nunique(), \"column_counts\": df.columns.nunique()}\n",
    "    for (filename, year), df in df_PROCESSED.items()\n",
    "])\n",
    "for col in [\"code_counts\", \"year_counts\", \"column_counts\"]:\n",
    "    fig = px.line(df_file_info, x=\"year\", y=col, color=\"file\", title=col)\n",
    "    #fig.show()\n",
    "\n",
    "print(\"\\n2025年に登録されている年度を表示します。\")\n",
    "df = df_PROCESSED[(settings[\"files\"][\"raw\"][0],2025)]\n",
    "display(df[\"年度\"].unique())\n",
    "\n",
    "print(\"\\n最新年に登録されている過去の年度と過去のデータが同じか確認します\")\n",
    "print(\"まずは、年度を限定して、コードの一覧を見ます\")\n",
    "#display(df[df[\"年度\"]==\"2024/12\"][\"コード\"])\n",
    "\n",
    "print(\"\\nコードを限定し、過去のデータファイルと同じかどうか調べます。\")\n",
    "df = df_PROCESSED[(settings[\"files\"][\"raw\"][0],2025)]\n",
    "display(df[df[\"コード\"]==\"130A\"])\n",
    "df = df_PROCESSED[(settings[\"files\"][\"raw\"][0],2024)]\n",
    "display(df[df[\"コード\"]==\"130A\"])"
   ]
  },
  {
   "cell_type": "code",
   "execution_count": 20,
   "id": "cedf2da5",
   "metadata": {},
   "outputs": [
    {
     "name": "stdout",
     "output_type": "stream",
     "text": [
      "\n",
      "重複した値を検出し、最新年度ファイルのものに更新します。\n"
     ]
    },
    {
     "data": {
      "text/html": [
       "<div>\n",
       "<style scoped>\n",
       "    .dataframe tbody tr th:only-of-type {\n",
       "        vertical-align: middle;\n",
       "    }\n",
       "\n",
       "    .dataframe tbody tr th {\n",
       "        vertical-align: top;\n",
       "    }\n",
       "\n",
       "    .dataframe thead th {\n",
       "        text-align: right;\n",
       "    }\n",
       "</style>\n",
       "<table border=\"1\" class=\"dataframe\">\n",
       "  <thead>\n",
       "    <tr style=\"text-align: right;\">\n",
       "      <th></th>\n",
       "      <th>コード</th>\n",
       "      <th>年度</th>\n",
       "      <th>ファイル名</th>\n",
       "      <th>フォルダ名</th>\n",
       "    </tr>\n",
       "  </thead>\n",
       "  <tbody>\n",
       "    <tr>\n",
       "      <th>0</th>\n",
       "      <td>130A</td>\n",
       "      <td>2024-12-01</td>\n",
       "      <td>fy-balance-sheet.csv</td>\n",
       "      <td>2025</td>\n",
       "    </tr>\n",
       "    <tr>\n",
       "      <th>1</th>\n",
       "      <td>1383</td>\n",
       "      <td>2024-10-01</td>\n",
       "      <td>fy-balance-sheet.csv</td>\n",
       "      <td>2025</td>\n",
       "    </tr>\n",
       "    <tr>\n",
       "      <th>2</th>\n",
       "      <td>138A</td>\n",
       "      <td>2024-11-01</td>\n",
       "      <td>fy-balance-sheet.csv</td>\n",
       "      <td>2025</td>\n",
       "    </tr>\n",
       "    <tr>\n",
       "      <th>3</th>\n",
       "      <td>1400</td>\n",
       "      <td>2023-12-01</td>\n",
       "      <td>fy-balance-sheet.csv</td>\n",
       "      <td>2025</td>\n",
       "    </tr>\n",
       "    <tr>\n",
       "      <th>4</th>\n",
       "      <td>1407</td>\n",
       "      <td>2024-08-01</td>\n",
       "      <td>fy-balance-sheet.csv</td>\n",
       "      <td>2025</td>\n",
       "    </tr>\n",
       "    <tr>\n",
       "      <th>...</th>\n",
       "      <td>...</td>\n",
       "      <td>...</td>\n",
       "      <td>...</td>\n",
       "      <td>...</td>\n",
       "    </tr>\n",
       "    <tr>\n",
       "      <th>4619</th>\n",
       "      <td>9972</td>\n",
       "      <td>2024-11-01</td>\n",
       "      <td>fy-stock-dividend.csv</td>\n",
       "      <td>2025</td>\n",
       "    </tr>\n",
       "    <tr>\n",
       "      <th>4620</th>\n",
       "      <td>9973</td>\n",
       "      <td>2023-12-01</td>\n",
       "      <td>fy-stock-dividend.csv</td>\n",
       "      <td>2025</td>\n",
       "    </tr>\n",
       "    <tr>\n",
       "      <th>4621</th>\n",
       "      <td>9977</td>\n",
       "      <td>2024-02-01</td>\n",
       "      <td>fy-stock-dividend.csv</td>\n",
       "      <td>2025</td>\n",
       "    </tr>\n",
       "    <tr>\n",
       "      <th>4622</th>\n",
       "      <td>9979</td>\n",
       "      <td>2024-08-01</td>\n",
       "      <td>fy-stock-dividend.csv</td>\n",
       "      <td>2025</td>\n",
       "    </tr>\n",
       "    <tr>\n",
       "      <th>4623</th>\n",
       "      <td>9995</td>\n",
       "      <td>2023-03-01</td>\n",
       "      <td>fy-stock-dividend.csv</td>\n",
       "      <td>2025</td>\n",
       "    </tr>\n",
       "  </tbody>\n",
       "</table>\n",
       "<p>4624 rows × 4 columns</p>\n",
       "</div>"
      ],
      "text/plain": [
       "       コード         年度                  ファイル名  フォルダ名\n",
       "0     130A 2024-12-01   fy-balance-sheet.csv   2025\n",
       "1     1383 2024-10-01   fy-balance-sheet.csv   2025\n",
       "2     138A 2024-11-01   fy-balance-sheet.csv   2025\n",
       "3     1400 2023-12-01   fy-balance-sheet.csv   2025\n",
       "4     1407 2024-08-01   fy-balance-sheet.csv   2025\n",
       "...    ...        ...                    ...    ...\n",
       "4619  9972 2024-11-01  fy-stock-dividend.csv   2025\n",
       "4620  9973 2023-12-01  fy-stock-dividend.csv   2025\n",
       "4621  9977 2024-02-01  fy-stock-dividend.csv   2025\n",
       "4622  9979 2024-08-01  fy-stock-dividend.csv   2025\n",
       "4623  9995 2023-03-01  fy-stock-dividend.csv   2025\n",
       "\n",
       "[4624 rows x 4 columns]"
      ]
     },
     "metadata": {},
     "output_type": "display_data"
    }
   ],
   "source": [
    "print(\"\\n重複した値を検出し、最新年度ファイルのものに更新します。\")\n",
    "df_result_lower, df_result_upper = cu.chk_duplicated_data(df_PROCESSED)\n",
    "display(df_result_lower)\n",
    "\n",
    "df_PROCESSED_UPDATED = cu.update_duplicated_data(df_PROCESSED, df_result_lower)"
   ]
  },
  {
   "cell_type": "code",
   "execution_count": 21,
   "id": "fa5a35fc",
   "metadata": {},
   "outputs": [
    {
     "name": "stdout",
     "output_type": "stream",
     "text": [
      "\n",
      "重複したデータの更新元を消去します。\n"
     ]
    }
   ],
   "source": [
    "print(\"\\n重複したデータの更新元を消去します。\")\n",
    "files = df_result_lower[\"ファイル名\"].unique()\n",
    "years = df_result_lower[\"フォルダ名\"].unique()\n",
    "for filename in files:\n",
    "    for year in years:\n",
    "        df_update = df_result_lower.query(\"ファイル名 == @filename and フォルダ名 == @year\")\n",
    "        df_update_index = df_update.set_index([\"コード\", \"年度\"]).index\n",
    "        df_target = df_PROCESSED_UPDATED[(filename, year)].set_index([\"コード\", \"年度\"])\n",
    "        df_PROCESSED_UPDATED[(filename, year)] = df_target.drop(df_update_index).reset_index()"
   ]
  },
  {
   "cell_type": "code",
   "execution_count": 22,
   "id": "e157ef03",
   "metadata": {},
   "outputs": [
    {
     "name": "stdout",
     "output_type": "stream",
     "text": [
      "\n",
      "各ファイルの年推移をもう一度可視化し、改善していることを確かめます。\n"
     ]
    },
    {
     "data": {
      "text/html": [
       "<div>\n",
       "<style scoped>\n",
       "    .dataframe tbody tr th:only-of-type {\n",
       "        vertical-align: middle;\n",
       "    }\n",
       "\n",
       "    .dataframe tbody tr th {\n",
       "        vertical-align: top;\n",
       "    }\n",
       "\n",
       "    .dataframe thead th {\n",
       "        text-align: right;\n",
       "    }\n",
       "</style>\n",
       "<table border=\"1\" class=\"dataframe\">\n",
       "  <thead>\n",
       "    <tr style=\"text-align: right;\">\n",
       "      <th></th>\n",
       "      <th>file</th>\n",
       "      <th>year</th>\n",
       "      <th>code_counts</th>\n",
       "      <th>year_counts</th>\n",
       "      <th>column_counts</th>\n",
       "      <th>区分</th>\n",
       "    </tr>\n",
       "  </thead>\n",
       "  <tbody>\n",
       "    <tr>\n",
       "      <th>0</th>\n",
       "      <td>fy-balance-sheet.csv</td>\n",
       "      <td>2010</td>\n",
       "      <td>3406</td>\n",
       "      <td>12</td>\n",
       "      <td>10</td>\n",
       "      <td>処理前</td>\n",
       "    </tr>\n",
       "    <tr>\n",
       "      <th>1</th>\n",
       "      <td>fy-balance-sheet.csv</td>\n",
       "      <td>2011</td>\n",
       "      <td>3513</td>\n",
       "      <td>12</td>\n",
       "      <td>10</td>\n",
       "      <td>処理前</td>\n",
       "    </tr>\n",
       "    <tr>\n",
       "      <th>2</th>\n",
       "      <td>fy-balance-sheet.csv</td>\n",
       "      <td>2012</td>\n",
       "      <td>3589</td>\n",
       "      <td>12</td>\n",
       "      <td>10</td>\n",
       "      <td>処理前</td>\n",
       "    </tr>\n",
       "    <tr>\n",
       "      <th>3</th>\n",
       "      <td>fy-balance-sheet.csv</td>\n",
       "      <td>2013</td>\n",
       "      <td>3679</td>\n",
       "      <td>12</td>\n",
       "      <td>10</td>\n",
       "      <td>処理前</td>\n",
       "    </tr>\n",
       "    <tr>\n",
       "      <th>4</th>\n",
       "      <td>fy-balance-sheet.csv</td>\n",
       "      <td>2014</td>\n",
       "      <td>3780</td>\n",
       "      <td>12</td>\n",
       "      <td>10</td>\n",
       "      <td>処理前</td>\n",
       "    </tr>\n",
       "    <tr>\n",
       "      <th>...</th>\n",
       "      <td>...</td>\n",
       "      <td>...</td>\n",
       "      <td>...</td>\n",
       "      <td>...</td>\n",
       "      <td>...</td>\n",
       "      <td>...</td>\n",
       "    </tr>\n",
       "    <tr>\n",
       "      <th>123</th>\n",
       "      <td>fy-stock-dividend.csv</td>\n",
       "      <td>2021</td>\n",
       "      <td>3618</td>\n",
       "      <td>12</td>\n",
       "      <td>8</td>\n",
       "      <td>処理後</td>\n",
       "    </tr>\n",
       "    <tr>\n",
       "      <th>124</th>\n",
       "      <td>fy-stock-dividend.csv</td>\n",
       "      <td>2022</td>\n",
       "      <td>3606</td>\n",
       "      <td>12</td>\n",
       "      <td>8</td>\n",
       "      <td>処理後</td>\n",
       "    </tr>\n",
       "    <tr>\n",
       "      <th>125</th>\n",
       "      <td>fy-stock-dividend.csv</td>\n",
       "      <td>2023</td>\n",
       "      <td>3606</td>\n",
       "      <td>12</td>\n",
       "      <td>8</td>\n",
       "      <td>処理後</td>\n",
       "    </tr>\n",
       "    <tr>\n",
       "      <th>126</th>\n",
       "      <td>fy-stock-dividend.csv</td>\n",
       "      <td>2024</td>\n",
       "      <td>3574</td>\n",
       "      <td>12</td>\n",
       "      <td>8</td>\n",
       "      <td>処理後</td>\n",
       "    </tr>\n",
       "    <tr>\n",
       "      <th>127</th>\n",
       "      <td>fy-stock-dividend.csv</td>\n",
       "      <td>2025</td>\n",
       "      <td>2738</td>\n",
       "      <td>8</td>\n",
       "      <td>8</td>\n",
       "      <td>処理後</td>\n",
       "    </tr>\n",
       "  </tbody>\n",
       "</table>\n",
       "<p>128 rows × 6 columns</p>\n",
       "</div>"
      ],
      "text/plain": [
       "                      file  year  code_counts  year_counts  column_counts   区分\n",
       "0     fy-balance-sheet.csv  2010         3406           12             10  処理前\n",
       "1     fy-balance-sheet.csv  2011         3513           12             10  処理前\n",
       "2     fy-balance-sheet.csv  2012         3589           12             10  処理前\n",
       "3     fy-balance-sheet.csv  2013         3679           12             10  処理前\n",
       "4     fy-balance-sheet.csv  2014         3780           12             10  処理前\n",
       "..                     ...   ...          ...          ...            ...  ...\n",
       "123  fy-stock-dividend.csv  2021         3618           12              8  処理後\n",
       "124  fy-stock-dividend.csv  2022         3606           12              8  処理後\n",
       "125  fy-stock-dividend.csv  2023         3606           12              8  処理後\n",
       "126  fy-stock-dividend.csv  2024         3574           12              8  処理後\n",
       "127  fy-stock-dividend.csv  2025         2738            8              8  処理後\n",
       "\n",
       "[128 rows x 6 columns]"
      ]
     },
     "metadata": {},
     "output_type": "display_data"
    },
    {
     "data": {
      "application/vnd.plotly.v1+json": {
       "config": {
        "plotlyServerURL": "https://plot.ly"
       },
       "data": [
        {
         "hovertemplate": "file=fy-balance-sheet.csv<br>区分=処理前<br>year=%{x}<br>code_counts=%{y}<extra></extra>",
         "legendgroup": "fy-balance-sheet.csv, 処理前",
         "line": {
          "color": "#636efa",
          "dash": "solid"
         },
         "marker": {
          "symbol": "circle"
         },
         "mode": "lines+markers",
         "name": "fy-balance-sheet.csv, 処理前",
         "orientation": "v",
         "showlegend": true,
         "type": "scatter",
         "x": {
          "bdata": "2gfbB9wH3QfeB98H4AfhB+IH4wfkB+UH5gfnB+gH6Qc=",
          "dtype": "i2"
         },
         "xaxis": "x",
         "y": {
          "bdata": "Tg25DQUOXw7EDjEPnw8eEIQQxRCyEIAQPRD+D44PMBA=",
          "dtype": "i2"
         },
         "yaxis": "y"
        },
        {
         "hovertemplate": "file=fy-balance-sheet.csv<br>区分=処理後<br>year=%{x}<br>code_counts=%{y}<extra></extra>",
         "legendgroup": "fy-balance-sheet.csv, 処理後",
         "line": {
          "color": "#636efa",
          "dash": "dot"
         },
         "marker": {
          "symbol": "circle"
         },
         "mode": "lines+markers",
         "name": "fy-balance-sheet.csv, 処理後",
         "orientation": "v",
         "showlegend": true,
         "type": "scatter",
         "x": {
          "bdata": "2gfbB9wH3QfeB98H4AfhB+IH4wfkB+UH5gfnB+gH6Qc=",
          "dtype": "i2"
         },
         "xaxis": "x",
         "y": {
          "bdata": "Tg25DQUOXw7EDjEPnw8eEIQQxRCyEIAQPRD+D44PnAs=",
          "dtype": "i2"
         },
         "yaxis": "y"
        },
        {
         "hovertemplate": "file=fy-cash-flow-statement.csv<br>区分=処理前<br>year=%{x}<br>code_counts=%{y}<extra></extra>",
         "legendgroup": "fy-cash-flow-statement.csv, 処理前",
         "line": {
          "color": "#EF553B",
          "dash": "solid"
         },
         "marker": {
          "symbol": "circle"
         },
         "mode": "lines+markers",
         "name": "fy-cash-flow-statement.csv, 処理前",
         "orientation": "v",
         "showlegend": true,
         "type": "scatter",
         "x": {
          "bdata": "2gfbB9wH3QfeB98H4AfhB+IH4wfkB+UH5gfnB+gH6Qc=",
          "dtype": "i2"
         },
         "xaxis": "x",
         "y": {
          "bdata": "vAwKDWENvw0eDoAO4Q5SD8cPKxBgEGwQPRD+D44PMBA=",
          "dtype": "i2"
         },
         "yaxis": "y"
        },
        {
         "hovertemplate": "file=fy-cash-flow-statement.csv<br>区分=処理後<br>year=%{x}<br>code_counts=%{y}<extra></extra>",
         "legendgroup": "fy-cash-flow-statement.csv, 処理後",
         "line": {
          "color": "#EF553B",
          "dash": "dot"
         },
         "marker": {
          "symbol": "circle"
         },
         "mode": "lines+markers",
         "name": "fy-cash-flow-statement.csv, 処理後",
         "orientation": "v",
         "showlegend": true,
         "type": "scatter",
         "x": {
          "bdata": "2gfbB9wH3QfeB98H4AfhB+IH4wfkB+UH5gfnB+gH6Qc=",
          "dtype": "i2"
         },
         "xaxis": "x",
         "y": {
          "bdata": "vAwKDWENvw0eDoAO4Q5SD8cPKxBgEGwQPRD+D44PnAs=",
          "dtype": "i2"
         },
         "yaxis": "y"
        },
        {
         "hovertemplate": "file=fy-profit-and-loss.csv<br>区分=処理前<br>year=%{x}<br>code_counts=%{y}<extra></extra>",
         "legendgroup": "fy-profit-and-loss.csv, 処理前",
         "line": {
          "color": "#00cc96",
          "dash": "solid"
         },
         "marker": {
          "symbol": "circle"
         },
         "mode": "lines+markers",
         "name": "fy-profit-and-loss.csv, 処理前",
         "orientation": "v",
         "showlegend": true,
         "type": "scatter",
         "x": {
          "bdata": "2gfbB9wH3QfeB98H4AfhB+IH4wfkB+UH5gfnB+gH6Qc=",
          "dtype": "i2"
         },
         "xaxis": "x",
         "y": {
          "bdata": "Tw25DQUOXw7DDjAPnw8eEIQQwxCvEH0QPBD+D44PLxA=",
          "dtype": "i2"
         },
         "yaxis": "y"
        },
        {
         "hovertemplate": "file=fy-profit-and-loss.csv<br>区分=処理後<br>year=%{x}<br>code_counts=%{y}<extra></extra>",
         "legendgroup": "fy-profit-and-loss.csv, 処理後",
         "line": {
          "color": "#00cc96",
          "dash": "dot"
         },
         "marker": {
          "symbol": "circle"
         },
         "mode": "lines+markers",
         "name": "fy-profit-and-loss.csv, 処理後",
         "orientation": "v",
         "showlegend": true,
         "type": "scatter",
         "x": {
          "bdata": "2gfbB9wH3QfeB98H4AfhB+IH4wfkB+UH5gfnB+gH6Qc=",
          "dtype": "i2"
         },
         "xaxis": "x",
         "y": {
          "bdata": "Tw25DQUOXw7DDjAPnw8eEIQQwxCvEH0QPBD+D44Pmws=",
          "dtype": "i2"
         },
         "yaxis": "y"
        },
        {
         "hovertemplate": "file=fy-stock-dividend.csv<br>区分=処理前<br>year=%{x}<br>code_counts=%{y}<extra></extra>",
         "legendgroup": "fy-stock-dividend.csv, 処理前",
         "line": {
          "color": "#ab63fa",
          "dash": "solid"
         },
         "marker": {
          "symbol": "circle"
         },
         "mode": "lines+markers",
         "name": "fy-stock-dividend.csv, 処理前",
         "orientation": "v",
         "showlegend": true,
         "type": "scatter",
         "x": {
          "bdata": "2gfbB9wH3QfeB98H4AfhB+IH4wfkB+UH5gfnB+gH6Qc=",
          "dtype": "i2"
         },
         "xaxis": "x",
         "y": {
          "bdata": "2gsdDEIMlAy6DPkMRw2XDf4NRA49DiIOFg4WDvYNBg8=",
          "dtype": "i2"
         },
         "yaxis": "y"
        },
        {
         "hovertemplate": "file=fy-stock-dividend.csv<br>区分=処理後<br>year=%{x}<br>code_counts=%{y}<extra></extra>",
         "legendgroup": "fy-stock-dividend.csv, 処理後",
         "line": {
          "color": "#ab63fa",
          "dash": "dot"
         },
         "marker": {
          "symbol": "circle"
         },
         "mode": "lines+markers",
         "name": "fy-stock-dividend.csv, 処理後",
         "orientation": "v",
         "showlegend": true,
         "type": "scatter",
         "x": {
          "bdata": "2gfbB9wH3QfeB98H4AfhB+IH4wfkB+UH5gfnB+gH6Qc=",
          "dtype": "i2"
         },
         "xaxis": "x",
         "y": {
          "bdata": "2gsdDEIMlAy6DPkMRw2XDf4NRA49DiIOFg4WDvYNsgo=",
          "dtype": "i2"
         },
         "yaxis": "y"
        }
       ],
       "layout": {
        "legend": {
         "title": {
          "text": "file, 区分"
         },
         "tracegroupgap": 0
        },
        "margin": {
         "t": 60
        },
        "template": {
         "data": {
          "bar": [
           {
            "error_x": {
             "color": "#2a3f5f"
            },
            "error_y": {
             "color": "#2a3f5f"
            },
            "marker": {
             "line": {
              "color": "#E5ECF6",
              "width": 0.5
             },
             "pattern": {
              "fillmode": "overlay",
              "size": 10,
              "solidity": 0.2
             }
            },
            "type": "bar"
           }
          ],
          "barpolar": [
           {
            "marker": {
             "line": {
              "color": "#E5ECF6",
              "width": 0.5
             },
             "pattern": {
              "fillmode": "overlay",
              "size": 10,
              "solidity": 0.2
             }
            },
            "type": "barpolar"
           }
          ],
          "carpet": [
           {
            "aaxis": {
             "endlinecolor": "#2a3f5f",
             "gridcolor": "white",
             "linecolor": "white",
             "minorgridcolor": "white",
             "startlinecolor": "#2a3f5f"
            },
            "baxis": {
             "endlinecolor": "#2a3f5f",
             "gridcolor": "white",
             "linecolor": "white",
             "minorgridcolor": "white",
             "startlinecolor": "#2a3f5f"
            },
            "type": "carpet"
           }
          ],
          "choropleth": [
           {
            "colorbar": {
             "outlinewidth": 0,
             "ticks": ""
            },
            "type": "choropleth"
           }
          ],
          "contour": [
           {
            "colorbar": {
             "outlinewidth": 0,
             "ticks": ""
            },
            "colorscale": [
             [
              0,
              "#0d0887"
             ],
             [
              0.1111111111111111,
              "#46039f"
             ],
             [
              0.2222222222222222,
              "#7201a8"
             ],
             [
              0.3333333333333333,
              "#9c179e"
             ],
             [
              0.4444444444444444,
              "#bd3786"
             ],
             [
              0.5555555555555556,
              "#d8576b"
             ],
             [
              0.6666666666666666,
              "#ed7953"
             ],
             [
              0.7777777777777778,
              "#fb9f3a"
             ],
             [
              0.8888888888888888,
              "#fdca26"
             ],
             [
              1,
              "#f0f921"
             ]
            ],
            "type": "contour"
           }
          ],
          "contourcarpet": [
           {
            "colorbar": {
             "outlinewidth": 0,
             "ticks": ""
            },
            "type": "contourcarpet"
           }
          ],
          "heatmap": [
           {
            "colorbar": {
             "outlinewidth": 0,
             "ticks": ""
            },
            "colorscale": [
             [
              0,
              "#0d0887"
             ],
             [
              0.1111111111111111,
              "#46039f"
             ],
             [
              0.2222222222222222,
              "#7201a8"
             ],
             [
              0.3333333333333333,
              "#9c179e"
             ],
             [
              0.4444444444444444,
              "#bd3786"
             ],
             [
              0.5555555555555556,
              "#d8576b"
             ],
             [
              0.6666666666666666,
              "#ed7953"
             ],
             [
              0.7777777777777778,
              "#fb9f3a"
             ],
             [
              0.8888888888888888,
              "#fdca26"
             ],
             [
              1,
              "#f0f921"
             ]
            ],
            "type": "heatmap"
           }
          ],
          "histogram": [
           {
            "marker": {
             "pattern": {
              "fillmode": "overlay",
              "size": 10,
              "solidity": 0.2
             }
            },
            "type": "histogram"
           }
          ],
          "histogram2d": [
           {
            "colorbar": {
             "outlinewidth": 0,
             "ticks": ""
            },
            "colorscale": [
             [
              0,
              "#0d0887"
             ],
             [
              0.1111111111111111,
              "#46039f"
             ],
             [
              0.2222222222222222,
              "#7201a8"
             ],
             [
              0.3333333333333333,
              "#9c179e"
             ],
             [
              0.4444444444444444,
              "#bd3786"
             ],
             [
              0.5555555555555556,
              "#d8576b"
             ],
             [
              0.6666666666666666,
              "#ed7953"
             ],
             [
              0.7777777777777778,
              "#fb9f3a"
             ],
             [
              0.8888888888888888,
              "#fdca26"
             ],
             [
              1,
              "#f0f921"
             ]
            ],
            "type": "histogram2d"
           }
          ],
          "histogram2dcontour": [
           {
            "colorbar": {
             "outlinewidth": 0,
             "ticks": ""
            },
            "colorscale": [
             [
              0,
              "#0d0887"
             ],
             [
              0.1111111111111111,
              "#46039f"
             ],
             [
              0.2222222222222222,
              "#7201a8"
             ],
             [
              0.3333333333333333,
              "#9c179e"
             ],
             [
              0.4444444444444444,
              "#bd3786"
             ],
             [
              0.5555555555555556,
              "#d8576b"
             ],
             [
              0.6666666666666666,
              "#ed7953"
             ],
             [
              0.7777777777777778,
              "#fb9f3a"
             ],
             [
              0.8888888888888888,
              "#fdca26"
             ],
             [
              1,
              "#f0f921"
             ]
            ],
            "type": "histogram2dcontour"
           }
          ],
          "mesh3d": [
           {
            "colorbar": {
             "outlinewidth": 0,
             "ticks": ""
            },
            "type": "mesh3d"
           }
          ],
          "parcoords": [
           {
            "line": {
             "colorbar": {
              "outlinewidth": 0,
              "ticks": ""
             }
            },
            "type": "parcoords"
           }
          ],
          "pie": [
           {
            "automargin": true,
            "type": "pie"
           }
          ],
          "scatter": [
           {
            "fillpattern": {
             "fillmode": "overlay",
             "size": 10,
             "solidity": 0.2
            },
            "type": "scatter"
           }
          ],
          "scatter3d": [
           {
            "line": {
             "colorbar": {
              "outlinewidth": 0,
              "ticks": ""
             }
            },
            "marker": {
             "colorbar": {
              "outlinewidth": 0,
              "ticks": ""
             }
            },
            "type": "scatter3d"
           }
          ],
          "scattercarpet": [
           {
            "marker": {
             "colorbar": {
              "outlinewidth": 0,
              "ticks": ""
             }
            },
            "type": "scattercarpet"
           }
          ],
          "scattergeo": [
           {
            "marker": {
             "colorbar": {
              "outlinewidth": 0,
              "ticks": ""
             }
            },
            "type": "scattergeo"
           }
          ],
          "scattergl": [
           {
            "marker": {
             "colorbar": {
              "outlinewidth": 0,
              "ticks": ""
             }
            },
            "type": "scattergl"
           }
          ],
          "scattermap": [
           {
            "marker": {
             "colorbar": {
              "outlinewidth": 0,
              "ticks": ""
             }
            },
            "type": "scattermap"
           }
          ],
          "scattermapbox": [
           {
            "marker": {
             "colorbar": {
              "outlinewidth": 0,
              "ticks": ""
             }
            },
            "type": "scattermapbox"
           }
          ],
          "scatterpolar": [
           {
            "marker": {
             "colorbar": {
              "outlinewidth": 0,
              "ticks": ""
             }
            },
            "type": "scatterpolar"
           }
          ],
          "scatterpolargl": [
           {
            "marker": {
             "colorbar": {
              "outlinewidth": 0,
              "ticks": ""
             }
            },
            "type": "scatterpolargl"
           }
          ],
          "scatterternary": [
           {
            "marker": {
             "colorbar": {
              "outlinewidth": 0,
              "ticks": ""
             }
            },
            "type": "scatterternary"
           }
          ],
          "surface": [
           {
            "colorbar": {
             "outlinewidth": 0,
             "ticks": ""
            },
            "colorscale": [
             [
              0,
              "#0d0887"
             ],
             [
              0.1111111111111111,
              "#46039f"
             ],
             [
              0.2222222222222222,
              "#7201a8"
             ],
             [
              0.3333333333333333,
              "#9c179e"
             ],
             [
              0.4444444444444444,
              "#bd3786"
             ],
             [
              0.5555555555555556,
              "#d8576b"
             ],
             [
              0.6666666666666666,
              "#ed7953"
             ],
             [
              0.7777777777777778,
              "#fb9f3a"
             ],
             [
              0.8888888888888888,
              "#fdca26"
             ],
             [
              1,
              "#f0f921"
             ]
            ],
            "type": "surface"
           }
          ],
          "table": [
           {
            "cells": {
             "fill": {
              "color": "#EBF0F8"
             },
             "line": {
              "color": "white"
             }
            },
            "header": {
             "fill": {
              "color": "#C8D4E3"
             },
             "line": {
              "color": "white"
             }
            },
            "type": "table"
           }
          ]
         },
         "layout": {
          "annotationdefaults": {
           "arrowcolor": "#2a3f5f",
           "arrowhead": 0,
           "arrowwidth": 1
          },
          "autotypenumbers": "strict",
          "coloraxis": {
           "colorbar": {
            "outlinewidth": 0,
            "ticks": ""
           }
          },
          "colorscale": {
           "diverging": [
            [
             0,
             "#8e0152"
            ],
            [
             0.1,
             "#c51b7d"
            ],
            [
             0.2,
             "#de77ae"
            ],
            [
             0.3,
             "#f1b6da"
            ],
            [
             0.4,
             "#fde0ef"
            ],
            [
             0.5,
             "#f7f7f7"
            ],
            [
             0.6,
             "#e6f5d0"
            ],
            [
             0.7,
             "#b8e186"
            ],
            [
             0.8,
             "#7fbc41"
            ],
            [
             0.9,
             "#4d9221"
            ],
            [
             1,
             "#276419"
            ]
           ],
           "sequential": [
            [
             0,
             "#0d0887"
            ],
            [
             0.1111111111111111,
             "#46039f"
            ],
            [
             0.2222222222222222,
             "#7201a8"
            ],
            [
             0.3333333333333333,
             "#9c179e"
            ],
            [
             0.4444444444444444,
             "#bd3786"
            ],
            [
             0.5555555555555556,
             "#d8576b"
            ],
            [
             0.6666666666666666,
             "#ed7953"
            ],
            [
             0.7777777777777778,
             "#fb9f3a"
            ],
            [
             0.8888888888888888,
             "#fdca26"
            ],
            [
             1,
             "#f0f921"
            ]
           ],
           "sequentialminus": [
            [
             0,
             "#0d0887"
            ],
            [
             0.1111111111111111,
             "#46039f"
            ],
            [
             0.2222222222222222,
             "#7201a8"
            ],
            [
             0.3333333333333333,
             "#9c179e"
            ],
            [
             0.4444444444444444,
             "#bd3786"
            ],
            [
             0.5555555555555556,
             "#d8576b"
            ],
            [
             0.6666666666666666,
             "#ed7953"
            ],
            [
             0.7777777777777778,
             "#fb9f3a"
            ],
            [
             0.8888888888888888,
             "#fdca26"
            ],
            [
             1,
             "#f0f921"
            ]
           ]
          },
          "colorway": [
           "#636efa",
           "#EF553B",
           "#00cc96",
           "#ab63fa",
           "#FFA15A",
           "#19d3f3",
           "#FF6692",
           "#B6E880",
           "#FF97FF",
           "#FECB52"
          ],
          "font": {
           "color": "#2a3f5f"
          },
          "geo": {
           "bgcolor": "white",
           "lakecolor": "white",
           "landcolor": "#E5ECF6",
           "showlakes": true,
           "showland": true,
           "subunitcolor": "white"
          },
          "hoverlabel": {
           "align": "left"
          },
          "hovermode": "closest",
          "mapbox": {
           "style": "light"
          },
          "paper_bgcolor": "white",
          "plot_bgcolor": "#E5ECF6",
          "polar": {
           "angularaxis": {
            "gridcolor": "white",
            "linecolor": "white",
            "ticks": ""
           },
           "bgcolor": "#E5ECF6",
           "radialaxis": {
            "gridcolor": "white",
            "linecolor": "white",
            "ticks": ""
           }
          },
          "scene": {
           "xaxis": {
            "backgroundcolor": "#E5ECF6",
            "gridcolor": "white",
            "gridwidth": 2,
            "linecolor": "white",
            "showbackground": true,
            "ticks": "",
            "zerolinecolor": "white"
           },
           "yaxis": {
            "backgroundcolor": "#E5ECF6",
            "gridcolor": "white",
            "gridwidth": 2,
            "linecolor": "white",
            "showbackground": true,
            "ticks": "",
            "zerolinecolor": "white"
           },
           "zaxis": {
            "backgroundcolor": "#E5ECF6",
            "gridcolor": "white",
            "gridwidth": 2,
            "linecolor": "white",
            "showbackground": true,
            "ticks": "",
            "zerolinecolor": "white"
           }
          },
          "shapedefaults": {
           "line": {
            "color": "#2a3f5f"
           }
          },
          "ternary": {
           "aaxis": {
            "gridcolor": "white",
            "linecolor": "white",
            "ticks": ""
           },
           "baxis": {
            "gridcolor": "white",
            "linecolor": "white",
            "ticks": ""
           },
           "bgcolor": "#E5ECF6",
           "caxis": {
            "gridcolor": "white",
            "linecolor": "white",
            "ticks": ""
           }
          },
          "title": {
           "x": 0.05
          },
          "xaxis": {
           "automargin": true,
           "gridcolor": "white",
           "linecolor": "white",
           "ticks": "",
           "title": {
            "standoff": 15
           },
           "zerolinecolor": "white",
           "zerolinewidth": 2
          },
          "yaxis": {
           "automargin": true,
           "gridcolor": "white",
           "linecolor": "white",
           "ticks": "",
           "title": {
            "standoff": 15
           },
           "zerolinecolor": "white",
           "zerolinewidth": 2
          }
         }
        },
        "title": {
         "text": "処理前後のコード数推移"
        },
        "xaxis": {
         "anchor": "y",
         "domain": [
          0,
          1
         ],
         "title": {
          "text": "年度"
         }
        },
        "yaxis": {
         "anchor": "x",
         "domain": [
          0,
          1
         ],
         "title": {
          "text": "コード数"
         }
        }
       }
      }
     },
     "metadata": {},
     "output_type": "display_data"
    }
   ],
   "source": [
    "print(\"\")\n",
    "print(\"各ファイルの年推移をもう一度可視化し、改善していることを確かめます。\")\n",
    "df_file_info_after = pd.DataFrame([\n",
    "    {\"file\": filename, \"year\": year, \"code_counts\": df[\"コード\"].nunique(), \"year_counts\": df[\"年度\"].nunique(), \"column_counts\": df.columns.nunique()}\n",
    "    for (filename, year), df in df_PROCESSED_UPDATED.items()\n",
    "])\n",
    "df_file_info_after[\"区分\"] = \"処理後\"\n",
    "df_file_info_after = df_file_info_after.set_index([\"file\", \"year\"]).sort_index()\n",
    "\n",
    "df_file_info = pd.DataFrame([\n",
    "    {\"file\": filename, \"year\": year, \"code_counts\": df[\"コード\"].nunique(), \"year_counts\": df[\"年度\"].nunique(), \"column_counts\": df.columns.nunique()}\n",
    "    for (filename, year), df in df_PROCESSED.items()\n",
    "])\n",
    "df_file_info[\"区分\"] = \"処理前\"\n",
    "df_file_info = df_file_info.set_index([\"file\", \"year\"]).sort_index()\n",
    "df_compare = pd.concat([df_file_info,df_file_info_after]).reset_index()\n",
    "display(df_compare)\n",
    "fig = px.line(df_compare, x=\"year\", y=\"code_counts\", color=\"file\", line_dash=\"区分\", markers=True)\n",
    "fig.update_layout(title=\"処理前後のコード数推移\", xaxis_title=\"年度\", yaxis_title=\"コード数\")\n",
    "fig.show()"
   ]
  },
  {
   "cell_type": "markdown",
   "id": "9c9490d3",
   "metadata": {},
   "source": [
    "### 上場企業データのクリーニング\n",
    "\n",
    "<summary><b>結果</b></summary>\n",
    "\n",
    "</details>"
   ]
  },
  {
   "cell_type": "code",
   "execution_count": 23,
   "id": "38787973",
   "metadata": {},
   "outputs": [
    {
     "name": "stdout",
     "output_type": "stream",
     "text": [
      "\n",
      "ロードします。\n",
      "\n",
      "欠損値表現を確認します。\n",
      "\n",
      "読み込みで処理できなかった残りの文字列カラムに対し、replaceでクリーンアップ\n",
      "\n",
      "数値列を Int64 に変換します。\n",
      "\n",
      "列 '17業種コード' を int に変換中...\n",
      "\n",
      "列 '規模コード' を int に変換中...\n",
      "\n",
      "string 型に統一します。\n",
      "\n",
      "日付列を datetime に変換します。\n",
      "\n",
      "dtypeの最終チェックをします。\n",
      "\n",
      "欠損値表現を確認します。\n",
      "\n",
      "データ型を確認します。\n"
     ]
    }
   ],
   "source": [
    "print(\"\\nロードします。\")\n",
    "df_code_info = dl.load_on_startup(settings[\"data_path\"][\"reference\"], \"\", settings[\"files\"][\"reference\"],header=0,na_values=settings[\"na_values\"])\n",
    "\n",
    "dl.chk_file_missing(df_code_info)\n",
    "\n",
    "print(\"\\n欠損値表現を確認します。\")\n",
    "df_missing_values_expression = eu.chk_missing_values_expression(\n",
    "    df_code_info, filename=settings[\"files\"][\"reference\"], option_value=\"\"\n",
    ")\n",
    "#display(df_missing_values_expression)\n",
    "\n",
    "print(\"\\n読み込みで処理できなかった残りの文字列カラムに対し、replaceでクリーンアップ\")\n",
    "object_cols = df_code_info.select_dtypes(include='object').columns\n",
    "df_code_info.loc[:, object_cols] = df_code_info.loc[:, object_cols].replace(\"-\", np.nan)\n",
    "#display(df_code_info)\n",
    "\n",
    "print(\"\\n数値列を Int64 に変換します。\")\n",
    "numeric_cols = [\"17業種コード\", \"規模コード\"]\n",
    "df = df_code_info\n",
    "df = cu.convert_columns_type(df, numeric_cols, \"int\", True)\n",
    "\n",
    "print(\"\\nstring 型に統一します。\")\n",
    "df = df.assign(**{col: df[col].astype(\"string\") for col in df.columns if col not in numeric_cols})\n",
    "\n",
    "print(\"\\n日付列を datetime に変換します。\")\n",
    "df[\"日付\"] = pd.to_datetime(df[\"日付\"], errors=\"coerce\", format=\"%Y%m%d\")\n",
    "\n",
    "df_type_change = df\n",
    "\n",
    "print(\"\\ndtypeの最終チェックをします。\")\n",
    "cu.chk_finale_dtype(df_type_change, settings[\"dtype_chk\"][\"reference\"])\n",
    "\n",
    "print(\"\\n欠損値表現を確認します。\")\n",
    "df_missing_values_expression = eu.chk_missing_values_expression(df_type_change, filename=settings[\"files\"][\"reference\"], option_value=\"\")\n",
    "#display(df_missing_values_expression)\n",
    "\n",
    "print(\"\\nデータ型を確認します。\")\n",
    "df_type = eu.chk_dtype(df=df_type_change,filename=settings[\"files\"][\"reference\"],option_value=\"\",na_drop=True)\n",
    "#display(df_type)\n",
    "\n",
    "#display(df_type_change)"
   ]
  },
  {
   "cell_type": "code",
   "execution_count": 24,
   "id": "83bea81c",
   "metadata": {},
   "outputs": [],
   "source": [
    "from functools import reduce\n",
    "\n",
    "df_list = [df for (filename, year) ,df in df_PROCESSED_UPDATED.items()]\n",
    "dfs = [df.set_index([\"コード\", \"年度\"]) for df in df_list]  # df_list が64個のDF\n",
    "df_ALL = reduce(lambda left, right: left.combine_first(right), dfs)\n",
    "df_ALL.reset_index(inplace=True)"
   ]
  },
  {
   "cell_type": "code",
   "execution_count": 25,
   "id": "bad365fa",
   "metadata": {},
   "outputs": [
    {
     "name": "stdout",
     "output_type": "stream",
     "text": [
      "\n",
      "データを最新上場企業のリストでフィルターします。\n"
     ]
    },
    {
     "data": {
      "text/html": [
       "<div>\n",
       "<style scoped>\n",
       "    .dataframe tbody tr th:only-of-type {\n",
       "        vertical-align: middle;\n",
       "    }\n",
       "\n",
       "    .dataframe tbody tr th {\n",
       "        vertical-align: top;\n",
       "    }\n",
       "\n",
       "    .dataframe thead th {\n",
       "        text-align: right;\n",
       "    }\n",
       "</style>\n",
       "<table border=\"1\" class=\"dataframe\">\n",
       "  <thead>\n",
       "    <tr style=\"text-align: right;\">\n",
       "      <th></th>\n",
       "      <th>コード</th>\n",
       "      <th>年度</th>\n",
       "      <th>BPS</th>\n",
       "      <th>EPS</th>\n",
       "      <th>ROA</th>\n",
       "      <th>ROE</th>\n",
       "      <th>一株配当</th>\n",
       "      <th>利益剰余金</th>\n",
       "      <th>剰余金の配当</th>\n",
       "      <th>営業CF</th>\n",
       "      <th>...</th>\n",
       "      <th>純資産配当率</th>\n",
       "      <th>経常利益</th>\n",
       "      <th>総資産</th>\n",
       "      <th>総還元性向</th>\n",
       "      <th>自己資本比率</th>\n",
       "      <th>自社株買い</th>\n",
       "      <th>設備投資</th>\n",
       "      <th>財務CF</th>\n",
       "      <th>配当性向</th>\n",
       "      <th>長期借入金</th>\n",
       "    </tr>\n",
       "  </thead>\n",
       "  <tbody>\n",
       "    <tr>\n",
       "      <th>55</th>\n",
       "      <td>1352</td>\n",
       "      <td>2010-03-01</td>\n",
       "      <td>628.95</td>\n",
       "      <td>27.09</td>\n",
       "      <td>1.9</td>\n",
       "      <td>4.31</td>\n",
       "      <td>20.0</td>\n",
       "      <td>1561000000.0</td>\n",
       "      <td>167000000.0</td>\n",
       "      <td>1370000000.0</td>\n",
       "      <td>...</td>\n",
       "      <td>&lt;NA&gt;</td>\n",
       "      <td>383000000.0</td>\n",
       "      <td>11967000000.0</td>\n",
       "      <td>&lt;NA&gt;</td>\n",
       "      <td>44.0</td>\n",
       "      <td>&lt;NA&gt;</td>\n",
       "      <td>-1985000000.0</td>\n",
       "      <td>-555000000.0</td>\n",
       "      <td>73.57</td>\n",
       "      <td>497000000.0</td>\n",
       "    </tr>\n",
       "    <tr>\n",
       "      <th>56</th>\n",
       "      <td>1352</td>\n",
       "      <td>2011-03-01</td>\n",
       "      <td>623.34</td>\n",
       "      <td>14.68</td>\n",
       "      <td>0.98</td>\n",
       "      <td>2.35</td>\n",
       "      <td>20.0</td>\n",
       "      <td>1517000000.0</td>\n",
       "      <td>167000000.0</td>\n",
       "      <td>726000000.0</td>\n",
       "      <td>...</td>\n",
       "      <td>&lt;NA&gt;</td>\n",
       "      <td>251000000.0</td>\n",
       "      <td>12534000000.0</td>\n",
       "      <td>&lt;NA&gt;</td>\n",
       "      <td>41.7</td>\n",
       "      <td>&lt;NA&gt;</td>\n",
       "      <td>-968000000.0</td>\n",
       "      <td>225000000.0</td>\n",
       "      <td>135.77</td>\n",
       "      <td>487000000.0</td>\n",
       "    </tr>\n",
       "    <tr>\n",
       "      <th>57</th>\n",
       "      <td>1352</td>\n",
       "      <td>2012-03-01</td>\n",
       "      <td>627.28</td>\n",
       "      <td>23.75</td>\n",
       "      <td>1.39</td>\n",
       "      <td>3.79</td>\n",
       "      <td>20.0</td>\n",
       "      <td>1549000000.0</td>\n",
       "      <td>167000000.0</td>\n",
       "      <td>1638000000.0</td>\n",
       "      <td>...</td>\n",
       "      <td>&lt;NA&gt;</td>\n",
       "      <td>505000000.0</td>\n",
       "      <td>14271000000.0</td>\n",
       "      <td>&lt;NA&gt;</td>\n",
       "      <td>36.8</td>\n",
       "      <td>&lt;NA&gt;</td>\n",
       "      <td>-472000000.0</td>\n",
       "      <td>-594000000.0</td>\n",
       "      <td>83.92</td>\n",
       "      <td>264000000.0</td>\n",
       "    </tr>\n",
       "    <tr>\n",
       "      <th>58</th>\n",
       "      <td>1352</td>\n",
       "      <td>2013-03-01</td>\n",
       "      <td>638.62</td>\n",
       "      <td>29.6</td>\n",
       "      <td>1.45</td>\n",
       "      <td>4.63</td>\n",
       "      <td>20.0</td>\n",
       "      <td>1630000000.0</td>\n",
       "      <td>167000000.0</td>\n",
       "      <td>60000000.0</td>\n",
       "      <td>...</td>\n",
       "      <td>3.1</td>\n",
       "      <td>516000000.0</td>\n",
       "      <td>17146000000.0</td>\n",
       "      <td>&lt;NA&gt;</td>\n",
       "      <td>31.2</td>\n",
       "      <td>&lt;NA&gt;</td>\n",
       "      <td>-3238000000.0</td>\n",
       "      <td>3087000000.0</td>\n",
       "      <td>67.3</td>\n",
       "      <td>3126000000.0</td>\n",
       "    </tr>\n",
       "    <tr>\n",
       "      <th>59</th>\n",
       "      <td>1352</td>\n",
       "      <td>2014-03-01</td>\n",
       "      <td>635.27</td>\n",
       "      <td>14.93</td>\n",
       "      <td>0.51</td>\n",
       "      <td>2.35</td>\n",
       "      <td>20.0</td>\n",
       "      <td>1590000000.0</td>\n",
       "      <td>167000000.0</td>\n",
       "      <td>656000000.0</td>\n",
       "      <td>...</td>\n",
       "      <td>3.1</td>\n",
       "      <td>290000000.0</td>\n",
       "      <td>24423000000.0</td>\n",
       "      <td>&lt;NA&gt;</td>\n",
       "      <td>21.8</td>\n",
       "      <td>&lt;NA&gt;</td>\n",
       "      <td>-5317000000.0</td>\n",
       "      <td>6415000000.0</td>\n",
       "      <td>133.1</td>\n",
       "      <td>4993000000.0</td>\n",
       "    </tr>\n",
       "    <tr>\n",
       "      <th>...</th>\n",
       "      <td>...</td>\n",
       "      <td>...</td>\n",
       "      <td>...</td>\n",
       "      <td>...</td>\n",
       "      <td>...</td>\n",
       "      <td>...</td>\n",
       "      <td>...</td>\n",
       "      <td>...</td>\n",
       "      <td>...</td>\n",
       "      <td>...</td>\n",
       "      <td>...</td>\n",
       "      <td>...</td>\n",
       "      <td>...</td>\n",
       "      <td>...</td>\n",
       "      <td>...</td>\n",
       "      <td>...</td>\n",
       "      <td>...</td>\n",
       "      <td>...</td>\n",
       "      <td>...</td>\n",
       "      <td>...</td>\n",
       "      <td>...</td>\n",
       "    </tr>\n",
       "    <tr>\n",
       "      <th>62182</th>\n",
       "      <td>9995</td>\n",
       "      <td>2020-03-01</td>\n",
       "      <td>934.81</td>\n",
       "      <td>2.71</td>\n",
       "      <td>0.2</td>\n",
       "      <td>0.29</td>\n",
       "      <td>12.0</td>\n",
       "      <td>13864000000.0</td>\n",
       "      <td>312000000.0</td>\n",
       "      <td>1774000000.0</td>\n",
       "      <td>...</td>\n",
       "      <td>1.3</td>\n",
       "      <td>5000000.0</td>\n",
       "      <td>32061000000.0</td>\n",
       "      <td>437.5</td>\n",
       "      <td>70.3</td>\n",
       "      <td>&lt;NA&gt;</td>\n",
       "      <td>-80000000.0</td>\n",
       "      <td>-386000000.0</td>\n",
       "      <td>437.5</td>\n",
       "      <td>404000000.0</td>\n",
       "    </tr>\n",
       "    <tr>\n",
       "      <th>62183</th>\n",
       "      <td>9995</td>\n",
       "      <td>2021-03-01</td>\n",
       "      <td>924.83</td>\n",
       "      <td>-15.15</td>\n",
       "      <td>&lt;NA&gt;</td>\n",
       "      <td>&lt;NA&gt;</td>\n",
       "      <td>12.0</td>\n",
       "      <td>13184000000.0</td>\n",
       "      <td>312000000.0</td>\n",
       "      <td>-2591000000.0</td>\n",
       "      <td>...</td>\n",
       "      <td>1.3</td>\n",
       "      <td>-261000000.0</td>\n",
       "      <td>33653000000.0</td>\n",
       "      <td>&lt;NA&gt;</td>\n",
       "      <td>66.9</td>\n",
       "      <td>&lt;NA&gt;</td>\n",
       "      <td>-75000000.0</td>\n",
       "      <td>1260000000.0</td>\n",
       "      <td>-79.1</td>\n",
       "      <td>310000000.0</td>\n",
       "    </tr>\n",
       "    <tr>\n",
       "      <th>62184</th>\n",
       "      <td>9995</td>\n",
       "      <td>2022-03-01</td>\n",
       "      <td>902.95</td>\n",
       "      <td>-14.81</td>\n",
       "      <td>&lt;NA&gt;</td>\n",
       "      <td>&lt;NA&gt;</td>\n",
       "      <td>12.0</td>\n",
       "      <td>12506000000.0</td>\n",
       "      <td>312000000.0</td>\n",
       "      <td>-5163000000.0</td>\n",
       "      <td>...</td>\n",
       "      <td>1.3</td>\n",
       "      <td>1199000000.0</td>\n",
       "      <td>38682000000.0</td>\n",
       "      <td>&lt;NA&gt;</td>\n",
       "      <td>57.6</td>\n",
       "      <td>&lt;NA&gt;</td>\n",
       "      <td>-143000000.0</td>\n",
       "      <td>3761000000.0</td>\n",
       "      <td>-80.8</td>\n",
       "      <td>634000000.0</td>\n",
       "    </tr>\n",
       "    <tr>\n",
       "      <th>62185</th>\n",
       "      <td>9995</td>\n",
       "      <td>2023-03-01</td>\n",
       "      <td>872.09</td>\n",
       "      <td>34.18</td>\n",
       "      <td>2.31</td>\n",
       "      <td>3.53</td>\n",
       "      <td>12.0</td>\n",
       "      <td>13066000000.0</td>\n",
       "      <td>312000000.0</td>\n",
       "      <td>3858000000.0</td>\n",
       "      <td>...</td>\n",
       "      <td>1.4</td>\n",
       "      <td>1080000000.0</td>\n",
       "      <td>37784000000.0</td>\n",
       "      <td>35.1</td>\n",
       "      <td>65.3</td>\n",
       "      <td>&lt;NA&gt;</td>\n",
       "      <td>-160000000.0</td>\n",
       "      <td>-1970000000.0</td>\n",
       "      <td>35.1</td>\n",
       "      <td>335000000.0</td>\n",
       "    </tr>\n",
       "    <tr>\n",
       "      <th>62186</th>\n",
       "      <td>9995</td>\n",
       "      <td>2024-03-01</td>\n",
       "      <td>901.34</td>\n",
       "      <td>34.93</td>\n",
       "      <td>2.03</td>\n",
       "      <td>3.74</td>\n",
       "      <td>&lt;NA&gt;</td>\n",
       "      <td>13707000000.0</td>\n",
       "      <td>&lt;NA&gt;</td>\n",
       "      <td>-7329000000.0</td>\n",
       "      <td>...</td>\n",
       "      <td>&lt;NA&gt;</td>\n",
       "      <td>1067000000.0</td>\n",
       "      <td>49059000000.0</td>\n",
       "      <td>&lt;NA&gt;</td>\n",
       "      <td>54.2</td>\n",
       "      <td>&lt;NA&gt;</td>\n",
       "      <td>-92000000.0</td>\n",
       "      <td>6294000000.0</td>\n",
       "      <td>&lt;NA&gt;</td>\n",
       "      <td>&lt;NA&gt;</td>\n",
       "    </tr>\n",
       "  </tbody>\n",
       "</table>\n",
       "<p>8157 rows × 29 columns</p>\n",
       "</div>"
      ],
      "text/plain": [
       "        コード         年度     BPS    EPS   ROA   ROE  一株配当          利益剰余金  \\\n",
       "55     1352 2010-03-01  628.95  27.09   1.9  4.31  20.0   1561000000.0   \n",
       "56     1352 2011-03-01  623.34  14.68  0.98  2.35  20.0   1517000000.0   \n",
       "57     1352 2012-03-01  627.28  23.75  1.39  3.79  20.0   1549000000.0   \n",
       "58     1352 2013-03-01  638.62   29.6  1.45  4.63  20.0   1630000000.0   \n",
       "59     1352 2014-03-01  635.27  14.93  0.51  2.35  20.0   1590000000.0   \n",
       "...     ...        ...     ...    ...   ...   ...   ...            ...   \n",
       "62182  9995 2020-03-01  934.81   2.71   0.2  0.29  12.0  13864000000.0   \n",
       "62183  9995 2021-03-01  924.83 -15.15  <NA>  <NA>  12.0  13184000000.0   \n",
       "62184  9995 2022-03-01  902.95 -14.81  <NA>  <NA>  12.0  12506000000.0   \n",
       "62185  9995 2023-03-01  872.09  34.18  2.31  3.53  12.0  13066000000.0   \n",
       "62186  9995 2024-03-01  901.34  34.93  2.03  3.74  <NA>  13707000000.0   \n",
       "\n",
       "            剰余金の配当          営業CF  ...  純資産配当率          経常利益            総資産  \\\n",
       "55     167000000.0  1370000000.0  ...    <NA>   383000000.0  11967000000.0   \n",
       "56     167000000.0   726000000.0  ...    <NA>   251000000.0  12534000000.0   \n",
       "57     167000000.0  1638000000.0  ...    <NA>   505000000.0  14271000000.0   \n",
       "58     167000000.0    60000000.0  ...     3.1   516000000.0  17146000000.0   \n",
       "59     167000000.0   656000000.0  ...     3.1   290000000.0  24423000000.0   \n",
       "...            ...           ...  ...     ...           ...            ...   \n",
       "62182  312000000.0  1774000000.0  ...     1.3     5000000.0  32061000000.0   \n",
       "62183  312000000.0 -2591000000.0  ...     1.3  -261000000.0  33653000000.0   \n",
       "62184  312000000.0 -5163000000.0  ...     1.3  1199000000.0  38682000000.0   \n",
       "62185  312000000.0  3858000000.0  ...     1.4  1080000000.0  37784000000.0   \n",
       "62186         <NA> -7329000000.0  ...    <NA>  1067000000.0  49059000000.0   \n",
       "\n",
       "       総還元性向  自己資本比率  自社株買い          設備投資          財務CF    配当性向         長期借入金  \n",
       "55      <NA>    44.0   <NA> -1985000000.0  -555000000.0   73.57   497000000.0  \n",
       "56      <NA>    41.7   <NA>  -968000000.0   225000000.0  135.77   487000000.0  \n",
       "57      <NA>    36.8   <NA>  -472000000.0  -594000000.0   83.92   264000000.0  \n",
       "58      <NA>    31.2   <NA> -3238000000.0  3087000000.0    67.3  3126000000.0  \n",
       "59      <NA>    21.8   <NA> -5317000000.0  6415000000.0   133.1  4993000000.0  \n",
       "...      ...     ...    ...           ...           ...     ...           ...  \n",
       "62182  437.5    70.3   <NA>   -80000000.0  -386000000.0   437.5   404000000.0  \n",
       "62183   <NA>    66.9   <NA>   -75000000.0  1260000000.0   -79.1   310000000.0  \n",
       "62184   <NA>    57.6   <NA>  -143000000.0  3761000000.0   -80.8   634000000.0  \n",
       "62185   35.1    65.3   <NA>  -160000000.0 -1970000000.0    35.1   335000000.0  \n",
       "62186   <NA>    54.2   <NA>   -92000000.0  6294000000.0    <NA>          <NA>  \n",
       "\n",
       "[8157 rows x 29 columns]"
      ]
     },
     "metadata": {},
     "output_type": "display_data"
    }
   ],
   "source": [
    "print(\"\\nデータを最新上場企業のリストでフィルターします。\")\n",
    "df_filtered = df_ALL[~df_ALL[\"コード\"].isin(df_type_change[\"コード\"])]\n",
    "display(df_filtered)"
   ]
  }
 ],
 "metadata": {
  "kernelspec": {
   "display_name": ".venv",
   "language": "python",
   "name": "python3"
  },
  "language_info": {
   "codemirror_mode": {
    "name": "ipython",
    "version": 3
   },
   "file_extension": ".py",
   "mimetype": "text/x-python",
   "name": "python",
   "nbconvert_exporter": "python",
   "pygments_lexer": "ipython3",
   "version": "3.13.7"
  }
 },
 "nbformat": 4,
 "nbformat_minor": 5
}
