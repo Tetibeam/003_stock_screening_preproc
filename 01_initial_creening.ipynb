{
 "cells": [
  {
   "cell_type": "markdown",
   "id": "4cd607b5",
   "metadata": {},
   "source": [
    "## 初期設定"
   ]
  },
  {
   "cell_type": "code",
   "execution_count": 15,
   "id": "3fe0f794",
   "metadata": {},
   "outputs": [
    {
     "name": "stdout",
     "output_type": "stream",
     "text": [
      "The autoreload extension is already loaded. To reload it, use:\n",
      "  %reload_ext autoreload\n",
      "🔁 autoreload 有効化完了\n"
     ]
    }
   ],
   "source": [
    "# --- Notebook初期設定 ---\n",
    "%load_ext autoreload\n",
    "%autoreload 2\n",
    "import src.config as cfg\n",
    "import src.data_loader as dl\n",
    "import src.data_cleaning_utils as cu\n",
    "print(\"🔁 autoreload 有効化完了\")\n",
    "import yaml\n",
    "import os\n",
    "import pandas as pd\n",
    "import numpy as np\n",
    "import plotly.express as px\n",
    "import plotly.graph_objects as go\n",
    "from collections import defaultdict"
   ]
  },
  {
   "cell_type": "code",
   "execution_count": 16,
   "id": "b79cbfce",
   "metadata": {},
   "outputs": [
    {
     "data": {
      "text/plain": [
       "{'project_name': 'stock_screening',\n",
       " 'data_path': {'raw': './data/raw',\n",
       "  'interim': './data/interim',\n",
       "  'processed': './data/processed',\n",
       "  'reference': './data/reference'},\n",
       " 'files': {'raw': ['fy-balance-sheet.csv',\n",
       "   'fy-cash-flow-statement.csv',\n",
       "   'fy-profit-and-loss.csv',\n",
       "   'fy-stock-dividend.csv'],\n",
       "  'reference': 'CodeData.csv',\n",
       "  'interim': None,\n",
       "  'processed': None},\n",
       " 'years': [2010,\n",
       "  2011,\n",
       "  2012,\n",
       "  2013,\n",
       "  2014,\n",
       "  2015,\n",
       "  2016,\n",
       "  2017,\n",
       "  2018,\n",
       "  2019,\n",
       "  2020,\n",
       "  2021,\n",
       "  2022,\n",
       "  2023,\n",
       "  2024,\n",
       "  2025],\n",
       " 'na_values': ['', '-'],\n",
       " 'dtype_chk': {'raw': {'コード': 'string',\n",
       "   '年度': 'datetime64[ns]',\n",
       "   '総資産': 'Float64',\n",
       "   '純資産': 'Float64',\n",
       "   '株主資本': 'Float64',\n",
       "   '利益剰余金': 'Float64',\n",
       "   '短期借入金': 'Float64',\n",
       "   '長期借入金': 'Float64',\n",
       "   'BPS': 'Float64',\n",
       "   '自己資本比率': 'Float64',\n",
       "   '自己資本': 'Float64',\n",
       "   '売上高': 'Float64',\n",
       "   '営業利益': 'Float64',\n",
       "   '経常利益': 'Float64',\n",
       "   '純利益': 'Float64',\n",
       "   'EPS': 'Float64',\n",
       "   'ROE': 'Float64',\n",
       "   'ROA': 'Float64',\n",
       "   '営業CF': 'Float64',\n",
       "   '投資CF': 'Float64',\n",
       "   '財務CF': 'Float64',\n",
       "   '設備投資': 'Float64',\n",
       "   '現金同等物': 'Float64',\n",
       "   '営業CFマージン': 'Float64',\n",
       "   '一株配当': 'Float64',\n",
       "   '剰余金の配当': 'Float64',\n",
       "   '自社株買い': 'Float64',\n",
       "   '配当性向': 'Float64',\n",
       "   '総還元性向': 'Float64',\n",
       "   '純資産配当率': 'Float64'},\n",
       "  'reference': {'日付': 'datetime64[ns]',\n",
       "   'コード': 'string',\n",
       "   '銘柄名': 'string',\n",
       "   '市場・商品区分': 'string',\n",
       "   '33業種コード': 'string',\n",
       "   '33業種区分': 'string',\n",
       "   '17業種コード': 'Int64',\n",
       "   '17業種区分': 'string',\n",
       "   '規模コード': 'Int64',\n",
       "   '規模区分': 'string'}},\n",
       " 'output': {'base_path': './output'}}"
      ]
     },
     "metadata": {},
     "output_type": "display_data"
    }
   ],
   "source": [
    "# 設定読み込み\n",
    "settings = cfg.load_settings(\"setting.yaml\")\n",
    "display(settings)"
   ]
  },
  {
   "cell_type": "markdown",
   "id": "b9a6ff0d",
   "metadata": {},
   "source": [
    "## 本ファイルの説明\n",
    "データが最低限の品質基準を満たしているかを網羅的に確認し、ファイルロードからクリーニングまでのプロセスを決定します。\n",
    "\n",
    "<details>\n",
    "<summary><b>結果</b></summary>\n",
    "\n",
    "\n",
    "</details>\n"
   ]
  },
  {
   "cell_type": "markdown",
   "id": "efdaa036",
   "metadata": {},
   "source": [
    "### データのロードの確認\n",
    "ファイル重複やファイル欠損、破壊がないかを確かめ、プロセスを確定します。\n",
    "<details>\n",
    "<summary><b>結果</b></summary>\n",
    "\n",
    "ファイルの重複や欠損はなく、正しくロードされました。  \n",
    "修正処理は不要です。\n",
    "</details>"
   ]
  },
  {
   "cell_type": "code",
   "execution_count": 17,
   "id": "4fc5321e",
   "metadata": {},
   "outputs": [
    {
     "name": "stdout",
     "output_type": "stream",
     "text": [
      "\n",
      "ファイル毎にデータをロードします\n",
      "\n",
      "次に欠けてるファイルがないか確認します\n",
      "✅ ファイル欠損はありませんでした。\n",
      "\n",
      "重複ファイルがないか確認します\n",
      "✅ 重複データフレームはありません。\n",
      "\n",
      "データロードの確認を終了します。\n"
     ]
    }
   ],
   "source": [
    "print(\"\\nファイル毎にデータをロードします\")\n",
    "df_DATAs_BY_ALL_FILEs = {\n",
    "    (filename, year): dl.load_on_startup(settings[\"data_path\"][\"raw\"], str(year), filename,header=1)\n",
    "    for filename in settings[\"files\"][\"raw\"]\n",
    "    for year in settings[\"years\"]\n",
    "}\n",
    "#display(df_DATAs_BY_ALL_FILEs)\n",
    "\n",
    "print(\"\\n次に欠けてるファイルがないか確認します\")\n",
    "if all(dl.chk_file_missing(df) for df in df_DATAs_BY_ALL_FILEs.values()):\n",
    "    print(\"✅ ファイル欠損はありませんでした。\")\n",
    "\n",
    "print(\"\\n重複ファイルがないか確認します\")\n",
    "duplicates = dl.chk_duplicate_dfs(df_DATAs_BY_ALL_FILEs, False,False)\n",
    "if duplicates:\n",
    "    print(\"🔍 重複データフレームが見つかりました：\\n\")\n",
    "    for h, key_group in duplicates.items():\n",
    "        print(f\"ハッシュ: {h}\")\n",
    "        for key in key_group:\n",
    "            print(key)\n",
    "else:\n",
    "    print(\"✅ 重複データフレームはありません。\")\n",
    "print(\"\\nデータロードの確認を終了します。\")\n"
   ]
  },
  {
   "cell_type": "markdown",
   "id": "59706c4a",
   "metadata": {},
   "source": [
    "### 欠損値表現の確認と処理\n",
    "欠損値の表現を確認し、修正プロセスを決定します。\n",
    "\n",
    "<details>\n",
    "<summary><b>結果</b></summary>\n",
    "\n",
    "\"-\"が欠損値として使われています。  \n",
    "これはsetting.yamlのnan_valuesに登録し欠損値として読み込みます。  \n",
    "  \n",
    "また、ゼロも使われています。  \n",
    "ゼロは値として残し、必要に応じてfeatures_generatorで再計算し更新します。\n",
    "\n",
    "以下がゼロが使われている項目です。  \n",
    "{'fy-balance-sheet.csv': ['BPS', '短期借入金', '総資産', '自己資本比率', '長期借入金']  \n",
    "'fy-cash-flow-statement.csv': ['営業CF', '営業CFマージン', '投資CF', '現金同等物', '設備投資', '財務CF']  \n",
    "'fy-profit-and-loss.csv': ['EPS', 'ROA', 'ROE', '営業利益', '売上高', '純利益', '経常利益'],  \n",
    "'fy-stock-dividend.csv': ['一株配当', '剰余金の配当', '純資産配当率', '総還元性向', '自社株買い', '配当性向']}\n",
    "</details>"
   ]
  },
  {
   "cell_type": "code",
   "execution_count": 18,
   "id": "117cdb5f",
   "metadata": {},
   "outputs": [
    {
     "name": "stdout",
     "output_type": "stream",
     "text": [
      "\n",
      "ファイル毎にデータをロードします\n",
      "\n",
      "ファイルごとに各文字列の個数をカウントします\n",
      "\n",
      "欠損値と疑われる文字と該当する列を出力します。\n",
      "-           167782\n",
      "0             4155\n",
      "alphabet      1940\n",
      "dtype: object\n"
     ]
    }
   ],
   "source": [
    "print(\"\\nファイル毎にデータをロードします\")\n",
    "df_DATAs_BY_ALL_FILEs = {\n",
    "    (filename, year): dl.load_on_startup(settings[\"data_path\"][\"raw\"], str(year), filename,header=1)\n",
    "    for filename in settings[\"files\"][\"raw\"]\n",
    "    for year in settings[\"years\"]\n",
    "}\n",
    "#display(df_DATAs_BY_ALL_FILEs)\n",
    "\n",
    "print(\"\\nファイルごとに各文字列の個数をカウントします\")\n",
    "df_placeholder_counts = pd.DataFrame()\n",
    "for (filename,year), df in df_DATAs_BY_ALL_FILEs.items():\n",
    "    df_tmp = cu.chk_missing_values_expression(df, filename, year)\n",
    "    df_placeholder_counts = pd.concat([df_placeholder_counts,df_tmp], axis=0)\n",
    "#display(df_placeholder_counts)\n",
    "\n",
    "print(\"\\n欠損値と疑われる文字と該当する列を出力します。\")\n",
    "result = cu.chk_missing_and_suspect(df_placeholder_counts)\n",
    "# 例: \"欠損コードA\" に該当する列リスト\n",
    "#display(result)"
   ]
  },
  {
   "cell_type": "code",
   "execution_count": 19,
   "id": "05162b07",
   "metadata": {},
   "outputs": [
    {
     "name": "stdout",
     "output_type": "stream",
     "text": [
      "\n",
      "ファイルごとにゼロを含むコードをチェックします。\n",
      "対象ファイル: fy-balance-sheet.csv\n"
     ]
    },
    {
     "data": {
      "text/html": [
       "<div>\n",
       "<style scoped>\n",
       "    .dataframe tbody tr th:only-of-type {\n",
       "        vertical-align: middle;\n",
       "    }\n",
       "\n",
       "    .dataframe tbody tr th {\n",
       "        vertical-align: top;\n",
       "    }\n",
       "\n",
       "    .dataframe thead th {\n",
       "        text-align: right;\n",
       "    }\n",
       "</style>\n",
       "<table border=\"1\" class=\"dataframe\">\n",
       "  <thead>\n",
       "    <tr style=\"text-align: right;\">\n",
       "      <th></th>\n",
       "      <th>コード</th>\n",
       "      <th>年度</th>\n",
       "      <th>総資産</th>\n",
       "      <th>純資産</th>\n",
       "      <th>株主資本</th>\n",
       "      <th>利益剰余金</th>\n",
       "      <th>短期借入金</th>\n",
       "      <th>長期借入金</th>\n",
       "      <th>BPS</th>\n",
       "      <th>自己資本比率</th>\n",
       "      <th>対象列</th>\n",
       "    </tr>\n",
       "  </thead>\n",
       "  <tbody>\n",
       "    <tr>\n",
       "      <th>0</th>\n",
       "      <td>9164</td>\n",
       "      <td>2020/12</td>\n",
       "      <td>0</td>\n",
       "      <td>-</td>\n",
       "      <td>-</td>\n",
       "      <td>-</td>\n",
       "      <td>-</td>\n",
       "      <td>-</td>\n",
       "      <td>-</td>\n",
       "      <td>-1481</td>\n",
       "      <td>総資産</td>\n",
       "    </tr>\n",
       "    <tr>\n",
       "      <th>1</th>\n",
       "      <td>9164</td>\n",
       "      <td>2021/12</td>\n",
       "      <td>68349000000</td>\n",
       "      <td>17372000000</td>\n",
       "      <td>17372000000</td>\n",
       "      <td>-533000000</td>\n",
       "      <td>-</td>\n",
       "      <td>32963000000</td>\n",
       "      <td>173.72</td>\n",
       "      <td>25.4</td>\n",
       "      <td>総資産</td>\n",
       "    </tr>\n",
       "    <tr>\n",
       "      <th>2</th>\n",
       "      <td>9164</td>\n",
       "      <td>2022/12</td>\n",
       "      <td>74638000000</td>\n",
       "      <td>21026000000</td>\n",
       "      <td>21026000000</td>\n",
       "      <td>3088000000</td>\n",
       "      <td>800000000</td>\n",
       "      <td>31620000000</td>\n",
       "      <td>210.26</td>\n",
       "      <td>28.2</td>\n",
       "      <td>総資産</td>\n",
       "    </tr>\n",
       "    <tr>\n",
       "      <th>3</th>\n",
       "      <td>9164</td>\n",
       "      <td>2023/12</td>\n",
       "      <td>79947000000</td>\n",
       "      <td>25927000000</td>\n",
       "      <td>25927000000</td>\n",
       "      <td>7989000000</td>\n",
       "      <td>-</td>\n",
       "      <td>29648000000</td>\n",
       "      <td>259.27</td>\n",
       "      <td>32.4</td>\n",
       "      <td>総資産</td>\n",
       "    </tr>\n",
       "    <tr>\n",
       "      <th>4</th>\n",
       "      <td>9164</td>\n",
       "      <td>2024/12</td>\n",
       "      <td>77563000000</td>\n",
       "      <td>27845000000</td>\n",
       "      <td>27845000000</td>\n",
       "      <td>10906000000</td>\n",
       "      <td>-</td>\n",
       "      <td>25765000000</td>\n",
       "      <td>278.45</td>\n",
       "      <td>35.9</td>\n",
       "      <td>総資産</td>\n",
       "    </tr>\n",
       "    <tr>\n",
       "      <th>5</th>\n",
       "      <td>9164</td>\n",
       "      <td>2024/12</td>\n",
       "      <td>77563000000</td>\n",
       "      <td>27845000000</td>\n",
       "      <td>27845000000</td>\n",
       "      <td>10906000000</td>\n",
       "      <td>-</td>\n",
       "      <td>25765000000</td>\n",
       "      <td>278.45</td>\n",
       "      <td>35.9</td>\n",
       "      <td>総資産</td>\n",
       "    </tr>\n",
       "  </tbody>\n",
       "</table>\n",
       "</div>"
      ],
      "text/plain": [
       "    コード       年度          総資産          純資産         株主資本        利益剰余金  \\\n",
       "0  9164  2020/12            0            -            -            -   \n",
       "1  9164  2021/12  68349000000  17372000000  17372000000   -533000000   \n",
       "2  9164  2022/12  74638000000  21026000000  21026000000   3088000000   \n",
       "3  9164  2023/12  79947000000  25927000000  25927000000   7989000000   \n",
       "4  9164  2024/12  77563000000  27845000000  27845000000  10906000000   \n",
       "5  9164  2024/12  77563000000  27845000000  27845000000  10906000000   \n",
       "\n",
       "       短期借入金        長期借入金     BPS 自己資本比率  対象列  \n",
       "0          -            -       -  -1481  総資産  \n",
       "1          -  32963000000  173.72   25.4  総資産  \n",
       "2  800000000  31620000000  210.26   28.2  総資産  \n",
       "3          -  29648000000  259.27   32.4  総資産  \n",
       "4          -  25765000000  278.45   35.9  総資産  \n",
       "5          -  25765000000  278.45   35.9  総資産  "
      ]
     },
     "metadata": {},
     "output_type": "display_data"
    }
   ],
   "source": [
    "# ゼロ値のチェック\n",
    "#del list\n",
    "df_merge = defaultdict(list)\n",
    "for (filename, year), df in df_DATAs_BY_ALL_FILEs.items():\n",
    "    df_merge[filename].append(df)\n",
    "# ファイルごとに結合（行方向）\n",
    "df_final = {fname: pd.concat(dfs, ignore_index=True) for fname, dfs in df_merge.items()}\n",
    "#display(df_final[\"fy-balance-sheet.csv\"])\n",
    "\n",
    "print(\"\\nファイルごとにゼロを含むコードをチェックします。\")\n",
    "filename = settings[\"files\"][\"raw\"][0]\n",
    "print(f\"対象ファイル: {filename}\")\n",
    "\n",
    "df_all = df_final[filename]\n",
    "result_list = []  # 結果を格納するリスト\n",
    "for col in df_all:\n",
    "    df_zero = df_all[df_all[col] == \"0\"]\n",
    "    codes_with_zero = df_zero[\"コード\"].unique()\n",
    "    for code in codes_with_zero:\n",
    "        df_code = df_all.query(\"コード == @code\").copy()\n",
    "        df_code[\"対象列\"] = col\n",
    "        result_list.append(df_code)\n",
    "# すべての結果をまとめる\n",
    "if result_list:\n",
    "    df_result = pd.concat(result_list, ignore_index=True)\n",
    "else:\n",
    "    print(\"ゼロを含むコードは見つかりませんでした。\")\n",
    "display(df_result[df_result[\"対象列\"] == \"総資産\"])"
   ]
  },
  {
   "cell_type": "code",
   "execution_count": 20,
   "id": "420050e3",
   "metadata": {},
   "outputs": [
    {
     "name": "stdout",
     "output_type": "stream",
     "text": [
      "\n",
      "アルファベットが含まれているコードを出力します。\n",
      "['297A', '297A', '297A', '297A', '297A', '297A', '297A', '281A', '297A', '130A', '138A', '141A', '142A', '145A', '146A', '148A', '149A', '153A', '155A', '184A', '190A', '281A', '297A', '130A', '137A', '138A', '141A', '142A', '143A', '145A', '146A', '147A', '148A', '149A', '150A', '151A', '153A', '155A', '156A', '157A', '160A', '168A', '173A', '175A', '176A', '177A', '184A', '186A', '189A', '190A', '192A', '194A', '195A', '196A', '197A', '206A', '211A', '212A', '215A', '218A', '219A', '220A', '228A', '241A', '242A', '244A', '245A', '246A', '248A', '259A', '260A', '261A', '262A', '264A', '265A', '269A', '276A', '280A', '281A', '285A', '286A', '290A', '297A', '298A', '319A', '130A', '137A', '138A', '141A', '142A', '143A', '145A', '146A', '147A', '148A', '149A', '150A', '151A', '153A', '155A', '156A', '157A', '160A', '168A', '173A', '175A', '176A', '177A', '184A', '186A', '189A', '190A', '192A', '194A', '195A', '196A', '197A', '206A', '211A', '212A', '215A', '218A', '219A', '220A', '228A', '241A', '242A', '244A', '245A', '246A', '247A', '248A', '250A', '259A', '260A', '261A', '262A', '264A', '265A', '269A', '274A', '276A', '277A', '278A', '280A', '281A', '285A', '286A', '287A', '288A', '290A', '296A', '297A', '298A', '299A', '300A', '302A', '303A', '304A', '319A', '323A', '324A', '325A', '331A', '130A', '135A', '137A', '138A', '141A', '142A', '143A', '145A', '146A', '147A', '148A', '149A', '150A', '151A', '153A', '155A', '156A', '157A', '160A', '168A', '173A', '175A', '176A', '177A', '184A', '186A', '189A', '190A', '192A', '194A', '195A', '196A', '197A', '198A', '202A', '205A', '206A', '211A', '212A', '215A', '218A', '219A', '220A', '228A', '241A', '242A', '244A', '245A', '246A', '247A', '248A', '250A', '259A', '260A', '261A', '262A', '264A', '265A', '268A', '269A', '274A', '276A', '277A', '278A', '280A', '281A', '285A', '286A', '287A', '288A', '290A', '296A', '297A', '298A', '299A', '300A', '302A', '303A', '304A', '319A', '323A', '324A', '325A', '331A', '339A', '130A', '135A', '137A', '138A', '141A', '142A', '143A', '145A', '146A', '147A', '148A', '149A', '150A', '151A', '153A', '155A', '156A', '157A', '160A', '168A', '173A', '175A', '176A', '177A', '184A', '186A', '189A', '190A', '192A', '194A', '195A', '196A', '197A', '198A', '202A', '205A', '206A', '211A', '212A', '215A', '218A', '219A', '220A', '228A', '241A', '242A', '244A', '245A', '246A', '247A', '248A', '250A', '259A', '260A', '261A', '262A', '264A', '265A', '268A', '269A', '274A', '276A', '277A', '278A', '280A', '281A', '285A', '286A', '287A', '288A', '290A', '296A', '297A', '298A', '299A', '300A', '302A', '303A', '304A', '319A', '323A', '324A', '325A', '331A', '339A', '130A', '135A', '137A', '138A', '141A', '142A', '143A', '145A', '146A', '147A', '148A', '149A', '150A', '151A', '153A', '155A', '156A', '157A', '160A', '168A', '173A', '175A', '176A', '177A', '184A', '186A', '189A', '190A', '192A', '194A', '195A', '196A', '197A', '198A', '202A', '205A', '206A', '211A', '212A', '215A', '218A', '219A', '220A', '228A', '231A', '241A', '242A', '244A', '245A', '246A', '247A', '248A', '250A', '259A', '260A', '261A', '262A', '264A', '265A', '268A', '269A', '274A', '276A', '277A', '278A', '280A', '281A', '285A', '286A', '287A', '288A', '290A', '291A', '296A', '297A', '298A', '299A', '300A', '302A', '303A', '304A', '319A', '323A', '324A', '325A', '331A', '339A', '130A', '135A', '137A', '138A', '141A', '142A', '143A', '145A', '146A', '147A', '148A', '149A', '150A', '151A', '153A', '155A', '156A', '157A', '160A', '166A', '168A', '173A', '175A', '176A', '177A', '184A', '186A', '189A', '190A', '192A', '194A', '195A', '196A', '197A', '198A', '202A', '205A', '206A', '211A', '212A', '215A', '218A', '219A', '220A', '228A', '231A', '241A', '242A', '244A', '245A', '246A', '247A', '248A', '250A', '259A', '260A', '261A', '262A', '264A', '265A', '268A', '269A', '274A', '276A', '277A', '278A', '280A', '281A', '285A', '286A', '287A', '288A', '290A', '291A', '296A', '297A', '298A', '299A', '300A', '302A', '303A', '304A', '319A', '323A', '324A', '325A', '331A', '339A', '130A', '135A', '137A', '138A', '141A', '142A', '143A', '145A', '146A', '147A', '148A', '149A', '150A', '151A', '153A', '155A', '156A', '157A', '160A', '165A', '166A', '167A', '168A', '173A', '175A', '176A', '177A', '184A', '186A', '189A', '190A', '192A', '194A', '195A', '196A', '197A', '198A', '202A', '205A', '206A', '208A', '211A', '212A', '215A', '218A', '219A', '220A', '228A', '231A', '241A', '242A', '244A', '245A', '246A', '247A', '248A', '250A', '254A', '255A', '256A', '259A', '260A', '261A', '262A', '264A', '265A', '268A', '269A', '272A', '274A', '276A', '277A', '278A', '280A', '281A', '285A', '286A', '287A', '288A', '289A', '290A', '291A', '296A', '297A', '298A', '299A', '300A', '302A', '303A', '304A', '319A', '323A', '324A', '325A', '330A', '331A', '332A', '334A', '335A', '336A', '338A', '339A', '340A', '341A', '343A', '350A', '352A', '353A', '365A', '366A', '367A', '368A', '369A', '372A', '373A', '378A', '386A', '387A', '391A', '402A', '407A', '409A', '410A', '414A', '423A', '429A', '431A', '436A', '297A', '297A', '297A', '297A', '297A', '297A', '297A', '297A', '297A', '211A', '281A', '285A', '297A', '130A', '138A', '145A', '146A', '148A', '149A', '153A', '155A', '186A', '190A', '211A', '281A', '285A', '297A', '130A', '135A', '137A', '138A', '141A', '142A', '143A', '145A', '146A', '147A', '148A', '149A', '150A', '151A', '153A', '155A', '156A', '157A', '160A', '168A', '173A', '175A', '176A', '177A', '184A', '186A', '189A', '190A', '192A', '194A', '195A', '196A', '197A', '198A', '205A', '206A', '211A', '212A', '215A', '218A', '219A', '220A', '228A', '241A', '242A', '244A', '245A', '246A', '248A', '259A', '260A', '261A', '262A', '264A', '265A', '268A', '269A', '276A', '280A', '281A', '285A', '286A', '290A', '297A', '298A', '319A', '130A', '135A', '137A', '138A', '141A', '142A', '143A', '145A', '146A', '147A', '148A', '149A', '150A', '151A', '153A', '155A', '156A', '157A', '160A', '168A', '173A', '175A', '176A', '177A', '184A', '186A', '189A', '190A', '192A', '194A', '195A', '196A', '197A', '198A', '202A', '205A', '206A', '211A', '212A', '215A', '218A', '219A', '220A', '228A', '241A', '242A', '244A', '245A', '246A', '247A', '248A', '250A', '259A', '260A', '261A', '262A', '264A', '265A', '268A', '269A', '274A', '276A', '277A', '278A', '280A', '281A', '285A', '286A', '287A', '288A', '290A', '296A', '297A', '298A', '299A', '300A', '302A', '303A', '304A', '319A', '323A', '324A', '325A', '331A', '339A', '130A', '135A', '137A', '138A', '141A', '142A', '143A', '145A', '146A', '147A', '148A', '149A', '150A', '151A', '153A', '155A', '156A', '157A', '160A', '168A', '173A', '175A', '176A', '177A', '184A', '186A', '189A', '190A', '192A', '194A', '195A', '196A', '197A', '198A', '202A', '205A', '206A', '211A', '212A', '215A', '218A', '219A', '220A', '228A', '231A', '241A', '242A', '244A', '245A', '246A', '247A', '248A', '250A', '259A', '260A', '261A', '262A', '264A', '265A', '268A', '269A', '274A', '276A', '277A', '278A', '280A', '281A', '285A', '286A', '287A', '288A', '290A', '291A', '296A', '297A', '298A', '299A', '300A', '302A', '303A', '304A', '319A', '323A', '324A', '325A', '331A', '339A', '130A', '135A', '137A', '138A', '141A', '142A', '143A', '145A', '146A', '147A', '148A', '149A', '150A', '151A', '153A', '155A', '156A', '157A', '160A', '166A', '168A', '173A', '175A', '176A', '177A', '184A', '186A', '189A', '190A', '192A', '194A', '195A', '196A', '197A', '198A', '202A', '205A', '206A', '211A', '212A', '215A', '218A', '219A', '220A', '228A', '231A', '241A', '242A', '244A', '245A', '246A', '247A', '248A', '250A', '259A', '260A', '261A', '262A', '264A', '265A', '268A', '269A', '274A', '276A', '277A', '278A', '280A', '281A', '285A', '286A', '287A', '288A', '290A', '291A', '296A', '297A', '298A', '299A', '300A', '302A', '303A', '304A', '319A', '323A', '324A', '325A', '331A', '339A', '130A', '135A', '137A', '138A', '141A', '142A', '143A', '145A', '146A', '147A', '148A', '149A', '150A', '151A', '153A', '155A', '156A', '157A', '160A', '165A', '166A', '167A', '168A', '173A', '175A', '176A', '177A', '184A', '186A', '189A', '190A', '192A', '194A', '195A', '196A', '197A', '198A', '202A', '205A', '206A', '208A', '211A', '212A', '215A', '218A', '219A', '220A', '228A', '231A', '241A', '242A', '244A', '245A', '246A', '247A', '248A', '250A', '254A', '255A', '256A', '259A', '260A', '261A', '262A', '264A', '265A', '268A', '269A', '272A', '274A', '276A', '277A', '278A', '280A', '281A', '285A', '286A', '287A', '288A', '289A', '290A', '291A', '296A', '297A', '298A', '299A', '300A', '302A', '303A', '304A', '319A', '323A', '324A', '325A', '330A', '331A', '332A', '334A', '335A', '336A', '338A', '339A', '340A', '341A', '343A', '350A', '352A', '353A', '365A', '366A', '367A', '368A', '369A', '372A', '373A', '378A', '386A', '387A', '391A', '402A', '407A', '409A', '410A', '414A', '423A', '429A', '431A', '436A', '297A', '297A', '297A', '297A', '297A', '297A', '297A', '281A', '297A', '130A', '138A', '141A', '142A', '145A', '146A', '148A', '149A', '153A', '155A', '184A', '190A', '281A', '297A', '130A', '137A', '138A', '141A', '142A', '143A', '145A', '146A', '147A', '148A', '149A', '150A', '151A', '153A', '155A', '156A', '157A', '160A', '168A', '173A', '175A', '176A', '177A', '184A', '186A', '189A', '190A', '192A', '194A', '195A', '196A', '197A', '206A', '211A', '212A', '215A', '218A', '219A', '220A', '228A', '241A', '242A', '244A', '245A', '246A', '248A', '259A', '260A', '261A', '262A', '264A', '265A', '269A', '276A', '280A', '281A', '285A', '286A', '290A', '297A', '298A', '319A', '130A', '137A', '138A', '141A', '142A', '143A', '145A', '146A', '147A', '148A', '149A', '150A', '151A', '153A', '155A', '156A', '157A', '160A', '168A', '173A', '175A', '176A', '177A', '184A', '186A', '189A', '190A', '192A', '194A', '195A', '196A', '197A', '206A', '211A', '212A', '215A', '218A', '219A', '220A', '228A', '241A', '242A', '244A', '245A', '246A', '247A', '248A', '250A', '259A', '260A', '261A', '262A', '264A', '265A', '269A', '274A', '276A', '277A', '278A', '280A', '281A', '285A', '286A', '287A', '288A', '290A', '296A', '297A', '298A', '299A', '300A', '302A', '303A', '304A', '319A', '323A', '324A', '325A', '331A', '130A', '135A', '137A', '138A', '141A', '142A', '143A', '145A', '146A', '147A', '148A', '149A', '150A', '151A', '153A', '155A', '156A', '157A', '160A', '168A', '173A', '175A', '176A', '177A', '184A', '186A', '189A', '190A', '192A', '194A', '195A', '196A', '197A', '198A', '202A', '205A', '206A', '211A', '212A', '215A', '218A', '219A', '220A', '228A', '241A', '242A', '244A', '245A', '246A', '247A', '248A', '250A', '259A', '260A', '261A', '262A', '264A', '265A', '268A', '269A', '274A', '276A', '277A', '278A', '280A', '281A', '286A', '287A', '288A', '290A', '296A', '297A', '298A', '299A', '300A', '302A', '303A', '304A', '319A', '323A', '324A', '325A', '331A', '339A', '130A', '135A', '137A', '138A', '141A', '142A', '143A', '145A', '146A', '147A', '148A', '149A', '150A', '151A', '153A', '155A', '156A', '157A', '160A', '168A', '173A', '175A', '176A', '177A', '184A', '186A', '189A', '190A', '192A', '194A', '195A', '196A', '197A', '198A', '202A', '205A', '206A', '211A', '212A', '215A', '218A', '219A', '220A', '228A', '241A', '242A', '244A', '245A', '246A', '247A', '248A', '250A', '259A', '260A', '261A', '262A', '264A', '265A', '268A', '269A', '274A', '276A', '277A', '278A', '280A', '281A', '285A', '286A', '287A', '288A', '290A', '296A', '297A', '298A', '299A', '300A', '302A', '303A', '304A', '319A', '323A', '324A', '325A', '331A', '339A', '130A', '135A', '137A', '138A', '141A', '142A', '143A', '145A', '146A', '147A', '148A', '149A', '150A', '151A', '153A', '155A', '156A', '157A', '160A', '168A', '173A', '175A', '176A', '177A', '184A', '186A', '189A', '190A', '192A', '194A', '195A', '196A', '197A', '198A', '202A', '205A', '206A', '211A', '212A', '215A', '218A', '219A', '220A', '228A', '231A', '241A', '242A', '244A', '245A', '246A', '247A', '248A', '250A', '259A', '260A', '261A', '262A', '264A', '265A', '268A', '269A', '274A', '276A', '277A', '278A', '280A', '281A', '285A', '286A', '287A', '288A', '290A', '291A', '296A', '297A', '298A', '299A', '300A', '302A', '303A', '304A', '319A', '323A', '324A', '325A', '331A', '339A', '130A', '135A', '137A', '138A', '141A', '142A', '143A', '145A', '146A', '147A', '148A', '149A', '150A', '151A', '153A', '155A', '156A', '157A', '160A', '166A', '168A', '173A', '175A', '176A', '177A', '184A', '186A', '189A', '190A', '192A', '194A', '195A', '196A', '197A', '198A', '202A', '205A', '206A', '211A', '212A', '215A', '218A', '219A', '220A', '228A', '231A', '241A', '242A', '244A', '245A', '246A', '247A', '248A', '250A', '259A', '260A', '261A', '262A', '264A', '265A', '268A', '269A', '274A', '276A', '277A', '278A', '280A', '281A', '285A', '286A', '287A', '288A', '290A', '291A', '296A', '297A', '298A', '299A', '300A', '302A', '303A', '304A', '319A', '323A', '324A', '325A', '331A', '339A', '130A', '135A', '137A', '138A', '141A', '142A', '143A', '145A', '146A', '147A', '148A', '149A', '150A', '151A', '153A', '155A', '156A', '157A', '160A', '165A', '166A', '167A', '168A', '173A', '175A', '176A', '177A', '184A', '186A', '189A', '190A', '192A', '194A', '195A', '196A', '197A', '198A', '202A', '205A', '206A', '208A', '211A', '212A', '215A', '218A', '219A', '220A', '228A', '231A', '241A', '242A', '244A', '245A', '246A', '247A', '248A', '250A', '255A', '256A', '259A', '260A', '261A', '262A', '264A', '265A', '268A', '269A', '272A', '274A', '276A', '277A', '278A', '280A', '281A', '285A', '286A', '287A', '288A', '289A', '290A', '291A', '296A', '297A', '298A', '299A', '300A', '302A', '303A', '304A', '319A', '323A', '324A', '325A', '330A', '331A', '332A', '334A', '335A', '336A', '338A', '339A', '340A', '341A', '343A', '350A', '352A', '353A', '365A', '366A', '367A', '368A', '369A', '372A', '373A', '378A', '386A', '387A', '391A', '402A', '407A', '409A', '410A', '414A', '423A', '429A', '431A', '436A', '297A', '297A', '297A', '297A', '297A', '146A', '160A', '173A', '176A', '189A', '246A', '261A', '262A', '285A', '297A', '146A', '160A', '173A', '176A', '177A', '189A', '242A', '250A', '261A', '262A', '276A', '297A', '319A', '331A', '146A', '160A', '173A', '176A', '177A', '189A', '242A', '246A', '250A', '261A', '262A', '276A', '285A', '297A', '319A', '141A', '146A', '160A', '173A', '176A', '177A', '189A', '197A', '202A', '211A', '242A', '246A', '250A', '261A', '262A', '276A', '285A', '286A', '296A', '297A', '300A', '319A', '331A', '141A', '146A', '160A', '173A', '175A', '176A', '177A', '189A', '197A', '202A', '211A', '242A', '246A', '250A', '261A', '262A', '269A', '276A', '286A', '296A', '297A', '300A', '319A', '331A', '138A', '141A', '146A', '156A', '157A', '160A', '166A', '173A', '176A', '177A', '189A', '197A', '202A', '205A', '211A', '212A', '231A', '242A', '246A', '250A', '261A', '262A', '268A', '269A', '274A', '276A', '285A', '286A', '287A', '296A', '297A', '300A', '319A', '331A', '138A', '141A', '146A', '147A', '151A', '156A', '157A', '160A', '165A', '166A', '167A', '168A', '173A', '175A', '176A', '177A', '189A', '192A', '197A', '202A', '205A', '208A', '211A', '212A', '231A', '242A', '246A', '247A', '250A', '255A', '256A', '261A', '262A', '268A', '269A', '272A', '274A', '276A', '285A', '286A', '287A', '289A', '296A', '297A', '300A', '319A', '331A', '334A', '365A', '366A', '368A', '369A', '372A', '378A', '386A', '391A', '407A', '409A', '410A', '414A', '423A', '429A']\n"
     ]
    }
   ],
   "source": [
    "# アルファベット値のチェック\n",
    "print(\"\")\n",
    "print(\"アルファベットが含まれているコードを出力します。\")\n",
    "code_list = []\n",
    "for (filename, year), df in df_DATAs_BY_ALL_FILEs.items():\n",
    "    df_tmp = df[df[\"コード\"].astype(str).str.contains(\"[A-Za-z]\", na=False)]\n",
    "    code_list = code_list + df_tmp[\"コード\"].unique().tolist()\n",
    "print(code_list)"
   ]
  },
  {
   "cell_type": "markdown",
   "id": "868eb6bf",
   "metadata": {},
   "source": [
    "### データ型の整合性確認\n",
    "ロードしたファイルの方が各列で共通になるようにします。\n",
    "<details>\n",
    "<summary><b>結果</b></summary>\n",
    "以下のように処理しています。\n",
    "\n",
    "- コード：string\n",
    "- 年度：timestump\n",
    "- その他：float\n",
    "</details>"
   ]
  },
  {
   "cell_type": "code",
   "execution_count": 21,
   "id": "4c5d8aa8",
   "metadata": {},
   "outputs": [
    {
     "name": "stdout",
     "output_type": "stream",
     "text": [
      "\n",
      "ファイル毎にデータをロードします\n"
     ]
    }
   ],
   "source": [
    "print(\"\\nファイル毎にデータをロードします\")\n",
    "df_DATAs_BY_ALL_FILEs = {\n",
    "    (filename, year): dl.load_on_startup(settings[\"data_path\"][\"raw\"], str(year), filename, header=1, na_values=settings[\"na_values\"])\n",
    "    for filename in settings[\"files\"][\"raw\"]\n",
    "    for year in settings[\"years\"]\n",
    "}"
   ]
  },
  {
   "cell_type": "code",
   "execution_count": 22,
   "id": "443e4d5d",
   "metadata": {},
   "outputs": [
    {
     "name": "stdout",
     "output_type": "stream",
     "text": [
      "\n",
      "読み込みで処理できなかった残りの文字列カラムに対し、replaceでクリーンアップ\n"
     ]
    }
   ],
   "source": [
    "print(\"\\n読み込みで処理できなかった残りの文字列カラムに対し、replaceでクリーンアップ\")\n",
    "for keys,df in df_DATAs_BY_ALL_FILEs.items():\n",
    "    object_cols = df.select_dtypes(include='object').columns\n",
    "    df_DATAs_BY_ALL_FILEs[keys].loc[:, object_cols] = df.loc[:, object_cols].replace(\"-\", np.nan)\n"
   ]
  },
  {
   "cell_type": "code",
   "execution_count": 23,
   "id": "dab04af1",
   "metadata": {},
   "outputs": [
    {
     "name": "stdout",
     "output_type": "stream",
     "text": [
      "\n",
      "コードと年度以外をfloat化\n"
     ]
    }
   ],
   "source": [
    "print(\"\\nコードと年度以外をfloat化\")\n",
    "except_codes= [\"コード\", \"年度\"]\n",
    "df_type_change = {\n",
    "    key: cu.convert_columns_type(df, df.drop(columns=except_codes, errors=\"ignore\").columns, \"float\", False)\n",
    "    for key, df in df_DATAs_BY_ALL_FILEs.items()\n",
    "}"
   ]
  },
  {
   "cell_type": "code",
   "execution_count": 24,
   "id": "9606fc36",
   "metadata": {},
   "outputs": [
    {
     "name": "stdout",
     "output_type": "stream",
     "text": [
      "\n",
      "コードをstring化\n"
     ]
    }
   ],
   "source": [
    "print(\"\\nコードをstring化\")\n",
    "df_type_change = {\n",
    "    key: df.assign(コード=df[\"コード\"].astype(\"string\"))\n",
    "    for key, df in df_type_change.items()\n",
    "}"
   ]
  },
  {
   "cell_type": "code",
   "execution_count": 25,
   "id": "e60aa9c5",
   "metadata": {},
   "outputs": [
    {
     "name": "stdout",
     "output_type": "stream",
     "text": [
      "\n",
      "年度をdatetime化\n"
     ]
    }
   ],
   "source": [
    "print(\"\\n年度をdatetime化\")\n",
    "df_type_change = {\n",
    "    key: df.assign(年度=pd.to_datetime(df[\"年度\"], format=\"%Y/%m\"))\n",
    "    for key, df in df_type_change.items()\n",
    "}"
   ]
  },
  {
   "cell_type": "code",
   "execution_count": 26,
   "id": "4c506a34",
   "metadata": {},
   "outputs": [
    {
     "name": "stdout",
     "output_type": "stream",
     "text": [
      "fy-balance-sheet.csv 2010\n",
      "fy-balance-sheet.csv 2011\n",
      "fy-balance-sheet.csv 2012\n",
      "fy-balance-sheet.csv 2013\n",
      "fy-balance-sheet.csv 2014\n",
      "fy-balance-sheet.csv 2015\n",
      "fy-balance-sheet.csv 2016\n",
      "fy-balance-sheet.csv 2017\n",
      "fy-balance-sheet.csv 2018\n",
      "fy-balance-sheet.csv 2019\n",
      "fy-balance-sheet.csv 2020\n",
      "fy-balance-sheet.csv 2021\n",
      "fy-balance-sheet.csv 2022\n",
      "fy-balance-sheet.csv 2023\n",
      "fy-balance-sheet.csv 2024\n",
      "fy-balance-sheet.csv 2025\n",
      "fy-cash-flow-statement.csv 2010\n",
      "fy-cash-flow-statement.csv 2011\n",
      "fy-cash-flow-statement.csv 2012\n",
      "fy-cash-flow-statement.csv 2013\n",
      "fy-cash-flow-statement.csv 2014\n",
      "fy-cash-flow-statement.csv 2015\n",
      "fy-cash-flow-statement.csv 2016\n",
      "fy-cash-flow-statement.csv 2017\n",
      "fy-cash-flow-statement.csv 2018\n",
      "fy-cash-flow-statement.csv 2019\n",
      "fy-cash-flow-statement.csv 2020\n",
      "fy-cash-flow-statement.csv 2021\n",
      "fy-cash-flow-statement.csv 2022\n",
      "fy-cash-flow-statement.csv 2023\n",
      "fy-cash-flow-statement.csv 2024\n",
      "fy-cash-flow-statement.csv 2025\n",
      "fy-profit-and-loss.csv 2010\n",
      "fy-profit-and-loss.csv 2011\n",
      "fy-profit-and-loss.csv 2012\n",
      "fy-profit-and-loss.csv 2013\n",
      "fy-profit-and-loss.csv 2014\n",
      "fy-profit-and-loss.csv 2015\n",
      "fy-profit-and-loss.csv 2016\n",
      "fy-profit-and-loss.csv 2017\n",
      "fy-profit-and-loss.csv 2018\n",
      "fy-profit-and-loss.csv 2019\n",
      "fy-profit-and-loss.csv 2020\n",
      "fy-profit-and-loss.csv 2021\n",
      "fy-profit-and-loss.csv 2022\n",
      "fy-profit-and-loss.csv 2023\n",
      "fy-profit-and-loss.csv 2024\n",
      "fy-profit-and-loss.csv 2025\n",
      "fy-stock-dividend.csv 2010\n",
      "fy-stock-dividend.csv 2011\n",
      "fy-stock-dividend.csv 2012\n",
      "fy-stock-dividend.csv 2013\n",
      "fy-stock-dividend.csv 2014\n",
      "fy-stock-dividend.csv 2015\n",
      "fy-stock-dividend.csv 2016\n",
      "fy-stock-dividend.csv 2017\n",
      "fy-stock-dividend.csv 2018\n",
      "fy-stock-dividend.csv 2019\n",
      "fy-stock-dividend.csv 2020\n",
      "fy-stock-dividend.csv 2021\n",
      "fy-stock-dividend.csv 2022\n",
      "fy-stock-dividend.csv 2023\n",
      "fy-stock-dividend.csv 2024\n",
      "fy-stock-dividend.csv 2025\n"
     ]
    }
   ],
   "source": [
    "for (filename, year), df in df_type_change.items():\n",
    "    print(filename, year)\n",
    "    cu.chk_finale_dtype(df, settings[\"dtype_chk\"][\"raw\"])"
   ]
  },
  {
   "cell_type": "markdown",
   "id": "e449b485",
   "metadata": {},
   "source": [
    "### 初期品質の確認\n",
    "\n",
    "指標となる以下の数を確認し、必要な処理のプロセスを決定します。\n",
    "\n",
    "- コード\n",
    "- 年度\n",
    "- 列\n",
    "\n",
    "<summary><b>結果</b></summary>\n",
    "\n",
    "</details>"
   ]
  },
  {
   "cell_type": "code",
   "execution_count": 27,
   "id": "0867fa3c",
   "metadata": {},
   "outputs": [
    {
     "name": "stdout",
     "output_type": "stream",
     "text": [
      "\n",
      "処理済みデータをロードします。\n",
      "\n",
      "企業コード数、エンドの数、列数をファイルごとにまとめます。\n",
      "\n",
      "各ファイルの年推移を可視化します。\n",
      "\n",
      "最新年のファイルに登録されている年度を表示します。\n",
      "\n",
      "最新年に登録されている過去の年度と過去のデータが同じか確認します\n",
      "まずは、年度を限定して、コードの一覧を見ます\n",
      "\n",
      "コードを限定し、過去のデータファイルと同じかどうか調べます。\n",
      "\n",
      "最新年度にある過去のデータを取得し、過去のデータを更新します\n",
      "\n",
      "正しく処理が行われ、最新年に登録されている過去の年度と過去のデータが同じか確認します。\n"
     ]
    },
    {
     "data": {
      "text/html": [
       "<div>\n",
       "<style scoped>\n",
       "    .dataframe tbody tr th:only-of-type {\n",
       "        vertical-align: middle;\n",
       "    }\n",
       "\n",
       "    .dataframe tbody tr th {\n",
       "        vertical-align: top;\n",
       "    }\n",
       "\n",
       "    .dataframe thead th {\n",
       "        text-align: right;\n",
       "    }\n",
       "</style>\n",
       "<table border=\"1\" class=\"dataframe\">\n",
       "  <thead>\n",
       "    <tr style=\"text-align: right;\">\n",
       "      <th></th>\n",
       "      <th>コード</th>\n",
       "      <th>年度</th>\n",
       "      <th>総資産</th>\n",
       "      <th>純資産</th>\n",
       "      <th>株主資本</th>\n",
       "      <th>利益剰余金</th>\n",
       "      <th>短期借入金</th>\n",
       "      <th>長期借入金</th>\n",
       "      <th>BPS</th>\n",
       "      <th>自己資本比率</th>\n",
       "    </tr>\n",
       "  </thead>\n",
       "  <tbody>\n",
       "    <tr>\n",
       "      <th>1</th>\n",
       "      <td>130A</td>\n",
       "      <td>2024-12-01</td>\n",
       "      <td>2248958000.0</td>\n",
       "      <td>2209548000.0</td>\n",
       "      <td>2209548000.0</td>\n",
       "      <td>-203393000.0</td>\n",
       "      <td>&lt;NA&gt;</td>\n",
       "      <td>&lt;NA&gt;</td>\n",
       "      <td>340.61</td>\n",
       "      <td>98.2</td>\n",
       "    </tr>\n",
       "  </tbody>\n",
       "</table>\n",
       "</div>"
      ],
      "text/plain": [
       "    コード         年度           総資産           純資産          株主資本        利益剰余金  \\\n",
       "1  130A 2024-12-01  2248958000.0  2209548000.0  2209548000.0 -203393000.0   \n",
       "\n",
       "   短期借入金  長期借入金     BPS  自己資本比率  \n",
       "1   <NA>   <NA>  340.61    98.2  "
      ]
     },
     "metadata": {},
     "output_type": "display_data"
    },
    {
     "data": {
      "text/html": [
       "<div>\n",
       "<style scoped>\n",
       "    .dataframe tbody tr th:only-of-type {\n",
       "        vertical-align: middle;\n",
       "    }\n",
       "\n",
       "    .dataframe tbody tr th {\n",
       "        vertical-align: top;\n",
       "    }\n",
       "\n",
       "    .dataframe thead th {\n",
       "        text-align: right;\n",
       "    }\n",
       "</style>\n",
       "<table border=\"1\" class=\"dataframe\">\n",
       "  <thead>\n",
       "    <tr style=\"text-align: right;\">\n",
       "      <th></th>\n",
       "      <th>コード</th>\n",
       "      <th>年度</th>\n",
       "      <th>総資産</th>\n",
       "      <th>純資産</th>\n",
       "      <th>株主資本</th>\n",
       "      <th>利益剰余金</th>\n",
       "      <th>短期借入金</th>\n",
       "      <th>長期借入金</th>\n",
       "      <th>BPS</th>\n",
       "      <th>自己資本比率</th>\n",
       "    </tr>\n",
       "  </thead>\n",
       "  <tbody>\n",
       "    <tr>\n",
       "      <th>1</th>\n",
       "      <td>130A</td>\n",
       "      <td>2024-12-01</td>\n",
       "      <td>2248000000.0</td>\n",
       "      <td>2209000000.0</td>\n",
       "      <td>2209548000.0</td>\n",
       "      <td>-203393000.0</td>\n",
       "      <td>&lt;NA&gt;</td>\n",
       "      <td>&lt;NA&gt;</td>\n",
       "      <td>340.61</td>\n",
       "      <td>98.2</td>\n",
       "    </tr>\n",
       "  </tbody>\n",
       "</table>\n",
       "</div>"
      ],
      "text/plain": [
       "    コード         年度           総資産           純資産          株主資本        利益剰余金  \\\n",
       "1  130A 2024-12-01  2248000000.0  2209000000.0  2209548000.0 -203393000.0   \n",
       "\n",
       "   短期借入金  長期借入金     BPS  自己資本比率  \n",
       "1   <NA>   <NA>  340.61    98.2  "
      ]
     },
     "metadata": {},
     "output_type": "display_data"
    },
    {
     "name": "stdout",
     "output_type": "stream",
     "text": [
      "\n",
      "最後に最新年度にある過去のデータを消去します。\n",
      "\n",
      "各ファイルの年推移をもう一度可視化し、改善していることを確かめます。\n"
     ]
    },
    {
     "data": {
      "text/html": [
       "<div>\n",
       "<style scoped>\n",
       "    .dataframe tbody tr th:only-of-type {\n",
       "        vertical-align: middle;\n",
       "    }\n",
       "\n",
       "    .dataframe tbody tr th {\n",
       "        vertical-align: top;\n",
       "    }\n",
       "\n",
       "    .dataframe thead th {\n",
       "        text-align: right;\n",
       "    }\n",
       "</style>\n",
       "<table border=\"1\" class=\"dataframe\">\n",
       "  <thead>\n",
       "    <tr style=\"text-align: right;\">\n",
       "      <th></th>\n",
       "      <th>file</th>\n",
       "      <th>year</th>\n",
       "      <th>code_counts</th>\n",
       "      <th>year_counts</th>\n",
       "      <th>column_counts</th>\n",
       "      <th>区分</th>\n",
       "    </tr>\n",
       "  </thead>\n",
       "  <tbody>\n",
       "    <tr>\n",
       "      <th>0</th>\n",
       "      <td>fy-balance-sheet.csv</td>\n",
       "      <td>2010</td>\n",
       "      <td>3406</td>\n",
       "      <td>12</td>\n",
       "      <td>10</td>\n",
       "      <td>処理前</td>\n",
       "    </tr>\n",
       "    <tr>\n",
       "      <th>1</th>\n",
       "      <td>fy-balance-sheet.csv</td>\n",
       "      <td>2011</td>\n",
       "      <td>3513</td>\n",
       "      <td>12</td>\n",
       "      <td>10</td>\n",
       "      <td>処理前</td>\n",
       "    </tr>\n",
       "    <tr>\n",
       "      <th>2</th>\n",
       "      <td>fy-balance-sheet.csv</td>\n",
       "      <td>2012</td>\n",
       "      <td>3589</td>\n",
       "      <td>12</td>\n",
       "      <td>10</td>\n",
       "      <td>処理前</td>\n",
       "    </tr>\n",
       "    <tr>\n",
       "      <th>3</th>\n",
       "      <td>fy-balance-sheet.csv</td>\n",
       "      <td>2013</td>\n",
       "      <td>3679</td>\n",
       "      <td>12</td>\n",
       "      <td>10</td>\n",
       "      <td>処理前</td>\n",
       "    </tr>\n",
       "    <tr>\n",
       "      <th>4</th>\n",
       "      <td>fy-balance-sheet.csv</td>\n",
       "      <td>2014</td>\n",
       "      <td>3780</td>\n",
       "      <td>12</td>\n",
       "      <td>10</td>\n",
       "      <td>処理前</td>\n",
       "    </tr>\n",
       "    <tr>\n",
       "      <th>...</th>\n",
       "      <td>...</td>\n",
       "      <td>...</td>\n",
       "      <td>...</td>\n",
       "      <td>...</td>\n",
       "      <td>...</td>\n",
       "      <td>...</td>\n",
       "    </tr>\n",
       "    <tr>\n",
       "      <th>123</th>\n",
       "      <td>fy-stock-dividend.csv</td>\n",
       "      <td>2021</td>\n",
       "      <td>3618</td>\n",
       "      <td>12</td>\n",
       "      <td>8</td>\n",
       "      <td>処理後</td>\n",
       "    </tr>\n",
       "    <tr>\n",
       "      <th>124</th>\n",
       "      <td>fy-stock-dividend.csv</td>\n",
       "      <td>2022</td>\n",
       "      <td>3606</td>\n",
       "      <td>12</td>\n",
       "      <td>8</td>\n",
       "      <td>処理後</td>\n",
       "    </tr>\n",
       "    <tr>\n",
       "      <th>125</th>\n",
       "      <td>fy-stock-dividend.csv</td>\n",
       "      <td>2023</td>\n",
       "      <td>3606</td>\n",
       "      <td>12</td>\n",
       "      <td>8</td>\n",
       "      <td>処理後</td>\n",
       "    </tr>\n",
       "    <tr>\n",
       "      <th>126</th>\n",
       "      <td>fy-stock-dividend.csv</td>\n",
       "      <td>2024</td>\n",
       "      <td>3574</td>\n",
       "      <td>12</td>\n",
       "      <td>8</td>\n",
       "      <td>処理後</td>\n",
       "    </tr>\n",
       "    <tr>\n",
       "      <th>127</th>\n",
       "      <td>fy-stock-dividend.csv</td>\n",
       "      <td>2025</td>\n",
       "      <td>2738</td>\n",
       "      <td>8</td>\n",
       "      <td>8</td>\n",
       "      <td>処理後</td>\n",
       "    </tr>\n",
       "  </tbody>\n",
       "</table>\n",
       "<p>128 rows × 6 columns</p>\n",
       "</div>"
      ],
      "text/plain": [
       "                      file  year  code_counts  year_counts  column_counts   区分\n",
       "0     fy-balance-sheet.csv  2010         3406           12             10  処理前\n",
       "1     fy-balance-sheet.csv  2011         3513           12             10  処理前\n",
       "2     fy-balance-sheet.csv  2012         3589           12             10  処理前\n",
       "3     fy-balance-sheet.csv  2013         3679           12             10  処理前\n",
       "4     fy-balance-sheet.csv  2014         3780           12             10  処理前\n",
       "..                     ...   ...          ...          ...            ...  ...\n",
       "123  fy-stock-dividend.csv  2021         3618           12              8  処理後\n",
       "124  fy-stock-dividend.csv  2022         3606           12              8  処理後\n",
       "125  fy-stock-dividend.csv  2023         3606           12              8  処理後\n",
       "126  fy-stock-dividend.csv  2024         3574           12              8  処理後\n",
       "127  fy-stock-dividend.csv  2025         2738            8              8  処理後\n",
       "\n",
       "[128 rows x 6 columns]"
      ]
     },
     "metadata": {},
     "output_type": "display_data"
    },
    {
     "data": {
      "application/vnd.plotly.v1+json": {
       "config": {
        "plotlyServerURL": "https://plot.ly"
       },
       "data": [
        {
         "hovertemplate": "file=fy-balance-sheet.csv<br>区分=処理前<br>year=%{x}<br>code_counts=%{y}<extra></extra>",
         "legendgroup": "fy-balance-sheet.csv, 処理前",
         "line": {
          "color": "#636efa",
          "dash": "solid"
         },
         "marker": {
          "symbol": "circle"
         },
         "mode": "lines+markers",
         "name": "fy-balance-sheet.csv, 処理前",
         "orientation": "v",
         "showlegend": true,
         "type": "scatter",
         "x": {
          "bdata": "2gfbB9wH3QfeB98H4AfhB+IH4wfkB+UH5gfnB+gH6Qc=",
          "dtype": "i2"
         },
         "xaxis": "x",
         "y": {
          "bdata": "Tg25DQUOXw7EDjEPnw8eEIQQxRCyEIAQPRD+D44PMBA=",
          "dtype": "i2"
         },
         "yaxis": "y"
        },
        {
         "hovertemplate": "file=fy-balance-sheet.csv<br>区分=処理後<br>year=%{x}<br>code_counts=%{y}<extra></extra>",
         "legendgroup": "fy-balance-sheet.csv, 処理後",
         "line": {
          "color": "#636efa",
          "dash": "dot"
         },
         "marker": {
          "symbol": "circle"
         },
         "mode": "lines+markers",
         "name": "fy-balance-sheet.csv, 処理後",
         "orientation": "v",
         "showlegend": true,
         "type": "scatter",
         "x": {
          "bdata": "2gfbB9wH3QfeB98H4AfhB+IH4wfkB+UH5gfnB+gH6Qc=",
          "dtype": "i2"
         },
         "xaxis": "x",
         "y": {
          "bdata": "Tg25DQUOXw7EDjEPnw8eEIQQxRCyEIAQPRD+D44PnAs=",
          "dtype": "i2"
         },
         "yaxis": "y"
        },
        {
         "hovertemplate": "file=fy-cash-flow-statement.csv<br>区分=処理前<br>year=%{x}<br>code_counts=%{y}<extra></extra>",
         "legendgroup": "fy-cash-flow-statement.csv, 処理前",
         "line": {
          "color": "#EF553B",
          "dash": "solid"
         },
         "marker": {
          "symbol": "circle"
         },
         "mode": "lines+markers",
         "name": "fy-cash-flow-statement.csv, 処理前",
         "orientation": "v",
         "showlegend": true,
         "type": "scatter",
         "x": {
          "bdata": "2gfbB9wH3QfeB98H4AfhB+IH4wfkB+UH5gfnB+gH6Qc=",
          "dtype": "i2"
         },
         "xaxis": "x",
         "y": {
          "bdata": "vAwKDWENvw0eDoAO4Q5SD8cPKxBgEGwQPRD+D44PMBA=",
          "dtype": "i2"
         },
         "yaxis": "y"
        },
        {
         "hovertemplate": "file=fy-cash-flow-statement.csv<br>区分=処理後<br>year=%{x}<br>code_counts=%{y}<extra></extra>",
         "legendgroup": "fy-cash-flow-statement.csv, 処理後",
         "line": {
          "color": "#EF553B",
          "dash": "dot"
         },
         "marker": {
          "symbol": "circle"
         },
         "mode": "lines+markers",
         "name": "fy-cash-flow-statement.csv, 処理後",
         "orientation": "v",
         "showlegend": true,
         "type": "scatter",
         "x": {
          "bdata": "2gfbB9wH3QfeB98H4AfhB+IH4wfkB+UH5gfnB+gH6Qc=",
          "dtype": "i2"
         },
         "xaxis": "x",
         "y": {
          "bdata": "vAwKDWENvw0eDoAO4Q5SD8cPKxBgEGwQPRD+D44PnAs=",
          "dtype": "i2"
         },
         "yaxis": "y"
        },
        {
         "hovertemplate": "file=fy-profit-and-loss.csv<br>区分=処理前<br>year=%{x}<br>code_counts=%{y}<extra></extra>",
         "legendgroup": "fy-profit-and-loss.csv, 処理前",
         "line": {
          "color": "#00cc96",
          "dash": "solid"
         },
         "marker": {
          "symbol": "circle"
         },
         "mode": "lines+markers",
         "name": "fy-profit-and-loss.csv, 処理前",
         "orientation": "v",
         "showlegend": true,
         "type": "scatter",
         "x": {
          "bdata": "2gfbB9wH3QfeB98H4AfhB+IH4wfkB+UH5gfnB+gH6Qc=",
          "dtype": "i2"
         },
         "xaxis": "x",
         "y": {
          "bdata": "Tw25DQUOXw7DDjAPnw8eEIQQwxCvEH0QPBD+D44PLxA=",
          "dtype": "i2"
         },
         "yaxis": "y"
        },
        {
         "hovertemplate": "file=fy-profit-and-loss.csv<br>区分=処理後<br>year=%{x}<br>code_counts=%{y}<extra></extra>",
         "legendgroup": "fy-profit-and-loss.csv, 処理後",
         "line": {
          "color": "#00cc96",
          "dash": "dot"
         },
         "marker": {
          "symbol": "circle"
         },
         "mode": "lines+markers",
         "name": "fy-profit-and-loss.csv, 処理後",
         "orientation": "v",
         "showlegend": true,
         "type": "scatter",
         "x": {
          "bdata": "2gfbB9wH3QfeB98H4AfhB+IH4wfkB+UH5gfnB+gH6Qc=",
          "dtype": "i2"
         },
         "xaxis": "x",
         "y": {
          "bdata": "Tw25DQUOXw7DDjAPnw8eEIQQwxCvEH0QPBD+D44Pmws=",
          "dtype": "i2"
         },
         "yaxis": "y"
        },
        {
         "hovertemplate": "file=fy-stock-dividend.csv<br>区分=処理前<br>year=%{x}<br>code_counts=%{y}<extra></extra>",
         "legendgroup": "fy-stock-dividend.csv, 処理前",
         "line": {
          "color": "#ab63fa",
          "dash": "solid"
         },
         "marker": {
          "symbol": "circle"
         },
         "mode": "lines+markers",
         "name": "fy-stock-dividend.csv, 処理前",
         "orientation": "v",
         "showlegend": true,
         "type": "scatter",
         "x": {
          "bdata": "2gfbB9wH3QfeB98H4AfhB+IH4wfkB+UH5gfnB+gH6Qc=",
          "dtype": "i2"
         },
         "xaxis": "x",
         "y": {
          "bdata": "2gsdDEIMlAy6DPkMRw2XDf4NRA49DiIOFg4WDvYNBg8=",
          "dtype": "i2"
         },
         "yaxis": "y"
        },
        {
         "hovertemplate": "file=fy-stock-dividend.csv<br>区分=処理後<br>year=%{x}<br>code_counts=%{y}<extra></extra>",
         "legendgroup": "fy-stock-dividend.csv, 処理後",
         "line": {
          "color": "#ab63fa",
          "dash": "dot"
         },
         "marker": {
          "symbol": "circle"
         },
         "mode": "lines+markers",
         "name": "fy-stock-dividend.csv, 処理後",
         "orientation": "v",
         "showlegend": true,
         "type": "scatter",
         "x": {
          "bdata": "2gfbB9wH3QfeB98H4AfhB+IH4wfkB+UH5gfnB+gH6Qc=",
          "dtype": "i2"
         },
         "xaxis": "x",
         "y": {
          "bdata": "2gsdDEIMlAy6DPkMRw2XDf4NRA49DiIOFg4WDvYNsgo=",
          "dtype": "i2"
         },
         "yaxis": "y"
        }
       ],
       "layout": {
        "legend": {
         "title": {
          "text": "file, 区分"
         },
         "tracegroupgap": 0
        },
        "margin": {
         "t": 60
        },
        "template": {
         "data": {
          "bar": [
           {
            "error_x": {
             "color": "#2a3f5f"
            },
            "error_y": {
             "color": "#2a3f5f"
            },
            "marker": {
             "line": {
              "color": "#E5ECF6",
              "width": 0.5
             },
             "pattern": {
              "fillmode": "overlay",
              "size": 10,
              "solidity": 0.2
             }
            },
            "type": "bar"
           }
          ],
          "barpolar": [
           {
            "marker": {
             "line": {
              "color": "#E5ECF6",
              "width": 0.5
             },
             "pattern": {
              "fillmode": "overlay",
              "size": 10,
              "solidity": 0.2
             }
            },
            "type": "barpolar"
           }
          ],
          "carpet": [
           {
            "aaxis": {
             "endlinecolor": "#2a3f5f",
             "gridcolor": "white",
             "linecolor": "white",
             "minorgridcolor": "white",
             "startlinecolor": "#2a3f5f"
            },
            "baxis": {
             "endlinecolor": "#2a3f5f",
             "gridcolor": "white",
             "linecolor": "white",
             "minorgridcolor": "white",
             "startlinecolor": "#2a3f5f"
            },
            "type": "carpet"
           }
          ],
          "choropleth": [
           {
            "colorbar": {
             "outlinewidth": 0,
             "ticks": ""
            },
            "type": "choropleth"
           }
          ],
          "contour": [
           {
            "colorbar": {
             "outlinewidth": 0,
             "ticks": ""
            },
            "colorscale": [
             [
              0,
              "#0d0887"
             ],
             [
              0.1111111111111111,
              "#46039f"
             ],
             [
              0.2222222222222222,
              "#7201a8"
             ],
             [
              0.3333333333333333,
              "#9c179e"
             ],
             [
              0.4444444444444444,
              "#bd3786"
             ],
             [
              0.5555555555555556,
              "#d8576b"
             ],
             [
              0.6666666666666666,
              "#ed7953"
             ],
             [
              0.7777777777777778,
              "#fb9f3a"
             ],
             [
              0.8888888888888888,
              "#fdca26"
             ],
             [
              1,
              "#f0f921"
             ]
            ],
            "type": "contour"
           }
          ],
          "contourcarpet": [
           {
            "colorbar": {
             "outlinewidth": 0,
             "ticks": ""
            },
            "type": "contourcarpet"
           }
          ],
          "heatmap": [
           {
            "colorbar": {
             "outlinewidth": 0,
             "ticks": ""
            },
            "colorscale": [
             [
              0,
              "#0d0887"
             ],
             [
              0.1111111111111111,
              "#46039f"
             ],
             [
              0.2222222222222222,
              "#7201a8"
             ],
             [
              0.3333333333333333,
              "#9c179e"
             ],
             [
              0.4444444444444444,
              "#bd3786"
             ],
             [
              0.5555555555555556,
              "#d8576b"
             ],
             [
              0.6666666666666666,
              "#ed7953"
             ],
             [
              0.7777777777777778,
              "#fb9f3a"
             ],
             [
              0.8888888888888888,
              "#fdca26"
             ],
             [
              1,
              "#f0f921"
             ]
            ],
            "type": "heatmap"
           }
          ],
          "histogram": [
           {
            "marker": {
             "pattern": {
              "fillmode": "overlay",
              "size": 10,
              "solidity": 0.2
             }
            },
            "type": "histogram"
           }
          ],
          "histogram2d": [
           {
            "colorbar": {
             "outlinewidth": 0,
             "ticks": ""
            },
            "colorscale": [
             [
              0,
              "#0d0887"
             ],
             [
              0.1111111111111111,
              "#46039f"
             ],
             [
              0.2222222222222222,
              "#7201a8"
             ],
             [
              0.3333333333333333,
              "#9c179e"
             ],
             [
              0.4444444444444444,
              "#bd3786"
             ],
             [
              0.5555555555555556,
              "#d8576b"
             ],
             [
              0.6666666666666666,
              "#ed7953"
             ],
             [
              0.7777777777777778,
              "#fb9f3a"
             ],
             [
              0.8888888888888888,
              "#fdca26"
             ],
             [
              1,
              "#f0f921"
             ]
            ],
            "type": "histogram2d"
           }
          ],
          "histogram2dcontour": [
           {
            "colorbar": {
             "outlinewidth": 0,
             "ticks": ""
            },
            "colorscale": [
             [
              0,
              "#0d0887"
             ],
             [
              0.1111111111111111,
              "#46039f"
             ],
             [
              0.2222222222222222,
              "#7201a8"
             ],
             [
              0.3333333333333333,
              "#9c179e"
             ],
             [
              0.4444444444444444,
              "#bd3786"
             ],
             [
              0.5555555555555556,
              "#d8576b"
             ],
             [
              0.6666666666666666,
              "#ed7953"
             ],
             [
              0.7777777777777778,
              "#fb9f3a"
             ],
             [
              0.8888888888888888,
              "#fdca26"
             ],
             [
              1,
              "#f0f921"
             ]
            ],
            "type": "histogram2dcontour"
           }
          ],
          "mesh3d": [
           {
            "colorbar": {
             "outlinewidth": 0,
             "ticks": ""
            },
            "type": "mesh3d"
           }
          ],
          "parcoords": [
           {
            "line": {
             "colorbar": {
              "outlinewidth": 0,
              "ticks": ""
             }
            },
            "type": "parcoords"
           }
          ],
          "pie": [
           {
            "automargin": true,
            "type": "pie"
           }
          ],
          "scatter": [
           {
            "fillpattern": {
             "fillmode": "overlay",
             "size": 10,
             "solidity": 0.2
            },
            "type": "scatter"
           }
          ],
          "scatter3d": [
           {
            "line": {
             "colorbar": {
              "outlinewidth": 0,
              "ticks": ""
             }
            },
            "marker": {
             "colorbar": {
              "outlinewidth": 0,
              "ticks": ""
             }
            },
            "type": "scatter3d"
           }
          ],
          "scattercarpet": [
           {
            "marker": {
             "colorbar": {
              "outlinewidth": 0,
              "ticks": ""
             }
            },
            "type": "scattercarpet"
           }
          ],
          "scattergeo": [
           {
            "marker": {
             "colorbar": {
              "outlinewidth": 0,
              "ticks": ""
             }
            },
            "type": "scattergeo"
           }
          ],
          "scattergl": [
           {
            "marker": {
             "colorbar": {
              "outlinewidth": 0,
              "ticks": ""
             }
            },
            "type": "scattergl"
           }
          ],
          "scattermap": [
           {
            "marker": {
             "colorbar": {
              "outlinewidth": 0,
              "ticks": ""
             }
            },
            "type": "scattermap"
           }
          ],
          "scattermapbox": [
           {
            "marker": {
             "colorbar": {
              "outlinewidth": 0,
              "ticks": ""
             }
            },
            "type": "scattermapbox"
           }
          ],
          "scatterpolar": [
           {
            "marker": {
             "colorbar": {
              "outlinewidth": 0,
              "ticks": ""
             }
            },
            "type": "scatterpolar"
           }
          ],
          "scatterpolargl": [
           {
            "marker": {
             "colorbar": {
              "outlinewidth": 0,
              "ticks": ""
             }
            },
            "type": "scatterpolargl"
           }
          ],
          "scatterternary": [
           {
            "marker": {
             "colorbar": {
              "outlinewidth": 0,
              "ticks": ""
             }
            },
            "type": "scatterternary"
           }
          ],
          "surface": [
           {
            "colorbar": {
             "outlinewidth": 0,
             "ticks": ""
            },
            "colorscale": [
             [
              0,
              "#0d0887"
             ],
             [
              0.1111111111111111,
              "#46039f"
             ],
             [
              0.2222222222222222,
              "#7201a8"
             ],
             [
              0.3333333333333333,
              "#9c179e"
             ],
             [
              0.4444444444444444,
              "#bd3786"
             ],
             [
              0.5555555555555556,
              "#d8576b"
             ],
             [
              0.6666666666666666,
              "#ed7953"
             ],
             [
              0.7777777777777778,
              "#fb9f3a"
             ],
             [
              0.8888888888888888,
              "#fdca26"
             ],
             [
              1,
              "#f0f921"
             ]
            ],
            "type": "surface"
           }
          ],
          "table": [
           {
            "cells": {
             "fill": {
              "color": "#EBF0F8"
             },
             "line": {
              "color": "white"
             }
            },
            "header": {
             "fill": {
              "color": "#C8D4E3"
             },
             "line": {
              "color": "white"
             }
            },
            "type": "table"
           }
          ]
         },
         "layout": {
          "annotationdefaults": {
           "arrowcolor": "#2a3f5f",
           "arrowhead": 0,
           "arrowwidth": 1
          },
          "autotypenumbers": "strict",
          "coloraxis": {
           "colorbar": {
            "outlinewidth": 0,
            "ticks": ""
           }
          },
          "colorscale": {
           "diverging": [
            [
             0,
             "#8e0152"
            ],
            [
             0.1,
             "#c51b7d"
            ],
            [
             0.2,
             "#de77ae"
            ],
            [
             0.3,
             "#f1b6da"
            ],
            [
             0.4,
             "#fde0ef"
            ],
            [
             0.5,
             "#f7f7f7"
            ],
            [
             0.6,
             "#e6f5d0"
            ],
            [
             0.7,
             "#b8e186"
            ],
            [
             0.8,
             "#7fbc41"
            ],
            [
             0.9,
             "#4d9221"
            ],
            [
             1,
             "#276419"
            ]
           ],
           "sequential": [
            [
             0,
             "#0d0887"
            ],
            [
             0.1111111111111111,
             "#46039f"
            ],
            [
             0.2222222222222222,
             "#7201a8"
            ],
            [
             0.3333333333333333,
             "#9c179e"
            ],
            [
             0.4444444444444444,
             "#bd3786"
            ],
            [
             0.5555555555555556,
             "#d8576b"
            ],
            [
             0.6666666666666666,
             "#ed7953"
            ],
            [
             0.7777777777777778,
             "#fb9f3a"
            ],
            [
             0.8888888888888888,
             "#fdca26"
            ],
            [
             1,
             "#f0f921"
            ]
           ],
           "sequentialminus": [
            [
             0,
             "#0d0887"
            ],
            [
             0.1111111111111111,
             "#46039f"
            ],
            [
             0.2222222222222222,
             "#7201a8"
            ],
            [
             0.3333333333333333,
             "#9c179e"
            ],
            [
             0.4444444444444444,
             "#bd3786"
            ],
            [
             0.5555555555555556,
             "#d8576b"
            ],
            [
             0.6666666666666666,
             "#ed7953"
            ],
            [
             0.7777777777777778,
             "#fb9f3a"
            ],
            [
             0.8888888888888888,
             "#fdca26"
            ],
            [
             1,
             "#f0f921"
            ]
           ]
          },
          "colorway": [
           "#636efa",
           "#EF553B",
           "#00cc96",
           "#ab63fa",
           "#FFA15A",
           "#19d3f3",
           "#FF6692",
           "#B6E880",
           "#FF97FF",
           "#FECB52"
          ],
          "font": {
           "color": "#2a3f5f"
          },
          "geo": {
           "bgcolor": "white",
           "lakecolor": "white",
           "landcolor": "#E5ECF6",
           "showlakes": true,
           "showland": true,
           "subunitcolor": "white"
          },
          "hoverlabel": {
           "align": "left"
          },
          "hovermode": "closest",
          "mapbox": {
           "style": "light"
          },
          "paper_bgcolor": "white",
          "plot_bgcolor": "#E5ECF6",
          "polar": {
           "angularaxis": {
            "gridcolor": "white",
            "linecolor": "white",
            "ticks": ""
           },
           "bgcolor": "#E5ECF6",
           "radialaxis": {
            "gridcolor": "white",
            "linecolor": "white",
            "ticks": ""
           }
          },
          "scene": {
           "xaxis": {
            "backgroundcolor": "#E5ECF6",
            "gridcolor": "white",
            "gridwidth": 2,
            "linecolor": "white",
            "showbackground": true,
            "ticks": "",
            "zerolinecolor": "white"
           },
           "yaxis": {
            "backgroundcolor": "#E5ECF6",
            "gridcolor": "white",
            "gridwidth": 2,
            "linecolor": "white",
            "showbackground": true,
            "ticks": "",
            "zerolinecolor": "white"
           },
           "zaxis": {
            "backgroundcolor": "#E5ECF6",
            "gridcolor": "white",
            "gridwidth": 2,
            "linecolor": "white",
            "showbackground": true,
            "ticks": "",
            "zerolinecolor": "white"
           }
          },
          "shapedefaults": {
           "line": {
            "color": "#2a3f5f"
           }
          },
          "ternary": {
           "aaxis": {
            "gridcolor": "white",
            "linecolor": "white",
            "ticks": ""
           },
           "baxis": {
            "gridcolor": "white",
            "linecolor": "white",
            "ticks": ""
           },
           "bgcolor": "#E5ECF6",
           "caxis": {
            "gridcolor": "white",
            "linecolor": "white",
            "ticks": ""
           }
          },
          "title": {
           "x": 0.05
          },
          "xaxis": {
           "automargin": true,
           "gridcolor": "white",
           "linecolor": "white",
           "ticks": "",
           "title": {
            "standoff": 15
           },
           "zerolinecolor": "white",
           "zerolinewidth": 2
          },
          "yaxis": {
           "automargin": true,
           "gridcolor": "white",
           "linecolor": "white",
           "ticks": "",
           "title": {
            "standoff": 15
           },
           "zerolinecolor": "white",
           "zerolinewidth": 2
          }
         }
        },
        "title": {
         "text": "処理前後のコード数推移"
        },
        "xaxis": {
         "anchor": "y",
         "domain": [
          0,
          1
         ],
         "title": {
          "text": "年度"
         }
        },
        "yaxis": {
         "anchor": "x",
         "domain": [
          0,
          1
         ],
         "title": {
          "text": "コード数"
         }
        }
       }
      }
     },
     "metadata": {},
     "output_type": "display_data"
    }
   ],
   "source": [
    "#pd.set_option('display.max_rows', None)\n",
    "#pd.set_option('display.max_rows', 60)\n",
    "print(\"\\n処理済みデータをロードします。\")\n",
    "df_PROCESSED = df_type_change\n",
    "#display(df_PROCESSED)\n",
    "\n",
    "\n",
    "print(\"\\n企業コード数、エンドの数、列数をファイルごとにまとめます。\")\n",
    "df_file_info = pd.DataFrame([\n",
    "    {\"file\": filename, \"year\": year, \"code_counts\": df[\"コード\"].nunique(), \"year_counts\": df[\"年度\"].nunique(), \"column_counts\": df.columns.nunique()}\n",
    "    for (filename, year), df in df_PROCESSED.items()\n",
    "])\n",
    "#display(df_file_info)\n",
    "\n",
    "print(\"\\n各ファイルの年推移を可視化します。\")\n",
    "for col in [\"code_counts\", \"year_counts\", \"column_counts\"]:\n",
    "    fig = px.line(df_file_info, x=\"year\", y=col, color=\"file\", title=col)\n",
    "    #fig.show()\n",
    "\n",
    "print(\"\\n最新年のファイルに登録されている年度を表示します。\")\n",
    "df = df_PROCESSED[(settings[\"files\"][\"raw\"][0],2025)]\n",
    "#display(df[\"年度\"].unique())\n",
    "\n",
    "print(\"\\n最新年に登録されている過去の年度と過去のデータが同じか確認します\")\n",
    "print(\"まずは、年度を限定して、コードの一覧を見ます\")\n",
    "#display(df[df[\"年度\"]==\"2024/12\"][\"コード\"])\n",
    "\n",
    "print(\"\\nコードを限定し、過去のデータファイルと同じかどうか調べます。\")\n",
    "df = df_PROCESSED[(settings[\"files\"][\"raw\"][0],2025)]\n",
    "#display(df[df[\"コード\"]==\"130A\"])\n",
    "df = df_PROCESSED[(settings[\"files\"][\"raw\"][0],2024)]\n",
    "#display(df[df[\"コード\"]==\"130A\"])\n",
    "\n",
    "print(\"\\n最新年度にある過去のデータを取得し、過去のデータを更新します\")\n",
    "df_PROCESSED_AFTER = cu.update_duplicated(df_PROCESSED, 2025)\n",
    "\n",
    "print(\"\\n正しく処理が行われ、最新年に登録されている過去の年度と過去のデータが同じか確認します。\")\n",
    "df = df_PROCESSED_AFTER[(settings[\"files\"][\"raw\"][0],2025)]\n",
    "display(df[df[\"コード\"]==\"130A\"])\n",
    "df = df_PROCESSED_AFTER[(settings[\"files\"][\"raw\"][0],2024)]\n",
    "display(df[df[\"コード\"]==\"130A\"])\n",
    "\n",
    "print(\"\\n最後に最新年度にある過去のデータを消去します。\")\n",
    "cutoff_date = pd.to_datetime(\"2025-01-01\")\n",
    "df_PROCESSED_AFTER = {\n",
    "    (file, year): (df[df[\"年度\"] >= cutoff_date] if year == 2025 else df)\n",
    "    for (file, year), df in df_PROCESSED_AFTER.items()\n",
    "}\n",
    "\n",
    "print(\"\")\n",
    "print(\"各ファイルの年推移をもう一度可視化し、改善していることを確かめます。\")\n",
    "df_file_info_after = pd.DataFrame([\n",
    "    {\"file\": filename, \"year\": year, \"code_counts\": df[\"コード\"].nunique(), \"year_counts\": df[\"年度\"].nunique(), \"column_counts\": df.columns.nunique()}\n",
    "    for (filename, year), df in df_PROCESSED_AFTER.items()\n",
    "])\n",
    "df_file_info_after[\"区分\"] = \"処理後\"\n",
    "df_file_info_after = df_file_info_after.set_index([\"file\", \"year\"]).sort_index()\n",
    "\n",
    "df_file_info = pd.DataFrame([\n",
    "    {\"file\": filename, \"year\": year, \"code_counts\": df[\"コード\"].nunique(), \"year_counts\": df[\"年度\"].nunique(), \"column_counts\": df.columns.nunique()}\n",
    "    for (filename, year), df in df_PROCESSED.items()\n",
    "])\n",
    "df_file_info[\"区分\"] = \"処理前\"\n",
    "df_file_info = df_file_info.set_index([\"file\", \"year\"]).sort_index()\n",
    "df_compare = pd.concat([df_file_info,df_file_info_after]).reset_index()\n",
    "display(df_compare)\n",
    "fig = px.line(df_compare, x=\"year\", y=\"code_counts\", color=\"file\", line_dash=\"区分\", markers=True)\n",
    "fig.update_layout(title=\"処理前後のコード数推移\", xaxis_title=\"年度\", yaxis_title=\"コード数\")\n",
    "fig.show()"
   ]
  },
  {
   "cell_type": "markdown",
   "id": "9c9490d3",
   "metadata": {},
   "source": [
    "### 上場企業データのクリーニング\n",
    "\n",
    "<summary><b>結果</b></summary>\n",
    "\n",
    "</details>"
   ]
  },
  {
   "cell_type": "code",
   "execution_count": 28,
   "id": "38787973",
   "metadata": {},
   "outputs": [
    {
     "name": "stdout",
     "output_type": "stream",
     "text": [
      "\n",
      "ロードします。\n",
      "\n",
      "欠損値表現を確認します。\n",
      "\n",
      "読み込みで処理できなかった残りの文字列カラムに対し、replaceでクリーンアップ\n",
      "\n",
      "数値列を Int64 に変換します。\n",
      "\n",
      "列 '17業種コード' を int に変換中...\n",
      "\n",
      "列 '規模コード' を int に変換中...\n",
      "\n",
      "string 型に統一します。\n",
      "\n",
      "日付列を datetime に変換します。\n",
      "\n",
      "dtypeの最終チェックをします。\n",
      "\n",
      "欠損値表現を確認します。\n",
      "\n",
      "データ型を確認します。\n"
     ]
    }
   ],
   "source": [
    "print(\"\\nロードします。\")\n",
    "df_code_info = dl.load_on_startup(settings[\"data_path\"][\"reference\"], \"\", settings[\"files\"][\"reference\"],header=0,na_values=settings[\"na_values\"])\n",
    "\n",
    "dl.chk_file_missing(df_code_info)\n",
    "\n",
    "print(\"\\n欠損値表現を確認します。\")\n",
    "df_missing_values_expression = cu.chk_missing_values_expression(\n",
    "    df_code_info, filename=settings[\"files\"][\"reference\"], option_value=\"\"\n",
    ")\n",
    "#display(df_missing_values_expression)\n",
    "\n",
    "print(\"\\n読み込みで処理できなかった残りの文字列カラムに対し、replaceでクリーンアップ\")\n",
    "object_cols = df_code_info.select_dtypes(include='object').columns\n",
    "df_code_info.loc[:, object_cols] = df_code_info.loc[:, object_cols].replace(\"-\", np.nan)\n",
    "#display(df_code_info)\n",
    "\n",
    "print(\"\\n数値列を Int64 に変換します。\")\n",
    "numeric_cols = [\"17業種コード\", \"規模コード\"]\n",
    "df = df_code_info\n",
    "df = cu.convert_columns_type(df, numeric_cols, \"int\", True)\n",
    "\n",
    "print(\"\\nstring 型に統一します。\")\n",
    "df = df.assign(**{col: df[col].astype(\"string\") for col in df.columns if col not in numeric_cols})\n",
    "\n",
    "print(\"\\n日付列を datetime に変換します。\")\n",
    "df[\"日付\"] = pd.to_datetime(df[\"日付\"], errors=\"coerce\", format=\"%Y%m%d\")\n",
    "\n",
    "df_type_change = df\n",
    "\n",
    "print(\"\\ndtypeの最終チェックをします。\")\n",
    "cu.chk_finale_dtype(df_type_change, settings[\"dtype_chk\"][\"reference\"])\n",
    "\n",
    "print(\"\\n欠損値表現を確認します。\")\n",
    "df_missing_values_expression = cu.chk_missing_values_expression(df_type_change, filename=settings[\"files\"][\"reference\"], option_value=\"\")\n",
    "#display(df_missing_values_expression)\n",
    "\n",
    "print(\"\\nデータ型を確認します。\")\n",
    "df_type = cu.chk_dtype(df=df_type_change,filename=settings[\"files\"][\"reference\"],option_value=\"\",na_drop=True)\n",
    "#display(df_type)\n",
    "\n",
    "#display(df_type_change)"
   ]
  }
 ],
 "metadata": {
  "kernelspec": {
   "display_name": ".venv",
   "language": "python",
   "name": "python3"
  },
  "language_info": {
   "codemirror_mode": {
    "name": "ipython",
    "version": 3
   },
   "file_extension": ".py",
   "mimetype": "text/x-python",
   "name": "python",
   "nbconvert_exporter": "python",
   "pygments_lexer": "ipython3",
   "version": "3.13.7"
  }
 },
 "nbformat": 4,
 "nbformat_minor": 5
}
