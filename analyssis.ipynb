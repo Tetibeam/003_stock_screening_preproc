{
 "cells": [
  {
   "cell_type": "markdown",
   "metadata": {},
   "source": [
    "## 📊 分析の流れ\n",
    "<details>\n",
    "<summary><b>目次</b></summary>\n",
    "\n",
    "1. **データ読み込み**\n",
    "1. **欠損値処理**\n",
    "    - 欠損列処理  \n",
    "    - 欠損値処理  \n",
    "    - 異常値処理  \n",
    "1. **集計**\n",
    "1. **データ出力**\n",
    "</details>"
   ]
  },
  {
   "cell_type": "code",
   "execution_count": null,
   "metadata": {},
   "outputs": [],
   "source": [
    "import yaml\n",
    "import os\n",
    "import pandas as pd\n",
    "import numpy as np\n",
    "import plotly.express as px\n",
    "import plotly.graph_objects as go\n",
    "import src.config as cfg\n",
    "import src.data_loader as dl"
   ]
  },
  {
   "cell_type": "markdown",
   "metadata": {},
   "source": [
    "## 📥 設定値の読み込み\n",
    "yamlファイルから設定を読み込みます。また、プレースホルダやゼロをチェックします。\n"
   ]
  },
  {
   "cell_type": "code",
   "execution_count": null,
   "metadata": {},
   "outputs": [],
   "source": [
    "# 設定読み込み\n",
    "settings = cfg.load_settings(\"setting.yaml\")\n",
    "#display(settings)"
   ]
  },
  {
   "cell_type": "markdown",
   "metadata": {},
   "source": [
    "## 🔍 欠損列処理\n",
    "4つファイルの列が各年度で同じかを目視で確認しておきます。\n",
    "問題がある場合は処理します。\n",
    "<details><summary><b>結果</b></summary>\n",
    "すべてのファイルで同じ列が登録されています。問題ありません。\n",
    "\n",
    "- fy-balance-sheet.csv\n",
    "- fy-cash-flow-statement.csv\n",
    "- fy-profit-and-loss.csv\n",
    "- fy-stock-dividend.csv\n",
    "</details>\n"
   ]
  },
  {
   "cell_type": "code",
   "execution_count": null,
   "metadata": {},
   "outputs": [],
   "source": [
    "dl.load_yearly_header(settings[\"data_path\"], settings[\"years\"], settings[\"files\"])"
   ]
  },
  {
   "cell_type": "markdown",
   "metadata": {},
   "source": [
    "## 📥 欠損値表現のチェック\n",
    "プレースホルダやゼロをチェックし、NaNのデータを特定します。  \n",
    "NaNのデータは、setting.yamlの`na_values`で指定します。\n",
    "\n",
    "```python\n"
   ]
  },
  {
   "cell_type": "code",
   "execution_count": null,
   "metadata": {},
   "outputs": [],
   "source": [
    "# nan_valuesに\"\"だけ指定し、他のプレースホルダをチェックする\"\n",
    "df = dl.load_yearly_data(settings[\"data_path\"], settings[\"years\"], settings[\"files\"], na_values=[\"\"])\n",
    "#display(all_df)\n",
    "counts = []\n",
    "for filename in df:\n",
    "    for col in df[filename]:\n",
    "        #print(col)\n",
    "        ser = df[filename][col].fillna('')\n",
    "        counts.append(\n",
    "            (filename, col,\n",
    "            (ser == '-').sum(),\n",
    "            (ser == '0').sum(),\n",
    "            (ser == '—').sum(),\n",
    "            ser.str.contains('[A-Za-z]', na=False).sum())\n",
    "            )\n",
    "placeholder_counts = pd.DataFrame(counts, columns=[\"filename\",\"col\",\"ハイフン半角\",\"ゼロ\",\"ハイフン全角\",\"alphabet\"])\n",
    "#display(placeholder_counts)\n"
   ]
  },
  {
   "cell_type": "markdown",
   "metadata": {},
   "source": [
    "## 📥 データ読み込み"
   ]
  },
  {
   "cell_type": "code",
   "execution_count": null,
   "metadata": {},
   "outputs": [
    {
     "data": {
      "text/html": [
       "<div>\n",
       "<style scoped>\n",
       "    .dataframe tbody tr th:only-of-type {\n",
       "        vertical-align: middle;\n",
       "    }\n",
       "\n",
       "    .dataframe tbody tr th {\n",
       "        vertical-align: top;\n",
       "    }\n",
       "\n",
       "    .dataframe thead th {\n",
       "        text-align: right;\n",
       "    }\n",
       "</style>\n",
       "<table border=\"1\" class=\"dataframe\">\n",
       "  <thead>\n",
       "    <tr style=\"text-align: right;\">\n",
       "      <th></th>\n",
       "      <th>コード</th>\n",
       "      <th>年度</th>\n",
       "      <th>総資産</th>\n",
       "      <th>純資産</th>\n",
       "      <th>株主資本</th>\n",
       "      <th>利益剰余金</th>\n",
       "      <th>短期借入金</th>\n",
       "      <th>長期借入金</th>\n",
       "      <th>BPS</th>\n",
       "      <th>自己資本比率</th>\n",
       "    </tr>\n",
       "  </thead>\n",
       "  <tbody>\n",
       "    <tr>\n",
       "      <th>0</th>\n",
       "      <td>1301</td>\n",
       "      <td>2010/03</td>\n",
       "      <td>6.430100e+10</td>\n",
       "      <td>1.853800e+10</td>\n",
       "      <td>1.839100e+10</td>\n",
       "      <td>1.258900e+10</td>\n",
       "      <td>2.672400e+10</td>\n",
       "      <td>2.712000e+09</td>\n",
       "      <td>1651.87</td>\n",
       "      <td>28.1</td>\n",
       "    </tr>\n",
       "    <tr>\n",
       "      <th>1</th>\n",
       "      <td>1332</td>\n",
       "      <td>2010/03</td>\n",
       "      <td>3.839240e+11</td>\n",
       "      <td>7.956700e+10</td>\n",
       "      <td>6.976600e+10</td>\n",
       "      <td>3.253000e+10</td>\n",
       "      <td>1.146390e+11</td>\n",
       "      <td>1.069930e+11</td>\n",
       "      <td>231.06</td>\n",
       "      <td>16.0</td>\n",
       "    </tr>\n",
       "    <tr>\n",
       "      <th>2</th>\n",
       "      <td>1333</td>\n",
       "      <td>2010/03</td>\n",
       "      <td>1.136840e+11</td>\n",
       "      <td>2.443500e+10</td>\n",
       "      <td>NaN</td>\n",
       "      <td>NaN</td>\n",
       "      <td>NaN</td>\n",
       "      <td>NaN</td>\n",
       "      <td>NaN</td>\n",
       "      <td>21.5</td>\n",
       "    </tr>\n",
       "    <tr>\n",
       "      <th>3</th>\n",
       "      <td>1352</td>\n",
       "      <td>2010/03</td>\n",
       "      <td>1.196700e+10</td>\n",
       "      <td>5.439000e+09</td>\n",
       "      <td>5.268000e+09</td>\n",
       "      <td>1.561000e+09</td>\n",
       "      <td>NaN</td>\n",
       "      <td>4.970000e+08</td>\n",
       "      <td>628.95</td>\n",
       "      <td>44.0</td>\n",
       "    </tr>\n",
       "    <tr>\n",
       "      <th>4</th>\n",
       "      <td>1375</td>\n",
       "      <td>2010/03</td>\n",
       "      <td>3.208300e+10</td>\n",
       "      <td>6.318000e+09</td>\n",
       "      <td>6.307000e+09</td>\n",
       "      <td>3.056000e+09</td>\n",
       "      <td>NaN</td>\n",
       "      <td>7.786000e+09</td>\n",
       "      <td>1.62</td>\n",
       "      <td>19.0</td>\n",
       "    </tr>\n",
       "    <tr>\n",
       "      <th>...</th>\n",
       "      <td>...</td>\n",
       "      <td>...</td>\n",
       "      <td>...</td>\n",
       "      <td>...</td>\n",
       "      <td>...</td>\n",
       "      <td>...</td>\n",
       "      <td>...</td>\n",
       "      <td>...</td>\n",
       "      <td>...</td>\n",
       "      <td>...</td>\n",
       "    </tr>\n",
       "    <tr>\n",
       "      <th>995</th>\n",
       "      <td>3952</td>\n",
       "      <td>2010/03</td>\n",
       "      <td>9.146018e+09</td>\n",
       "      <td>6.999483e+09</td>\n",
       "      <td>6.991998e+09</td>\n",
       "      <td>5.001907e+09</td>\n",
       "      <td>NaN</td>\n",
       "      <td>NaN</td>\n",
       "      <td>1339.61</td>\n",
       "      <td>76.5</td>\n",
       "    </tr>\n",
       "    <tr>\n",
       "      <th>996</th>\n",
       "      <td>3953</td>\n",
       "      <td>2010/03</td>\n",
       "      <td>5.970935e+09</td>\n",
       "      <td>4.057037e+09</td>\n",
       "      <td>4.052110e+09</td>\n",
       "      <td>2.972933e+09</td>\n",
       "      <td>NaN</td>\n",
       "      <td>NaN</td>\n",
       "      <td>830.68</td>\n",
       "      <td>67.9</td>\n",
       "    </tr>\n",
       "    <tr>\n",
       "      <th>997</th>\n",
       "      <td>3954</td>\n",
       "      <td>2010/03</td>\n",
       "      <td>1.912368e+10</td>\n",
       "      <td>8.663503e+09</td>\n",
       "      <td>7.800986e+09</td>\n",
       "      <td>6.875919e+09</td>\n",
       "      <td>2.826280e+09</td>\n",
       "      <td>8.080000e+08</td>\n",
       "      <td>1888.95</td>\n",
       "      <td>44.0</td>\n",
       "    </tr>\n",
       "    <tr>\n",
       "      <th>998</th>\n",
       "      <td>3955</td>\n",
       "      <td>2010/01</td>\n",
       "      <td>2.168600e+10</td>\n",
       "      <td>1.166000e+10</td>\n",
       "      <td>1.160700e+10</td>\n",
       "      <td>9.071000e+09</td>\n",
       "      <td>1.980000e+09</td>\n",
       "      <td>1.304000e+09</td>\n",
       "      <td>1084.50</td>\n",
       "      <td>53.7</td>\n",
       "    </tr>\n",
       "    <tr>\n",
       "      <th>999</th>\n",
       "      <td>3956</td>\n",
       "      <td>2010/03</td>\n",
       "      <td>2.866822e+09</td>\n",
       "      <td>1.262230e+09</td>\n",
       "      <td>1.265058e+09</td>\n",
       "      <td>6.930280e+08</td>\n",
       "      <td>NaN</td>\n",
       "      <td>5.000000e+06</td>\n",
       "      <td>210.37</td>\n",
       "      <td>44.0</td>\n",
       "    </tr>\n",
       "  </tbody>\n",
       "</table>\n",
       "<p>1000 rows × 10 columns</p>\n",
       "</div>"
      ],
      "text/plain": [
       "      コード       年度           総資産           純資産          株主資本         利益剰余金  \\\n",
       "0    1301  2010/03  6.430100e+10  1.853800e+10  1.839100e+10  1.258900e+10   \n",
       "1    1332  2010/03  3.839240e+11  7.956700e+10  6.976600e+10  3.253000e+10   \n",
       "2    1333  2010/03  1.136840e+11  2.443500e+10           NaN           NaN   \n",
       "3    1352  2010/03  1.196700e+10  5.439000e+09  5.268000e+09  1.561000e+09   \n",
       "4    1375  2010/03  3.208300e+10  6.318000e+09  6.307000e+09  3.056000e+09   \n",
       "..    ...      ...           ...           ...           ...           ...   \n",
       "995  3952  2010/03  9.146018e+09  6.999483e+09  6.991998e+09  5.001907e+09   \n",
       "996  3953  2010/03  5.970935e+09  4.057037e+09  4.052110e+09  2.972933e+09   \n",
       "997  3954  2010/03  1.912368e+10  8.663503e+09  7.800986e+09  6.875919e+09   \n",
       "998  3955  2010/01  2.168600e+10  1.166000e+10  1.160700e+10  9.071000e+09   \n",
       "999  3956  2010/03  2.866822e+09  1.262230e+09  1.265058e+09  6.930280e+08   \n",
       "\n",
       "            短期借入金         長期借入金      BPS  自己資本比率  \n",
       "0    2.672400e+10  2.712000e+09  1651.87    28.1  \n",
       "1    1.146390e+11  1.069930e+11   231.06    16.0  \n",
       "2             NaN           NaN      NaN    21.5  \n",
       "3             NaN  4.970000e+08   628.95    44.0  \n",
       "4             NaN  7.786000e+09     1.62    19.0  \n",
       "..            ...           ...      ...     ...  \n",
       "995           NaN           NaN  1339.61    76.5  \n",
       "996           NaN           NaN   830.68    67.9  \n",
       "997  2.826280e+09  8.080000e+08  1888.95    44.0  \n",
       "998  1.980000e+09  1.304000e+09  1084.50    53.7  \n",
       "999           NaN  5.000000e+06   210.37    44.0  \n",
       "\n",
       "[1000 rows x 10 columns]"
      ]
     },
     "metadata": {},
     "output_type": "display_data"
    }
   ],
   "source": [
    "all_df = dl.load_yearly_data(settings[\"data_path\"], settings[\"years\"], settings[\"files\"], settings[\"na_values\"])\n",
    "#display(all_df[settings[\"files\"][0]].head(1000))"
   ]
  },
  {
   "cell_type": "markdown",
   "metadata": {},
   "source": [
    "## 🧹 欠損値処理\n",
    "ここでは、後の分析・スクリーニングの処理を適切に設計するため、欠損値の傾向を確認します。  \n",
    "⚠️ **注意※** csvファイルには欠損値に\"-\"が入っているため、NaNに置き換えて読み込みます。\n",
    "<details><summary><b>分析内容</b></summary>\n",
    "\n",
    "- 列ごとの欠損値の数・割合を確認する\n",
    "- 年ごとの欠損率の傾向を確認\n",
    "- 全企業の平均欠損率の分布から特徴を詳細分析\n",
    "<br>\n",
    "</details>\n",
    "<details><summary><b>結果と考察</b></summary>\n",
    "\n",
    "- fy-balance-sheet.csv\n",
    "- fy-cash-flow-statement.csv\n",
    "- fy-profit-and-loss.csv\n",
    "- fy-stock-dividend.csv\n",
    "</details>\n"
   ]
  },
  {
   "cell_type": "markdown",
   "metadata": {},
   "source": [
    "### 列ごとの欠損値の割合を確認する"
   ]
  },
  {
   "cell_type": "code",
   "execution_count": null,
   "metadata": {},
   "outputs": [],
   "source": [
    "\n",
    "missing_column_df = {}\n",
    "for filename in files:\n",
    "    if filename not in missing_column_df:\n",
    "        missing_column_df[filename] = pd.DataFrame()\n",
    "    missing_column_df[filename] = all_df[filename].isna().mean()\n",
    "    fig = px.bar(missing_column_df[filename], x=missing_column_df[filename].index,\n",
    "                    y=missing_column_df[filename].values)\n",
    "    fig.show()"
   ]
  },
  {
   "cell_type": "markdown",
   "metadata": {},
   "source": [
    "### 年ごとの欠損率の傾向を確認（折れ線グラフ）"
   ]
  },
  {
   "cell_type": "code",
   "execution_count": null,
   "metadata": {},
   "outputs": [
    {
     "data": {
      "text/html": [
       "<div>\n",
       "<style scoped>\n",
       "    .dataframe tbody tr th:only-of-type {\n",
       "        vertical-align: middle;\n",
       "    }\n",
       "\n",
       "    .dataframe tbody tr th {\n",
       "        vertical-align: top;\n",
       "    }\n",
       "\n",
       "    .dataframe thead th {\n",
       "        text-align: right;\n",
       "    }\n",
       "</style>\n",
       "<table border=\"1\" class=\"dataframe\">\n",
       "  <thead>\n",
       "    <tr style=\"text-align: right;\">\n",
       "      <th></th>\n",
       "      <th>年度_年</th>\n",
       "      <th>総資産</th>\n",
       "      <th>純資産</th>\n",
       "      <th>株主資本</th>\n",
       "      <th>利益剰余金</th>\n",
       "      <th>短期借入金</th>\n",
       "      <th>長期借入金</th>\n",
       "      <th>BPS</th>\n",
       "      <th>自己資本比率</th>\n",
       "    </tr>\n",
       "  </thead>\n",
       "  <tbody>\n",
       "    <tr>\n",
       "      <th>0</th>\n",
       "      <td>2010</td>\n",
       "      <td>0.009102</td>\n",
       "      <td>0.009102</td>\n",
       "      <td>0.046682</td>\n",
       "      <td>0.056078</td>\n",
       "      <td>0.388139</td>\n",
       "      <td>0.405461</td>\n",
       "      <td>0.051674</td>\n",
       "      <td>0.010570</td>\n",
       "    </tr>\n",
       "    <tr>\n",
       "      <th>1</th>\n",
       "      <td>2011</td>\n",
       "      <td>0.012240</td>\n",
       "      <td>0.008540</td>\n",
       "      <td>0.059209</td>\n",
       "      <td>0.067179</td>\n",
       "      <td>0.395104</td>\n",
       "      <td>0.408767</td>\n",
       "      <td>0.062055</td>\n",
       "      <td>0.013664</td>\n",
       "    </tr>\n",
       "    <tr>\n",
       "      <th>2</th>\n",
       "      <td>2012</td>\n",
       "      <td>0.012538</td>\n",
       "      <td>0.008916</td>\n",
       "      <td>0.069936</td>\n",
       "      <td>0.079131</td>\n",
       "      <td>0.396768</td>\n",
       "      <td>0.407913</td>\n",
       "      <td>0.071329</td>\n",
       "      <td>0.013931</td>\n",
       "    </tr>\n",
       "    <tr>\n",
       "      <th>3</th>\n",
       "      <td>2013</td>\n",
       "      <td>0.013591</td>\n",
       "      <td>0.000815</td>\n",
       "      <td>0.068497</td>\n",
       "      <td>0.081816</td>\n",
       "      <td>0.403914</td>\n",
       "      <td>0.402011</td>\n",
       "      <td>0.068769</td>\n",
       "      <td>0.013862</td>\n",
       "    </tr>\n",
       "    <tr>\n",
       "      <th>4</th>\n",
       "      <td>2014</td>\n",
       "      <td>0.008466</td>\n",
       "      <td>0.000794</td>\n",
       "      <td>0.065608</td>\n",
       "      <td>0.080688</td>\n",
       "      <td>0.410847</td>\n",
       "      <td>0.395238</td>\n",
       "      <td>0.065873</td>\n",
       "      <td>0.008995</td>\n",
       "    </tr>\n",
       "    <tr>\n",
       "      <th>5</th>\n",
       "      <td>2015</td>\n",
       "      <td>0.012857</td>\n",
       "      <td>0.001286</td>\n",
       "      <td>0.070198</td>\n",
       "      <td>0.091026</td>\n",
       "      <td>0.418102</td>\n",
       "      <td>0.396760</td>\n",
       "      <td>0.070198</td>\n",
       "      <td>0.013371</td>\n",
       "    </tr>\n",
       "    <tr>\n",
       "      <th>6</th>\n",
       "      <td>2016</td>\n",
       "      <td>0.010003</td>\n",
       "      <td>0.002001</td>\n",
       "      <td>0.069767</td>\n",
       "      <td>0.098525</td>\n",
       "      <td>0.432858</td>\n",
       "      <td>0.395599</td>\n",
       "      <td>0.069767</td>\n",
       "      <td>0.010753</td>\n",
       "    </tr>\n",
       "    <tr>\n",
       "      <th>7</th>\n",
       "      <td>2017</td>\n",
       "      <td>0.011149</td>\n",
       "      <td>0.000242</td>\n",
       "      <td>0.073921</td>\n",
       "      <td>0.107610</td>\n",
       "      <td>0.441105</td>\n",
       "      <td>0.397479</td>\n",
       "      <td>0.073921</td>\n",
       "      <td>0.012603</td>\n",
       "    </tr>\n",
       "    <tr>\n",
       "      <th>8</th>\n",
       "      <td>2018</td>\n",
       "      <td>0.010407</td>\n",
       "      <td>0.000237</td>\n",
       "      <td>0.068827</td>\n",
       "      <td>0.073794</td>\n",
       "      <td>0.419820</td>\n",
       "      <td>0.373699</td>\n",
       "      <td>0.069300</td>\n",
       "      <td>0.011116</td>\n",
       "    </tr>\n",
       "    <tr>\n",
       "      <th>9</th>\n",
       "      <td>2019</td>\n",
       "      <td>0.008153</td>\n",
       "      <td>0.000466</td>\n",
       "      <td>0.062194</td>\n",
       "      <td>0.065921</td>\n",
       "      <td>0.400186</td>\n",
       "      <td>0.360820</td>\n",
       "      <td>0.062194</td>\n",
       "      <td>0.008852</td>\n",
       "    </tr>\n",
       "    <tr>\n",
       "      <th>10</th>\n",
       "      <td>2020</td>\n",
       "      <td>0.008657</td>\n",
       "      <td>0.000702</td>\n",
       "      <td>0.043051</td>\n",
       "      <td>0.046327</td>\n",
       "      <td>0.383014</td>\n",
       "      <td>0.338091</td>\n",
       "      <td>0.043285</td>\n",
       "      <td>0.008891</td>\n",
       "    </tr>\n",
       "    <tr>\n",
       "      <th>11</th>\n",
       "      <td>2021</td>\n",
       "      <td>0.007102</td>\n",
       "      <td>0.000000</td>\n",
       "      <td>0.022254</td>\n",
       "      <td>0.025805</td>\n",
       "      <td>0.383523</td>\n",
       "      <td>0.309896</td>\n",
       "      <td>0.022727</td>\n",
       "      <td>0.007339</td>\n",
       "    </tr>\n",
       "    <tr>\n",
       "      <th>12</th>\n",
       "      <td>2022</td>\n",
       "      <td>0.001684</td>\n",
       "      <td>0.000000</td>\n",
       "      <td>0.004571</td>\n",
       "      <td>0.007457</td>\n",
       "      <td>0.382247</td>\n",
       "      <td>0.302382</td>\n",
       "      <td>0.005773</td>\n",
       "      <td>0.001684</td>\n",
       "    </tr>\n",
       "    <tr>\n",
       "      <th>13</th>\n",
       "      <td>2023</td>\n",
       "      <td>0.000000</td>\n",
       "      <td>0.000000</td>\n",
       "      <td>0.000000</td>\n",
       "      <td>0.003561</td>\n",
       "      <td>0.384615</td>\n",
       "      <td>0.308879</td>\n",
       "      <td>0.000000</td>\n",
       "      <td>0.000000</td>\n",
       "    </tr>\n",
       "    <tr>\n",
       "      <th>14</th>\n",
       "      <td>2024</td>\n",
       "      <td>0.000000</td>\n",
       "      <td>0.000000</td>\n",
       "      <td>0.000000</td>\n",
       "      <td>0.003117</td>\n",
       "      <td>0.392739</td>\n",
       "      <td>0.305647</td>\n",
       "      <td>0.000000</td>\n",
       "      <td>0.000000</td>\n",
       "    </tr>\n",
       "    <tr>\n",
       "      <th>15</th>\n",
       "      <td>2025</td>\n",
       "      <td>0.000000</td>\n",
       "      <td>0.000000</td>\n",
       "      <td>0.000792</td>\n",
       "      <td>0.002772</td>\n",
       "      <td>0.346535</td>\n",
       "      <td>0.303762</td>\n",
       "      <td>0.000792</td>\n",
       "      <td>0.000792</td>\n",
       "    </tr>\n",
       "  </tbody>\n",
       "</table>\n",
       "</div>"
      ],
      "text/plain": [
       "    年度_年       総資産       純資産      株主資本     利益剰余金     短期借入金     長期借入金  \\\n",
       "0   2010  0.009102  0.009102  0.046682  0.056078  0.388139  0.405461   \n",
       "1   2011  0.012240  0.008540  0.059209  0.067179  0.395104  0.408767   \n",
       "2   2012  0.012538  0.008916  0.069936  0.079131  0.396768  0.407913   \n",
       "3   2013  0.013591  0.000815  0.068497  0.081816  0.403914  0.402011   \n",
       "4   2014  0.008466  0.000794  0.065608  0.080688  0.410847  0.395238   \n",
       "5   2015  0.012857  0.001286  0.070198  0.091026  0.418102  0.396760   \n",
       "6   2016  0.010003  0.002001  0.069767  0.098525  0.432858  0.395599   \n",
       "7   2017  0.011149  0.000242  0.073921  0.107610  0.441105  0.397479   \n",
       "8   2018  0.010407  0.000237  0.068827  0.073794  0.419820  0.373699   \n",
       "9   2019  0.008153  0.000466  0.062194  0.065921  0.400186  0.360820   \n",
       "10  2020  0.008657  0.000702  0.043051  0.046327  0.383014  0.338091   \n",
       "11  2021  0.007102  0.000000  0.022254  0.025805  0.383523  0.309896   \n",
       "12  2022  0.001684  0.000000  0.004571  0.007457  0.382247  0.302382   \n",
       "13  2023  0.000000  0.000000  0.000000  0.003561  0.384615  0.308879   \n",
       "14  2024  0.000000  0.000000  0.000000  0.003117  0.392739  0.305647   \n",
       "15  2025  0.000000  0.000000  0.000792  0.002772  0.346535  0.303762   \n",
       "\n",
       "         BPS    自己資本比率  \n",
       "0   0.051674  0.010570  \n",
       "1   0.062055  0.013664  \n",
       "2   0.071329  0.013931  \n",
       "3   0.068769  0.013862  \n",
       "4   0.065873  0.008995  \n",
       "5   0.070198  0.013371  \n",
       "6   0.069767  0.010753  \n",
       "7   0.073921  0.012603  \n",
       "8   0.069300  0.011116  \n",
       "9   0.062194  0.008852  \n",
       "10  0.043285  0.008891  \n",
       "11  0.022727  0.007339  \n",
       "12  0.005773  0.001684  \n",
       "13  0.000000  0.000000  \n",
       "14  0.000000  0.000000  \n",
       "15  0.000792  0.000792  "
      ]
     },
     "metadata": {},
     "output_type": "display_data"
    },
    {
     "data": {
      "application/vnd.plotly.v1+json": {
       "config": {
        "plotlyServerURL": "https://plot.ly"
       },
       "data": [
        {
         "hovertemplate": "variable=総資産<br>年度_年=%{x}<br>value=%{y}<extra></extra>",
         "legendgroup": "総資産",
         "line": {
          "color": "#636efa",
          "dash": "solid"
         },
         "marker": {
          "symbol": "circle"
         },
         "mode": "lines+markers",
         "name": "総資産",
         "orientation": "v",
         "showlegend": true,
         "type": "scatter",
         "x": {
          "bdata": "2gfbB9wH3QfeB98H4AfhB+IH4wfkB+UH5gfnB+gH6Qc=",
          "dtype": "i2"
         },
         "xaxis": "x",
         "y": {
          "bdata": "OoBdHtqjgj9T2qycahGJPyhe+K6vrYk/A5GkHWrViz9nFQG8alaBP/y3JTOnVIo/gpGB6DB8hD9OtH1FMNWGP6tAVaAqUIU/iwngN2uygD92aFhOwrqBPxdddNFFF30/pwYkA9GWWz8AAAAAAAAAAAAAAAAAAAAAAAAAAAAAAAA=",
          "dtype": "f8"
         },
         "yaxis": "y"
        },
        {
         "hovertemplate": "variable=純資産<br>年度_年=%{x}<br>value=%{y}<extra></extra>",
         "legendgroup": "純資産",
         "line": {
          "color": "#EF553B",
          "dash": "solid"
         },
         "marker": {
          "symbol": "circle"
         },
         "mode": "lines+markers",
         "name": "純資産",
         "orientation": "v",
         "showlegend": true,
         "type": "scatter",
         "x": {
          "bdata": "2gfbB9wH3QfeB98H4AfhB+IH4wfkB+UH5gfnB+gH6Qc=",
          "dtype": "i2"
         },
         "xaxis": "x",
         "y": {
          "bdata": "OoBdHtqjgj+r605tRH2BP0qYVRCfQoI/QWIE32W4Sj8aoAEaoAFKPzCThMKFEFU/z9qaU1pjYD/RoZiub8QvP/gAfAA+AC8/TshtgxSIPj9vjtOqHgBHPwAAAAAAAAAAAAAAAAAAAAAAAAAAAAAAAAAAAAAAAAAAAAAAAAAAAAA=",
          "dtype": "f8"
         },
         "yaxis": "y"
        },
        {
         "hovertemplate": "variable=株主資本<br>年度_年=%{x}<br>value=%{y}<extra></extra>",
         "legendgroup": "株主資本",
         "line": {
          "color": "#00cc96",
          "dash": "solid"
         },
         "marker": {
          "symbol": "circle"
         },
         "mode": "lines+markers",
         "name": "株主資本",
         "orientation": "v",
         "showlegend": true,
         "type": "scatter",
         "x": {
          "bdata": "2gfbB9wH3QfeB98H4AfhB+IH4wfkB+UH5gfnB+gH6Qc=",
          "dtype": "i2"
         },
         "xaxis": "x",
         "y": {
          "bdata": "fCYA6b7mpz+gune9mFCuP1DsA/VR57E/euBa2gKJsT+7DCFmt8uwP/iz8ul++LE/d8QdcUfcsT9l7IGHhOyyP416Rj2jnrE/6X8TZe3Xrz8rE2AOyAqmP8omm2yyyZY/qE2PHaC4cj8AAAAAAAAAAAAAAAAAAAAA+j+dJXH0ST8=",
          "dtype": "f8"
         },
         "yaxis": "y"
        },
        {
         "hovertemplate": "variable=利益剰余金<br>年度_年=%{x}<br>value=%{y}<extra></extra>",
         "legendgroup": "利益剰余金",
         "line": {
          "color": "#ab63fa",
          "dash": "solid"
         },
         "marker": {
          "symbol": "circle"
         },
         "mode": "lines+markers",
         "name": "利益剰余金",
         "orientation": "v",
         "showlegend": true,
         "type": "scatter",
         "x": {
          "bdata": "2gfbB9wH3QfeB98H4AfhB+IH4wfkB+UH5gfnB+gH6Qc=",
          "dtype": "i2"
         },
         "xaxis": "x",
         "y": {
          "bdata": "F1haATG2rD/giXxrpTKxP/L0HnboQbQ/r28l2t/xtD9/Sv0p9ae0Pwd2L196Tbc/wlSsBOk4uT9TXGjZWIy7P5eQS8gl5LI/Ny6lVjfgsD/jKiqgH7inP22yySabbJo/pplV+ouLfj/I0oFyfSxtP0WEaQTHiGk/+pfpAOO1Zj8=",
          "dtype": "f8"
         },
         "yaxis": "y"
        },
        {
         "hovertemplate": "variable=短期借入金<br>年度_年=%{x}<br>value=%{y}<extra></extra>",
         "legendgroup": "短期借入金",
         "line": {
          "color": "#FFA15A",
          "dash": "solid"
         },
         "marker": {
          "symbol": "circle"
         },
         "mode": "lines+markers",
         "name": "短期借入金",
         "orientation": "v",
         "showlegend": true,
         "type": "scatter",
         "x": {
          "bdata": "2gfbB9wH3QfeB98H4AfhB+IH4wfkB+UH5gfnB+gH6Qc=",
          "dtype": "i2"
         },
         "xaxis": "x",
         "y": {
          "bdata": "LMTBMUPX2D+sowreYUnZP8YHtzKlZNk/uT0XjrrZ2T+1pKBfT0vaPy02GVEwwto/YQXU8PKz2z/No6g/ETvcP1d5q7xV3to/x1dANaec2T/4zLlZS4PYP4wuuuiii9g/5vHIVbt22D/ZiZ3YiZ3YPzTeV+ijItk/ah7krp8t1j8=",
          "dtype": "f8"
         },
         "yaxis": "y"
        },
        {
         "hovertemplate": "variable=長期借入金<br>年度_年=%{x}<br>value=%{y}<extra></extra>",
         "legendgroup": "長期借入金",
         "line": {
          "color": "#19d3f3",
          "dash": "solid"
         },
         "marker": {
          "symbol": "circle"
         },
         "mode": "lines+markers",
         "name": "長期借入金",
         "orientation": "v",
         "showlegend": true,
         "type": "scatter",
         "x": {
          "bdata": "2gfbB9wH3QfeB98H4AfhB+IH4wfkB+UH5gfnB+gH6Qc=",
          "dtype": "i2"
         },
         "xaxis": "x",
         "y": {
          "bdata": "m41efRLz2T8OyYHjPinaP7lfWmk/G9o/m7g9F4662T+5lEu5lEvZPwg3fHGEZNk/Cr0pDH5R2T+UOdBuTXDZP7+qX9Wv6tc/oOjng6wX1z8qW1+ER6PVP1VVVVVV1dM/YY5YCjha0z+gkf0RrsTTP4Kou2e5j9M/q4jsv9dw0z8=",
          "dtype": "f8"
         },
         "yaxis": "y"
        },
        {
         "hovertemplate": "variable=BPS<br>年度_年=%{x}<br>value=%{y}<extra></extra>",
         "legendgroup": "BPS",
         "line": {
          "color": "#FF6692",
          "dash": "solid"
         },
         "marker": {
          "symbol": "circle"
         },
         "mode": "lines+markers",
         "name": "BPS",
         "orientation": "v",
         "showlegend": true,
         "type": "scatter",
         "x": {
          "bdata": "2gfbB9wH3QfeB98H4AfhB+IH4wfkB+UH5gfnB+gH6Qc=",
          "dtype": "i2"
         },
         "xaxis": "x",
         "y": {
          "bdata": "1hDwhfN0qj+Zo5PGs8WvP0qYVRCfQrI/Z+NEHtOasT/RDd3QDd2wP/iz8ul++LE/d8QdcUfcsT9l7IGHhOyyP472RnujvbE/6X8TZe3Xrz+Tgu7hcimmP0YXXXTRRZc//ZeMudeldz8AAAAAAAAAAAAAAAAAAAAA+j+dJXH0ST8=",
          "dtype": "f8"
         },
         "yaxis": "y"
        },
        {
         "hovertemplate": "variable=自己資本比率<br>年度_年=%{x}<br>value=%{y}<extra></extra>",
         "legendgroup": "自己資本比率",
         "line": {
          "color": "#B6E880",
          "dash": "solid"
         },
         "marker": {
          "symbol": "circle"
         },
         "mode": "lines+markers",
         "name": "自己資本比率",
         "orientation": "v",
         "showlegend": true,
         "type": "scatter",
         "x": {
          "bdata": "2gfbB9wH3QfeB98H4AfhB+IH4wfkB+UH5gfnB+gH6Qc=",
          "dtype": "i2"
         },
         "xaxis": "x",
         "y": {
          "bdata": "O9+VbYGlhT9FrOSuoPuLP/O9hYkYiIw/Zaj0POxjjD+9JsFn0WuCPyWM33xHYos/BhZYYIEFhj95A9y9ms+JP7YQW4gtxIY/7i4JLswggj8YJpKcbTWCPxA++OCDD34/pwYkA9GWWz8AAAAAAAAAAAAAAAAAAAAA+j+dJXH0ST8=",
          "dtype": "f8"
         },
         "yaxis": "y"
        }
       ],
       "layout": {
        "legend": {
         "title": {
          "text": "variable"
         },
         "tracegroupgap": 0
        },
        "template": {
         "data": {
          "bar": [
           {
            "error_x": {
             "color": "#2a3f5f"
            },
            "error_y": {
             "color": "#2a3f5f"
            },
            "marker": {
             "line": {
              "color": "#E5ECF6",
              "width": 0.5
             },
             "pattern": {
              "fillmode": "overlay",
              "size": 10,
              "solidity": 0.2
             }
            },
            "type": "bar"
           }
          ],
          "barpolar": [
           {
            "marker": {
             "line": {
              "color": "#E5ECF6",
              "width": 0.5
             },
             "pattern": {
              "fillmode": "overlay",
              "size": 10,
              "solidity": 0.2
             }
            },
            "type": "barpolar"
           }
          ],
          "carpet": [
           {
            "aaxis": {
             "endlinecolor": "#2a3f5f",
             "gridcolor": "white",
             "linecolor": "white",
             "minorgridcolor": "white",
             "startlinecolor": "#2a3f5f"
            },
            "baxis": {
             "endlinecolor": "#2a3f5f",
             "gridcolor": "white",
             "linecolor": "white",
             "minorgridcolor": "white",
             "startlinecolor": "#2a3f5f"
            },
            "type": "carpet"
           }
          ],
          "choropleth": [
           {
            "colorbar": {
             "outlinewidth": 0,
             "ticks": ""
            },
            "type": "choropleth"
           }
          ],
          "contour": [
           {
            "colorbar": {
             "outlinewidth": 0,
             "ticks": ""
            },
            "colorscale": [
             [
              0,
              "#0d0887"
             ],
             [
              0.1111111111111111,
              "#46039f"
             ],
             [
              0.2222222222222222,
              "#7201a8"
             ],
             [
              0.3333333333333333,
              "#9c179e"
             ],
             [
              0.4444444444444444,
              "#bd3786"
             ],
             [
              0.5555555555555556,
              "#d8576b"
             ],
             [
              0.6666666666666666,
              "#ed7953"
             ],
             [
              0.7777777777777778,
              "#fb9f3a"
             ],
             [
              0.8888888888888888,
              "#fdca26"
             ],
             [
              1,
              "#f0f921"
             ]
            ],
            "type": "contour"
           }
          ],
          "contourcarpet": [
           {
            "colorbar": {
             "outlinewidth": 0,
             "ticks": ""
            },
            "type": "contourcarpet"
           }
          ],
          "heatmap": [
           {
            "colorbar": {
             "outlinewidth": 0,
             "ticks": ""
            },
            "colorscale": [
             [
              0,
              "#0d0887"
             ],
             [
              0.1111111111111111,
              "#46039f"
             ],
             [
              0.2222222222222222,
              "#7201a8"
             ],
             [
              0.3333333333333333,
              "#9c179e"
             ],
             [
              0.4444444444444444,
              "#bd3786"
             ],
             [
              0.5555555555555556,
              "#d8576b"
             ],
             [
              0.6666666666666666,
              "#ed7953"
             ],
             [
              0.7777777777777778,
              "#fb9f3a"
             ],
             [
              0.8888888888888888,
              "#fdca26"
             ],
             [
              1,
              "#f0f921"
             ]
            ],
            "type": "heatmap"
           }
          ],
          "histogram": [
           {
            "marker": {
             "pattern": {
              "fillmode": "overlay",
              "size": 10,
              "solidity": 0.2
             }
            },
            "type": "histogram"
           }
          ],
          "histogram2d": [
           {
            "colorbar": {
             "outlinewidth": 0,
             "ticks": ""
            },
            "colorscale": [
             [
              0,
              "#0d0887"
             ],
             [
              0.1111111111111111,
              "#46039f"
             ],
             [
              0.2222222222222222,
              "#7201a8"
             ],
             [
              0.3333333333333333,
              "#9c179e"
             ],
             [
              0.4444444444444444,
              "#bd3786"
             ],
             [
              0.5555555555555556,
              "#d8576b"
             ],
             [
              0.6666666666666666,
              "#ed7953"
             ],
             [
              0.7777777777777778,
              "#fb9f3a"
             ],
             [
              0.8888888888888888,
              "#fdca26"
             ],
             [
              1,
              "#f0f921"
             ]
            ],
            "type": "histogram2d"
           }
          ],
          "histogram2dcontour": [
           {
            "colorbar": {
             "outlinewidth": 0,
             "ticks": ""
            },
            "colorscale": [
             [
              0,
              "#0d0887"
             ],
             [
              0.1111111111111111,
              "#46039f"
             ],
             [
              0.2222222222222222,
              "#7201a8"
             ],
             [
              0.3333333333333333,
              "#9c179e"
             ],
             [
              0.4444444444444444,
              "#bd3786"
             ],
             [
              0.5555555555555556,
              "#d8576b"
             ],
             [
              0.6666666666666666,
              "#ed7953"
             ],
             [
              0.7777777777777778,
              "#fb9f3a"
             ],
             [
              0.8888888888888888,
              "#fdca26"
             ],
             [
              1,
              "#f0f921"
             ]
            ],
            "type": "histogram2dcontour"
           }
          ],
          "mesh3d": [
           {
            "colorbar": {
             "outlinewidth": 0,
             "ticks": ""
            },
            "type": "mesh3d"
           }
          ],
          "parcoords": [
           {
            "line": {
             "colorbar": {
              "outlinewidth": 0,
              "ticks": ""
             }
            },
            "type": "parcoords"
           }
          ],
          "pie": [
           {
            "automargin": true,
            "type": "pie"
           }
          ],
          "scatter": [
           {
            "fillpattern": {
             "fillmode": "overlay",
             "size": 10,
             "solidity": 0.2
            },
            "type": "scatter"
           }
          ],
          "scatter3d": [
           {
            "line": {
             "colorbar": {
              "outlinewidth": 0,
              "ticks": ""
             }
            },
            "marker": {
             "colorbar": {
              "outlinewidth": 0,
              "ticks": ""
             }
            },
            "type": "scatter3d"
           }
          ],
          "scattercarpet": [
           {
            "marker": {
             "colorbar": {
              "outlinewidth": 0,
              "ticks": ""
             }
            },
            "type": "scattercarpet"
           }
          ],
          "scattergeo": [
           {
            "marker": {
             "colorbar": {
              "outlinewidth": 0,
              "ticks": ""
             }
            },
            "type": "scattergeo"
           }
          ],
          "scattergl": [
           {
            "marker": {
             "colorbar": {
              "outlinewidth": 0,
              "ticks": ""
             }
            },
            "type": "scattergl"
           }
          ],
          "scattermap": [
           {
            "marker": {
             "colorbar": {
              "outlinewidth": 0,
              "ticks": ""
             }
            },
            "type": "scattermap"
           }
          ],
          "scattermapbox": [
           {
            "marker": {
             "colorbar": {
              "outlinewidth": 0,
              "ticks": ""
             }
            },
            "type": "scattermapbox"
           }
          ],
          "scatterpolar": [
           {
            "marker": {
             "colorbar": {
              "outlinewidth": 0,
              "ticks": ""
             }
            },
            "type": "scatterpolar"
           }
          ],
          "scatterpolargl": [
           {
            "marker": {
             "colorbar": {
              "outlinewidth": 0,
              "ticks": ""
             }
            },
            "type": "scatterpolargl"
           }
          ],
          "scatterternary": [
           {
            "marker": {
             "colorbar": {
              "outlinewidth": 0,
              "ticks": ""
             }
            },
            "type": "scatterternary"
           }
          ],
          "surface": [
           {
            "colorbar": {
             "outlinewidth": 0,
             "ticks": ""
            },
            "colorscale": [
             [
              0,
              "#0d0887"
             ],
             [
              0.1111111111111111,
              "#46039f"
             ],
             [
              0.2222222222222222,
              "#7201a8"
             ],
             [
              0.3333333333333333,
              "#9c179e"
             ],
             [
              0.4444444444444444,
              "#bd3786"
             ],
             [
              0.5555555555555556,
              "#d8576b"
             ],
             [
              0.6666666666666666,
              "#ed7953"
             ],
             [
              0.7777777777777778,
              "#fb9f3a"
             ],
             [
              0.8888888888888888,
              "#fdca26"
             ],
             [
              1,
              "#f0f921"
             ]
            ],
            "type": "surface"
           }
          ],
          "table": [
           {
            "cells": {
             "fill": {
              "color": "#EBF0F8"
             },
             "line": {
              "color": "white"
             }
            },
            "header": {
             "fill": {
              "color": "#C8D4E3"
             },
             "line": {
              "color": "white"
             }
            },
            "type": "table"
           }
          ]
         },
         "layout": {
          "annotationdefaults": {
           "arrowcolor": "#2a3f5f",
           "arrowhead": 0,
           "arrowwidth": 1
          },
          "autotypenumbers": "strict",
          "coloraxis": {
           "colorbar": {
            "outlinewidth": 0,
            "ticks": ""
           }
          },
          "colorscale": {
           "diverging": [
            [
             0,
             "#8e0152"
            ],
            [
             0.1,
             "#c51b7d"
            ],
            [
             0.2,
             "#de77ae"
            ],
            [
             0.3,
             "#f1b6da"
            ],
            [
             0.4,
             "#fde0ef"
            ],
            [
             0.5,
             "#f7f7f7"
            ],
            [
             0.6,
             "#e6f5d0"
            ],
            [
             0.7,
             "#b8e186"
            ],
            [
             0.8,
             "#7fbc41"
            ],
            [
             0.9,
             "#4d9221"
            ],
            [
             1,
             "#276419"
            ]
           ],
           "sequential": [
            [
             0,
             "#0d0887"
            ],
            [
             0.1111111111111111,
             "#46039f"
            ],
            [
             0.2222222222222222,
             "#7201a8"
            ],
            [
             0.3333333333333333,
             "#9c179e"
            ],
            [
             0.4444444444444444,
             "#bd3786"
            ],
            [
             0.5555555555555556,
             "#d8576b"
            ],
            [
             0.6666666666666666,
             "#ed7953"
            ],
            [
             0.7777777777777778,
             "#fb9f3a"
            ],
            [
             0.8888888888888888,
             "#fdca26"
            ],
            [
             1,
             "#f0f921"
            ]
           ],
           "sequentialminus": [
            [
             0,
             "#0d0887"
            ],
            [
             0.1111111111111111,
             "#46039f"
            ],
            [
             0.2222222222222222,
             "#7201a8"
            ],
            [
             0.3333333333333333,
             "#9c179e"
            ],
            [
             0.4444444444444444,
             "#bd3786"
            ],
            [
             0.5555555555555556,
             "#d8576b"
            ],
            [
             0.6666666666666666,
             "#ed7953"
            ],
            [
             0.7777777777777778,
             "#fb9f3a"
            ],
            [
             0.8888888888888888,
             "#fdca26"
            ],
            [
             1,
             "#f0f921"
            ]
           ]
          },
          "colorway": [
           "#636efa",
           "#EF553B",
           "#00cc96",
           "#ab63fa",
           "#FFA15A",
           "#19d3f3",
           "#FF6692",
           "#B6E880",
           "#FF97FF",
           "#FECB52"
          ],
          "font": {
           "color": "#2a3f5f"
          },
          "geo": {
           "bgcolor": "white",
           "lakecolor": "white",
           "landcolor": "#E5ECF6",
           "showlakes": true,
           "showland": true,
           "subunitcolor": "white"
          },
          "hoverlabel": {
           "align": "left"
          },
          "hovermode": "closest",
          "mapbox": {
           "style": "light"
          },
          "paper_bgcolor": "white",
          "plot_bgcolor": "#E5ECF6",
          "polar": {
           "angularaxis": {
            "gridcolor": "white",
            "linecolor": "white",
            "ticks": ""
           },
           "bgcolor": "#E5ECF6",
           "radialaxis": {
            "gridcolor": "white",
            "linecolor": "white",
            "ticks": ""
           }
          },
          "scene": {
           "xaxis": {
            "backgroundcolor": "#E5ECF6",
            "gridcolor": "white",
            "gridwidth": 2,
            "linecolor": "white",
            "showbackground": true,
            "ticks": "",
            "zerolinecolor": "white"
           },
           "yaxis": {
            "backgroundcolor": "#E5ECF6",
            "gridcolor": "white",
            "gridwidth": 2,
            "linecolor": "white",
            "showbackground": true,
            "ticks": "",
            "zerolinecolor": "white"
           },
           "zaxis": {
            "backgroundcolor": "#E5ECF6",
            "gridcolor": "white",
            "gridwidth": 2,
            "linecolor": "white",
            "showbackground": true,
            "ticks": "",
            "zerolinecolor": "white"
           }
          },
          "shapedefaults": {
           "line": {
            "color": "#2a3f5f"
           }
          },
          "ternary": {
           "aaxis": {
            "gridcolor": "white",
            "linecolor": "white",
            "ticks": ""
           },
           "baxis": {
            "gridcolor": "white",
            "linecolor": "white",
            "ticks": ""
           },
           "bgcolor": "#E5ECF6",
           "caxis": {
            "gridcolor": "white",
            "linecolor": "white",
            "ticks": ""
           }
          },
          "title": {
           "x": 0.05
          },
          "xaxis": {
           "automargin": true,
           "gridcolor": "white",
           "linecolor": "white",
           "ticks": "",
           "title": {
            "standoff": 15
           },
           "zerolinecolor": "white",
           "zerolinewidth": 2
          },
          "yaxis": {
           "automargin": true,
           "gridcolor": "white",
           "linecolor": "white",
           "ticks": "",
           "title": {
            "standoff": 15
           },
           "zerolinecolor": "white",
           "zerolinewidth": 2
          }
         }
        },
        "title": {
         "text": "年度別 欠損値割合の推移"
        },
        "xaxis": {
         "anchor": "y",
         "domain": [
          0,
          1
         ],
         "title": {
          "text": "年度_年"
         }
        },
        "yaxis": {
         "anchor": "x",
         "domain": [
          0,
          1
         ],
         "title": {
          "text": "value"
         }
        }
       }
      }
     },
     "metadata": {},
     "output_type": "display_data"
    },
    {
     "data": {
      "text/plain": [
       "'\\nfor filename in files:\\n    if filename not in missing_year_df:\\n        all_df[filename] = pd.DataFrame()\\n        missing_year_df[filename] = pd.DataFrame()\\n    for year in years:\\n        file_path = os.path.join(base_path, str(year), filename)\\n        if os.path.exists(file_path):\\n            df = pd.read_csv(file_path,header=1,na_values=[\"-\",\"0\"])\\n            all_df[filename] = pd.concat([all_df[filename], df], ignore_index=True) # 全データ結合\\n            # 各年の欠損率を計算\\n            missing_rate = df.isnull().mean().to_frame(name=\"missing_rate\")\\n            missing_rate[\"year\"] = year\\n            missing_rate = missing_rate.reset_index().rename(columns={\"index\": \"column_name\"})\\n            missing_year_df[filename] = pd.concat([missing_year_df[filename], missing_rate], ignore_index=True)\\n#最新年に登録されている企業コードのみ抽出\\nlatest_year = max(years)\\nfile_path = os.path.join(base_path, str(latest_year), files[0])\\ndf = pd.read_csv(file_path,header=1,na_values=[\"-\",\"0\"])\\ncodes = df[\"コード\"].to_list()\\n# 企業コードでフィルタリング\\nfor filename in all_df:\\n    all_df[filename] = all_df[filename].loc[all_df[filename][\"コード\"].isin(codes)] # 企業コードのデータ抽出\\n#display(all_df)'"
      ]
     },
     "execution_count": 57,
     "metadata": {},
     "output_type": "execute_result"
    }
   ],
   "source": [
    "#missing_year_df = {}\n",
    "pd.options.display.max_rows = 1000\n",
    "#display(all_df[settings[\"files\"][0]].head(1000))\n",
    "df = all_df[settings[\"files\"][0]].copy()\n",
    "df[\"年度_年\"] = df[\"年度\"].astype(str).str[:4].astype(int)\n",
    "\n",
    "missing_ratio_by_year = (\n",
    "    df.drop(columns=[\"コード\", \"年度\"])\n",
    "      .groupby(\"年度_年\")\n",
    "      .agg(lambda g: g.isnull().mean())\n",
    "      .reset_index()\n",
    ")\n",
    "display(missing_ratio_by_year)\n",
    "fig = px.line(\n",
    "    missing_ratio_by_year,\n",
    "    x=\"年度_年\",\n",
    "    y=missing_ratio_by_year.columns.drop(\"年度_年\"),\n",
    "    title=\"年度別 欠損値割合の推移\",\n",
    "    markers=True,\n",
    ")\n",
    "fig.show()"
   ]
  },
  {
   "cell_type": "code",
   "execution_count": null,
   "metadata": {},
   "outputs": [],
   "source": [
    "# 各カラムの欠損率推移を折れ線グラフで表示\n",
    "for filename in files:\n",
    "    fig = px.line(\n",
    "        missing_year_df[filename],  # 最初のファイルのデータを使用\n",
    "        x=\"year\",\n",
    "        y=\"missing_rate\",\n",
    "        color=\"column_name\",   # 列ごとに色分け\n",
    "        markers=True,\n",
    "        title=\"各列の欠損率の推移\"\n",
    "    )\n",
    "    fig.show()"
   ]
  },
  {
   "cell_type": "markdown",
   "metadata": {},
   "source": [
    "### 年ごとの欠損率の傾向を確認（折れ線グラフ）"
   ]
  },
  {
   "cell_type": "code",
   "execution_count": null,
   "metadata": {},
   "outputs": [],
   "source": [
    "# 年ごとの欠損率の傾向を確認（ヒートマップ）\n",
    "\n",
    "for filename in missing_year_df:\n",
    "    pivot_table = missing_year_df[filename].pivot(index=\"column_name\", columns=\"year\", values=\"missing_rate\")\n",
    "    fig = go.Figure(data=go.Heatmap(\n",
    "        z=pivot_table.values,\n",
    "        x=pivot_table.columns,\n",
    "        y=pivot_table.index,\n",
    "        colorscale=\"Viridis\",\n",
    "        colorbar=dict(title=\"Missing Rate\")\n",
    "    ))\n",
    "    fig.update_layout(\n",
    "        title=f\"{filename} の欠損率ヒートマップ\",\n",
    "        xaxis_title=\"Year\",\n",
    "        yaxis_title=\"Column Name\"\n",
    "    )\n",
    "    fig.show()"
   ]
  },
  {
   "cell_type": "markdown",
   "metadata": {},
   "source": [
    "### 欠損率の詳細分析"
   ]
  },
  {
   "cell_type": "code",
   "execution_count": null,
   "metadata": {},
   "outputs": [],
   "source": [
    "# コードごとに平均欠損率を計算する\n",
    "missing_score = {}\n",
    "for filename in files:\n",
    "    # コードごとに欠損率を計算\n",
    "    missing_score[filename] = pd.DataFrame()\n",
    "    missing_score[filename] = (\n",
    "        all_df[filename]\n",
    "        .groupby(\"コード\")\n",
    "        .agg(lambda x: x.isnull().mean())  # 各列ごとの欠損率\n",
    "        .mean(axis=1)                      # 列平均\n",
    "        .reset_index(name=\"平均欠損率\")\n",
    "    )\n",
    "    #pd.set_option('display.max_rows', None)\n",
    "    #display(missing_score[filename].info())"
   ]
  },
  {
   "cell_type": "code",
   "execution_count": null,
   "metadata": {},
   "outputs": [],
   "source": [
    "# 分析 fy-balance-sheet.csv\n",
    "target_file = files[0]\n",
    "\n",
    "fig = px.histogram(\n",
    "    missing_score[target_file],  # 最初のファイルのデータを使用\n",
    "    x=\"平均欠損率\",\n",
    "    nbins=50,\n",
    "    title=\"全企業の欠損率分布\"+files[0],\n",
    "    labels={\"平均欠損率\": \"平均欠損率\"}\n",
    ")\n",
    "#fig.show()\n",
    "# 特定範囲の欠損率を持つコードを抽出\n",
    "threshold_low = 0.215\n",
    "threshold_high= 0.225\n",
    "filtered_codes = missing_score[target_file][\n",
    "    (missing_score[target_file][\"平均欠損率\"] >= threshold_low) &\n",
    "    (missing_score[target_file][\"平均欠損率\"] < threshold_high)\n",
    "]\n",
    "#display(filtered_codes)\n",
    "# 列別欠損率\n",
    "df_by_code = all_df[target_file].set_index(\"コード\") # 企業コードを index にする\n",
    "codes = filtered_codes[\"コード\"].tolist() # 企業コードをリスト化\n",
    "subset = df_by_code.loc[df_by_code.index.isin(codes)] # 企業コードのデータ抽出\n",
    "#print(df_by_code)\n",
    "col_missing = subset.isnull().mean().sort_values(ascending=False) # 列別欠損率\n",
    "#display(col_missing)\n",
    "\n",
    "#年次別の欠損率推移確認\n",
    "df = all_df[target_file]\n",
    "year_all = (\n",
    "    df.groupby('年度')[['短期借入金', '長期借入金']].apply(lambda d: d.isnull().mean())\n",
    "    .apply(lambda d: d)\n",
    "    .reset_index()\n",
    ")\n",
    "# 欠損率の推移を可視化\n",
    "fig = px.line(\n",
    "    year_all,\n",
    "    x=\"年度\",\n",
    "    y=[\"短期借入金\", \"長期借入金\"],  # 複数列を同時に表示\n",
    "    markers=True,\n",
    "    title=\"各列の欠損率の推移\"\n",
    ")\n",
    "#fig.show()\n",
    "# 各企業の年次ごとの欠損率を計算し、\"常時欠損\" と \"変化あり\" を分類\n",
    "status = {}\n",
    "code_groups = subset.groupby(\"コード\")\n",
    "for code, g in code_groups:\n",
    "    rate_by_year = g[['短期借入金','長期借入金']].isnull().mean(axis=1)  # 年行ごとの欠損率\n",
    "    if rate_by_year.nunique() == 1 and rate_by_year.iloc[0] == 1.0:\n",
    "        status[code] = 'always_missing'\n",
    "    else:\n",
    "        status[code] = 'variable'\n",
    "pd.Series(status).value_counts()\n",
    "# variable の一部を表示して具体的な年次パターンを確認\n",
    "#for code, st in list(status.items())[:100]:\n",
    "    #if st == 'variable':\n",
    "        #print(code)\n",
    "        #display(code_groups.get_group(code)[['年度','短期借入金','長期借入金']].head(20))\n",
    "# 業種に偏りがあるか確認\n",
    "codes = filtered_codes[\"コード\"].tolist()\n",
    "p = os.path.join(base_path, files_reference[0])\n",
    "df = pd.read_csv(p,header=0,na_values=[])\n",
    "# 全体データ\n",
    "df_all = df.copy()\n",
    "df_all[\"区分\"] = \"全体\"\n",
    "# subsetデータ\n",
    "df_sub = df[df[\"コード\"].isin(codes)].copy()\n",
    "df_sub[\"区分\"] = \"抽出subset\"\n",
    "# 結合\n",
    "df_combined = pd.concat([df_all, df_sub])\n",
    "# Plotly Expressで可視化\n",
    "fig = px.histogram(\n",
    "    df_combined,\n",
    "    x=\"33業種区分\",\n",
    "    color=\"区分\",\n",
    "    barmode=\"group\",\n",
    "    histnorm=\"percent\",  # ← 割合表示\n",
    "    title=\"33業種区分別の構成比比較（全体 vs 抽出subset）\"\n",
    ")\n",
    "#fig.show()\n"
   ]
  },
  {
   "cell_type": "code",
   "execution_count": null,
   "metadata": {},
   "outputs": [],
   "source": [
    "# 時価総額に偏りがあるか確認\n",
    "# 時価総額の推定モデル：推定時価総額 = (PER * EPS) * (自己資本 / BPS) * (ROE / 10 + 営業CFマージン)\n",
    "# 4つのファイルを結合\n",
    "df_combined = pd.DataFrame()\n",
    "for filename in files:\n",
    "    df=all_df[filename]\n",
    "    df_combined = pd.concat([df_combined, df], axis=0)\n",
    "#display(df_combined)\n",
    "df = df_combined[[\"コード\",\"年度\",\"純利益\",\"EPS\",\"株主資本\",\"BPS\",\"ROE\",\"営業CFマージン\"]].copy()\n",
    "def combine_nonnull(series):\n",
    "    #そのグループ内で最初に非NaNの値を返す\n",
    "    return series.dropna().iloc[0] if series.notna().any() else np.nan\n",
    "\n",
    "# 「コード」「年度」でグループ化して統合\n",
    "df_merged = (\n",
    "    df.groupby([\"コード\", \"年度\"], as_index=False)\n",
    "      .agg(combine_nonnull)\n",
    "      .sort_values([\"コード\", \"年度\"])\n",
    "      .reset_index(drop=True)\n",
    ")\n",
    "#display(df_merged.head(1000))"
   ]
  },
  {
   "cell_type": "code",
   "execution_count": null,
   "metadata": {},
   "outputs": [],
   "source": [
    "df_merged[\"推定時価総額\"] = (\n",
    "    (df_merged[\"純利益\"] * df_merged[\"EPS\"]) *\n",
    "    (df_merged[\"株主資本\"] / df_merged[\"BPS\"]) *\n",
    "    (df_merged[\"ROE\"] / 10 + df_merged[\"営業CFマージン\"])\n",
    ")\n",
    "#display(df_merged.head(1000))\n",
    "df_all = df_merged.copy()\n",
    "df_all[\"区分\"] = \"全体\"\n",
    "# subsetデータ\n",
    "codes = filtered_codes[\"コード\"].tolist()\n",
    "df_sub = df_merged[df_merged[\"コード\"].isin(codes)].copy()\n",
    "df_sub[\"区分\"] = \"抽出subset\"\n",
    "# 結合\n",
    "df_combined = pd.concat([df_all, df_sub])\n",
    "# Plotly Expressで可視化\n",
    "fig = px.histogram(\n",
    "    df_combined,\n",
    "    x=\"推定時価総額\",\n",
    "    color=\"区分\",\n",
    "    barmode=\"group\",\n",
    "    title=\"推定時価総額別の構成比比較（全体 vs 抽出subset）\"\n",
    ")\n",
    "fig.show()"
   ]
  },
  {
   "cell_type": "markdown",
   "metadata": {},
   "source": [
    "# OLD --- IGNORE ---"
   ]
  },
  {
   "cell_type": "code",
   "execution_count": null,
   "metadata": {},
   "outputs": [],
   "source": [
    "# IR bankのデータから必要なデータを吸い上げる\n",
    "import pandas as pd\n",
    "import myLibStandard as myLib\n",
    "myLib.set_DisplayOption()\n",
    "\n",
    "# BSから必要なデータを取得\n",
    "dfBalanceSheet = pd.DataFrame()\n",
    "dl = [\"fy-balance-sheet\", \"fy-cash-flow-statement\", \"fy-profit-and-loss\", \"fy-stock-dividend\"]\n",
    "for folder in range(2010, 2026):\n",
    "    df = pd.read_csv(myLib.pathDataDomesticData + str(folder) + \"/fy-balance-sheet.csv\",\\\n",
    "    header=1, index_col=[\"コード\", \"年度\"], dtype={\"コード\":\"str\"})\n",
    "    dfBalanceSheet = pd.concat([dfBalanceSheet, df], axis=0, join=\"outer\")\n",
    "dfBalanceSheet = dfBalanceSheet.sort_index()\n",
    "dfBalanceSheet = dfBalanceSheet.loc[~dfBalanceSheet.index.duplicated(\"last\")]\n",
    "\n",
    "# PLから必要なデータを取得\n",
    "dfProftLoss = pd.DataFrame()\n",
    "for folder in range(2010, 2026):\n",
    "    df = pd.read_csv(myLib.pathDataDomesticData + str(folder) + \"/\" + \"fy-profit-and-loss.csv\",\\\n",
    "    header=1, index_col=[\"コード\", \"年度\"], dtype={\"コード\":\"str\"})\n",
    "    dfProftLoss = pd.concat([dfProftLoss, df], axis=0, join=\"outer\")\n",
    "dfProftLoss = dfProftLoss.sort_index()\n",
    "dfProftLoss = dfProftLoss.loc[~dfProftLoss.index.duplicated(\"last\")]\n",
    "\n",
    "# SDから必要なデータを取得\n",
    "dfStockDividend = pd.DataFrame()\n",
    "for folder in range(2010, 2026):\n",
    "    df = pd.read_csv(myLib.pathDataDomesticData + str(folder) + \"/\" + \"fy-stock-dividend.csv\",\\\n",
    "    header=1, index_col=[\"コード\", \"年度\"], dtype={\"コード\":\"str\"})\n",
    "    dfStockDividend = pd.concat([dfStockDividend, df], axis=0, join=\"outer\")\n",
    "dfStockDividend = dfStockDividend.loc[~dfStockDividend.index.duplicated(\"last\")]\n",
    "dfStockDividend = dfStockDividend.sort_index(level=[\"コード\"])\n",
    "#display(dfStockDividend)\n",
    "\n",
    "dfAll = pd.concat([dfBalanceSheet, dfProftLoss], axis=1, join=\"outer\")\n",
    "dfAll = pd.concat([dfAll, dfStockDividend], axis=1, join=\"outer\")\n",
    "dfAll = dfAll.sort_index()\n",
    "#display(dfAll.head(1000))\n",
    "dfAll.to_csv(myLib.pathDataSummaryDomesticData + \"IR_Bank_Data.csv\")\n"
   ]
  },
  {
   "cell_type": "code",
   "execution_count": null,
   "metadata": {},
   "outputs": [],
   "source": [
    "# データがないセルを\"-\"からnullに変換する\n",
    "import pandas as pd\n",
    "import math\n",
    "import myLibStandard as myLib\n",
    "myLib.set_DisplayOption()\n",
    "\n",
    "dfAll = pd.read_csv(myLib.pathDataSummaryDomesticData + \"IR_Bank_Data.csv\",index_col=[\"コード\", \"年度\"], dtype=\"str\")\n",
    "dfAll = dfAll.sort_index()\n",
    "for column in dfAll:\n",
    "    dfAll[column] = dfAll[column].replace(\"-\", math.nan)\n",
    "    dfAll[column] = dfAll[column].replace(0, math.nan)\n",
    "\n",
    "dfAll.to_csv(myLib.pathDataSummaryDomesticData + \"IR_Bank_Data.csv\")\n"
   ]
  },
  {
   "cell_type": "code",
   "execution_count": null,
   "metadata": {},
   "outputs": [],
   "source": [
    "# データが0の場合はNANにする（ゼロ割り算エラーを避けるため）\n",
    "import pandas as pd\n",
    "import math\n",
    "import myLibStandard as myLib\n",
    "myLib.set_DisplayOption()\n",
    "dfAll = pd.read_csv(myLib.pathDataSummaryDomesticData + \"IR_Bank_Data.csv\", dtype={\"コード\":\"str\"})\n",
    "\n",
    "for i in dfAll.index:\n",
    "    if dfAll.loc[i, \"EPS\"] == 0:\n",
    "        dfAll.loc[i, \"EPS\"] = math.nan\n",
    "    if dfAll.loc[i, \"BPS\"] == 0:\n",
    "        dfAll.loc[i, \"BPS\"] = math.nan\n",
    "dfAll = dfAll.set_index([\"コード\", \"年度\"])\n",
    "#display(dfAll.head(1000))\n",
    "dfAll.to_csv(myLib.pathDataSummaryDomesticData + \"IR_Bank_Data.csv\")"
   ]
  },
  {
   "cell_type": "markdown",
   "metadata": {},
   "source": [
    "##### 銘柄名や業種を取得"
   ]
  },
  {
   "cell_type": "code",
   "execution_count": null,
   "metadata": {},
   "outputs": [],
   "source": [
    "# シンボルリスト取得、保存\n",
    "from stocksymbol import StockSymbol\n",
    "api_key = '63ed951b-b643-48b1-bfe7-90c7a4f96349'\n",
    "ss = StockSymbol(api_key)\n",
    "symbol_list_japan = ss.get_symbol_list(market=\"Japan\") # \"us\" or \"america\" will also work\n",
    "df = symbol_list_japan\n",
    "df = pd.DataFrame(df)\n",
    "df.to_csv(myLib.pathDataSummaryDomesticData + \"symbol.csv\")"
   ]
  },
  {
   "cell_type": "code",
   "execution_count": null,
   "metadata": {},
   "outputs": [],
   "source": [
    "# Code一覧から銘柄の情報を取得し、登録する。ないものはデータから削除する\n",
    "import pandas as pd\n",
    "import myLibStandard as myLib\n",
    "import warnings\n",
    "#warnings.simplefilter('ignore')\n",
    "myLib.set_DisplayOption()\n",
    "\n",
    "dfAll = pd.read_csv(myLib.pathDataSummaryDomesticData + \"IR_Bank_Data.csv\",index_col=[\"コード\", \"年度\"], dtype={\"コード\":str})\n",
    "dfCode = pd.read_csv(myLib.pathDataSummaryDomesticData + \"CodeData.csv\",usecols=[\"コード\", \"銘柄名\", \"市場・商品区分\", \"33業種区分\"],\\\n",
    "index_col=[\"コード\"], dtype=str)\n",
    "dfAll[\"銘柄\"] = None\n",
    "dfAll[\"市場\"] = None\n",
    "dfAll[\"業種\"] = None\n",
    "dfAll = dfAll.sort_index()\n",
    "dlCode = dfAll.groupby(level='コード').size().index.tolist()\n",
    "dlDelCode = []\n",
    "for code in dlCode:\n",
    "    try:\n",
    "        dfAll.loc[(code,), \"銘柄\"] = dfCode.loc[code, \"銘柄名\"]\n",
    "        dfAll.loc[(code,), \"市場\"] = dfCode.loc[code, \"市場・商品区分\"]\n",
    "        dfAll.loc[(code,), \"業種\"] = dfCode.loc[code, \"33業種区分\"]\n",
    "    except KeyError:\n",
    "        dlDelCode.append(code)\n",
    "\n",
    "dfAll = dfAll.reset_index(\"年度\")\n",
    "for dl in dlDelCode:\n",
    "    dfAll = dfAll.drop(dl,axis=0)\n",
    "dfAll.to_csv(myLib.pathDataSummaryDomesticData + \"DataPreprocessing.csv\")"
   ]
  },
  {
   "cell_type": "markdown",
   "metadata": {},
   "source": [
    "##### 銘柄のテーマ情報を取得し登録する"
   ]
  },
  {
   "cell_type": "code",
   "execution_count": null,
   "metadata": {},
   "outputs": [],
   "source": [
    "# テーマ情報をCSVからとってきてテーマフラグを立てる\n",
    "import pandas as pd\n",
    "import myLibStandard as myLib\n",
    "import warnings\n",
    "myLib.set_DisplayOption()\n",
    "\n",
    "dfAll = pd.read_csv(myLib.pathDataSummaryDomesticData + \"DataPreprocessing.csv\",index_col=\"コード\", dtype={\"コード\":str})\n",
    "\n",
    "def get_ThemeList(filname):\n",
    "    df = pd.read_csv(myLib.pathDataDomesticData + filname, index_col=\"コード\", dtype={\"コード\":str})\n",
    "    return df\n",
    "\n",
    "dlname = [\"DOE採用銘柄\", \"円高メリット\", \"減配なし\", \"親子上場\", \"累進配当\"]\n",
    "for name in dlname:\n",
    "    dfTheme = get_ThemeList(name + \".csv\")\n",
    "    for code in dfTheme.index:\n",
    "        if code in dfAll.index:\n",
    "            dfAll.loc[code, name] = 1\n",
    "\n",
    "dfAll.to_csv(myLib.pathDataSummaryDomesticData + \"DataPreprocessing.csv\")\n"
   ]
  },
  {
   "cell_type": "markdown",
   "metadata": {},
   "source": [
    "## 分析値の計算、追加"
   ]
  },
  {
   "cell_type": "markdown",
   "metadata": {},
   "source": [
    "##### データの登録（PER, PBR, MIX係数, 簡易理論株価, 安全域, 時価総額, 配当利回り, 資産価値を含めたPERを登録する）"
   ]
  },
  {
   "cell_type": "code",
   "execution_count": null,
   "metadata": {},
   "outputs": [],
   "source": [
    "# PER, PBR, 簡易理論株価, 安全域, 配当利回り, MIX係数, 時価総額, を登録する (※長時間)\n",
    "import pandas as pd\n",
    "import math\n",
    "import datetime\n",
    "import calendar\n",
    "from yahooquery import Ticker\n",
    "import myLibStandard as myLib\n",
    "import warnings\n",
    "warnings.simplefilter('ignore', FutureWarning)\n",
    "myLib.set_DisplayOption()\n",
    "\n",
    "#dfSymbol = pd.read_csv(myLib.pathDataSummaryDomesticData + \"symbol.csv\", dtype={\"symbol\":str})\n",
    "dfAll = pd.read_csv(myLib.pathDataSummaryDomesticData + \"DataPreprocessing.csv\",index_col=[\"コード\", \"年度\"], dtype={\"コード\":\"str\"})\n",
    "#dfAll = pd.read_csv(myLib.pathDataSummaryDomesticData + \"DomesticDataTable.csv\",index_col=[\"コード\", \"年度\"], dtype={\"コード\":str})\n",
    "\n",
    "dfAll[\"PER\"] = math.nan\n",
    "dfAll[\"PBR\"] = math.nan\n",
    "dfAll[\"簡易理論株価\"] = math.nan\n",
    "dfAll[\"安全域\"] = math.nan\n",
    "dfAll[\"配当利回り\"] = math.nan\n",
    "dfAll[\"MIX係数\"] = math.nan\n",
    "dfAll[\"時価総額\"] = math.nan\n",
    "dfAll[\"株価\"] = math.nan\n",
    "dfAll[\"営業利益率\"] = math.nan\n",
    "dfAll[\"経常利益率\"] = math.nan\n",
    "dfAll[\"純利益率\"] = math.nan\n",
    "dfAll[\"配当将来期待\"] = round(dfAll[\"ROE\"] - dfAll[\"純資産配当率\"] ,1)\n",
    "\n",
    "def get_StockValue(symbol):\n",
    "    yqData = Ticker(symbol+\".T\")\n",
    "    stockValue = yqData.history(start=\"2010-03-01\")\n",
    "    stockValue = stockValue.reset_index(level=[\"date\",'symbol'])\n",
    "    stockValue[\"date\"] = stockValue[\"date\"].apply(lambda x: pd.to_datetime(x).tz_localize(None))\n",
    "    stockValue[\"date\"] = pd.to_datetime(stockValue[\"date\"])\n",
    "    stockValue = stockValue.set_index(\"date\")\n",
    "    stockValue = stockValue[\"close\"].resample(\"D\").ffill()\n",
    "    return stockValue\n",
    "    #return pd.Series()\n",
    "\n",
    "dfAll = dfAll.sort_index()\n",
    "dlCode = dfAll.groupby(level='コード').size().index.tolist()\n",
    "i=0\n",
    "for code in dlCode:\n",
    "    if (i>=0) and (i<5000):\n",
    "        print(code)\n",
    "        dsStock = get_StockValue(str(code))\n",
    "        for date in dfAll.loc[(code,)].index:\n",
    "            dtDate = datetime.datetime.strptime(date, '%Y/%m')\n",
    "            dtDate = datetime.date(dtDate.year, dtDate.month, calendar.monthrange(dtDate.year, dtDate.month)[1])\n",
    "            try:\n",
    "                stockValue = dsStock.loc[dtDate.strftime(\"%Y-%m-%d\")]\n",
    "            except KeyError:\n",
    "                stockValue = math.nan\n",
    "            eps = float(dfAll.loc[(code, date), \"EPS\"])\n",
    "            bps = float(dfAll.loc[(code, date), \"BPS\"])\n",
    "            if eps < 0:\n",
    "                dfAll.loc[(code, date), \"PER\"] = math.nan\n",
    "            else:\n",
    "                dfAll.loc[(code, date), \"PER\"] = round(stockValue / eps, 2)\n",
    "            dfAll.loc[(code, date), \"簡易理論株価\"] = round(bps + eps * 10,2)\n",
    "            dfAll.loc[(code, date), \"PBR\"] = round(stockValue / bps, 2)\n",
    "            dfAll.loc[(code, date), \"配当利回り\"] = round(float(dfAll.loc[(code, date), \"一株配当\"] / stockValue *100),2)\n",
    "            dfAll.loc[(code, date), \"安全域\"] = round(dfAll.loc[(code, date), \"簡易理論株価\"] / stockValue, 2)\n",
    "            dfAll.loc[(code, date), \"MIX係数\"] = dfAll.loc[(code, date), \"PER\"] * dfAll.loc[(code, date), \"PBR\"]\n",
    "            dfAll.loc[(code, date), \"時価総額\"] = dfAll.loc[(code, date), \"PER\"] * dfAll.loc[(code, date), \"純利益\"]\n",
    "            dfAll.loc[(code, date), \"株価\"] = stockValue\n",
    "            dfAll.loc[(code, date), \"営業利益率\"] = round(dfAll.loc[(code, date), \"営業利益\"] / dfAll.loc[(code, date), \"売上高\"] * 100 ,2)\n",
    "            dfAll.loc[(code, date), \"経常利益率\"] = round(dfAll.loc[(code, date), \"経常利益\"] / dfAll.loc[(code, date), \"売上高\"] * 100 ,2)\n",
    "            dfAll.loc[(code, date), \"純利益率\"] = round(dfAll.loc[(code, date), \"純利益\"] / dfAll.loc[(code, date), \"売上高\"] * 100 ,2)\n",
    "    i+=1\n",
    "    if i%10==0:\n",
    "        print(code,i)\n",
    "        dfAll.to_csv(myLib.pathDataSummaryDomesticData + \"DomesticDataTable.csv\")\n",
    "dfAll.to_csv(myLib.pathDataSummaryDomesticData + \"DomesticDataTable.csv\")"
   ]
  },
  {
   "cell_type": "code",
   "execution_count": null,
   "metadata": {},
   "outputs": [],
   "source": [
    "# 資産価値を含めたPERを登録する (※長時間)\n",
    "import pandas as pd\n",
    "import math\n",
    "import datetime\n",
    "import calendar\n",
    "from yahooquery import Ticker\n",
    "import yfinance as yf\n",
    "import myLibStandard as myLib\n",
    "import warnings\n",
    "#warnings.simplefilter('ignore', FutureWarning)\n",
    "myLib.set_DisplayOption()\n",
    "\n",
    "#dfSymbol = pd.read_csv(myLib.pathDataSummaryDomesticData + \"symbol.csv\", dtype={\"symbol\":\"str\"})\n",
    "dfAll = pd.read_csv(myLib.pathDataSummaryDomesticData + \"DomesticDataTable.csv\",index_col=[\"コード\", \"年度\"], dtype={\"コード\":\"str\"})\n",
    "dfAll[\"資産価値を含めたPER\"] = math.nan\n",
    "\n",
    "dfAll = dfAll.sort_index()\n",
    "dlCode = dfAll.groupby(level='コード').size().index.tolist()\n",
    "#display(dlCode)\n",
    "i=0\n",
    "for code in dlCode:\n",
    "    if (i>=0) & (i<=5000):\n",
    "        print(code)\n",
    "        try:\n",
    "            balance_sheet = Ticker(code+\".T\").balance_sheet().reset_index().set_index(\"asOfDate\")\n",
    "        except AttributeError:\n",
    "            balance_sheet = Ticker(code+\".T\").balance_sheet()\n",
    "        #display(balance_sheet)\n",
    "        if type(balance_sheet) != str:\n",
    "            for date in balance_sheet.index:\n",
    "                dtDate = datetime.date(date.year,date.month,1)\n",
    "                strDate = datetime.date.strftime(dtDate, \"%Y/%m\")\n",
    "                try:\n",
    "                    CurrentAssets = balance_sheet.loc[date, \"CurrentAssets\"]\n",
    "                except KeyError:\n",
    "                    CurrentAssets = math.nan\n",
    "                try:\n",
    "                    NetDebt = balance_sheet.loc[date, \"NetDebt\"]\n",
    "                except KeyError:\n",
    "                    NetDebt = balance_sheet.loc[date, \"TotalAssets\"] - balance_sheet.loc[date, \"StockholdersEquity\"]\n",
    "                try:\n",
    "                    AvailableForSaleSecurities = balance_sheet.loc[date, \"AvailableForSaleSecurities\"]\n",
    "                except KeyError:\n",
    "                    AvailableForSaleSecurities = math.nan\n",
    "                netCash = CurrentAssets + NetDebt * 0.7 -AvailableForSaleSecurities\n",
    "                #print(netCash)\n",
    "                #print(date)\n",
    "                #display(dfAll.loc[(code, )].index)\n",
    "                try:\n",
    "                    dfAll.loc[(code, strDate), \"資産価値を含めたPER\"] = round(\\\n",
    "                    (dfAll.loc[(code, strDate), \"時価総額\"] - netCash) / dfAll.loc[(code, strDate), \"純利益\"], 2)\n",
    "                except KeyError:\n",
    "                    dfAll.loc[(code, strDate),:] = math.nan\n",
    "                    dfAll.loc[(code, strDate), \"資産価値を含めたPER\"] = round(\\\n",
    "                    (dfAll.loc[(code, strDate), \"時価総額\"] - netCash) / dfAll.loc[(code, strDate), \"純利益\"], 2)\n",
    "                #print(code, strDate, dfAll.loc[(code, strDate), \"資産価値を含めたPER\"])\n",
    "    i+=1\n",
    "    if i%10==0:\n",
    "        print(i)\n",
    "        dfAll.to_csv(myLib.pathDataSummaryDomesticData + \"DomesticDataTable.csv\")\n",
    "        #break\n",
    "dfAll.to_csv(myLib.pathDataSummaryDomesticData + \"DomesticDataTable.csv\")"
   ]
  },
  {
   "cell_type": "markdown",
   "metadata": {},
   "source": [
    "## 最新日付のファイルの準備"
   ]
  },
  {
   "cell_type": "code",
   "execution_count": null,
   "metadata": {},
   "outputs": [],
   "source": [
    "# 最新日付のみのデータフレームを作成する（※中時間）\n",
    "import pandas as pd\n",
    "import myLibStandard as myLib\n",
    "myLib.set_DisplayOption()\n",
    "\n",
    "dfAll = pd.read_csv(myLib.pathDataSummaryDomesticData + \"DomesticDataTable.csv\",parse_dates=[1],index_col=[\"コード\", \"年度\"], dtype={\"コード\":str})\n",
    "dfAll = dfAll.sort_index()\n",
    "dlCode = dfAll.groupby(level='コード').size().index.tolist()\n",
    "dfMaxDate = pd.DataFrame()\n",
    "for code in dlCode:\n",
    "    maxDate = dfAll.loc[(code,)].index.max()\n",
    "    #display(dfAll.loc[(code,maxDate)])\n",
    "    #print(code)\n",
    "    if maxDate.year >= 2024:\n",
    "        ds = dfAll.loc[(code,maxDate)].to_frame().T\n",
    "        dfMaxDate = pd.concat([dfMaxDate,ds],axis=0)\n",
    "dfMaxDate.index.names = [\"コード\", \"年度\"]\n",
    "dfMaxDate.to_csv(myLib.pathDataSummaryDomesticData + \"DomesticDataTableMaxDate.csv\")"
   ]
  },
  {
   "cell_type": "markdown",
   "metadata": {},
   "source": []
  }
 ],
 "metadata": {
  "kernelspec": {
   "display_name": ".venv",
   "language": "python",
   "name": "python3"
  },
  "language_info": {
   "codemirror_mode": {
    "name": "ipython",
    "version": 3
   },
   "file_extension": ".py",
   "mimetype": "text/x-python",
   "name": "python",
   "nbconvert_exporter": "python",
   "pygments_lexer": "ipython3",
   "version": "3.13.7"
  }
 },
 "nbformat": 4,
 "nbformat_minor": 2
}
