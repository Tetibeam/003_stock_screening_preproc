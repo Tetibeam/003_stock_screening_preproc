{
 "cells": [
  {
   "cell_type": "markdown",
   "metadata": {},
   "source": [
    "## 📊 分析の流れ\n",
    "<details>\n",
    "<summary><b>目次</b></summary>\n",
    "\n",
    "1. **データ読み込み**\n",
    "1. **欠損値処理**\n",
    "    - 欠損列処理  \n",
    "    - 欠損値処理  \n",
    "    - 異常値処理  \n",
    "1. **集計**\n",
    "1. **データ出力**\n",
    "</details>"
   ]
  },
  {
   "cell_type": "code",
   "execution_count": null,
   "metadata": {},
   "outputs": [],
   "source": [
    "import yaml\n",
    "import os\n",
    "import pandas as pd\n",
    "import numpy as np\n",
    "import plotly.express as px\n",
    "import plotly.graph_objects as go\n",
    "import src.config as cfg\n",
    "import src.data_loader as dl"
   ]
  },
  {
   "cell_type": "markdown",
   "metadata": {},
   "source": [
    "## 📥 設定値の読み込み\n",
    "yamlファイルから設定を読み込みます。また、プレースホルダやゼロをチェックします。\n"
   ]
  },
  {
   "cell_type": "code",
   "execution_count": null,
   "metadata": {},
   "outputs": [],
   "source": [
    "# 設定読み込み\n",
    "settings = cfg.load_settings(\"setting.yaml\")\n",
    "display(settings)"
   ]
  },
  {
   "cell_type": "markdown",
   "metadata": {},
   "source": [
    "## 🔍 欠損列処理\n",
    "4つファイルの列が各年度で同じかを目視で確認しておきます。\n",
    "問題がある場合は処理します。\n",
    "<details><summary><b>結果</b></summary>\n",
    "すべてのファイルで同じ列が登録されています。問題ありません。\n",
    "\n",
    "- fy-balance-sheet.csv\n",
    "- fy-cash-flow-statement.csv\n",
    "- fy-profit-and-loss.csv\n",
    "- fy-stock-dividend.csv\n",
    "</details>\n"
   ]
  },
  {
   "cell_type": "code",
   "execution_count": null,
   "metadata": {},
   "outputs": [],
   "source": [
    "dl.load_yearly_header(settings[\"data_path\"], settings[\"years\"], settings[\"files\"])"
   ]
  },
  {
   "cell_type": "markdown",
   "metadata": {},
   "source": [
    "## 📥 欠損値表現のチェック\n",
    "プレースホルダやゼロをチェックし、NaNのデータを特定します。  \n",
    "NaNのデータは、setting.yamlの`na_values`で指定します。\n",
    "\n",
    "```python\n"
   ]
  },
  {
   "cell_type": "code",
   "execution_count": null,
   "metadata": {},
   "outputs": [],
   "source": [
    "# nan_valuesに\"\"だけ指定し、他のプレースホルダをチェックする\"\n",
    "df = dl.load_yearly_data(settings[\"data_path\"], settings[\"years\"], settings[\"files\"], na_values=[\"\"])\n",
    "#display(all_df)\n",
    "counts = []\n",
    "for filename in df:\n",
    "    for col in df[filename]:\n",
    "        #print(col)\n",
    "        ser = df[filename][col].fillna('')\n",
    "        counts.append(\n",
    "            (filename, col,\n",
    "            (ser == '-').sum(),\n",
    "            (ser == '0').sum(),\n",
    "            (ser == '—').sum(),\n",
    "            ser.str.contains('[A-Za-z]', na=False).sum())\n",
    "            )\n",
    "placeholder_counts = pd.DataFrame(counts, columns=[\"filename\",\"col\",\"ハイフン半角\",\"ゼロ\",\"ハイフン全角\",\"alphabet\"])\n",
    "display(placeholder_counts)\n"
   ]
  },
  {
   "cell_type": "markdown",
   "metadata": {},
   "source": [
    "## 📥 データ読み込み"
   ]
  },
  {
   "cell_type": "code",
   "execution_count": null,
   "metadata": {},
   "outputs": [],
   "source": [
    "all_df = dl.load_yearly_data(settings[\"data_path\"], settings[\"years\"], settings[\"files\"], settings[\"na_values\"])\n",
    "#display(all_df[settings[\"files\"][0]].head(1000))"
   ]
  },
  {
   "cell_type": "markdown",
   "metadata": {},
   "source": [
    "## 🧹 欠損値の傾向を大まかに確認する\n",
    "ここでは、後の分析・スクリーニングの処理を適切に設計するため、欠損値の傾向を確認します。  \n",
    "<details><summary><b>分析内容</b></summary>\n",
    "\n",
    "- 列ごとの欠損値の割合を確認する\n",
    "- 年ごとの欠損率の傾向を確認する\n",
    "- 企業コードごとの欠損率の傾向を確認する\n",
    "<br>\n",
    "</details>\n",
    "<details><summary><b>結果と考察</b></summary>\n",
    "\n",
    "- fy-balance-sheet.csv\n",
    "- fy-cash-flow-statement.csv\n",
    "- fy-profit-and-loss.csv\n",
    "- fy-stock-dividend.csv\n",
    "</details>\n"
   ]
  },
  {
   "cell_type": "markdown",
   "metadata": {},
   "source": [
    "### 列ごとの欠損値の割合を確認する"
   ]
  },
  {
   "cell_type": "code",
   "execution_count": null,
   "metadata": {},
   "outputs": [],
   "source": [
    "df_combined = pd.DataFrame()\n",
    "for filename in settings[\"files\"]:\n",
    "    df = all_df[filename].copy()\n",
    "    missing_column_df = df.drop(columns=[\"コード\", \"年度\"]).isna().mean()\n",
    "    df_combined = pd.concat([df_combined, missing_column_df], axis=0)\n",
    "fig = px.bar(df_combined, x=df_combined.index, y=df_combined[0], labels={\"x\":\"項目\",\"y\":\"欠損率\"}, title=\"平均欠損率\")\n",
    "fig.show()"
   ]
  },
  {
   "cell_type": "markdown",
   "metadata": {},
   "source": [
    "### 年ごとの欠損率の傾向を確認"
   ]
  },
  {
   "cell_type": "code",
   "execution_count": null,
   "metadata": {},
   "outputs": [],
   "source": [
    "df_combined = pd.DataFrame()\n",
    "for filename in settings[\"files\"]:\n",
    "    df = all_df[filename].copy()\n",
    "    df[\"年度_年\"] = df[\"年度\"].astype(str).str[:4].astype(int)\n",
    "\n",
    "    missing_ratio_by_year = (\n",
    "        df.drop(columns=[\"コード\", \"年度\"])\n",
    "        .groupby(\"年度_年\")\n",
    "        .agg(lambda g: g.isnull().mean())\n",
    "        .reset_index()\n",
    "    )\n",
    "    missing_ratio_by_year = missing_ratio_by_year.set_index(\"年度_年\")\n",
    "    df_combined = pd.concat([df_combined, missing_ratio_by_year], axis=1)\n",
    "#display(df_combined)\n",
    "fig = px.line(\n",
    "    df_combined,\n",
    "    title=\"年度別 欠損値割合の推移\",\n",
    "    markers=True,\n",
    ")\n",
    "fig.show()"
   ]
  },
  {
   "cell_type": "markdown",
   "metadata": {},
   "source": [
    "### 企業コードごとの欠損率の傾向を確認"
   ]
  },
  {
   "cell_type": "code",
   "execution_count": 9,
   "metadata": {},
   "outputs": [
    {
     "data": {
      "application/vnd.plotly.v1+json": {
       "config": {
        "plotlyServerURL": "https://plot.ly"
       },
       "data": [
        {
         "bingroup": "x",
         "hovertemplate": "平均欠損率=%{x}<br>count=%{y}<extra></extra>",
         "legendgroup": "",
         "marker": {
          "color": "#636efa",
          "pattern": {
           "shape": ""
          }
         },
         "name": "",
         "nbinsx": 50,
         "orientation": "v",
         "showlegend": false,
         "type": "histogram",
         "x": {
          "bdata": "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",
          "dtype": "f8"
         },
         "xaxis": "x",
         "yaxis": "y"
        }
       ],
       "layout": {
        "barmode": "relative",
        "legend": {
         "tracegroupgap": 0
        },
        "template": {
         "data": {
          "bar": [
           {
            "error_x": {
             "color": "#2a3f5f"
            },
            "error_y": {
             "color": "#2a3f5f"
            },
            "marker": {
             "line": {
              "color": "#E5ECF6",
              "width": 0.5
             },
             "pattern": {
              "fillmode": "overlay",
              "size": 10,
              "solidity": 0.2
             }
            },
            "type": "bar"
           }
          ],
          "barpolar": [
           {
            "marker": {
             "line": {
              "color": "#E5ECF6",
              "width": 0.5
             },
             "pattern": {
              "fillmode": "overlay",
              "size": 10,
              "solidity": 0.2
             }
            },
            "type": "barpolar"
           }
          ],
          "carpet": [
           {
            "aaxis": {
             "endlinecolor": "#2a3f5f",
             "gridcolor": "white",
             "linecolor": "white",
             "minorgridcolor": "white",
             "startlinecolor": "#2a3f5f"
            },
            "baxis": {
             "endlinecolor": "#2a3f5f",
             "gridcolor": "white",
             "linecolor": "white",
             "minorgridcolor": "white",
             "startlinecolor": "#2a3f5f"
            },
            "type": "carpet"
           }
          ],
          "choropleth": [
           {
            "colorbar": {
             "outlinewidth": 0,
             "ticks": ""
            },
            "type": "choropleth"
           }
          ],
          "contour": [
           {
            "colorbar": {
             "outlinewidth": 0,
             "ticks": ""
            },
            "colorscale": [
             [
              0,
              "#0d0887"
             ],
             [
              0.1111111111111111,
              "#46039f"
             ],
             [
              0.2222222222222222,
              "#7201a8"
             ],
             [
              0.3333333333333333,
              "#9c179e"
             ],
             [
              0.4444444444444444,
              "#bd3786"
             ],
             [
              0.5555555555555556,
              "#d8576b"
             ],
             [
              0.6666666666666666,
              "#ed7953"
             ],
             [
              0.7777777777777778,
              "#fb9f3a"
             ],
             [
              0.8888888888888888,
              "#fdca26"
             ],
             [
              1,
              "#f0f921"
             ]
            ],
            "type": "contour"
           }
          ],
          "contourcarpet": [
           {
            "colorbar": {
             "outlinewidth": 0,
             "ticks": ""
            },
            "type": "contourcarpet"
           }
          ],
          "heatmap": [
           {
            "colorbar": {
             "outlinewidth": 0,
             "ticks": ""
            },
            "colorscale": [
             [
              0,
              "#0d0887"
             ],
             [
              0.1111111111111111,
              "#46039f"
             ],
             [
              0.2222222222222222,
              "#7201a8"
             ],
             [
              0.3333333333333333,
              "#9c179e"
             ],
             [
              0.4444444444444444,
              "#bd3786"
             ],
             [
              0.5555555555555556,
              "#d8576b"
             ],
             [
              0.6666666666666666,
              "#ed7953"
             ],
             [
              0.7777777777777778,
              "#fb9f3a"
             ],
             [
              0.8888888888888888,
              "#fdca26"
             ],
             [
              1,
              "#f0f921"
             ]
            ],
            "type": "heatmap"
           }
          ],
          "histogram": [
           {
            "marker": {
             "pattern": {
              "fillmode": "overlay",
              "size": 10,
              "solidity": 0.2
             }
            },
            "type": "histogram"
           }
          ],
          "histogram2d": [
           {
            "colorbar": {
             "outlinewidth": 0,
             "ticks": ""
            },
            "colorscale": [
             [
              0,
              "#0d0887"
             ],
             [
              0.1111111111111111,
              "#46039f"
             ],
             [
              0.2222222222222222,
              "#7201a8"
             ],
             [
              0.3333333333333333,
              "#9c179e"
             ],
             [
              0.4444444444444444,
              "#bd3786"
             ],
             [
              0.5555555555555556,
              "#d8576b"
             ],
             [
              0.6666666666666666,
              "#ed7953"
             ],
             [
              0.7777777777777778,
              "#fb9f3a"
             ],
             [
              0.8888888888888888,
              "#fdca26"
             ],
             [
              1,
              "#f0f921"
             ]
            ],
            "type": "histogram2d"
           }
          ],
          "histogram2dcontour": [
           {
            "colorbar": {
             "outlinewidth": 0,
             "ticks": ""
            },
            "colorscale": [
             [
              0,
              "#0d0887"
             ],
             [
              0.1111111111111111,
              "#46039f"
             ],
             [
              0.2222222222222222,
              "#7201a8"
             ],
             [
              0.3333333333333333,
              "#9c179e"
             ],
             [
              0.4444444444444444,
              "#bd3786"
             ],
             [
              0.5555555555555556,
              "#d8576b"
             ],
             [
              0.6666666666666666,
              "#ed7953"
             ],
             [
              0.7777777777777778,
              "#fb9f3a"
             ],
             [
              0.8888888888888888,
              "#fdca26"
             ],
             [
              1,
              "#f0f921"
             ]
            ],
            "type": "histogram2dcontour"
           }
          ],
          "mesh3d": [
           {
            "colorbar": {
             "outlinewidth": 0,
             "ticks": ""
            },
            "type": "mesh3d"
           }
          ],
          "parcoords": [
           {
            "line": {
             "colorbar": {
              "outlinewidth": 0,
              "ticks": ""
             }
            },
            "type": "parcoords"
           }
          ],
          "pie": [
           {
            "automargin": true,
            "type": "pie"
           }
          ],
          "scatter": [
           {
            "fillpattern": {
             "fillmode": "overlay",
             "size": 10,
             "solidity": 0.2
            },
            "type": "scatter"
           }
          ],
          "scatter3d": [
           {
            "line": {
             "colorbar": {
              "outlinewidth": 0,
              "ticks": ""
             }
            },
            "marker": {
             "colorbar": {
              "outlinewidth": 0,
              "ticks": ""
             }
            },
            "type": "scatter3d"
           }
          ],
          "scattercarpet": [
           {
            "marker": {
             "colorbar": {
              "outlinewidth": 0,
              "ticks": ""
             }
            },
            "type": "scattercarpet"
           }
          ],
          "scattergeo": [
           {
            "marker": {
             "colorbar": {
              "outlinewidth": 0,
              "ticks": ""
             }
            },
            "type": "scattergeo"
           }
          ],
          "scattergl": [
           {
            "marker": {
             "colorbar": {
              "outlinewidth": 0,
              "ticks": ""
             }
            },
            "type": "scattergl"
           }
          ],
          "scattermap": [
           {
            "marker": {
             "colorbar": {
              "outlinewidth": 0,
              "ticks": ""
             }
            },
            "type": "scattermap"
           }
          ],
          "scattermapbox": [
           {
            "marker": {
             "colorbar": {
              "outlinewidth": 0,
              "ticks": ""
             }
            },
            "type": "scattermapbox"
           }
          ],
          "scatterpolar": [
           {
            "marker": {
             "colorbar": {
              "outlinewidth": 0,
              "ticks": ""
             }
            },
            "type": "scatterpolar"
           }
          ],
          "scatterpolargl": [
           {
            "marker": {
             "colorbar": {
              "outlinewidth": 0,
              "ticks": ""
             }
            },
            "type": "scatterpolargl"
           }
          ],
          "scatterternary": [
           {
            "marker": {
             "colorbar": {
              "outlinewidth": 0,
              "ticks": ""
             }
            },
            "type": "scatterternary"
           }
          ],
          "surface": [
           {
            "colorbar": {
             "outlinewidth": 0,
             "ticks": ""
            },
            "colorscale": [
             [
              0,
              "#0d0887"
             ],
             [
              0.1111111111111111,
              "#46039f"
             ],
             [
              0.2222222222222222,
              "#7201a8"
             ],
             [
              0.3333333333333333,
              "#9c179e"
             ],
             [
              0.4444444444444444,
              "#bd3786"
             ],
             [
              0.5555555555555556,
              "#d8576b"
             ],
             [
              0.6666666666666666,
              "#ed7953"
             ],
             [
              0.7777777777777778,
              "#fb9f3a"
             ],
             [
              0.8888888888888888,
              "#fdca26"
             ],
             [
              1,
              "#f0f921"
             ]
            ],
            "type": "surface"
           }
          ],
          "table": [
           {
            "cells": {
             "fill": {
              "color": "#EBF0F8"
             },
             "line": {
              "color": "white"
             }
            },
            "header": {
             "fill": {
              "color": "#C8D4E3"
             },
             "line": {
              "color": "white"
             }
            },
            "type": "table"
           }
          ]
         },
         "layout": {
          "annotationdefaults": {
           "arrowcolor": "#2a3f5f",
           "arrowhead": 0,
           "arrowwidth": 1
          },
          "autotypenumbers": "strict",
          "coloraxis": {
           "colorbar": {
            "outlinewidth": 0,
            "ticks": ""
           }
          },
          "colorscale": {
           "diverging": [
            [
             0,
             "#8e0152"
            ],
            [
             0.1,
             "#c51b7d"
            ],
            [
             0.2,
             "#de77ae"
            ],
            [
             0.3,
             "#f1b6da"
            ],
            [
             0.4,
             "#fde0ef"
            ],
            [
             0.5,
             "#f7f7f7"
            ],
            [
             0.6,
             "#e6f5d0"
            ],
            [
             0.7,
             "#b8e186"
            ],
            [
             0.8,
             "#7fbc41"
            ],
            [
             0.9,
             "#4d9221"
            ],
            [
             1,
             "#276419"
            ]
           ],
           "sequential": [
            [
             0,
             "#0d0887"
            ],
            [
             0.1111111111111111,
             "#46039f"
            ],
            [
             0.2222222222222222,
             "#7201a8"
            ],
            [
             0.3333333333333333,
             "#9c179e"
            ],
            [
             0.4444444444444444,
             "#bd3786"
            ],
            [
             0.5555555555555556,
             "#d8576b"
            ],
            [
             0.6666666666666666,
             "#ed7953"
            ],
            [
             0.7777777777777778,
             "#fb9f3a"
            ],
            [
             0.8888888888888888,
             "#fdca26"
            ],
            [
             1,
             "#f0f921"
            ]
           ],
           "sequentialminus": [
            [
             0,
             "#0d0887"
            ],
            [
             0.1111111111111111,
             "#46039f"
            ],
            [
             0.2222222222222222,
             "#7201a8"
            ],
            [
             0.3333333333333333,
             "#9c179e"
            ],
            [
             0.4444444444444444,
             "#bd3786"
            ],
            [
             0.5555555555555556,
             "#d8576b"
            ],
            [
             0.6666666666666666,
             "#ed7953"
            ],
            [
             0.7777777777777778,
             "#fb9f3a"
            ],
            [
             0.8888888888888888,
             "#fdca26"
            ],
            [
             1,
             "#f0f921"
            ]
           ]
          },
          "colorway": [
           "#636efa",
           "#EF553B",
           "#00cc96",
           "#ab63fa",
           "#FFA15A",
           "#19d3f3",
           "#FF6692",
           "#B6E880",
           "#FF97FF",
           "#FECB52"
          ],
          "font": {
           "color": "#2a3f5f"
          },
          "geo": {
           "bgcolor": "white",
           "lakecolor": "white",
           "landcolor": "#E5ECF6",
           "showlakes": true,
           "showland": true,
           "subunitcolor": "white"
          },
          "hoverlabel": {
           "align": "left"
          },
          "hovermode": "closest",
          "mapbox": {
           "style": "light"
          },
          "paper_bgcolor": "white",
          "plot_bgcolor": "#E5ECF6",
          "polar": {
           "angularaxis": {
            "gridcolor": "white",
            "linecolor": "white",
            "ticks": ""
           },
           "bgcolor": "#E5ECF6",
           "radialaxis": {
            "gridcolor": "white",
            "linecolor": "white",
            "ticks": ""
           }
          },
          "scene": {
           "xaxis": {
            "backgroundcolor": "#E5ECF6",
            "gridcolor": "white",
            "gridwidth": 2,
            "linecolor": "white",
            "showbackground": true,
            "ticks": "",
            "zerolinecolor": "white"
           },
           "yaxis": {
            "backgroundcolor": "#E5ECF6",
            "gridcolor": "white",
            "gridwidth": 2,
            "linecolor": "white",
            "showbackground": true,
            "ticks": "",
            "zerolinecolor": "white"
           },
           "zaxis": {
            "backgroundcolor": "#E5ECF6",
            "gridcolor": "white",
            "gridwidth": 2,
            "linecolor": "white",
            "showbackground": true,
            "ticks": "",
            "zerolinecolor": "white"
           }
          },
          "shapedefaults": {
           "line": {
            "color": "#2a3f5f"
           }
          },
          "ternary": {
           "aaxis": {
            "gridcolor": "white",
            "linecolor": "white",
            "ticks": ""
           },
           "baxis": {
            "gridcolor": "white",
            "linecolor": "white",
            "ticks": ""
           },
           "bgcolor": "#E5ECF6",
           "caxis": {
            "gridcolor": "white",
            "linecolor": "white",
            "ticks": ""
           }
          },
          "title": {
           "x": 0.05
          },
          "xaxis": {
           "automargin": true,
           "gridcolor": "white",
           "linecolor": "white",
           "ticks": "",
           "title": {
            "standoff": 15
           },
           "zerolinecolor": "white",
           "zerolinewidth": 2
          },
          "yaxis": {
           "automargin": true,
           "gridcolor": "white",
           "linecolor": "white",
           "ticks": "",
           "title": {
            "standoff": 15
           },
           "zerolinecolor": "white",
           "zerolinewidth": 2
          }
         }
        },
        "title": {
         "text": "全企業の欠損率分布"
        },
        "xaxis": {
         "anchor": "y",
         "domain": [
          0,
          1
         ],
         "title": {
          "text": "平均欠損率"
         }
        },
        "yaxis": {
         "anchor": "x",
         "domain": [
          0,
          1
         ],
         "title": {
          "text": "count"
         }
        }
       }
      }
     },
     "metadata": {},
     "output_type": "display_data"
    }
   ],
   "source": [
    "# コードごとに平均欠損率を計算する\n",
    "merged = all_df[settings[\"files\"][0]]\n",
    "for filename in settings[\"files\"][1:]:\n",
    "    df = all_df[filename]\n",
    "    merged = pd.merge(merged, df, on=[\"コード\", \"年度\"], how=\"outer\")\n",
    "#display(merged)\n",
    "# コードごとに欠損率を計算\n",
    "missing_score = (\n",
    "    merged\n",
    "    .drop(\"年度\",axis=1)\n",
    "    .groupby(\"コード\")\n",
    "    .agg(lambda x: x.isnull().mean())  # 各列ごとの欠損率\n",
    "    .mean(axis=1)                      # 列平均\n",
    "    .reset_index(name=\"平均欠損率\")\n",
    ")\n",
    "#display(missing_score.head(10))\n",
    "fig = px.histogram(missing_score, x=\"平均欠損率\",nbins=50,\n",
    "    title=\"全企業の欠損率分布\", labels={\"平均欠損率\": \"平均欠損率\"})\n",
    "fig.show()"
   ]
  },
  {
   "cell_type": "markdown",
   "metadata": {},
   "source": [
    "## 🧽 欠損値の傾向を詳細に分析する\n",
    "ここでは、大まかな傾向から、詳細に欠損値の傾向を確認します。  \n",
    "<details><summary><b>分析内容</b></summary>\n",
    "\n",
    "\n",
    "<br>\n",
    "</details>\n",
    "<details><summary><b>結果と考察</b></summary>\n",
    "\n",
    "- fy-balance-sheet.csv\n",
    "- fy-cash-flow-statement.csv\n",
    "- fy-profit-and-loss.csv\n",
    "- fy-stock-dividend.csv\n",
    "</details>"
   ]
  },
  {
   "cell_type": "code",
   "execution_count": null,
   "metadata": {},
   "outputs": [],
   "source": [
    "# 分析 fy-balance-sheet.csv\n",
    "target_file = files[0]\n",
    "\n",
    "fig = px.histogram(\n",
    "    missing_score[target_file],  # 最初のファイルのデータを使用\n",
    "    x=\"平均欠損率\",\n",
    "    nbins=50,\n",
    "    title=\"全企業の欠損率分布\"+files[0],\n",
    "    labels={\"平均欠損率\": \"平均欠損率\"}\n",
    ")\n",
    "#fig.show()\n",
    "# 特定範囲の欠損率を持つコードを抽出\n",
    "threshold_low = 0.215\n",
    "threshold_high= 0.225\n",
    "filtered_codes = missing_score[target_file][\n",
    "    (missing_score[target_file][\"平均欠損率\"] >= threshold_low) &\n",
    "    (missing_score[target_file][\"平均欠損率\"] < threshold_high)\n",
    "]\n",
    "#display(filtered_codes)\n",
    "# 列別欠損率\n",
    "df_by_code = all_df[target_file].set_index(\"コード\") # 企業コードを index にする\n",
    "codes = filtered_codes[\"コード\"].tolist() # 企業コードをリスト化\n",
    "subset = df_by_code.loc[df_by_code.index.isin(codes)] # 企業コードのデータ抽出\n",
    "#print(df_by_code)\n",
    "col_missing = subset.isnull().mean().sort_values(ascending=False) # 列別欠損率\n",
    "#display(col_missing)\n",
    "\n",
    "#年次別の欠損率推移確認\n",
    "df = all_df[target_file]\n",
    "year_all = (\n",
    "    df.groupby('年度')[['短期借入金', '長期借入金']].apply(lambda d: d.isnull().mean())\n",
    "    .apply(lambda d: d)\n",
    "    .reset_index()\n",
    ")\n",
    "# 欠損率の推移を可視化\n",
    "fig = px.line(\n",
    "    year_all,\n",
    "    x=\"年度\",\n",
    "    y=[\"短期借入金\", \"長期借入金\"],  # 複数列を同時に表示\n",
    "    markers=True,\n",
    "    title=\"各列の欠損率の推移\"\n",
    ")\n",
    "#fig.show()\n",
    "# 各企業の年次ごとの欠損率を計算し、\"常時欠損\" と \"変化あり\" を分類\n",
    "status = {}\n",
    "code_groups = subset.groupby(\"コード\")\n",
    "for code, g in code_groups:\n",
    "    rate_by_year = g[['短期借入金','長期借入金']].isnull().mean(axis=1)  # 年行ごとの欠損率\n",
    "    if rate_by_year.nunique() == 1 and rate_by_year.iloc[0] == 1.0:\n",
    "        status[code] = 'always_missing'\n",
    "    else:\n",
    "        status[code] = 'variable'\n",
    "pd.Series(status).value_counts()\n",
    "# variable の一部を表示して具体的な年次パターンを確認\n",
    "#for code, st in list(status.items())[:100]:\n",
    "    #if st == 'variable':\n",
    "        #print(code)\n",
    "        #display(code_groups.get_group(code)[['年度','短期借入金','長期借入金']].head(20))\n",
    "# 業種に偏りがあるか確認\n",
    "codes = filtered_codes[\"コード\"].tolist()\n",
    "p = os.path.join(base_path, files_reference[0])\n",
    "df = pd.read_csv(p,header=0,na_values=[])\n",
    "# 全体データ\n",
    "df_all = df.copy()\n",
    "df_all[\"区分\"] = \"全体\"\n",
    "# subsetデータ\n",
    "df_sub = df[df[\"コード\"].isin(codes)].copy()\n",
    "df_sub[\"区分\"] = \"抽出subset\"\n",
    "# 結合\n",
    "df_combined = pd.concat([df_all, df_sub])\n",
    "# Plotly Expressで可視化\n",
    "fig = px.histogram(\n",
    "    df_combined,\n",
    "    x=\"33業種区分\",\n",
    "    color=\"区分\",\n",
    "    barmode=\"group\",\n",
    "    histnorm=\"percent\",  # ← 割合表示\n",
    "    title=\"33業種区分別の構成比比較（全体 vs 抽出subset）\"\n",
    ")\n",
    "#fig.show()\n"
   ]
  },
  {
   "cell_type": "code",
   "execution_count": null,
   "metadata": {},
   "outputs": [],
   "source": [
    "# 時価総額に偏りがあるか確認\n",
    "# 時価総額の推定モデル：推定時価総額 = (PER * EPS) * (自己資本 / BPS) * (ROE / 10 + 営業CFマージン)\n",
    "# 4つのファイルを結合\n",
    "df_combined = pd.DataFrame()\n",
    "for filename in files:\n",
    "    df=all_df[filename]\n",
    "    df_combined = pd.concat([df_combined, df], axis=0)\n",
    "#display(df_combined)\n",
    "df = df_combined[[\"コード\",\"年度\",\"純利益\",\"EPS\",\"株主資本\",\"BPS\",\"ROE\",\"営業CFマージン\"]].copy()\n",
    "def combine_nonnull(series):\n",
    "    #そのグループ内で最初に非NaNの値を返す\n",
    "    return series.dropna().iloc[0] if series.notna().any() else np.nan\n",
    "\n",
    "# 「コード」「年度」でグループ化して統合\n",
    "df_merged = (\n",
    "    df.groupby([\"コード\", \"年度\"], as_index=False)\n",
    "      .agg(combine_nonnull)\n",
    "      .sort_values([\"コード\", \"年度\"])\n",
    "      .reset_index(drop=True)\n",
    ")\n",
    "#display(df_merged.head(1000))"
   ]
  },
  {
   "cell_type": "code",
   "execution_count": null,
   "metadata": {},
   "outputs": [],
   "source": [
    "df_merged[\"推定時価総額\"] = (\n",
    "    (df_merged[\"純利益\"] * df_merged[\"EPS\"]) *\n",
    "    (df_merged[\"株主資本\"] / df_merged[\"BPS\"]) *\n",
    "    (df_merged[\"ROE\"] / 10 + df_merged[\"営業CFマージン\"])\n",
    ")\n",
    "#display(df_merged.head(1000))\n",
    "df_all = df_merged.copy()\n",
    "df_all[\"区分\"] = \"全体\"\n",
    "# subsetデータ\n",
    "codes = filtered_codes[\"コード\"].tolist()\n",
    "df_sub = df_merged[df_merged[\"コード\"].isin(codes)].copy()\n",
    "df_sub[\"区分\"] = \"抽出subset\"\n",
    "# 結合\n",
    "df_combined = pd.concat([df_all, df_sub])\n",
    "# Plotly Expressで可視化\n",
    "fig = px.histogram(\n",
    "    df_combined,\n",
    "    x=\"推定時価総額\",\n",
    "    color=\"区分\",\n",
    "    barmode=\"group\",\n",
    "    title=\"推定時価総額別の構成比比較（全体 vs 抽出subset）\"\n",
    ")\n",
    "fig.show()"
   ]
  },
  {
   "cell_type": "markdown",
   "metadata": {},
   "source": [
    "# OLD --- IGNORE ---"
   ]
  },
  {
   "cell_type": "code",
   "execution_count": null,
   "metadata": {},
   "outputs": [],
   "source": [
    "# IR bankのデータから必要なデータを吸い上げる\n",
    "import pandas as pd\n",
    "import myLibStandard as myLib\n",
    "myLib.set_DisplayOption()\n",
    "\n",
    "# BSから必要なデータを取得\n",
    "dfBalanceSheet = pd.DataFrame()\n",
    "dl = [\"fy-balance-sheet\", \"fy-cash-flow-statement\", \"fy-profit-and-loss\", \"fy-stock-dividend\"]\n",
    "for folder in range(2010, 2026):\n",
    "    df = pd.read_csv(myLib.pathDataDomesticData + str(folder) + \"/fy-balance-sheet.csv\",\\\n",
    "    header=1, index_col=[\"コード\", \"年度\"], dtype={\"コード\":\"str\"})\n",
    "    dfBalanceSheet = pd.concat([dfBalanceSheet, df], axis=0, join=\"outer\")\n",
    "dfBalanceSheet = dfBalanceSheet.sort_index()\n",
    "dfBalanceSheet = dfBalanceSheet.loc[~dfBalanceSheet.index.duplicated(\"last\")]\n",
    "\n",
    "# PLから必要なデータを取得\n",
    "dfProftLoss = pd.DataFrame()\n",
    "for folder in range(2010, 2026):\n",
    "    df = pd.read_csv(myLib.pathDataDomesticData + str(folder) + \"/\" + \"fy-profit-and-loss.csv\",\\\n",
    "    header=1, index_col=[\"コード\", \"年度\"], dtype={\"コード\":\"str\"})\n",
    "    dfProftLoss = pd.concat([dfProftLoss, df], axis=0, join=\"outer\")\n",
    "dfProftLoss = dfProftLoss.sort_index()\n",
    "dfProftLoss = dfProftLoss.loc[~dfProftLoss.index.duplicated(\"last\")]\n",
    "\n",
    "# SDから必要なデータを取得\n",
    "dfStockDividend = pd.DataFrame()\n",
    "for folder in range(2010, 2026):\n",
    "    df = pd.read_csv(myLib.pathDataDomesticData + str(folder) + \"/\" + \"fy-stock-dividend.csv\",\\\n",
    "    header=1, index_col=[\"コード\", \"年度\"], dtype={\"コード\":\"str\"})\n",
    "    dfStockDividend = pd.concat([dfStockDividend, df], axis=0, join=\"outer\")\n",
    "dfStockDividend = dfStockDividend.loc[~dfStockDividend.index.duplicated(\"last\")]\n",
    "dfStockDividend = dfStockDividend.sort_index(level=[\"コード\"])\n",
    "#display(dfStockDividend)\n",
    "\n",
    "dfAll = pd.concat([dfBalanceSheet, dfProftLoss], axis=1, join=\"outer\")\n",
    "dfAll = pd.concat([dfAll, dfStockDividend], axis=1, join=\"outer\")\n",
    "dfAll = dfAll.sort_index()\n",
    "#display(dfAll.head(1000))\n",
    "dfAll.to_csv(myLib.pathDataSummaryDomesticData + \"IR_Bank_Data.csv\")\n"
   ]
  },
  {
   "cell_type": "code",
   "execution_count": null,
   "metadata": {},
   "outputs": [],
   "source": [
    "# データがないセルを\"-\"からnullに変換する\n",
    "import pandas as pd\n",
    "import math\n",
    "import myLibStandard as myLib\n",
    "myLib.set_DisplayOption()\n",
    "\n",
    "dfAll = pd.read_csv(myLib.pathDataSummaryDomesticData + \"IR_Bank_Data.csv\",index_col=[\"コード\", \"年度\"], dtype=\"str\")\n",
    "dfAll = dfAll.sort_index()\n",
    "for column in dfAll:\n",
    "    dfAll[column] = dfAll[column].replace(\"-\", math.nan)\n",
    "    dfAll[column] = dfAll[column].replace(0, math.nan)\n",
    "\n",
    "dfAll.to_csv(myLib.pathDataSummaryDomesticData + \"IR_Bank_Data.csv\")\n"
   ]
  },
  {
   "cell_type": "code",
   "execution_count": null,
   "metadata": {},
   "outputs": [],
   "source": [
    "# データが0の場合はNANにする（ゼロ割り算エラーを避けるため）\n",
    "import pandas as pd\n",
    "import math\n",
    "import myLibStandard as myLib\n",
    "myLib.set_DisplayOption()\n",
    "dfAll = pd.read_csv(myLib.pathDataSummaryDomesticData + \"IR_Bank_Data.csv\", dtype={\"コード\":\"str\"})\n",
    "\n",
    "for i in dfAll.index:\n",
    "    if dfAll.loc[i, \"EPS\"] == 0:\n",
    "        dfAll.loc[i, \"EPS\"] = math.nan\n",
    "    if dfAll.loc[i, \"BPS\"] == 0:\n",
    "        dfAll.loc[i, \"BPS\"] = math.nan\n",
    "dfAll = dfAll.set_index([\"コード\", \"年度\"])\n",
    "#display(dfAll.head(1000))\n",
    "dfAll.to_csv(myLib.pathDataSummaryDomesticData + \"IR_Bank_Data.csv\")"
   ]
  },
  {
   "cell_type": "markdown",
   "metadata": {},
   "source": [
    "##### 銘柄名や業種を取得"
   ]
  },
  {
   "cell_type": "code",
   "execution_count": null,
   "metadata": {},
   "outputs": [],
   "source": [
    "# シンボルリスト取得、保存\n",
    "from stocksymbol import StockSymbol\n",
    "api_key = '63ed951b-b643-48b1-bfe7-90c7a4f96349'\n",
    "ss = StockSymbol(api_key)\n",
    "symbol_list_japan = ss.get_symbol_list(market=\"Japan\") # \"us\" or \"america\" will also work\n",
    "df = symbol_list_japan\n",
    "df = pd.DataFrame(df)\n",
    "df.to_csv(myLib.pathDataSummaryDomesticData + \"symbol.csv\")"
   ]
  },
  {
   "cell_type": "code",
   "execution_count": null,
   "metadata": {},
   "outputs": [],
   "source": [
    "# Code一覧から銘柄の情報を取得し、登録する。ないものはデータから削除する\n",
    "import pandas as pd\n",
    "import myLibStandard as myLib\n",
    "import warnings\n",
    "#warnings.simplefilter('ignore')\n",
    "myLib.set_DisplayOption()\n",
    "\n",
    "dfAll = pd.read_csv(myLib.pathDataSummaryDomesticData + \"IR_Bank_Data.csv\",index_col=[\"コード\", \"年度\"], dtype={\"コード\":str})\n",
    "dfCode = pd.read_csv(myLib.pathDataSummaryDomesticData + \"CodeData.csv\",usecols=[\"コード\", \"銘柄名\", \"市場・商品区分\", \"33業種区分\"],\\\n",
    "index_col=[\"コード\"], dtype=str)\n",
    "dfAll[\"銘柄\"] = None\n",
    "dfAll[\"市場\"] = None\n",
    "dfAll[\"業種\"] = None\n",
    "dfAll = dfAll.sort_index()\n",
    "dlCode = dfAll.groupby(level='コード').size().index.tolist()\n",
    "dlDelCode = []\n",
    "for code in dlCode:\n",
    "    try:\n",
    "        dfAll.loc[(code,), \"銘柄\"] = dfCode.loc[code, \"銘柄名\"]\n",
    "        dfAll.loc[(code,), \"市場\"] = dfCode.loc[code, \"市場・商品区分\"]\n",
    "        dfAll.loc[(code,), \"業種\"] = dfCode.loc[code, \"33業種区分\"]\n",
    "    except KeyError:\n",
    "        dlDelCode.append(code)\n",
    "\n",
    "dfAll = dfAll.reset_index(\"年度\")\n",
    "for dl in dlDelCode:\n",
    "    dfAll = dfAll.drop(dl,axis=0)\n",
    "dfAll.to_csv(myLib.pathDataSummaryDomesticData + \"DataPreprocessing.csv\")"
   ]
  },
  {
   "cell_type": "markdown",
   "metadata": {},
   "source": [
    "##### 銘柄のテーマ情報を取得し登録する"
   ]
  },
  {
   "cell_type": "code",
   "execution_count": null,
   "metadata": {},
   "outputs": [],
   "source": [
    "# テーマ情報をCSVからとってきてテーマフラグを立てる\n",
    "import pandas as pd\n",
    "import myLibStandard as myLib\n",
    "import warnings\n",
    "myLib.set_DisplayOption()\n",
    "\n",
    "dfAll = pd.read_csv(myLib.pathDataSummaryDomesticData + \"DataPreprocessing.csv\",index_col=\"コード\", dtype={\"コード\":str})\n",
    "\n",
    "def get_ThemeList(filname):\n",
    "    df = pd.read_csv(myLib.pathDataDomesticData + filname, index_col=\"コード\", dtype={\"コード\":str})\n",
    "    return df\n",
    "\n",
    "dlname = [\"DOE採用銘柄\", \"円高メリット\", \"減配なし\", \"親子上場\", \"累進配当\"]\n",
    "for name in dlname:\n",
    "    dfTheme = get_ThemeList(name + \".csv\")\n",
    "    for code in dfTheme.index:\n",
    "        if code in dfAll.index:\n",
    "            dfAll.loc[code, name] = 1\n",
    "\n",
    "dfAll.to_csv(myLib.pathDataSummaryDomesticData + \"DataPreprocessing.csv\")\n"
   ]
  },
  {
   "cell_type": "markdown",
   "metadata": {},
   "source": [
    "## 分析値の計算、追加"
   ]
  },
  {
   "cell_type": "markdown",
   "metadata": {},
   "source": [
    "##### データの登録（PER, PBR, MIX係数, 簡易理論株価, 安全域, 時価総額, 配当利回り, 資産価値を含めたPERを登録する）"
   ]
  },
  {
   "cell_type": "code",
   "execution_count": null,
   "metadata": {},
   "outputs": [],
   "source": [
    "# PER, PBR, 簡易理論株価, 安全域, 配当利回り, MIX係数, 時価総額, を登録する (※長時間)\n",
    "import pandas as pd\n",
    "import math\n",
    "import datetime\n",
    "import calendar\n",
    "from yahooquery import Ticker\n",
    "import myLibStandard as myLib\n",
    "import warnings\n",
    "warnings.simplefilter('ignore', FutureWarning)\n",
    "myLib.set_DisplayOption()\n",
    "\n",
    "#dfSymbol = pd.read_csv(myLib.pathDataSummaryDomesticData + \"symbol.csv\", dtype={\"symbol\":str})\n",
    "dfAll = pd.read_csv(myLib.pathDataSummaryDomesticData + \"DataPreprocessing.csv\",index_col=[\"コード\", \"年度\"], dtype={\"コード\":\"str\"})\n",
    "#dfAll = pd.read_csv(myLib.pathDataSummaryDomesticData + \"DomesticDataTable.csv\",index_col=[\"コード\", \"年度\"], dtype={\"コード\":str})\n",
    "\n",
    "dfAll[\"PER\"] = math.nan\n",
    "dfAll[\"PBR\"] = math.nan\n",
    "dfAll[\"簡易理論株価\"] = math.nan\n",
    "dfAll[\"安全域\"] = math.nan\n",
    "dfAll[\"配当利回り\"] = math.nan\n",
    "dfAll[\"MIX係数\"] = math.nan\n",
    "dfAll[\"時価総額\"] = math.nan\n",
    "dfAll[\"株価\"] = math.nan\n",
    "dfAll[\"営業利益率\"] = math.nan\n",
    "dfAll[\"経常利益率\"] = math.nan\n",
    "dfAll[\"純利益率\"] = math.nan\n",
    "dfAll[\"配当将来期待\"] = round(dfAll[\"ROE\"] - dfAll[\"純資産配当率\"] ,1)\n",
    "\n",
    "def get_StockValue(symbol):\n",
    "    yqData = Ticker(symbol+\".T\")\n",
    "    stockValue = yqData.history(start=\"2010-03-01\")\n",
    "    stockValue = stockValue.reset_index(level=[\"date\",'symbol'])\n",
    "    stockValue[\"date\"] = stockValue[\"date\"].apply(lambda x: pd.to_datetime(x).tz_localize(None))\n",
    "    stockValue[\"date\"] = pd.to_datetime(stockValue[\"date\"])\n",
    "    stockValue = stockValue.set_index(\"date\")\n",
    "    stockValue = stockValue[\"close\"].resample(\"D\").ffill()\n",
    "    return stockValue\n",
    "    #return pd.Series()\n",
    "\n",
    "dfAll = dfAll.sort_index()\n",
    "dlCode = dfAll.groupby(level='コード').size().index.tolist()\n",
    "i=0\n",
    "for code in dlCode:\n",
    "    if (i>=0) and (i<5000):\n",
    "        print(code)\n",
    "        dsStock = get_StockValue(str(code))\n",
    "        for date in dfAll.loc[(code,)].index:\n",
    "            dtDate = datetime.datetime.strptime(date, '%Y/%m')\n",
    "            dtDate = datetime.date(dtDate.year, dtDate.month, calendar.monthrange(dtDate.year, dtDate.month)[1])\n",
    "            try:\n",
    "                stockValue = dsStock.loc[dtDate.strftime(\"%Y-%m-%d\")]\n",
    "            except KeyError:\n",
    "                stockValue = math.nan\n",
    "            eps = float(dfAll.loc[(code, date), \"EPS\"])\n",
    "            bps = float(dfAll.loc[(code, date), \"BPS\"])\n",
    "            if eps < 0:\n",
    "                dfAll.loc[(code, date), \"PER\"] = math.nan\n",
    "            else:\n",
    "                dfAll.loc[(code, date), \"PER\"] = round(stockValue / eps, 2)\n",
    "            dfAll.loc[(code, date), \"簡易理論株価\"] = round(bps + eps * 10,2)\n",
    "            dfAll.loc[(code, date), \"PBR\"] = round(stockValue / bps, 2)\n",
    "            dfAll.loc[(code, date), \"配当利回り\"] = round(float(dfAll.loc[(code, date), \"一株配当\"] / stockValue *100),2)\n",
    "            dfAll.loc[(code, date), \"安全域\"] = round(dfAll.loc[(code, date), \"簡易理論株価\"] / stockValue, 2)\n",
    "            dfAll.loc[(code, date), \"MIX係数\"] = dfAll.loc[(code, date), \"PER\"] * dfAll.loc[(code, date), \"PBR\"]\n",
    "            dfAll.loc[(code, date), \"時価総額\"] = dfAll.loc[(code, date), \"PER\"] * dfAll.loc[(code, date), \"純利益\"]\n",
    "            dfAll.loc[(code, date), \"株価\"] = stockValue\n",
    "            dfAll.loc[(code, date), \"営業利益率\"] = round(dfAll.loc[(code, date), \"営業利益\"] / dfAll.loc[(code, date), \"売上高\"] * 100 ,2)\n",
    "            dfAll.loc[(code, date), \"経常利益率\"] = round(dfAll.loc[(code, date), \"経常利益\"] / dfAll.loc[(code, date), \"売上高\"] * 100 ,2)\n",
    "            dfAll.loc[(code, date), \"純利益率\"] = round(dfAll.loc[(code, date), \"純利益\"] / dfAll.loc[(code, date), \"売上高\"] * 100 ,2)\n",
    "    i+=1\n",
    "    if i%10==0:\n",
    "        print(code,i)\n",
    "        dfAll.to_csv(myLib.pathDataSummaryDomesticData + \"DomesticDataTable.csv\")\n",
    "dfAll.to_csv(myLib.pathDataSummaryDomesticData + \"DomesticDataTable.csv\")"
   ]
  },
  {
   "cell_type": "code",
   "execution_count": null,
   "metadata": {},
   "outputs": [],
   "source": [
    "# 資産価値を含めたPERを登録する (※長時間)\n",
    "import pandas as pd\n",
    "import math\n",
    "import datetime\n",
    "import calendar\n",
    "from yahooquery import Ticker\n",
    "import yfinance as yf\n",
    "import myLibStandard as myLib\n",
    "import warnings\n",
    "#warnings.simplefilter('ignore', FutureWarning)\n",
    "myLib.set_DisplayOption()\n",
    "\n",
    "#dfSymbol = pd.read_csv(myLib.pathDataSummaryDomesticData + \"symbol.csv\", dtype={\"symbol\":\"str\"})\n",
    "dfAll = pd.read_csv(myLib.pathDataSummaryDomesticData + \"DomesticDataTable.csv\",index_col=[\"コード\", \"年度\"], dtype={\"コード\":\"str\"})\n",
    "dfAll[\"資産価値を含めたPER\"] = math.nan\n",
    "\n",
    "dfAll = dfAll.sort_index()\n",
    "dlCode = dfAll.groupby(level='コード').size().index.tolist()\n",
    "#display(dlCode)\n",
    "i=0\n",
    "for code in dlCode:\n",
    "    if (i>=0) & (i<=5000):\n",
    "        print(code)\n",
    "        try:\n",
    "            balance_sheet = Ticker(code+\".T\").balance_sheet().reset_index().set_index(\"asOfDate\")\n",
    "        except AttributeError:\n",
    "            balance_sheet = Ticker(code+\".T\").balance_sheet()\n",
    "        #display(balance_sheet)\n",
    "        if type(balance_sheet) != str:\n",
    "            for date in balance_sheet.index:\n",
    "                dtDate = datetime.date(date.year,date.month,1)\n",
    "                strDate = datetime.date.strftime(dtDate, \"%Y/%m\")\n",
    "                try:\n",
    "                    CurrentAssets = balance_sheet.loc[date, \"CurrentAssets\"]\n",
    "                except KeyError:\n",
    "                    CurrentAssets = math.nan\n",
    "                try:\n",
    "                    NetDebt = balance_sheet.loc[date, \"NetDebt\"]\n",
    "                except KeyError:\n",
    "                    NetDebt = balance_sheet.loc[date, \"TotalAssets\"] - balance_sheet.loc[date, \"StockholdersEquity\"]\n",
    "                try:\n",
    "                    AvailableForSaleSecurities = balance_sheet.loc[date, \"AvailableForSaleSecurities\"]\n",
    "                except KeyError:\n",
    "                    AvailableForSaleSecurities = math.nan\n",
    "                netCash = CurrentAssets + NetDebt * 0.7 -AvailableForSaleSecurities\n",
    "                #print(netCash)\n",
    "                #print(date)\n",
    "                #display(dfAll.loc[(code, )].index)\n",
    "                try:\n",
    "                    dfAll.loc[(code, strDate), \"資産価値を含めたPER\"] = round(\\\n",
    "                    (dfAll.loc[(code, strDate), \"時価総額\"] - netCash) / dfAll.loc[(code, strDate), \"純利益\"], 2)\n",
    "                except KeyError:\n",
    "                    dfAll.loc[(code, strDate),:] = math.nan\n",
    "                    dfAll.loc[(code, strDate), \"資産価値を含めたPER\"] = round(\\\n",
    "                    (dfAll.loc[(code, strDate), \"時価総額\"] - netCash) / dfAll.loc[(code, strDate), \"純利益\"], 2)\n",
    "                #print(code, strDate, dfAll.loc[(code, strDate), \"資産価値を含めたPER\"])\n",
    "    i+=1\n",
    "    if i%10==0:\n",
    "        print(i)\n",
    "        dfAll.to_csv(myLib.pathDataSummaryDomesticData + \"DomesticDataTable.csv\")\n",
    "        #break\n",
    "dfAll.to_csv(myLib.pathDataSummaryDomesticData + \"DomesticDataTable.csv\")"
   ]
  },
  {
   "cell_type": "markdown",
   "metadata": {},
   "source": [
    "## 最新日付のファイルの準備"
   ]
  },
  {
   "cell_type": "code",
   "execution_count": null,
   "metadata": {},
   "outputs": [],
   "source": [
    "# 最新日付のみのデータフレームを作成する（※中時間）\n",
    "import pandas as pd\n",
    "import myLibStandard as myLib\n",
    "myLib.set_DisplayOption()\n",
    "\n",
    "dfAll = pd.read_csv(myLib.pathDataSummaryDomesticData + \"DomesticDataTable.csv\",parse_dates=[1],index_col=[\"コード\", \"年度\"], dtype={\"コード\":str})\n",
    "dfAll = dfAll.sort_index()\n",
    "dlCode = dfAll.groupby(level='コード').size().index.tolist()\n",
    "dfMaxDate = pd.DataFrame()\n",
    "for code in dlCode:\n",
    "    maxDate = dfAll.loc[(code,)].index.max()\n",
    "    #display(dfAll.loc[(code,maxDate)])\n",
    "    #print(code)\n",
    "    if maxDate.year >= 2024:\n",
    "        ds = dfAll.loc[(code,maxDate)].to_frame().T\n",
    "        dfMaxDate = pd.concat([dfMaxDate,ds],axis=0)\n",
    "dfMaxDate.index.names = [\"コード\", \"年度\"]\n",
    "dfMaxDate.to_csv(myLib.pathDataSummaryDomesticData + \"DomesticDataTableMaxDate.csv\")"
   ]
  },
  {
   "cell_type": "markdown",
   "metadata": {},
   "source": []
  },
  {
   "cell_type": "markdown",
   "metadata": {},
   "source": []
  }
 ],
 "metadata": {
  "kernelspec": {
   "display_name": ".venv",
   "language": "python",
   "name": "python3"
  },
  "language_info": {
   "codemirror_mode": {
    "name": "ipython",
    "version": 3
   },
   "file_extension": ".py",
   "mimetype": "text/x-python",
   "name": "python",
   "nbconvert_exporter": "python",
   "pygments_lexer": "ipython3",
   "version": "3.13.7"
  }
 },
 "nbformat": 4,
 "nbformat_minor": 2
}
