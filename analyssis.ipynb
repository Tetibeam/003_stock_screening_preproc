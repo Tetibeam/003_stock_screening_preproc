{
 "cells": [
  {
   "cell_type": "markdown",
   "metadata": {},
   "source": [
    "## 📊 分析の流れ\n",
    "<details>\n",
    "<summary><b>目次</b></summary>\n",
    "\n",
    "1. **データ読み込み**\n",
    "1. **欠損値処理**\n",
    "    - 欠損列処理  \n",
    "    - 欠損値処理  \n",
    "    - 異常値処理  \n",
    "1. **集計**\n",
    "1. **データ出力**\n",
    "</details>"
   ]
  },
  {
   "cell_type": "code",
   "execution_count": null,
   "metadata": {},
   "outputs": [],
   "source": [
    "import yaml\n",
    "import os\n",
    "import pandas as pd\n",
    "import numpy as np\n",
    "import plotly.express as px\n",
    "import plotly.graph_objects as go\n"
   ]
  },
  {
   "cell_type": "markdown",
   "metadata": {},
   "source": [
    "## 📥 データの読み込み"
   ]
  },
  {
   "cell_type": "code",
   "execution_count": null,
   "metadata": {},
   "outputs": [
    {
     "ename": "KeyError",
     "evalue": "'files_ref'",
     "output_type": "error",
     "traceback": [
      "\u001b[31m---------------------------------------------------------------------------\u001b[39m",
      "\u001b[31mKeyError\u001b[39m                                  Traceback (most recent call last)",
      "\u001b[36mCell\u001b[39m\u001b[36m \u001b[39m\u001b[32mIn[20]\u001b[39m\u001b[32m, line 7\u001b[39m\n\u001b[32m      5\u001b[39m years = setting[\u001b[33m\"\u001b[39m\u001b[33myears\u001b[39m\u001b[33m\"\u001b[39m]\n\u001b[32m      6\u001b[39m files = setting[\u001b[33m\"\u001b[39m\u001b[33mfiles\u001b[39m\u001b[33m\"\u001b[39m]\n\u001b[32m----> \u001b[39m\u001b[32m7\u001b[39m files_ref = \u001b[43msetting\u001b[49m\u001b[43m[\u001b[49m\u001b[33;43m\"\u001b[39;49m\u001b[33;43mfiles_ref\u001b[39;49m\u001b[33;43m\"\u001b[39;49m\u001b[43m]\u001b[49m\n\u001b[32m      8\u001b[39m output_path = setting[\u001b[33m\"\u001b[39m\u001b[33moutput\u001b[39m\u001b[33m\"\u001b[39m][\u001b[33m\"\u001b[39m\u001b[33mbase_path\u001b[39m\u001b[33m\"\u001b[39m]\n\u001b[32m      9\u001b[39m output_files = setting[\u001b[33m\"\u001b[39m\u001b[33moutput\u001b[39m\u001b[33m\"\u001b[39m][\u001b[33m\"\u001b[39m\u001b[33mfiles\u001b[39m\u001b[33m\"\u001b[39m]\n",
      "\u001b[31mKeyError\u001b[39m: 'files_ref'"
     ]
    }
   ],
   "source": [
    "# 設定読み込み\n",
    "with open(\"setting.yaml\", \"r\", encoding=\"utf-8\") as f:\n",
    "    setting = yaml.safe_load(f)\n",
    "base_path = setting[\"data_path\"]\n",
    "years = setting[\"years\"]\n",
    "files = setting[\"files\"]\n",
    "files_reference = setting[\"files_reference\"]\n",
    "output_path = setting[\"output\"][\"base_path\"]\n",
    "output_files = setting[\"output\"][\"files\"]\n",
    "# 出力ファイルのフォルダ作成\n",
    "os.makedirs(output_path, exist_ok=True)"
   ]
  },
  {
   "cell_type": "markdown",
   "metadata": {},
   "source": [
    "## 🔍 欠損列処理\n",
    "4つファイルの列が各年度で同じかを目視で確認しておきます。\n",
    "問題がある場合は処理します。\n",
    "<details><summary><b>結果</b></summary>\n",
    "すべてのファイルで同じ列が登録されています。問題ありません。\n",
    "\n",
    "- fy-balance-sheet.csv\n",
    "- fy-cash-flow-statement.csv\n",
    "- fy-profit-and-loss.csv\n",
    "- fy-stock-dividend.csv\n",
    "</details>\n"
   ]
  },
  {
   "cell_type": "code",
   "execution_count": null,
   "metadata": {},
   "outputs": [],
   "source": [
    "for filename in files:\n",
    "    merged = []\n",
    "    for year in years:\n",
    "        file_path = os.path.join(base_path, str(year), filename)\n",
    "        if os.path.exists(file_path):\n",
    "            df = pd.read_csv(file_path,header=1)\n",
    "            print(\"年：\",year,\" \",\"ファイル名:\",filename,\" \",\"列\",df.columns.to_list())"
   ]
  },
  {
   "cell_type": "markdown",
   "metadata": {},
   "source": [
    "## 🧹 欠損値処理\n",
    "ここでは、後の分析・スクリーニングの処理を適切に設計するため、欠損値の傾向を確認します。  \n",
    "⚠️ **注意※** csvファイルには欠損値に\"-\"が入っているため、NaNに置き換えて読み込みます。\n",
    "<details><summary><b>分析内容</b></summary>\n",
    "\n",
    "- 列ごとの欠損値の数・割合を確認する\n",
    "- 年ごとの欠損率の傾向を確認\n",
    "- 全企業の欠損率分布を見る\n",
    "<br>\n",
    "</details>\n",
    "<details><summary><b>結果と考察</b></summary>\n",
    "\n",
    "- fy-balance-sheet.csv\n",
    "- fy-cash-flow-statement.csv\n",
    "- fy-profit-and-loss.csv\n",
    "- fy-stock-dividend.csv\n",
    "</details>\n"
   ]
  },
  {
   "cell_type": "code",
   "execution_count": null,
   "metadata": {},
   "outputs": [],
   "source": [
    "# ４つのファイル結合\n",
    "all_df = {}\n",
    "missing_df = {}\n",
    "for filename in files:\n",
    "    if filename not in missing_df:\n",
    "        all_df[filename] = pd.DataFrame()\n",
    "        missing_df[filename] = pd.DataFrame()\n",
    "    for year in years:\n",
    "        file_path = os.path.join(base_path, str(year), filename)\n",
    "        if os.path.exists(file_path):\n",
    "            df = pd.read_csv(file_path,header=1,na_values=\"-\")\n",
    "            all_df[filename] = pd.concat([all_df[filename], df], ignore_index=True) # 全データ結合\n",
    "            missing_rate = df.isnull().mean().to_frame(name=\"missing_rate\")\n",
    "            missing_rate[\"year\"] = year\n",
    "            missing_rate = missing_rate.reset_index().rename(columns={\"index\": \"column_name\"})\n",
    "            missing_df[filename] = pd.concat([missing_df[filename], missing_rate], ignore_index=True)\n",
    "#display(all_df[files[0]].head(5000))"
   ]
  },
  {
   "cell_type": "code",
   "execution_count": null,
   "metadata": {},
   "outputs": [],
   "source": [
    "# 列ごとの欠損値の数・割合を確認する\n",
    "for filename in files:\n",
    "    print(\"ファイル名:\",filename)\n",
    "    #display(all_df[filename].shape)\n",
    "    #display(all_df[filename].isna().sum())\n",
    "    display(all_df[filename].isna().mean())"
   ]
  },
  {
   "cell_type": "code",
   "execution_count": 10,
   "metadata": {},
   "outputs": [
    {
     "data": {
      "application/vnd.plotly.v1+json": {
       "config": {
        "plotlyServerURL": "https://plot.ly"
       },
       "data": [
        {
         "hovertemplate": "column_name=コード<br>year=%{x}<br>missing_rate=%{y}<extra></extra>",
         "legendgroup": "コード",
         "line": {
          "color": "#636efa",
          "dash": "solid"
         },
         "marker": {
          "symbol": "circle"
         },
         "mode": "lines+markers",
         "name": "コード",
         "orientation": "v",
         "showlegend": true,
         "type": "scatter",
         "x": {
          "bdata": "2gfbB9wH3QfeB98H4AfhB+IH4wfkB+UH5gfnB+gH6Qc=",
          "dtype": "i2"
         },
         "xaxis": "x",
         "y": {
          "bdata": "AAAAAAAAAAAAAAAAAAAAAAAAAAAAAAAAAAAAAAAAAAAAAAAAAAAAAAAAAAAAAAAAAAAAAAAAAAAAAAAAAAAAAAAAAAAAAAAAAAAAAAAAAAAAAAAAAAAAAAAAAAAAAAAAAAAAAAAAAAAAAAAAAAAAAAAAAAAAAAAAAAAAAAAAAAA=",
          "dtype": "f8"
         },
         "yaxis": "y"
        },
        {
         "hovertemplate": "column_name=年度<br>year=%{x}<br>missing_rate=%{y}<extra></extra>",
         "legendgroup": "年度",
         "line": {
          "color": "#EF553B",
          "dash": "solid"
         },
         "marker": {
          "symbol": "circle"
         },
         "mode": "lines+markers",
         "name": "年度",
         "orientation": "v",
         "showlegend": true,
         "type": "scatter",
         "x": {
          "bdata": "2gfbB9wH3QfeB98H4AfhB+IH4wfkB+UH5gfnB+gH6Qc=",
          "dtype": "i2"
         },
         "xaxis": "x",
         "y": {
          "bdata": "AAAAAAAAAAAAAAAAAAAAAAAAAAAAAAAAAAAAAAAAAAAAAAAAAAAAAAAAAAAAAAAAAAAAAAAAAAAAAAAAAAAAAAAAAAAAAAAAAAAAAAAAAAAAAAAAAAAAAAAAAAAAAAAAAAAAAAAAAAAAAAAAAAAAAAAAAAAAAAAAAAAAAAAAAAA=",
          "dtype": "f8"
         },
         "yaxis": "y"
        },
        {
         "hovertemplate": "column_name=総資産<br>year=%{x}<br>missing_rate=%{y}<extra></extra>",
         "legendgroup": "総資産",
         "line": {
          "color": "#00cc96",
          "dash": "solid"
         },
         "marker": {
          "symbol": "circle"
         },
         "mode": "lines+markers",
         "name": "総資産",
         "orientation": "v",
         "showlegend": true,
         "type": "scatter",
         "x": {
          "bdata": "2gfbB9wH3QfeB98H4AfhB+IH4wfkB+UH5gfnB+gH6Qc=",
          "dtype": "i2"
         },
         "xaxis": "x",
         "y": {
          "bdata": "OoBdHtqjgj9T2qycahGJPyhe+K6vrYk/A5GkHWrViz9nFQG8alaBP/y3JTOnVIo/gpGB6DB8hD9OtH1FMNWGP6tAVaAqUIU/iwngN2uygD/Uqh4AF0CBPxdddNFFF30/pwYkA9GWWz8AAAAAAAAAAAAAAAAAAAAAAAAAAAAAAAA=",
          "dtype": "f8"
         },
         "yaxis": "y"
        },
        {
         "hovertemplate": "column_name=純資産<br>year=%{x}<br>missing_rate=%{y}<extra></extra>",
         "legendgroup": "純資産",
         "line": {
          "color": "#ab63fa",
          "dash": "solid"
         },
         "marker": {
          "symbol": "circle"
         },
         "mode": "lines+markers",
         "name": "純資産",
         "orientation": "v",
         "showlegend": true,
         "type": "scatter",
         "x": {
          "bdata": "2gfbB9wH3QfeB98H4AfhB+IH4wfkB+UH5gfnB+gH6Qc=",
          "dtype": "i2"
         },
         "xaxis": "x",
         "y": {
          "bdata": "OoBdHtqjgj+r605tRH2BP0qYVRCfQoI/QWIE32W4Sj8aoAEaoAFKPzCThMKFEFU/z9qaU1pjYD/RoZiub8QvP/gAfAA+AC8/TshtgxSIPj9vjtOqHgBHPwAAAAAAAAAAAAAAAAAAAAAAAAAAAAAAAAAAAAAAAAAAAAAAAAAAAAA=",
          "dtype": "f8"
         },
         "yaxis": "y"
        },
        {
         "hovertemplate": "column_name=株主資本<br>year=%{x}<br>missing_rate=%{y}<extra></extra>",
         "legendgroup": "株主資本",
         "line": {
          "color": "#FFA15A",
          "dash": "solid"
         },
         "marker": {
          "symbol": "circle"
         },
         "mode": "lines+markers",
         "name": "株主資本",
         "orientation": "v",
         "showlegend": true,
         "type": "scatter",
         "x": {
          "bdata": "2gfbB9wH3QfeB98H4AfhB+IH4wfkB+UH5gfnB+gH6Qc=",
          "dtype": "i2"
         },
         "xaxis": "x",
         "y": {
          "bdata": "fCYA6b7mpz+gune9mFCuP1DsA/VR57E/euBa2gKJsT+7DCFmt8uwP/iz8ul++LE/d8QdcUfcsT9l7IGHhOyyP416Rj2jnrE/6X8TZe3Xrz8rE2AOyAqmP8omm2yyyZY/qE2PHaC4cj8AAAAAAAAAAAAAAAAAAAAA6Vap6izaPz8=",
          "dtype": "f8"
         },
         "yaxis": "y"
        },
        {
         "hovertemplate": "column_name=利益剰余金<br>year=%{x}<br>missing_rate=%{y}<extra></extra>",
         "legendgroup": "利益剰余金",
         "line": {
          "color": "#19d3f3",
          "dash": "solid"
         },
         "marker": {
          "symbol": "circle"
         },
         "mode": "lines+markers",
         "name": "利益剰余金",
         "orientation": "v",
         "showlegend": true,
         "type": "scatter",
         "x": {
          "bdata": "2gfbB9wH3QfeB98H4AfhB+IH4wfkB+UH5gfnB+gH6Qc=",
          "dtype": "i2"
         },
         "xaxis": "x",
         "y": {
          "bdata": "F1haATG2rD/giXxrpTKxP/L0HnboQbQ/r28l2t/xtD9/Sv0p9ae0Pwd2L196Tbc/wlSsBOk4uT9TXGjZWIy7P5eQS8gl5LI/Ny6lVjfgsD/jKiqgH7inP22yySabbJo/pplV+ouLfj/AAQ5wgANsP29OckHlr2g/nZapfkThaT8=",
          "dtype": "f8"
         },
         "yaxis": "y"
        },
        {
         "hovertemplate": "column_name=短期借入金<br>year=%{x}<br>missing_rate=%{y}<extra></extra>",
         "legendgroup": "短期借入金",
         "line": {
          "color": "#FF6692",
          "dash": "solid"
         },
         "marker": {
          "symbol": "circle"
         },
         "mode": "lines+markers",
         "name": "短期借入金",
         "orientation": "v",
         "showlegend": true,
         "type": "scatter",
         "x": {
          "bdata": "2gfbB9wH3QfeB98H4AfhB+IH4wfkB+UH5gfnB+gH6Qc=",
          "dtype": "i2"
         },
         "xaxis": "x",
         "y": {
          "bdata": "+mmpv3PS2D+sowreYUnZP8YHtzKlZNk//rwcfUbV2T+1pKBfT0vaPy02GVEwwto/8zeqQ8Gr2z/No6g/ETvcP9dp67R12to/DuqvMtaY2T8L/0f/dX/YPwgffPDBh9g/5vHIVbt22D+IPexhD3vYPwgcqoMAJNg/CqfRkhhX2D8=",
          "dtype": "f8"
         },
         "yaxis": "y"
        },
        {
         "hovertemplate": "column_name=長期借入金<br>year=%{x}<br>missing_rate=%{y}<extra></extra>",
         "legendgroup": "長期借入金",
         "line": {
          "color": "#B6E880",
          "dash": "solid"
         },
         "marker": {
          "symbol": "circle"
         },
         "mode": "lines+markers",
         "name": "長期借入金",
         "orientation": "v",
         "showlegend": true,
         "type": "scatter",
         "x": {
          "bdata": "2gfbB9wH3QfeB98H4AfhB+IH4wfkB+UH5gfnB+gH6Qc=",
          "dtype": "i2"
         },
         "xaxis": "x",
         "y": {
          "bdata": "Bn8VJ6Tk2T+4VioTQRvaP7v0hSJsBNo/4DdDBhq22T+5lEu5lEvZPwg3fHGEZNk/Cr0pDH5R2T+UOdBuTXDZP7+qX9Wv6tc/Lg3HfgoQ1z8qW1+ER6PVP9FFF1100dM/YY5YCjha0z86zWlOc5rTP4AWJ7AqrNM/IoVMRtKE0z8=",
          "dtype": "f8"
         },
         "yaxis": "y"
        },
        {
         "hovertemplate": "column_name=BPS<br>year=%{x}<br>missing_rate=%{y}<extra></extra>",
         "legendgroup": "BPS",
         "line": {
          "color": "#FF97FF",
          "dash": "solid"
         },
         "marker": {
          "symbol": "circle"
         },
         "mode": "lines+markers",
         "name": "BPS",
         "orientation": "v",
         "showlegend": true,
         "type": "scatter",
         "x": {
          "bdata": "2gfbB9wH3QfeB98H4AfhB+IH4wfkB+UH5gfnB+gH6Qc=",
          "dtype": "i2"
         },
         "xaxis": "x",
         "y": {
          "bdata": "ST8t9XdOqj+zcqpFZKCvPxntNNIZHrI/Z+NEHtOasT/RDd3QDd2wP/iz8ul++LE/d8QdcUfcsT9l7IGHhOyyP424RlwjrrE/6X8TZe3Xrz+Tgu7hcimmP0YXXXTRRZc//ZeMudeldz8AAAAAAAAAAAAAAAAAAAAA6Vap6izaPz8=",
          "dtype": "f8"
         },
         "yaxis": "y"
        },
        {
         "hovertemplate": "column_name=自己資本比率<br>year=%{x}<br>missing_rate=%{y}<extra></extra>",
         "legendgroup": "自己資本比率",
         "line": {
          "color": "#FECB52",
          "dash": "solid"
         },
         "marker": {
          "symbol": "circle"
         },
         "mode": "lines+markers",
         "name": "自己資本比率",
         "orientation": "v",
         "showlegend": true,
         "type": "scatter",
         "x": {
          "bdata": "2gfbB9wH3QfeB98H4AfhB+IH4wfkB+UH5gfnB+gH6Qc=",
          "dtype": "i2"
         },
         "xaxis": "x",
         "y": {
          "bdata": "O9+VbYGlhT9FrOSuoPuLP/O9hYkYiIw/Zaj0POxjjD+9JsFn0WuCPyWM33xHYos/BhZYYIEFhj95A9y9ms+JP7YQW4gtxIY/zXf726umgT8YJpKcbTWCPxA++OCDD34/pwYkA9GWWz8AAAAAAAAAAAAAAAAAAAAA6Vap6izaPz8=",
          "dtype": "f8"
         },
         "yaxis": "y"
        }
       ],
       "layout": {
        "legend": {
         "title": {
          "text": "column_name"
         },
         "tracegroupgap": 0
        },
        "template": {
         "data": {
          "bar": [
           {
            "error_x": {
             "color": "#2a3f5f"
            },
            "error_y": {
             "color": "#2a3f5f"
            },
            "marker": {
             "line": {
              "color": "#E5ECF6",
              "width": 0.5
             },
             "pattern": {
              "fillmode": "overlay",
              "size": 10,
              "solidity": 0.2
             }
            },
            "type": "bar"
           }
          ],
          "barpolar": [
           {
            "marker": {
             "line": {
              "color": "#E5ECF6",
              "width": 0.5
             },
             "pattern": {
              "fillmode": "overlay",
              "size": 10,
              "solidity": 0.2
             }
            },
            "type": "barpolar"
           }
          ],
          "carpet": [
           {
            "aaxis": {
             "endlinecolor": "#2a3f5f",
             "gridcolor": "white",
             "linecolor": "white",
             "minorgridcolor": "white",
             "startlinecolor": "#2a3f5f"
            },
            "baxis": {
             "endlinecolor": "#2a3f5f",
             "gridcolor": "white",
             "linecolor": "white",
             "minorgridcolor": "white",
             "startlinecolor": "#2a3f5f"
            },
            "type": "carpet"
           }
          ],
          "choropleth": [
           {
            "colorbar": {
             "outlinewidth": 0,
             "ticks": ""
            },
            "type": "choropleth"
           }
          ],
          "contour": [
           {
            "colorbar": {
             "outlinewidth": 0,
             "ticks": ""
            },
            "colorscale": [
             [
              0,
              "#0d0887"
             ],
             [
              0.1111111111111111,
              "#46039f"
             ],
             [
              0.2222222222222222,
              "#7201a8"
             ],
             [
              0.3333333333333333,
              "#9c179e"
             ],
             [
              0.4444444444444444,
              "#bd3786"
             ],
             [
              0.5555555555555556,
              "#d8576b"
             ],
             [
              0.6666666666666666,
              "#ed7953"
             ],
             [
              0.7777777777777778,
              "#fb9f3a"
             ],
             [
              0.8888888888888888,
              "#fdca26"
             ],
             [
              1,
              "#f0f921"
             ]
            ],
            "type": "contour"
           }
          ],
          "contourcarpet": [
           {
            "colorbar": {
             "outlinewidth": 0,
             "ticks": ""
            },
            "type": "contourcarpet"
           }
          ],
          "heatmap": [
           {
            "colorbar": {
             "outlinewidth": 0,
             "ticks": ""
            },
            "colorscale": [
             [
              0,
              "#0d0887"
             ],
             [
              0.1111111111111111,
              "#46039f"
             ],
             [
              0.2222222222222222,
              "#7201a8"
             ],
             [
              0.3333333333333333,
              "#9c179e"
             ],
             [
              0.4444444444444444,
              "#bd3786"
             ],
             [
              0.5555555555555556,
              "#d8576b"
             ],
             [
              0.6666666666666666,
              "#ed7953"
             ],
             [
              0.7777777777777778,
              "#fb9f3a"
             ],
             [
              0.8888888888888888,
              "#fdca26"
             ],
             [
              1,
              "#f0f921"
             ]
            ],
            "type": "heatmap"
           }
          ],
          "histogram": [
           {
            "marker": {
             "pattern": {
              "fillmode": "overlay",
              "size": 10,
              "solidity": 0.2
             }
            },
            "type": "histogram"
           }
          ],
          "histogram2d": [
           {
            "colorbar": {
             "outlinewidth": 0,
             "ticks": ""
            },
            "colorscale": [
             [
              0,
              "#0d0887"
             ],
             [
              0.1111111111111111,
              "#46039f"
             ],
             [
              0.2222222222222222,
              "#7201a8"
             ],
             [
              0.3333333333333333,
              "#9c179e"
             ],
             [
              0.4444444444444444,
              "#bd3786"
             ],
             [
              0.5555555555555556,
              "#d8576b"
             ],
             [
              0.6666666666666666,
              "#ed7953"
             ],
             [
              0.7777777777777778,
              "#fb9f3a"
             ],
             [
              0.8888888888888888,
              "#fdca26"
             ],
             [
              1,
              "#f0f921"
             ]
            ],
            "type": "histogram2d"
           }
          ],
          "histogram2dcontour": [
           {
            "colorbar": {
             "outlinewidth": 0,
             "ticks": ""
            },
            "colorscale": [
             [
              0,
              "#0d0887"
             ],
             [
              0.1111111111111111,
              "#46039f"
             ],
             [
              0.2222222222222222,
              "#7201a8"
             ],
             [
              0.3333333333333333,
              "#9c179e"
             ],
             [
              0.4444444444444444,
              "#bd3786"
             ],
             [
              0.5555555555555556,
              "#d8576b"
             ],
             [
              0.6666666666666666,
              "#ed7953"
             ],
             [
              0.7777777777777778,
              "#fb9f3a"
             ],
             [
              0.8888888888888888,
              "#fdca26"
             ],
             [
              1,
              "#f0f921"
             ]
            ],
            "type": "histogram2dcontour"
           }
          ],
          "mesh3d": [
           {
            "colorbar": {
             "outlinewidth": 0,
             "ticks": ""
            },
            "type": "mesh3d"
           }
          ],
          "parcoords": [
           {
            "line": {
             "colorbar": {
              "outlinewidth": 0,
              "ticks": ""
             }
            },
            "type": "parcoords"
           }
          ],
          "pie": [
           {
            "automargin": true,
            "type": "pie"
           }
          ],
          "scatter": [
           {
            "fillpattern": {
             "fillmode": "overlay",
             "size": 10,
             "solidity": 0.2
            },
            "type": "scatter"
           }
          ],
          "scatter3d": [
           {
            "line": {
             "colorbar": {
              "outlinewidth": 0,
              "ticks": ""
             }
            },
            "marker": {
             "colorbar": {
              "outlinewidth": 0,
              "ticks": ""
             }
            },
            "type": "scatter3d"
           }
          ],
          "scattercarpet": [
           {
            "marker": {
             "colorbar": {
              "outlinewidth": 0,
              "ticks": ""
             }
            },
            "type": "scattercarpet"
           }
          ],
          "scattergeo": [
           {
            "marker": {
             "colorbar": {
              "outlinewidth": 0,
              "ticks": ""
             }
            },
            "type": "scattergeo"
           }
          ],
          "scattergl": [
           {
            "marker": {
             "colorbar": {
              "outlinewidth": 0,
              "ticks": ""
             }
            },
            "type": "scattergl"
           }
          ],
          "scattermap": [
           {
            "marker": {
             "colorbar": {
              "outlinewidth": 0,
              "ticks": ""
             }
            },
            "type": "scattermap"
           }
          ],
          "scattermapbox": [
           {
            "marker": {
             "colorbar": {
              "outlinewidth": 0,
              "ticks": ""
             }
            },
            "type": "scattermapbox"
           }
          ],
          "scatterpolar": [
           {
            "marker": {
             "colorbar": {
              "outlinewidth": 0,
              "ticks": ""
             }
            },
            "type": "scatterpolar"
           }
          ],
          "scatterpolargl": [
           {
            "marker": {
             "colorbar": {
              "outlinewidth": 0,
              "ticks": ""
             }
            },
            "type": "scatterpolargl"
           }
          ],
          "scatterternary": [
           {
            "marker": {
             "colorbar": {
              "outlinewidth": 0,
              "ticks": ""
             }
            },
            "type": "scatterternary"
           }
          ],
          "surface": [
           {
            "colorbar": {
             "outlinewidth": 0,
             "ticks": ""
            },
            "colorscale": [
             [
              0,
              "#0d0887"
             ],
             [
              0.1111111111111111,
              "#46039f"
             ],
             [
              0.2222222222222222,
              "#7201a8"
             ],
             [
              0.3333333333333333,
              "#9c179e"
             ],
             [
              0.4444444444444444,
              "#bd3786"
             ],
             [
              0.5555555555555556,
              "#d8576b"
             ],
             [
              0.6666666666666666,
              "#ed7953"
             ],
             [
              0.7777777777777778,
              "#fb9f3a"
             ],
             [
              0.8888888888888888,
              "#fdca26"
             ],
             [
              1,
              "#f0f921"
             ]
            ],
            "type": "surface"
           }
          ],
          "table": [
           {
            "cells": {
             "fill": {
              "color": "#EBF0F8"
             },
             "line": {
              "color": "white"
             }
            },
            "header": {
             "fill": {
              "color": "#C8D4E3"
             },
             "line": {
              "color": "white"
             }
            },
            "type": "table"
           }
          ]
         },
         "layout": {
          "annotationdefaults": {
           "arrowcolor": "#2a3f5f",
           "arrowhead": 0,
           "arrowwidth": 1
          },
          "autotypenumbers": "strict",
          "coloraxis": {
           "colorbar": {
            "outlinewidth": 0,
            "ticks": ""
           }
          },
          "colorscale": {
           "diverging": [
            [
             0,
             "#8e0152"
            ],
            [
             0.1,
             "#c51b7d"
            ],
            [
             0.2,
             "#de77ae"
            ],
            [
             0.3,
             "#f1b6da"
            ],
            [
             0.4,
             "#fde0ef"
            ],
            [
             0.5,
             "#f7f7f7"
            ],
            [
             0.6,
             "#e6f5d0"
            ],
            [
             0.7,
             "#b8e186"
            ],
            [
             0.8,
             "#7fbc41"
            ],
            [
             0.9,
             "#4d9221"
            ],
            [
             1,
             "#276419"
            ]
           ],
           "sequential": [
            [
             0,
             "#0d0887"
            ],
            [
             0.1111111111111111,
             "#46039f"
            ],
            [
             0.2222222222222222,
             "#7201a8"
            ],
            [
             0.3333333333333333,
             "#9c179e"
            ],
            [
             0.4444444444444444,
             "#bd3786"
            ],
            [
             0.5555555555555556,
             "#d8576b"
            ],
            [
             0.6666666666666666,
             "#ed7953"
            ],
            [
             0.7777777777777778,
             "#fb9f3a"
            ],
            [
             0.8888888888888888,
             "#fdca26"
            ],
            [
             1,
             "#f0f921"
            ]
           ],
           "sequentialminus": [
            [
             0,
             "#0d0887"
            ],
            [
             0.1111111111111111,
             "#46039f"
            ],
            [
             0.2222222222222222,
             "#7201a8"
            ],
            [
             0.3333333333333333,
             "#9c179e"
            ],
            [
             0.4444444444444444,
             "#bd3786"
            ],
            [
             0.5555555555555556,
             "#d8576b"
            ],
            [
             0.6666666666666666,
             "#ed7953"
            ],
            [
             0.7777777777777778,
             "#fb9f3a"
            ],
            [
             0.8888888888888888,
             "#fdca26"
            ],
            [
             1,
             "#f0f921"
            ]
           ]
          },
          "colorway": [
           "#636efa",
           "#EF553B",
           "#00cc96",
           "#ab63fa",
           "#FFA15A",
           "#19d3f3",
           "#FF6692",
           "#B6E880",
           "#FF97FF",
           "#FECB52"
          ],
          "font": {
           "color": "#2a3f5f"
          },
          "geo": {
           "bgcolor": "white",
           "lakecolor": "white",
           "landcolor": "#E5ECF6",
           "showlakes": true,
           "showland": true,
           "subunitcolor": "white"
          },
          "hoverlabel": {
           "align": "left"
          },
          "hovermode": "closest",
          "mapbox": {
           "style": "light"
          },
          "paper_bgcolor": "white",
          "plot_bgcolor": "#E5ECF6",
          "polar": {
           "angularaxis": {
            "gridcolor": "white",
            "linecolor": "white",
            "ticks": ""
           },
           "bgcolor": "#E5ECF6",
           "radialaxis": {
            "gridcolor": "white",
            "linecolor": "white",
            "ticks": ""
           }
          },
          "scene": {
           "xaxis": {
            "backgroundcolor": "#E5ECF6",
            "gridcolor": "white",
            "gridwidth": 2,
            "linecolor": "white",
            "showbackground": true,
            "ticks": "",
            "zerolinecolor": "white"
           },
           "yaxis": {
            "backgroundcolor": "#E5ECF6",
            "gridcolor": "white",
            "gridwidth": 2,
            "linecolor": "white",
            "showbackground": true,
            "ticks": "",
            "zerolinecolor": "white"
           },
           "zaxis": {
            "backgroundcolor": "#E5ECF6",
            "gridcolor": "white",
            "gridwidth": 2,
            "linecolor": "white",
            "showbackground": true,
            "ticks": "",
            "zerolinecolor": "white"
           }
          },
          "shapedefaults": {
           "line": {
            "color": "#2a3f5f"
           }
          },
          "ternary": {
           "aaxis": {
            "gridcolor": "white",
            "linecolor": "white",
            "ticks": ""
           },
           "baxis": {
            "gridcolor": "white",
            "linecolor": "white",
            "ticks": ""
           },
           "bgcolor": "#E5ECF6",
           "caxis": {
            "gridcolor": "white",
            "linecolor": "white",
            "ticks": ""
           }
          },
          "title": {
           "x": 0.05
          },
          "xaxis": {
           "automargin": true,
           "gridcolor": "white",
           "linecolor": "white",
           "ticks": "",
           "title": {
            "standoff": 15
           },
           "zerolinecolor": "white",
           "zerolinewidth": 2
          },
          "yaxis": {
           "automargin": true,
           "gridcolor": "white",
           "linecolor": "white",
           "ticks": "",
           "title": {
            "standoff": 15
           },
           "zerolinecolor": "white",
           "zerolinewidth": 2
          }
         }
        },
        "title": {
         "text": "各列の欠損率の推移"
        },
        "xaxis": {
         "anchor": "y",
         "domain": [
          0,
          1
         ],
         "title": {
          "text": "year"
         }
        },
        "yaxis": {
         "anchor": "x",
         "domain": [
          0,
          1
         ],
         "title": {
          "text": "missing_rate"
         }
        }
       }
      }
     },
     "metadata": {},
     "output_type": "display_data"
    },
    {
     "data": {
      "application/vnd.plotly.v1+json": {
       "config": {
        "plotlyServerURL": "https://plot.ly"
       },
       "data": [
        {
         "hovertemplate": "column_name=コード<br>year=%{x}<br>missing_rate=%{y}<extra></extra>",
         "legendgroup": "コード",
         "line": {
          "color": "#636efa",
          "dash": "solid"
         },
         "marker": {
          "symbol": "circle"
         },
         "mode": "lines+markers",
         "name": "コード",
         "orientation": "v",
         "showlegend": true,
         "type": "scatter",
         "x": {
          "bdata": "2gfbB9wH3QfeB98H4AfhB+IH4wfkB+UH5gfnB+gH6Qc=",
          "dtype": "i2"
         },
         "xaxis": "x",
         "y": {
          "bdata": "AAAAAAAAAAAAAAAAAAAAAAAAAAAAAAAAAAAAAAAAAAAAAAAAAAAAAAAAAAAAAAAAAAAAAAAAAAAAAAAAAAAAAAAAAAAAAAAAAAAAAAAAAAAAAAAAAAAAAAAAAAAAAAAAAAAAAAAAAAAAAAAAAAAAAAAAAAAAAAAAAAAAAAAAAAA=",
          "dtype": "f8"
         },
         "yaxis": "y"
        },
        {
         "hovertemplate": "column_name=年度<br>year=%{x}<br>missing_rate=%{y}<extra></extra>",
         "legendgroup": "年度",
         "line": {
          "color": "#EF553B",
          "dash": "solid"
         },
         "marker": {
          "symbol": "circle"
         },
         "mode": "lines+markers",
         "name": "年度",
         "orientation": "v",
         "showlegend": true,
         "type": "scatter",
         "x": {
          "bdata": "2gfbB9wH3QfeB98H4AfhB+IH4wfkB+UH5gfnB+gH6Qc=",
          "dtype": "i2"
         },
         "xaxis": "x",
         "y": {
          "bdata": "AAAAAAAAAAAAAAAAAAAAAAAAAAAAAAAAAAAAAAAAAAAAAAAAAAAAAAAAAAAAAAAAAAAAAAAAAAAAAAAAAAAAAAAAAAAAAAAAAAAAAAAAAAAAAAAAAAAAAAAAAAAAAAAAAAAAAAAAAAAAAAAAAAAAAAAAAAAAAAAAAAAAAAAAAAA=",
          "dtype": "f8"
         },
         "yaxis": "y"
        },
        {
         "hovertemplate": "column_name=営業CF<br>year=%{x}<br>missing_rate=%{y}<extra></extra>",
         "legendgroup": "営業CF",
         "line": {
          "color": "#00cc96",
          "dash": "solid"
         },
         "marker": {
          "symbol": "circle"
         },
         "mode": "lines+markers",
         "name": "営業CF",
         "orientation": "v",
         "showlegend": true,
         "type": "scatter",
         "x": {
          "bdata": "2gfbB9wH3QfeB98H4AfhB+IH4wfkB+UH5gfnB+gH6Qc=",
          "dtype": "i2"
         },
         "xaxis": "x",
         "y": {
          "bdata": "+lyomAYFkD/kV6fZMT+UPxrFk6f+UZc/Dv8yfXkGmT839+HrkWaUP93TCMs9jZg/WdgNcj9Qlj9c3CjvGNmZP5kda2oHHZo/rvoBoC/6mT9aRvQB1bGXP7BXSPVDS5E/Uin1b960cz8AAAAAAAAAAAAAAAAAAAAA6Vap6izaLz8=",
          "dtype": "f8"
         },
         "yaxis": "y"
        },
        {
         "hovertemplate": "column_name=投資CF<br>year=%{x}<br>missing_rate=%{y}<extra></extra>",
         "legendgroup": "投資CF",
         "line": {
          "color": "#ab63fa",
          "dash": "solid"
         },
         "marker": {
          "symbol": "circle"
         },
         "mode": "lines+markers",
         "name": "投資CF",
         "orientation": "v",
         "showlegend": true,
         "type": "scatter",
         "x": {
          "bdata": "2gfbB9wH3QfeB98H4AfhB+IH4wfkB+UH5gfnB+gH6Qc=",
          "dtype": "i2"
         },
         "xaxis": "x",
         "y": {
          "bdata": "+lyomAYFkD/kV6fZMT+UPyvlxnuInpc/aM9jXHabmT8vDLZVLUCVP6gRlnsaYZk/GcphcYljlz9tjvXP7xuaP+UFRUmkIJs/pc5Z/DC4mj9tmOYu+KuYP+CldSf6x5E/Uk9YXlSeeT8AAQhAAAJQP/Xe9oBDdVA/UdapElzoUz8=",
          "dtype": "f8"
         },
         "yaxis": "y"
        },
        {
         "hovertemplate": "column_name=財務CF<br>year=%{x}<br>missing_rate=%{y}<extra></extra>",
         "legendgroup": "財務CF",
         "line": {
          "color": "#FFA15A",
          "dash": "solid"
         },
         "marker": {
          "symbol": "circle"
         },
         "mode": "lines+markers",
         "name": "財務CF",
         "orientation": "v",
         "showlegend": true,
         "type": "scatter",
         "x": {
          "bdata": "2gfbB9wH3QfeB98H4AfhB+IH4wfkB+UH5gfnB+gH6Qc=",
          "dtype": "i2"
         },
         "xaxis": "x",
         "y": {
          "bdata": "xTQogBjulj8p/psb3GGaP5umK7hgMp4/FVvkg9W3nz+lO/XzWqKaP3waYbmnEZ4/G5GxbrGwmz8l3ZKjI9egP0wV0GvN8Z8/ZP5NueSqnz+84K/ihJScPwupfmgpYpc/qODAFFuthT8QgQhEIAKBP9O6FfHrg3I/CSH/eS3ndD8=",
          "dtype": "f8"
         },
         "yaxis": "y"
        },
        {
         "hovertemplate": "column_name=設備投資<br>year=%{x}<br>missing_rate=%{y}<extra></extra>",
         "legendgroup": "設備投資",
         "line": {
          "color": "#19d3f3",
          "dash": "solid"
         },
         "marker": {
          "symbol": "circle"
         },
         "mode": "lines+markers",
         "name": "設備投資",
         "orientation": "v",
         "showlegend": true,
         "type": "scatter",
         "x": {
          "bdata": "2gfbB9wH3QfeB98H4AfhB+IH4wfkB+UH5gfnB+gH6Qc=",
          "dtype": "i2"
         },
         "xaxis": "x",
         "y": {
          "bdata": "oG3NLoUowT9Y9NuuHMHBP+2D+7tN8ME/HtdNrlx6wj8kEQlABP7BP3NPIyz3NMM/aPiQ89jkwz/atXfzX7nEP/svnTD3HME/xmgmOSwfqD9EH1Ade2ujPzgU13d8E6A/6Hv0VizwlD/YwQ52sIONP2YFel2PM5k/c7rpwUGFtj8=",
          "dtype": "f8"
         },
         "yaxis": "y"
        },
        {
         "hovertemplate": "column_name=現金同等物<br>year=%{x}<br>missing_rate=%{y}<extra></extra>",
         "legendgroup": "現金同等物",
         "line": {
          "color": "#FF6692",
          "dash": "solid"
         },
         "marker": {
          "symbol": "circle"
         },
         "mode": "lines+markers",
         "name": "現金同等物",
         "orientation": "v",
         "showlegend": true,
         "type": "scatter",
         "x": {
          "bdata": "2gfbB9wH3QfeB98H4AfhB+IH4wfkB+UH5gfnB+gH6Qc=",
          "dtype": "i2"
         },
         "xaxis": "x",
         "y": {
          "bdata": "AAAAAAAAAAAAAAAAAAAAAAAAAAAAAAAAAAAAAAAAAAAAAAAAAAAAAAAAAAAAAAAAAAAAAAAAAAAAAAAAAAAAAAAAAAAAAAAAAAAAAAAAAABxQkqeZUQvPwAAAAAAAAAAAAAAAAAAAAAAAAAAAAAAAAAAAAAAAAAA6Vap6izaLz8=",
          "dtype": "f8"
         },
         "yaxis": "y"
        },
        {
         "hovertemplate": "column_name=営業CFマージン<br>year=%{x}<br>missing_rate=%{y}<extra></extra>",
         "legendgroup": "営業CFマージン",
         "line": {
          "color": "#B6E880",
          "dash": "solid"
         },
         "marker": {
          "symbol": "circle"
         },
         "mode": "lines+markers",
         "name": "営業CFマージン",
         "orientation": "v",
         "showlegend": true,
         "type": "scatter",
         "x": {
          "bdata": "2gfbB9wH3QfeB98H4AfhB+IH4wfkB+UH5gfnB+gH6Qc=",
          "dtype": "i2"
         },
         "xaxis": "x",
         "y": {
          "bdata": "O/yzrdmlkD9uCoxjyyqVPyvlxnuInpc/O2fL7PdQmT+HWm8ypPeUP93TCMs9jZg/ydTi8RGVlj9tjvXP7xuaP9KLjhG935o/ngY/j9w2mz9kb22Y5i6YP0FC0ItmwZI/Uk9YXlSeeT+AAQxgAANYP5ByU9E8oWY/nZapfkThaT8=",
          "dtype": "f8"
         },
         "yaxis": "y"
        }
       ],
       "layout": {
        "legend": {
         "title": {
          "text": "column_name"
         },
         "tracegroupgap": 0
        },
        "template": {
         "data": {
          "bar": [
           {
            "error_x": {
             "color": "#2a3f5f"
            },
            "error_y": {
             "color": "#2a3f5f"
            },
            "marker": {
             "line": {
              "color": "#E5ECF6",
              "width": 0.5
             },
             "pattern": {
              "fillmode": "overlay",
              "size": 10,
              "solidity": 0.2
             }
            },
            "type": "bar"
           }
          ],
          "barpolar": [
           {
            "marker": {
             "line": {
              "color": "#E5ECF6",
              "width": 0.5
             },
             "pattern": {
              "fillmode": "overlay",
              "size": 10,
              "solidity": 0.2
             }
            },
            "type": "barpolar"
           }
          ],
          "carpet": [
           {
            "aaxis": {
             "endlinecolor": "#2a3f5f",
             "gridcolor": "white",
             "linecolor": "white",
             "minorgridcolor": "white",
             "startlinecolor": "#2a3f5f"
            },
            "baxis": {
             "endlinecolor": "#2a3f5f",
             "gridcolor": "white",
             "linecolor": "white",
             "minorgridcolor": "white",
             "startlinecolor": "#2a3f5f"
            },
            "type": "carpet"
           }
          ],
          "choropleth": [
           {
            "colorbar": {
             "outlinewidth": 0,
             "ticks": ""
            },
            "type": "choropleth"
           }
          ],
          "contour": [
           {
            "colorbar": {
             "outlinewidth": 0,
             "ticks": ""
            },
            "colorscale": [
             [
              0,
              "#0d0887"
             ],
             [
              0.1111111111111111,
              "#46039f"
             ],
             [
              0.2222222222222222,
              "#7201a8"
             ],
             [
              0.3333333333333333,
              "#9c179e"
             ],
             [
              0.4444444444444444,
              "#bd3786"
             ],
             [
              0.5555555555555556,
              "#d8576b"
             ],
             [
              0.6666666666666666,
              "#ed7953"
             ],
             [
              0.7777777777777778,
              "#fb9f3a"
             ],
             [
              0.8888888888888888,
              "#fdca26"
             ],
             [
              1,
              "#f0f921"
             ]
            ],
            "type": "contour"
           }
          ],
          "contourcarpet": [
           {
            "colorbar": {
             "outlinewidth": 0,
             "ticks": ""
            },
            "type": "contourcarpet"
           }
          ],
          "heatmap": [
           {
            "colorbar": {
             "outlinewidth": 0,
             "ticks": ""
            },
            "colorscale": [
             [
              0,
              "#0d0887"
             ],
             [
              0.1111111111111111,
              "#46039f"
             ],
             [
              0.2222222222222222,
              "#7201a8"
             ],
             [
              0.3333333333333333,
              "#9c179e"
             ],
             [
              0.4444444444444444,
              "#bd3786"
             ],
             [
              0.5555555555555556,
              "#d8576b"
             ],
             [
              0.6666666666666666,
              "#ed7953"
             ],
             [
              0.7777777777777778,
              "#fb9f3a"
             ],
             [
              0.8888888888888888,
              "#fdca26"
             ],
             [
              1,
              "#f0f921"
             ]
            ],
            "type": "heatmap"
           }
          ],
          "histogram": [
           {
            "marker": {
             "pattern": {
              "fillmode": "overlay",
              "size": 10,
              "solidity": 0.2
             }
            },
            "type": "histogram"
           }
          ],
          "histogram2d": [
           {
            "colorbar": {
             "outlinewidth": 0,
             "ticks": ""
            },
            "colorscale": [
             [
              0,
              "#0d0887"
             ],
             [
              0.1111111111111111,
              "#46039f"
             ],
             [
              0.2222222222222222,
              "#7201a8"
             ],
             [
              0.3333333333333333,
              "#9c179e"
             ],
             [
              0.4444444444444444,
              "#bd3786"
             ],
             [
              0.5555555555555556,
              "#d8576b"
             ],
             [
              0.6666666666666666,
              "#ed7953"
             ],
             [
              0.7777777777777778,
              "#fb9f3a"
             ],
             [
              0.8888888888888888,
              "#fdca26"
             ],
             [
              1,
              "#f0f921"
             ]
            ],
            "type": "histogram2d"
           }
          ],
          "histogram2dcontour": [
           {
            "colorbar": {
             "outlinewidth": 0,
             "ticks": ""
            },
            "colorscale": [
             [
              0,
              "#0d0887"
             ],
             [
              0.1111111111111111,
              "#46039f"
             ],
             [
              0.2222222222222222,
              "#7201a8"
             ],
             [
              0.3333333333333333,
              "#9c179e"
             ],
             [
              0.4444444444444444,
              "#bd3786"
             ],
             [
              0.5555555555555556,
              "#d8576b"
             ],
             [
              0.6666666666666666,
              "#ed7953"
             ],
             [
              0.7777777777777778,
              "#fb9f3a"
             ],
             [
              0.8888888888888888,
              "#fdca26"
             ],
             [
              1,
              "#f0f921"
             ]
            ],
            "type": "histogram2dcontour"
           }
          ],
          "mesh3d": [
           {
            "colorbar": {
             "outlinewidth": 0,
             "ticks": ""
            },
            "type": "mesh3d"
           }
          ],
          "parcoords": [
           {
            "line": {
             "colorbar": {
              "outlinewidth": 0,
              "ticks": ""
             }
            },
            "type": "parcoords"
           }
          ],
          "pie": [
           {
            "automargin": true,
            "type": "pie"
           }
          ],
          "scatter": [
           {
            "fillpattern": {
             "fillmode": "overlay",
             "size": 10,
             "solidity": 0.2
            },
            "type": "scatter"
           }
          ],
          "scatter3d": [
           {
            "line": {
             "colorbar": {
              "outlinewidth": 0,
              "ticks": ""
             }
            },
            "marker": {
             "colorbar": {
              "outlinewidth": 0,
              "ticks": ""
             }
            },
            "type": "scatter3d"
           }
          ],
          "scattercarpet": [
           {
            "marker": {
             "colorbar": {
              "outlinewidth": 0,
              "ticks": ""
             }
            },
            "type": "scattercarpet"
           }
          ],
          "scattergeo": [
           {
            "marker": {
             "colorbar": {
              "outlinewidth": 0,
              "ticks": ""
             }
            },
            "type": "scattergeo"
           }
          ],
          "scattergl": [
           {
            "marker": {
             "colorbar": {
              "outlinewidth": 0,
              "ticks": ""
             }
            },
            "type": "scattergl"
           }
          ],
          "scattermap": [
           {
            "marker": {
             "colorbar": {
              "outlinewidth": 0,
              "ticks": ""
             }
            },
            "type": "scattermap"
           }
          ],
          "scattermapbox": [
           {
            "marker": {
             "colorbar": {
              "outlinewidth": 0,
              "ticks": ""
             }
            },
            "type": "scattermapbox"
           }
          ],
          "scatterpolar": [
           {
            "marker": {
             "colorbar": {
              "outlinewidth": 0,
              "ticks": ""
             }
            },
            "type": "scatterpolar"
           }
          ],
          "scatterpolargl": [
           {
            "marker": {
             "colorbar": {
              "outlinewidth": 0,
              "ticks": ""
             }
            },
            "type": "scatterpolargl"
           }
          ],
          "scatterternary": [
           {
            "marker": {
             "colorbar": {
              "outlinewidth": 0,
              "ticks": ""
             }
            },
            "type": "scatterternary"
           }
          ],
          "surface": [
           {
            "colorbar": {
             "outlinewidth": 0,
             "ticks": ""
            },
            "colorscale": [
             [
              0,
              "#0d0887"
             ],
             [
              0.1111111111111111,
              "#46039f"
             ],
             [
              0.2222222222222222,
              "#7201a8"
             ],
             [
              0.3333333333333333,
              "#9c179e"
             ],
             [
              0.4444444444444444,
              "#bd3786"
             ],
             [
              0.5555555555555556,
              "#d8576b"
             ],
             [
              0.6666666666666666,
              "#ed7953"
             ],
             [
              0.7777777777777778,
              "#fb9f3a"
             ],
             [
              0.8888888888888888,
              "#fdca26"
             ],
             [
              1,
              "#f0f921"
             ]
            ],
            "type": "surface"
           }
          ],
          "table": [
           {
            "cells": {
             "fill": {
              "color": "#EBF0F8"
             },
             "line": {
              "color": "white"
             }
            },
            "header": {
             "fill": {
              "color": "#C8D4E3"
             },
             "line": {
              "color": "white"
             }
            },
            "type": "table"
           }
          ]
         },
         "layout": {
          "annotationdefaults": {
           "arrowcolor": "#2a3f5f",
           "arrowhead": 0,
           "arrowwidth": 1
          },
          "autotypenumbers": "strict",
          "coloraxis": {
           "colorbar": {
            "outlinewidth": 0,
            "ticks": ""
           }
          },
          "colorscale": {
           "diverging": [
            [
             0,
             "#8e0152"
            ],
            [
             0.1,
             "#c51b7d"
            ],
            [
             0.2,
             "#de77ae"
            ],
            [
             0.3,
             "#f1b6da"
            ],
            [
             0.4,
             "#fde0ef"
            ],
            [
             0.5,
             "#f7f7f7"
            ],
            [
             0.6,
             "#e6f5d0"
            ],
            [
             0.7,
             "#b8e186"
            ],
            [
             0.8,
             "#7fbc41"
            ],
            [
             0.9,
             "#4d9221"
            ],
            [
             1,
             "#276419"
            ]
           ],
           "sequential": [
            [
             0,
             "#0d0887"
            ],
            [
             0.1111111111111111,
             "#46039f"
            ],
            [
             0.2222222222222222,
             "#7201a8"
            ],
            [
             0.3333333333333333,
             "#9c179e"
            ],
            [
             0.4444444444444444,
             "#bd3786"
            ],
            [
             0.5555555555555556,
             "#d8576b"
            ],
            [
             0.6666666666666666,
             "#ed7953"
            ],
            [
             0.7777777777777778,
             "#fb9f3a"
            ],
            [
             0.8888888888888888,
             "#fdca26"
            ],
            [
             1,
             "#f0f921"
            ]
           ],
           "sequentialminus": [
            [
             0,
             "#0d0887"
            ],
            [
             0.1111111111111111,
             "#46039f"
            ],
            [
             0.2222222222222222,
             "#7201a8"
            ],
            [
             0.3333333333333333,
             "#9c179e"
            ],
            [
             0.4444444444444444,
             "#bd3786"
            ],
            [
             0.5555555555555556,
             "#d8576b"
            ],
            [
             0.6666666666666666,
             "#ed7953"
            ],
            [
             0.7777777777777778,
             "#fb9f3a"
            ],
            [
             0.8888888888888888,
             "#fdca26"
            ],
            [
             1,
             "#f0f921"
            ]
           ]
          },
          "colorway": [
           "#636efa",
           "#EF553B",
           "#00cc96",
           "#ab63fa",
           "#FFA15A",
           "#19d3f3",
           "#FF6692",
           "#B6E880",
           "#FF97FF",
           "#FECB52"
          ],
          "font": {
           "color": "#2a3f5f"
          },
          "geo": {
           "bgcolor": "white",
           "lakecolor": "white",
           "landcolor": "#E5ECF6",
           "showlakes": true,
           "showland": true,
           "subunitcolor": "white"
          },
          "hoverlabel": {
           "align": "left"
          },
          "hovermode": "closest",
          "mapbox": {
           "style": "light"
          },
          "paper_bgcolor": "white",
          "plot_bgcolor": "#E5ECF6",
          "polar": {
           "angularaxis": {
            "gridcolor": "white",
            "linecolor": "white",
            "ticks": ""
           },
           "bgcolor": "#E5ECF6",
           "radialaxis": {
            "gridcolor": "white",
            "linecolor": "white",
            "ticks": ""
           }
          },
          "scene": {
           "xaxis": {
            "backgroundcolor": "#E5ECF6",
            "gridcolor": "white",
            "gridwidth": 2,
            "linecolor": "white",
            "showbackground": true,
            "ticks": "",
            "zerolinecolor": "white"
           },
           "yaxis": {
            "backgroundcolor": "#E5ECF6",
            "gridcolor": "white",
            "gridwidth": 2,
            "linecolor": "white",
            "showbackground": true,
            "ticks": "",
            "zerolinecolor": "white"
           },
           "zaxis": {
            "backgroundcolor": "#E5ECF6",
            "gridcolor": "white",
            "gridwidth": 2,
            "linecolor": "white",
            "showbackground": true,
            "ticks": "",
            "zerolinecolor": "white"
           }
          },
          "shapedefaults": {
           "line": {
            "color": "#2a3f5f"
           }
          },
          "ternary": {
           "aaxis": {
            "gridcolor": "white",
            "linecolor": "white",
            "ticks": ""
           },
           "baxis": {
            "gridcolor": "white",
            "linecolor": "white",
            "ticks": ""
           },
           "bgcolor": "#E5ECF6",
           "caxis": {
            "gridcolor": "white",
            "linecolor": "white",
            "ticks": ""
           }
          },
          "title": {
           "x": 0.05
          },
          "xaxis": {
           "automargin": true,
           "gridcolor": "white",
           "linecolor": "white",
           "ticks": "",
           "title": {
            "standoff": 15
           },
           "zerolinecolor": "white",
           "zerolinewidth": 2
          },
          "yaxis": {
           "automargin": true,
           "gridcolor": "white",
           "linecolor": "white",
           "ticks": "",
           "title": {
            "standoff": 15
           },
           "zerolinecolor": "white",
           "zerolinewidth": 2
          }
         }
        },
        "title": {
         "text": "各列の欠損率の推移"
        },
        "xaxis": {
         "anchor": "y",
         "domain": [
          0,
          1
         ],
         "title": {
          "text": "year"
         }
        },
        "yaxis": {
         "anchor": "x",
         "domain": [
          0,
          1
         ],
         "title": {
          "text": "missing_rate"
         }
        }
       }
      }
     },
     "metadata": {},
     "output_type": "display_data"
    },
    {
     "data": {
      "application/vnd.plotly.v1+json": {
       "config": {
        "plotlyServerURL": "https://plot.ly"
       },
       "data": [
        {
         "hovertemplate": "column_name=コード<br>year=%{x}<br>missing_rate=%{y}<extra></extra>",
         "legendgroup": "コード",
         "line": {
          "color": "#636efa",
          "dash": "solid"
         },
         "marker": {
          "symbol": "circle"
         },
         "mode": "lines+markers",
         "name": "コード",
         "orientation": "v",
         "showlegend": true,
         "type": "scatter",
         "x": {
          "bdata": "2gfbB9wH3QfeB98H4AfhB+IH4wfkB+UH5gfnB+gH6Qc=",
          "dtype": "i2"
         },
         "xaxis": "x",
         "y": {
          "bdata": "AAAAAAAAAAAAAAAAAAAAAAAAAAAAAAAAAAAAAAAAAAAAAAAAAAAAAAAAAAAAAAAAAAAAAAAAAAAAAAAAAAAAAAAAAAAAAAAAAAAAAAAAAAAAAAAAAAAAAAAAAAAAAAAAAAAAAAAAAAAAAAAAAAAAAAAAAAAAAAAAAAAAAAAAAAA=",
          "dtype": "f8"
         },
         "yaxis": "y"
        },
        {
         "hovertemplate": "column_name=年度<br>year=%{x}<br>missing_rate=%{y}<extra></extra>",
         "legendgroup": "年度",
         "line": {
          "color": "#EF553B",
          "dash": "solid"
         },
         "marker": {
          "symbol": "circle"
         },
         "mode": "lines+markers",
         "name": "年度",
         "orientation": "v",
         "showlegend": true,
         "type": "scatter",
         "x": {
          "bdata": "2gfbB9wH3QfeB98H4AfhB+IH4wfkB+UH5gfnB+gH6Qc=",
          "dtype": "i2"
         },
         "xaxis": "x",
         "y": {
          "bdata": "AAAAAAAAAAAAAAAAAAAAAAAAAAAAAAAAAAAAAAAAAAAAAAAAAAAAAAAAAAAAAAAAAAAAAAAAAAAAAAAAAAAAAAAAAAAAAAAAAAAAAAAAAAAAAAAAAAAAAAAAAAAAAAAAAAAAAAAAAAAAAAAAAAAAAAAAAAAAAAAAAAAAAAAAAAA=",
          "dtype": "f8"
         },
         "yaxis": "y"
        },
        {
         "hovertemplate": "column_name=売上高<br>year=%{x}<br>missing_rate=%{y}<extra></extra>",
         "legendgroup": "売上高",
         "line": {
          "color": "#00cc96",
          "dash": "solid"
         },
         "marker": {
          "symbol": "circle"
         },
         "mode": "lines+markers",
         "name": "売上高",
         "orientation": "v",
         "showlegend": true,
         "type": "scatter",
         "x": {
          "bdata": "2gfbB9wH3QfeB98H4AfhB+IH4wfkB+UH5gfnB+gH6Qc=",
          "dtype": "i2"
         },
         "xaxis": "x",
         "y": {
          "bdata": "0DvcY4HaTD/Zcph0wKdiP25kgJjuY1s/K+wC6kPQYT9U93/1SFleP4a7+iZ5f10/6f5OEt6tXD+XjcW44ctbP/gAfAA+AF8/vp3kWDo6cD/cJ8lcTNpqP/d3PgI3WWU/GJOloEynVz+AAQxgAANYP5ByU9E8oWY/LwH/r6HjZz8=",
          "dtype": "f8"
         },
         "yaxis": "y"
        },
        {
         "hovertemplate": "column_name=営業利益<br>year=%{x}<br>missing_rate=%{y}<extra></extra>",
         "legendgroup": "営業利益",
         "line": {
          "color": "#ab63fa",
          "dash": "solid"
         },
         "marker": {
          "symbol": "circle"
         },
         "mode": "lines+markers",
         "name": "営業利益",
         "orientation": "v",
         "showlegend": true,
         "type": "scatter",
         "x": {
          "bdata": "2gfbB9wH3QfeB98H4AfhB+IH4wfkB+UH5gfnB+gH6Qc=",
          "dtype": "i2"
         },
         "xaxis": "x",
         "y": {
          "bdata": "lLCO24q4uD87UMvqulO7P3wM3WFUrbo/zwHaHY1suD8QsDOXGMe3Px9RQbYhoLg/obO25pTWuD+wGb9Eyj66P8jIY+Qx8rg/Qb6ZZbOrtj+arhH3+uuxPzvFPE6uvqg/mRtwN/EDoD+0oQ1taEObP2YFel2PM5k/sIapmX5fmz8=",
          "dtype": "f8"
         },
         "yaxis": "y"
        },
        {
         "hovertemplate": "column_name=経常利益<br>year=%{x}<br>missing_rate=%{y}<extra></extra>",
         "legendgroup": "経常利益",
         "line": {
          "color": "#FFA15A",
          "dash": "solid"
         },
         "marker": {
          "symbol": "circle"
         },
         "mode": "lines+markers",
         "name": "経常利益",
         "orientation": "v",
         "showlegend": true,
         "type": "scatter",
         "x": {
          "bdata": "2gfbB9wH3QfeB98H4AfhB+IH4wfkB+UH5gfnB+gH6Qc=",
          "dtype": "i2"
         },
         "xaxis": "x",
         "y": {
          "bdata": "T6UYyJckpz91wKcSAHenP1z+atRG06Y/Dq1XbPVnpj94sLEr6VqmP/PDImXg6aY/PtDVjJivpz+74ENTj7OnP8TYYewwdqg/shx1B0FqqT9aupUi8YesP1yip0Qkcq4/z9m0vmaxsD8XuchFLnKxP7r6jhi3ELI/Q+JpfrDJsj8=",
          "dtype": "f8"
         },
         "yaxis": "y"
        },
        {
         "hovertemplate": "column_name=純利益<br>year=%{x}<br>missing_rate=%{y}<extra></extra>",
         "legendgroup": "純利益",
         "line": {
          "color": "#19d3f3",
          "dash": "solid"
         },
         "marker": {
          "symbol": "circle"
         },
         "mode": "lines+markers",
         "name": "純利益",
         "orientation": "v",
         "showlegend": true,
         "type": "scatter",
         "x": {
          "bdata": "2gfbB9wH3QfeB98H4AfhB+IH4wfkB+UH5gfnB+gH6Qc=",
          "dtype": "i2"
         },
         "xaxis": "x",
         "y": {
          "bdata": "itKSQlY8Mz8AAAAAAAAAAAAAAAAAAAAAAAAAAAAAAAAAAAAAAAAAAAAAAAAAAAAAAAAAAAAAAAAAAAAAAAAAAAAAAAAAAAAAAAAAAAAAAAAAAAAAAAAAAAAAAAAAAAAAAAAAAAAAAAAAAAAAAAAAAAAAAAAAAAAAAAAAAAAAAAA=",
          "dtype": "f8"
         },
         "yaxis": "y"
        },
        {
         "hovertemplate": "column_name=EPS<br>year=%{x}<br>missing_rate=%{y}<extra></extra>",
         "legendgroup": "EPS",
         "line": {
          "color": "#FF6692",
          "dash": "solid"
         },
         "marker": {
          "symbol": "circle"
         },
         "mode": "lines+markers",
         "name": "EPS",
         "orientation": "v",
         "showlegend": true,
         "type": "scatter",
         "x": {
          "bdata": "2gfbB9wH3QfeB98H4AfhB+IH4wfkB+UH5gfnB+gH6Qc=",
          "dtype": "i2"
         },
         "xaxis": "x",
         "y": {
          "bdata": "itKSQlY8cz+Pj76RsFFnP0qYVRCfQlI/K+wC6kPQMT951rZnl1dRP+Dp1vywSEk/z9qaU1pjMD/RoZiub8QvP/gAfAA+AC8/AAAAAAAAAAAAAAAAAAAAAJYLFUlnDT8/lPqJMBW2Uz8AAAAAAAAAAAAAAAAAAAAAAAAAAAAAAAA=",
          "dtype": "f8"
         },
         "yaxis": "y"
        },
        {
         "hovertemplate": "column_name=ROE<br>year=%{x}<br>missing_rate=%{y}<extra></extra>",
         "legendgroup": "ROE",
         "line": {
          "color": "#B6E880",
          "dash": "solid"
         },
         "marker": {
          "symbol": "circle"
         },
         "mode": "lines+markers",
         "name": "ROE",
         "orientation": "v",
         "showlegend": true,
         "type": "scatter",
         "x": {
          "bdata": "2gfbB9wH3QfeB98H4AfhB+IH4wfkB+UH5gfnB+gH6Qc=",
          "dtype": "i2"
         },
         "xaxis": "x",
         "y": {
          "bdata": "OXhAesvU0D+u6D+rYmbLP9YOcPmrUcs/DOaqmFLDxz8b+tyWr6DEP9FeQnsJ7cU/2Cg+q1P7xj+eVlpYSLfFP6gp1BRqCsU/wKLI37NTxz/5Vjt+GprLPwNk+zsfgcs/0PveGfkjwj8sYQlLWMLCP/Xe9oBDdcA/Jvs5tHV0wD8=",
          "dtype": "f8"
         },
         "yaxis": "y"
        },
        {
         "hovertemplate": "column_name=ROA<br>year=%{x}<br>missing_rate=%{y}<extra></extra>",
         "legendgroup": "ROA",
         "line": {
          "color": "#FF97FF",
          "dash": "solid"
         },
         "marker": {
          "symbol": "circle"
         },
         "mode": "lines+markers",
         "name": "ROA",
         "orientation": "v",
         "showlegend": true,
         "type": "scatter",
         "x": {
          "bdata": "2gfbB9wH3QfeB98H4AfhB+IH4wfkB+UH5gfnB+gH6Qc=",
          "dtype": "i2"
         },
         "xaxis": "x",
         "y": {
          "bdata": "Cfh1wtyazT9hCHWKNCfGP+EiazopJsU/2wocs06Lwj8Irr2wBeS+P4QxK40eUcE/4i9s2tQdwj9IYpiMPfDAP4NkQbIgWcA/htWXxbAPwz91UZ/C/zvJP2N24KfwgMo/Fgv9MwPdwT8sYQlLWMLCP/Xe9oBDdcA/0FD/KH9swD8=",
          "dtype": "f8"
         },
         "yaxis": "y"
        }
       ],
       "layout": {
        "legend": {
         "title": {
          "text": "column_name"
         },
         "tracegroupgap": 0
        },
        "template": {
         "data": {
          "bar": [
           {
            "error_x": {
             "color": "#2a3f5f"
            },
            "error_y": {
             "color": "#2a3f5f"
            },
            "marker": {
             "line": {
              "color": "#E5ECF6",
              "width": 0.5
             },
             "pattern": {
              "fillmode": "overlay",
              "size": 10,
              "solidity": 0.2
             }
            },
            "type": "bar"
           }
          ],
          "barpolar": [
           {
            "marker": {
             "line": {
              "color": "#E5ECF6",
              "width": 0.5
             },
             "pattern": {
              "fillmode": "overlay",
              "size": 10,
              "solidity": 0.2
             }
            },
            "type": "barpolar"
           }
          ],
          "carpet": [
           {
            "aaxis": {
             "endlinecolor": "#2a3f5f",
             "gridcolor": "white",
             "linecolor": "white",
             "minorgridcolor": "white",
             "startlinecolor": "#2a3f5f"
            },
            "baxis": {
             "endlinecolor": "#2a3f5f",
             "gridcolor": "white",
             "linecolor": "white",
             "minorgridcolor": "white",
             "startlinecolor": "#2a3f5f"
            },
            "type": "carpet"
           }
          ],
          "choropleth": [
           {
            "colorbar": {
             "outlinewidth": 0,
             "ticks": ""
            },
            "type": "choropleth"
           }
          ],
          "contour": [
           {
            "colorbar": {
             "outlinewidth": 0,
             "ticks": ""
            },
            "colorscale": [
             [
              0,
              "#0d0887"
             ],
             [
              0.1111111111111111,
              "#46039f"
             ],
             [
              0.2222222222222222,
              "#7201a8"
             ],
             [
              0.3333333333333333,
              "#9c179e"
             ],
             [
              0.4444444444444444,
              "#bd3786"
             ],
             [
              0.5555555555555556,
              "#d8576b"
             ],
             [
              0.6666666666666666,
              "#ed7953"
             ],
             [
              0.7777777777777778,
              "#fb9f3a"
             ],
             [
              0.8888888888888888,
              "#fdca26"
             ],
             [
              1,
              "#f0f921"
             ]
            ],
            "type": "contour"
           }
          ],
          "contourcarpet": [
           {
            "colorbar": {
             "outlinewidth": 0,
             "ticks": ""
            },
            "type": "contourcarpet"
           }
          ],
          "heatmap": [
           {
            "colorbar": {
             "outlinewidth": 0,
             "ticks": ""
            },
            "colorscale": [
             [
              0,
              "#0d0887"
             ],
             [
              0.1111111111111111,
              "#46039f"
             ],
             [
              0.2222222222222222,
              "#7201a8"
             ],
             [
              0.3333333333333333,
              "#9c179e"
             ],
             [
              0.4444444444444444,
              "#bd3786"
             ],
             [
              0.5555555555555556,
              "#d8576b"
             ],
             [
              0.6666666666666666,
              "#ed7953"
             ],
             [
              0.7777777777777778,
              "#fb9f3a"
             ],
             [
              0.8888888888888888,
              "#fdca26"
             ],
             [
              1,
              "#f0f921"
             ]
            ],
            "type": "heatmap"
           }
          ],
          "histogram": [
           {
            "marker": {
             "pattern": {
              "fillmode": "overlay",
              "size": 10,
              "solidity": 0.2
             }
            },
            "type": "histogram"
           }
          ],
          "histogram2d": [
           {
            "colorbar": {
             "outlinewidth": 0,
             "ticks": ""
            },
            "colorscale": [
             [
              0,
              "#0d0887"
             ],
             [
              0.1111111111111111,
              "#46039f"
             ],
             [
              0.2222222222222222,
              "#7201a8"
             ],
             [
              0.3333333333333333,
              "#9c179e"
             ],
             [
              0.4444444444444444,
              "#bd3786"
             ],
             [
              0.5555555555555556,
              "#d8576b"
             ],
             [
              0.6666666666666666,
              "#ed7953"
             ],
             [
              0.7777777777777778,
              "#fb9f3a"
             ],
             [
              0.8888888888888888,
              "#fdca26"
             ],
             [
              1,
              "#f0f921"
             ]
            ],
            "type": "histogram2d"
           }
          ],
          "histogram2dcontour": [
           {
            "colorbar": {
             "outlinewidth": 0,
             "ticks": ""
            },
            "colorscale": [
             [
              0,
              "#0d0887"
             ],
             [
              0.1111111111111111,
              "#46039f"
             ],
             [
              0.2222222222222222,
              "#7201a8"
             ],
             [
              0.3333333333333333,
              "#9c179e"
             ],
             [
              0.4444444444444444,
              "#bd3786"
             ],
             [
              0.5555555555555556,
              "#d8576b"
             ],
             [
              0.6666666666666666,
              "#ed7953"
             ],
             [
              0.7777777777777778,
              "#fb9f3a"
             ],
             [
              0.8888888888888888,
              "#fdca26"
             ],
             [
              1,
              "#f0f921"
             ]
            ],
            "type": "histogram2dcontour"
           }
          ],
          "mesh3d": [
           {
            "colorbar": {
             "outlinewidth": 0,
             "ticks": ""
            },
            "type": "mesh3d"
           }
          ],
          "parcoords": [
           {
            "line": {
             "colorbar": {
              "outlinewidth": 0,
              "ticks": ""
             }
            },
            "type": "parcoords"
           }
          ],
          "pie": [
           {
            "automargin": true,
            "type": "pie"
           }
          ],
          "scatter": [
           {
            "fillpattern": {
             "fillmode": "overlay",
             "size": 10,
             "solidity": 0.2
            },
            "type": "scatter"
           }
          ],
          "scatter3d": [
           {
            "line": {
             "colorbar": {
              "outlinewidth": 0,
              "ticks": ""
             }
            },
            "marker": {
             "colorbar": {
              "outlinewidth": 0,
              "ticks": ""
             }
            },
            "type": "scatter3d"
           }
          ],
          "scattercarpet": [
           {
            "marker": {
             "colorbar": {
              "outlinewidth": 0,
              "ticks": ""
             }
            },
            "type": "scattercarpet"
           }
          ],
          "scattergeo": [
           {
            "marker": {
             "colorbar": {
              "outlinewidth": 0,
              "ticks": ""
             }
            },
            "type": "scattergeo"
           }
          ],
          "scattergl": [
           {
            "marker": {
             "colorbar": {
              "outlinewidth": 0,
              "ticks": ""
             }
            },
            "type": "scattergl"
           }
          ],
          "scattermap": [
           {
            "marker": {
             "colorbar": {
              "outlinewidth": 0,
              "ticks": ""
             }
            },
            "type": "scattermap"
           }
          ],
          "scattermapbox": [
           {
            "marker": {
             "colorbar": {
              "outlinewidth": 0,
              "ticks": ""
             }
            },
            "type": "scattermapbox"
           }
          ],
          "scatterpolar": [
           {
            "marker": {
             "colorbar": {
              "outlinewidth": 0,
              "ticks": ""
             }
            },
            "type": "scatterpolar"
           }
          ],
          "scatterpolargl": [
           {
            "marker": {
             "colorbar": {
              "outlinewidth": 0,
              "ticks": ""
             }
            },
            "type": "scatterpolargl"
           }
          ],
          "scatterternary": [
           {
            "marker": {
             "colorbar": {
              "outlinewidth": 0,
              "ticks": ""
             }
            },
            "type": "scatterternary"
           }
          ],
          "surface": [
           {
            "colorbar": {
             "outlinewidth": 0,
             "ticks": ""
            },
            "colorscale": [
             [
              0,
              "#0d0887"
             ],
             [
              0.1111111111111111,
              "#46039f"
             ],
             [
              0.2222222222222222,
              "#7201a8"
             ],
             [
              0.3333333333333333,
              "#9c179e"
             ],
             [
              0.4444444444444444,
              "#bd3786"
             ],
             [
              0.5555555555555556,
              "#d8576b"
             ],
             [
              0.6666666666666666,
              "#ed7953"
             ],
             [
              0.7777777777777778,
              "#fb9f3a"
             ],
             [
              0.8888888888888888,
              "#fdca26"
             ],
             [
              1,
              "#f0f921"
             ]
            ],
            "type": "surface"
           }
          ],
          "table": [
           {
            "cells": {
             "fill": {
              "color": "#EBF0F8"
             },
             "line": {
              "color": "white"
             }
            },
            "header": {
             "fill": {
              "color": "#C8D4E3"
             },
             "line": {
              "color": "white"
             }
            },
            "type": "table"
           }
          ]
         },
         "layout": {
          "annotationdefaults": {
           "arrowcolor": "#2a3f5f",
           "arrowhead": 0,
           "arrowwidth": 1
          },
          "autotypenumbers": "strict",
          "coloraxis": {
           "colorbar": {
            "outlinewidth": 0,
            "ticks": ""
           }
          },
          "colorscale": {
           "diverging": [
            [
             0,
             "#8e0152"
            ],
            [
             0.1,
             "#c51b7d"
            ],
            [
             0.2,
             "#de77ae"
            ],
            [
             0.3,
             "#f1b6da"
            ],
            [
             0.4,
             "#fde0ef"
            ],
            [
             0.5,
             "#f7f7f7"
            ],
            [
             0.6,
             "#e6f5d0"
            ],
            [
             0.7,
             "#b8e186"
            ],
            [
             0.8,
             "#7fbc41"
            ],
            [
             0.9,
             "#4d9221"
            ],
            [
             1,
             "#276419"
            ]
           ],
           "sequential": [
            [
             0,
             "#0d0887"
            ],
            [
             0.1111111111111111,
             "#46039f"
            ],
            [
             0.2222222222222222,
             "#7201a8"
            ],
            [
             0.3333333333333333,
             "#9c179e"
            ],
            [
             0.4444444444444444,
             "#bd3786"
            ],
            [
             0.5555555555555556,
             "#d8576b"
            ],
            [
             0.6666666666666666,
             "#ed7953"
            ],
            [
             0.7777777777777778,
             "#fb9f3a"
            ],
            [
             0.8888888888888888,
             "#fdca26"
            ],
            [
             1,
             "#f0f921"
            ]
           ],
           "sequentialminus": [
            [
             0,
             "#0d0887"
            ],
            [
             0.1111111111111111,
             "#46039f"
            ],
            [
             0.2222222222222222,
             "#7201a8"
            ],
            [
             0.3333333333333333,
             "#9c179e"
            ],
            [
             0.4444444444444444,
             "#bd3786"
            ],
            [
             0.5555555555555556,
             "#d8576b"
            ],
            [
             0.6666666666666666,
             "#ed7953"
            ],
            [
             0.7777777777777778,
             "#fb9f3a"
            ],
            [
             0.8888888888888888,
             "#fdca26"
            ],
            [
             1,
             "#f0f921"
            ]
           ]
          },
          "colorway": [
           "#636efa",
           "#EF553B",
           "#00cc96",
           "#ab63fa",
           "#FFA15A",
           "#19d3f3",
           "#FF6692",
           "#B6E880",
           "#FF97FF",
           "#FECB52"
          ],
          "font": {
           "color": "#2a3f5f"
          },
          "geo": {
           "bgcolor": "white",
           "lakecolor": "white",
           "landcolor": "#E5ECF6",
           "showlakes": true,
           "showland": true,
           "subunitcolor": "white"
          },
          "hoverlabel": {
           "align": "left"
          },
          "hovermode": "closest",
          "mapbox": {
           "style": "light"
          },
          "paper_bgcolor": "white",
          "plot_bgcolor": "#E5ECF6",
          "polar": {
           "angularaxis": {
            "gridcolor": "white",
            "linecolor": "white",
            "ticks": ""
           },
           "bgcolor": "#E5ECF6",
           "radialaxis": {
            "gridcolor": "white",
            "linecolor": "white",
            "ticks": ""
           }
          },
          "scene": {
           "xaxis": {
            "backgroundcolor": "#E5ECF6",
            "gridcolor": "white",
            "gridwidth": 2,
            "linecolor": "white",
            "showbackground": true,
            "ticks": "",
            "zerolinecolor": "white"
           },
           "yaxis": {
            "backgroundcolor": "#E5ECF6",
            "gridcolor": "white",
            "gridwidth": 2,
            "linecolor": "white",
            "showbackground": true,
            "ticks": "",
            "zerolinecolor": "white"
           },
           "zaxis": {
            "backgroundcolor": "#E5ECF6",
            "gridcolor": "white",
            "gridwidth": 2,
            "linecolor": "white",
            "showbackground": true,
            "ticks": "",
            "zerolinecolor": "white"
           }
          },
          "shapedefaults": {
           "line": {
            "color": "#2a3f5f"
           }
          },
          "ternary": {
           "aaxis": {
            "gridcolor": "white",
            "linecolor": "white",
            "ticks": ""
           },
           "baxis": {
            "gridcolor": "white",
            "linecolor": "white",
            "ticks": ""
           },
           "bgcolor": "#E5ECF6",
           "caxis": {
            "gridcolor": "white",
            "linecolor": "white",
            "ticks": ""
           }
          },
          "title": {
           "x": 0.05
          },
          "xaxis": {
           "automargin": true,
           "gridcolor": "white",
           "linecolor": "white",
           "ticks": "",
           "title": {
            "standoff": 15
           },
           "zerolinecolor": "white",
           "zerolinewidth": 2
          },
          "yaxis": {
           "automargin": true,
           "gridcolor": "white",
           "linecolor": "white",
           "ticks": "",
           "title": {
            "standoff": 15
           },
           "zerolinecolor": "white",
           "zerolinewidth": 2
          }
         }
        },
        "title": {
         "text": "各列の欠損率の推移"
        },
        "xaxis": {
         "anchor": "y",
         "domain": [
          0,
          1
         ],
         "title": {
          "text": "year"
         }
        },
        "yaxis": {
         "anchor": "x",
         "domain": [
          0,
          1
         ],
         "title": {
          "text": "missing_rate"
         }
        }
       }
      }
     },
     "metadata": {},
     "output_type": "display_data"
    },
    {
     "data": {
      "application/vnd.plotly.v1+json": {
       "config": {
        "plotlyServerURL": "https://plot.ly"
       },
       "data": [
        {
         "hovertemplate": "column_name=コード<br>year=%{x}<br>missing_rate=%{y}<extra></extra>",
         "legendgroup": "コード",
         "line": {
          "color": "#636efa",
          "dash": "solid"
         },
         "marker": {
          "symbol": "circle"
         },
         "mode": "lines+markers",
         "name": "コード",
         "orientation": "v",
         "showlegend": true,
         "type": "scatter",
         "x": {
          "bdata": "2gfbB9wH3QfeB98H4AfhB+IH4wfkB+UH5gfnB+gH6Qc=",
          "dtype": "i2"
         },
         "xaxis": "x",
         "y": {
          "bdata": "AAAAAAAAAAAAAAAAAAAAAAAAAAAAAAAAAAAAAAAAAAAAAAAAAAAAAAAAAAAAAAAAAAAAAAAAAAAAAAAAAAAAAAAAAAAAAAAAAAAAAAAAAAAAAAAAAAAAAAAAAAAAAAAAAAAAAAAAAAAAAAAAAAAAAAAAAAAAAAAAAAAAAAAAAAA=",
          "dtype": "f8"
         },
         "yaxis": "y"
        },
        {
         "hovertemplate": "column_name=年度<br>year=%{x}<br>missing_rate=%{y}<extra></extra>",
         "legendgroup": "年度",
         "line": {
          "color": "#EF553B",
          "dash": "solid"
         },
         "marker": {
          "symbol": "circle"
         },
         "mode": "lines+markers",
         "name": "年度",
         "orientation": "v",
         "showlegend": true,
         "type": "scatter",
         "x": {
          "bdata": "2gfbB9wH3QfeB98H4AfhB+IH4wfkB+UH5gfnB+gH6Qc=",
          "dtype": "i2"
         },
         "xaxis": "x",
         "y": {
          "bdata": "AAAAAAAAAAAAAAAAAAAAAAAAAAAAAAAAAAAAAAAAAAAAAAAAAAAAAAAAAAAAAAAAAAAAAAAAAAAAAAAAAAAAAAAAAAAAAAAAAAAAAAAAAAAAAAAAAAAAAAAAAAAAAAAAAAAAAAAAAAAAAAAAAAAAAAAAAAAAAAAAAAAAAAAAAAA=",
          "dtype": "f8"
         },
         "yaxis": "y"
        },
        {
         "hovertemplate": "column_name=一株配当<br>year=%{x}<br>missing_rate=%{y}<extra></extra>",
         "legendgroup": "一株配当",
         "line": {
          "color": "#00cc96",
          "dash": "solid"
         },
         "marker": {
          "symbol": "circle"
         },
         "mode": "lines+markers",
         "name": "一株配当",
         "orientation": "v",
         "showlegend": true,
         "type": "scatter",
         "x": {
          "bdata": "2gfbB9wH3QfeB98H4AfhB+IH4wfkB+UH5gfnB+gH6Qc=",
          "dtype": "i2"
         },
         "xaxis": "x",
         "y": {
          "bdata": "KVAZ0k/jwT/Im1VPC6O9P7/stQU9Srk/JPbytHsfuT/3a4V7xkW0P9VBer5hbLI/Kwo/7b6fsT/AidBCrF2xP8Zo3Q1hp7M/+/ERwKM4tj8TXHXtp928P9nTtx1OWMA/Zu1od4V8uT8mc5/3kOm5PyfQiVoYIrY/0FMIacGwvj8=",
          "dtype": "f8"
         },
         "yaxis": "y"
        },
        {
         "hovertemplate": "column_name=剰余金の配当<br>year=%{x}<br>missing_rate=%{y}<extra></extra>",
         "legendgroup": "剰余金の配当",
         "line": {
          "color": "#ab63fa",
          "dash": "solid"
         },
         "marker": {
          "symbol": "circle"
         },
         "mode": "lines+markers",
         "name": "剰余金の配当",
         "orientation": "v",
         "showlegend": true,
         "type": "scatter",
         "x": {
          "bdata": "2gfbB9wH3QfeB98H4AfhB+IH4wfkB+UH5gfnB+gH6Qc=",
          "dtype": "i2"
         },
         "xaxis": "x",
         "y": {
          "bdata": "A8vhHk0zwD+oc/N3L/W+PwmKcgLRH70/GkNpUQBTvz/J6jLslf68Pzb2Nq/XIrw/Daf6APXduz/8629J9hu8P24FJgpH8bg/N+2StLzvuT9CI9KQ2ri4P5PwnPsudLs/x1LLOFBBvD9HjXfib0S6P+LVkTKtJbs/bTGIrUo6vz8=",
          "dtype": "f8"
         },
         "yaxis": "y"
        },
        {
         "hovertemplate": "column_name=自社株買い<br>year=%{x}<br>missing_rate=%{y}<extra></extra>",
         "legendgroup": "自社株買い",
         "line": {
          "color": "#FFA15A",
          "dash": "solid"
         },
         "marker": {
          "symbol": "circle"
         },
         "mode": "lines+markers",
         "name": "自社株買い",
         "orientation": "v",
         "showlegend": true,
         "type": "scatter",
         "x": {
          "bdata": "2gfbB9wH3QfeB98H4AfhB+IH4wfkB+UH5gfnB+gH6Qc=",
          "dtype": "i2"
         },
         "xaxis": "x",
         "y": {
          "bdata": "N31Cjun40T8GtwOvGBnQP2AV3RU6HNM/ogfI73ZC0z+Yrr3doULYPw8cNDxLsNk/Kd+rOuOR2T/3lYZdX5DaPycPauZMGtg/yk73rpA82D+RhtTGxQDZP4R+Ysj4Ats/Vj3wrHrg2T93V8iXWTvaP6GtjF6E7Nc/ZhtqnWaS1z8=",
          "dtype": "f8"
         },
         "yaxis": "y"
        },
        {
         "hovertemplate": "column_name=配当性向<br>year=%{x}<br>missing_rate=%{y}<extra></extra>",
         "legendgroup": "配当性向",
         "line": {
          "color": "#19d3f3",
          "dash": "solid"
         },
         "marker": {
          "symbol": "circle"
         },
         "mode": "lines+markers",
         "name": "配当性向",
         "orientation": "v",
         "showlegend": true,
         "type": "scatter",
         "x": {
          "bdata": "2gfbB9wH3QfeB98H4AfhB+IH4wfkB+UH5gfnB+gH6Qc=",
          "dtype": "i2"
         },
         "xaxis": "x",
         "y": {
          "bdata": "qeTpLlJd0z/S5iR1OejPP2hCSV+41sw/VOvsi6jWyT89zR5skH3FPxEfFd53lcU/SVuc/OqwxT/4mirLYYnDP1p2PKeSAsI/2eneFZIHxT9TSVw2gurJPynvBt9YzMw/hXyZtaPdxT/1HaeV5vjFP9Pz7rRjWMU/t4+xQyTByT8=",
          "dtype": "f8"
         },
         "yaxis": "y"
        },
        {
         "hovertemplate": "column_name=総還元性向<br>year=%{x}<br>missing_rate=%{y}<extra></extra>",
         "legendgroup": "総還元性向",
         "line": {
          "color": "#FF6692",
          "dash": "solid"
         },
         "marker": {
          "symbol": "circle"
         },
         "mode": "lines+markers",
         "name": "総還元性向",
         "orientation": "v",
         "showlegend": true,
         "type": "scatter",
         "x": {
          "bdata": "2gfbB9wH3QfeB98H4AfhB+IH4wfkB+UH5gfnB+gH6Qc=",
          "dtype": "i2"
         },
         "xaxis": "x",
         "y": {
          "bdata": "7FfzFlgO1z8FMw5kFN3SPy+DXKmymdI/+ORwGfDJ0T/gO18K1obOP9lu8i+iCNA/ahvMRgw70D9AAWmbQD7OP5MHNXMmDcw/MBQ4uP9wzT8afA1AMKXQP4Xn3Heh29A/1+tpAi0pyj8XwyYthk3KP5FkJpza/sc/KZbZhlqnyT8=",
          "dtype": "f8"
         },
         "yaxis": "y"
        },
        {
         "hovertemplate": "column_name=純資産配当率<br>year=%{x}<br>missing_rate=%{y}<extra></extra>",
         "legendgroup": "純資産配当率",
         "line": {
          "color": "#B6E880",
          "dash": "solid"
         },
         "marker": {
          "symbol": "circle"
         },
         "mode": "lines+markers",
         "name": "純資産配当率",
         "orientation": "v",
         "showlegend": true,
         "type": "scatter",
         "x": {
          "bdata": "2gfbB9wH3QfeB98H4AfhB+IH4wfkB+UH5gfnB+gH6Qc=",
          "dtype": "i2"
         },
         "xaxis": "x",
         "y": {
          "bdata": "vLT1kJn67z+giF1vt/rvP3XT8Lw6mOs/QdFWg+cIxD/CEdvmH7m+Pzb2Nq/XIrw/uil6BgbQuj+IxvrQWB+6P4ex2vrbA7s/DwwFDu4/vD8J/ks+PXjAP3VmbOLA3cE/hzX1Y8A/vT8HKohjqWW8P5FkJpza/rc/cgYoQzbmvz8=",
          "dtype": "f8"
         },
         "yaxis": "y"
        }
       ],
       "layout": {
        "legend": {
         "title": {
          "text": "column_name"
         },
         "tracegroupgap": 0
        },
        "template": {
         "data": {
          "bar": [
           {
            "error_x": {
             "color": "#2a3f5f"
            },
            "error_y": {
             "color": "#2a3f5f"
            },
            "marker": {
             "line": {
              "color": "#E5ECF6",
              "width": 0.5
             },
             "pattern": {
              "fillmode": "overlay",
              "size": 10,
              "solidity": 0.2
             }
            },
            "type": "bar"
           }
          ],
          "barpolar": [
           {
            "marker": {
             "line": {
              "color": "#E5ECF6",
              "width": 0.5
             },
             "pattern": {
              "fillmode": "overlay",
              "size": 10,
              "solidity": 0.2
             }
            },
            "type": "barpolar"
           }
          ],
          "carpet": [
           {
            "aaxis": {
             "endlinecolor": "#2a3f5f",
             "gridcolor": "white",
             "linecolor": "white",
             "minorgridcolor": "white",
             "startlinecolor": "#2a3f5f"
            },
            "baxis": {
             "endlinecolor": "#2a3f5f",
             "gridcolor": "white",
             "linecolor": "white",
             "minorgridcolor": "white",
             "startlinecolor": "#2a3f5f"
            },
            "type": "carpet"
           }
          ],
          "choropleth": [
           {
            "colorbar": {
             "outlinewidth": 0,
             "ticks": ""
            },
            "type": "choropleth"
           }
          ],
          "contour": [
           {
            "colorbar": {
             "outlinewidth": 0,
             "ticks": ""
            },
            "colorscale": [
             [
              0,
              "#0d0887"
             ],
             [
              0.1111111111111111,
              "#46039f"
             ],
             [
              0.2222222222222222,
              "#7201a8"
             ],
             [
              0.3333333333333333,
              "#9c179e"
             ],
             [
              0.4444444444444444,
              "#bd3786"
             ],
             [
              0.5555555555555556,
              "#d8576b"
             ],
             [
              0.6666666666666666,
              "#ed7953"
             ],
             [
              0.7777777777777778,
              "#fb9f3a"
             ],
             [
              0.8888888888888888,
              "#fdca26"
             ],
             [
              1,
              "#f0f921"
             ]
            ],
            "type": "contour"
           }
          ],
          "contourcarpet": [
           {
            "colorbar": {
             "outlinewidth": 0,
             "ticks": ""
            },
            "type": "contourcarpet"
           }
          ],
          "heatmap": [
           {
            "colorbar": {
             "outlinewidth": 0,
             "ticks": ""
            },
            "colorscale": [
             [
              0,
              "#0d0887"
             ],
             [
              0.1111111111111111,
              "#46039f"
             ],
             [
              0.2222222222222222,
              "#7201a8"
             ],
             [
              0.3333333333333333,
              "#9c179e"
             ],
             [
              0.4444444444444444,
              "#bd3786"
             ],
             [
              0.5555555555555556,
              "#d8576b"
             ],
             [
              0.6666666666666666,
              "#ed7953"
             ],
             [
              0.7777777777777778,
              "#fb9f3a"
             ],
             [
              0.8888888888888888,
              "#fdca26"
             ],
             [
              1,
              "#f0f921"
             ]
            ],
            "type": "heatmap"
           }
          ],
          "histogram": [
           {
            "marker": {
             "pattern": {
              "fillmode": "overlay",
              "size": 10,
              "solidity": 0.2
             }
            },
            "type": "histogram"
           }
          ],
          "histogram2d": [
           {
            "colorbar": {
             "outlinewidth": 0,
             "ticks": ""
            },
            "colorscale": [
             [
              0,
              "#0d0887"
             ],
             [
              0.1111111111111111,
              "#46039f"
             ],
             [
              0.2222222222222222,
              "#7201a8"
             ],
             [
              0.3333333333333333,
              "#9c179e"
             ],
             [
              0.4444444444444444,
              "#bd3786"
             ],
             [
              0.5555555555555556,
              "#d8576b"
             ],
             [
              0.6666666666666666,
              "#ed7953"
             ],
             [
              0.7777777777777778,
              "#fb9f3a"
             ],
             [
              0.8888888888888888,
              "#fdca26"
             ],
             [
              1,
              "#f0f921"
             ]
            ],
            "type": "histogram2d"
           }
          ],
          "histogram2dcontour": [
           {
            "colorbar": {
             "outlinewidth": 0,
             "ticks": ""
            },
            "colorscale": [
             [
              0,
              "#0d0887"
             ],
             [
              0.1111111111111111,
              "#46039f"
             ],
             [
              0.2222222222222222,
              "#7201a8"
             ],
             [
              0.3333333333333333,
              "#9c179e"
             ],
             [
              0.4444444444444444,
              "#bd3786"
             ],
             [
              0.5555555555555556,
              "#d8576b"
             ],
             [
              0.6666666666666666,
              "#ed7953"
             ],
             [
              0.7777777777777778,
              "#fb9f3a"
             ],
             [
              0.8888888888888888,
              "#fdca26"
             ],
             [
              1,
              "#f0f921"
             ]
            ],
            "type": "histogram2dcontour"
           }
          ],
          "mesh3d": [
           {
            "colorbar": {
             "outlinewidth": 0,
             "ticks": ""
            },
            "type": "mesh3d"
           }
          ],
          "parcoords": [
           {
            "line": {
             "colorbar": {
              "outlinewidth": 0,
              "ticks": ""
             }
            },
            "type": "parcoords"
           }
          ],
          "pie": [
           {
            "automargin": true,
            "type": "pie"
           }
          ],
          "scatter": [
           {
            "fillpattern": {
             "fillmode": "overlay",
             "size": 10,
             "solidity": 0.2
            },
            "type": "scatter"
           }
          ],
          "scatter3d": [
           {
            "line": {
             "colorbar": {
              "outlinewidth": 0,
              "ticks": ""
             }
            },
            "marker": {
             "colorbar": {
              "outlinewidth": 0,
              "ticks": ""
             }
            },
            "type": "scatter3d"
           }
          ],
          "scattercarpet": [
           {
            "marker": {
             "colorbar": {
              "outlinewidth": 0,
              "ticks": ""
             }
            },
            "type": "scattercarpet"
           }
          ],
          "scattergeo": [
           {
            "marker": {
             "colorbar": {
              "outlinewidth": 0,
              "ticks": ""
             }
            },
            "type": "scattergeo"
           }
          ],
          "scattergl": [
           {
            "marker": {
             "colorbar": {
              "outlinewidth": 0,
              "ticks": ""
             }
            },
            "type": "scattergl"
           }
          ],
          "scattermap": [
           {
            "marker": {
             "colorbar": {
              "outlinewidth": 0,
              "ticks": ""
             }
            },
            "type": "scattermap"
           }
          ],
          "scattermapbox": [
           {
            "marker": {
             "colorbar": {
              "outlinewidth": 0,
              "ticks": ""
             }
            },
            "type": "scattermapbox"
           }
          ],
          "scatterpolar": [
           {
            "marker": {
             "colorbar": {
              "outlinewidth": 0,
              "ticks": ""
             }
            },
            "type": "scatterpolar"
           }
          ],
          "scatterpolargl": [
           {
            "marker": {
             "colorbar": {
              "outlinewidth": 0,
              "ticks": ""
             }
            },
            "type": "scatterpolargl"
           }
          ],
          "scatterternary": [
           {
            "marker": {
             "colorbar": {
              "outlinewidth": 0,
              "ticks": ""
             }
            },
            "type": "scatterternary"
           }
          ],
          "surface": [
           {
            "colorbar": {
             "outlinewidth": 0,
             "ticks": ""
            },
            "colorscale": [
             [
              0,
              "#0d0887"
             ],
             [
              0.1111111111111111,
              "#46039f"
             ],
             [
              0.2222222222222222,
              "#7201a8"
             ],
             [
              0.3333333333333333,
              "#9c179e"
             ],
             [
              0.4444444444444444,
              "#bd3786"
             ],
             [
              0.5555555555555556,
              "#d8576b"
             ],
             [
              0.6666666666666666,
              "#ed7953"
             ],
             [
              0.7777777777777778,
              "#fb9f3a"
             ],
             [
              0.8888888888888888,
              "#fdca26"
             ],
             [
              1,
              "#f0f921"
             ]
            ],
            "type": "surface"
           }
          ],
          "table": [
           {
            "cells": {
             "fill": {
              "color": "#EBF0F8"
             },
             "line": {
              "color": "white"
             }
            },
            "header": {
             "fill": {
              "color": "#C8D4E3"
             },
             "line": {
              "color": "white"
             }
            },
            "type": "table"
           }
          ]
         },
         "layout": {
          "annotationdefaults": {
           "arrowcolor": "#2a3f5f",
           "arrowhead": 0,
           "arrowwidth": 1
          },
          "autotypenumbers": "strict",
          "coloraxis": {
           "colorbar": {
            "outlinewidth": 0,
            "ticks": ""
           }
          },
          "colorscale": {
           "diverging": [
            [
             0,
             "#8e0152"
            ],
            [
             0.1,
             "#c51b7d"
            ],
            [
             0.2,
             "#de77ae"
            ],
            [
             0.3,
             "#f1b6da"
            ],
            [
             0.4,
             "#fde0ef"
            ],
            [
             0.5,
             "#f7f7f7"
            ],
            [
             0.6,
             "#e6f5d0"
            ],
            [
             0.7,
             "#b8e186"
            ],
            [
             0.8,
             "#7fbc41"
            ],
            [
             0.9,
             "#4d9221"
            ],
            [
             1,
             "#276419"
            ]
           ],
           "sequential": [
            [
             0,
             "#0d0887"
            ],
            [
             0.1111111111111111,
             "#46039f"
            ],
            [
             0.2222222222222222,
             "#7201a8"
            ],
            [
             0.3333333333333333,
             "#9c179e"
            ],
            [
             0.4444444444444444,
             "#bd3786"
            ],
            [
             0.5555555555555556,
             "#d8576b"
            ],
            [
             0.6666666666666666,
             "#ed7953"
            ],
            [
             0.7777777777777778,
             "#fb9f3a"
            ],
            [
             0.8888888888888888,
             "#fdca26"
            ],
            [
             1,
             "#f0f921"
            ]
           ],
           "sequentialminus": [
            [
             0,
             "#0d0887"
            ],
            [
             0.1111111111111111,
             "#46039f"
            ],
            [
             0.2222222222222222,
             "#7201a8"
            ],
            [
             0.3333333333333333,
             "#9c179e"
            ],
            [
             0.4444444444444444,
             "#bd3786"
            ],
            [
             0.5555555555555556,
             "#d8576b"
            ],
            [
             0.6666666666666666,
             "#ed7953"
            ],
            [
             0.7777777777777778,
             "#fb9f3a"
            ],
            [
             0.8888888888888888,
             "#fdca26"
            ],
            [
             1,
             "#f0f921"
            ]
           ]
          },
          "colorway": [
           "#636efa",
           "#EF553B",
           "#00cc96",
           "#ab63fa",
           "#FFA15A",
           "#19d3f3",
           "#FF6692",
           "#B6E880",
           "#FF97FF",
           "#FECB52"
          ],
          "font": {
           "color": "#2a3f5f"
          },
          "geo": {
           "bgcolor": "white",
           "lakecolor": "white",
           "landcolor": "#E5ECF6",
           "showlakes": true,
           "showland": true,
           "subunitcolor": "white"
          },
          "hoverlabel": {
           "align": "left"
          },
          "hovermode": "closest",
          "mapbox": {
           "style": "light"
          },
          "paper_bgcolor": "white",
          "plot_bgcolor": "#E5ECF6",
          "polar": {
           "angularaxis": {
            "gridcolor": "white",
            "linecolor": "white",
            "ticks": ""
           },
           "bgcolor": "#E5ECF6",
           "radialaxis": {
            "gridcolor": "white",
            "linecolor": "white",
            "ticks": ""
           }
          },
          "scene": {
           "xaxis": {
            "backgroundcolor": "#E5ECF6",
            "gridcolor": "white",
            "gridwidth": 2,
            "linecolor": "white",
            "showbackground": true,
            "ticks": "",
            "zerolinecolor": "white"
           },
           "yaxis": {
            "backgroundcolor": "#E5ECF6",
            "gridcolor": "white",
            "gridwidth": 2,
            "linecolor": "white",
            "showbackground": true,
            "ticks": "",
            "zerolinecolor": "white"
           },
           "zaxis": {
            "backgroundcolor": "#E5ECF6",
            "gridcolor": "white",
            "gridwidth": 2,
            "linecolor": "white",
            "showbackground": true,
            "ticks": "",
            "zerolinecolor": "white"
           }
          },
          "shapedefaults": {
           "line": {
            "color": "#2a3f5f"
           }
          },
          "ternary": {
           "aaxis": {
            "gridcolor": "white",
            "linecolor": "white",
            "ticks": ""
           },
           "baxis": {
            "gridcolor": "white",
            "linecolor": "white",
            "ticks": ""
           },
           "bgcolor": "#E5ECF6",
           "caxis": {
            "gridcolor": "white",
            "linecolor": "white",
            "ticks": ""
           }
          },
          "title": {
           "x": 0.05
          },
          "xaxis": {
           "automargin": true,
           "gridcolor": "white",
           "linecolor": "white",
           "ticks": "",
           "title": {
            "standoff": 15
           },
           "zerolinecolor": "white",
           "zerolinewidth": 2
          },
          "yaxis": {
           "automargin": true,
           "gridcolor": "white",
           "linecolor": "white",
           "ticks": "",
           "title": {
            "standoff": 15
           },
           "zerolinecolor": "white",
           "zerolinewidth": 2
          }
         }
        },
        "title": {
         "text": "各列の欠損率の推移"
        },
        "xaxis": {
         "anchor": "y",
         "domain": [
          0,
          1
         ],
         "title": {
          "text": "year"
         }
        },
        "yaxis": {
         "anchor": "x",
         "domain": [
          0,
          1
         ],
         "title": {
          "text": "missing_rate"
         }
        }
       }
      }
     },
     "metadata": {},
     "output_type": "display_data"
    }
   ],
   "source": [
    "# 年ごとの欠損率の傾向を確認（折れ線グラフ）\n",
    "\n",
    "# 各カラムの欠損率推移を折れ線グラフで表示\n",
    "for filename in files:\n",
    "    fig = px.line(\n",
    "        missing_df[filename],  # 最初のファイルのデータを使用\n",
    "        x=\"year\",\n",
    "        y=\"missing_rate\",\n",
    "        color=\"column_name\",   # 列ごとに色分け\n",
    "        markers=True,\n",
    "        title=\"各列の欠損率の推移\"\n",
    "    )\n",
    "    fig.show()\n"
   ]
  },
  {
   "cell_type": "code",
   "execution_count": null,
   "metadata": {},
   "outputs": [],
   "source": [
    "# 年ごとの欠損率の傾向を確認（ヒートマップ）\n",
    "\n",
    "for filename in missing_df:\n",
    "    pivot_table = missing_df[filename].pivot(index=\"column_name\", columns=\"year\", values=\"missing_rate\")\n",
    "    fig = go.Figure(data=go.Heatmap(\n",
    "        z=pivot_table.values,\n",
    "        x=pivot_table.columns,\n",
    "        y=pivot_table.index,\n",
    "        colorscale=\"Viridis\",\n",
    "        colorbar=dict(title=\"Missing Rate\")\n",
    "    ))\n",
    "    fig.update_layout(\n",
    "        title=f\"{filename} の欠損率ヒートマップ\",\n",
    "        xaxis_title=\"Year\",\n",
    "        yaxis_title=\"Column Name\"\n",
    "    )\n",
    "    fig.show()"
   ]
  },
  {
   "cell_type": "code",
   "execution_count": null,
   "metadata": {},
   "outputs": [],
   "source": [
    "# 全企業の欠損率分布を見る（ヒストグラム）\n",
    "\n",
    "# コードごとの平均欠損率データの作成\n",
    "missing_score = {}\n",
    "for filename in files:\n",
    "    # コードごとに欠損率を計算\n",
    "    missing_score[filename] = pd.DataFrame()\n",
    "    missing_score[filename] = (\n",
    "        all_df[filename]\n",
    "        .groupby(\"コード\")\n",
    "        .agg(lambda x: x.isnull().mean())  # 各列ごとの欠損率\n",
    "        .mean(axis=1)                      # 列平均\n",
    "        .reset_index(name=\"平均欠損率\")\n",
    "    )\n",
    "    #pd.set_option('display.max_rows', None)\n",
    "    #display(missing_score[filename])"
   ]
  },
  {
   "cell_type": "code",
   "execution_count": 19,
   "metadata": {},
   "outputs": [
    {
     "data": {
      "application/vnd.plotly.v1+json": {
       "config": {
        "plotlyServerURL": "https://plot.ly"
       },
       "data": [
        {
         "bingroup": "x",
         "hovertemplate": "平均欠損率=%{x}<br>count=%{y}<extra></extra>",
         "legendgroup": "",
         "marker": {
          "color": "#636efa",
          "pattern": {
           "shape": ""
          }
         },
         "name": "",
         "nbinsx": 50,
         "orientation": "v",
         "showlegend": false,
         "type": "histogram",
         "x": {
          "bdata": "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",
          "dtype": "f8"
         },
         "xaxis": "x",
         "yaxis": "y"
        }
       ],
       "layout": {
        "barmode": "relative",
        "legend": {
         "tracegroupgap": 0
        },
        "template": {
         "data": {
          "bar": [
           {
            "error_x": {
             "color": "#2a3f5f"
            },
            "error_y": {
             "color": "#2a3f5f"
            },
            "marker": {
             "line": {
              "color": "#E5ECF6",
              "width": 0.5
             },
             "pattern": {
              "fillmode": "overlay",
              "size": 10,
              "solidity": 0.2
             }
            },
            "type": "bar"
           }
          ],
          "barpolar": [
           {
            "marker": {
             "line": {
              "color": "#E5ECF6",
              "width": 0.5
             },
             "pattern": {
              "fillmode": "overlay",
              "size": 10,
              "solidity": 0.2
             }
            },
            "type": "barpolar"
           }
          ],
          "carpet": [
           {
            "aaxis": {
             "endlinecolor": "#2a3f5f",
             "gridcolor": "white",
             "linecolor": "white",
             "minorgridcolor": "white",
             "startlinecolor": "#2a3f5f"
            },
            "baxis": {
             "endlinecolor": "#2a3f5f",
             "gridcolor": "white",
             "linecolor": "white",
             "minorgridcolor": "white",
             "startlinecolor": "#2a3f5f"
            },
            "type": "carpet"
           }
          ],
          "choropleth": [
           {
            "colorbar": {
             "outlinewidth": 0,
             "ticks": ""
            },
            "type": "choropleth"
           }
          ],
          "contour": [
           {
            "colorbar": {
             "outlinewidth": 0,
             "ticks": ""
            },
            "colorscale": [
             [
              0,
              "#0d0887"
             ],
             [
              0.1111111111111111,
              "#46039f"
             ],
             [
              0.2222222222222222,
              "#7201a8"
             ],
             [
              0.3333333333333333,
              "#9c179e"
             ],
             [
              0.4444444444444444,
              "#bd3786"
             ],
             [
              0.5555555555555556,
              "#d8576b"
             ],
             [
              0.6666666666666666,
              "#ed7953"
             ],
             [
              0.7777777777777778,
              "#fb9f3a"
             ],
             [
              0.8888888888888888,
              "#fdca26"
             ],
             [
              1,
              "#f0f921"
             ]
            ],
            "type": "contour"
           }
          ],
          "contourcarpet": [
           {
            "colorbar": {
             "outlinewidth": 0,
             "ticks": ""
            },
            "type": "contourcarpet"
           }
          ],
          "heatmap": [
           {
            "colorbar": {
             "outlinewidth": 0,
             "ticks": ""
            },
            "colorscale": [
             [
              0,
              "#0d0887"
             ],
             [
              0.1111111111111111,
              "#46039f"
             ],
             [
              0.2222222222222222,
              "#7201a8"
             ],
             [
              0.3333333333333333,
              "#9c179e"
             ],
             [
              0.4444444444444444,
              "#bd3786"
             ],
             [
              0.5555555555555556,
              "#d8576b"
             ],
             [
              0.6666666666666666,
              "#ed7953"
             ],
             [
              0.7777777777777778,
              "#fb9f3a"
             ],
             [
              0.8888888888888888,
              "#fdca26"
             ],
             [
              1,
              "#f0f921"
             ]
            ],
            "type": "heatmap"
           }
          ],
          "histogram": [
           {
            "marker": {
             "pattern": {
              "fillmode": "overlay",
              "size": 10,
              "solidity": 0.2
             }
            },
            "type": "histogram"
           }
          ],
          "histogram2d": [
           {
            "colorbar": {
             "outlinewidth": 0,
             "ticks": ""
            },
            "colorscale": [
             [
              0,
              "#0d0887"
             ],
             [
              0.1111111111111111,
              "#46039f"
             ],
             [
              0.2222222222222222,
              "#7201a8"
             ],
             [
              0.3333333333333333,
              "#9c179e"
             ],
             [
              0.4444444444444444,
              "#bd3786"
             ],
             [
              0.5555555555555556,
              "#d8576b"
             ],
             [
              0.6666666666666666,
              "#ed7953"
             ],
             [
              0.7777777777777778,
              "#fb9f3a"
             ],
             [
              0.8888888888888888,
              "#fdca26"
             ],
             [
              1,
              "#f0f921"
             ]
            ],
            "type": "histogram2d"
           }
          ],
          "histogram2dcontour": [
           {
            "colorbar": {
             "outlinewidth": 0,
             "ticks": ""
            },
            "colorscale": [
             [
              0,
              "#0d0887"
             ],
             [
              0.1111111111111111,
              "#46039f"
             ],
             [
              0.2222222222222222,
              "#7201a8"
             ],
             [
              0.3333333333333333,
              "#9c179e"
             ],
             [
              0.4444444444444444,
              "#bd3786"
             ],
             [
              0.5555555555555556,
              "#d8576b"
             ],
             [
              0.6666666666666666,
              "#ed7953"
             ],
             [
              0.7777777777777778,
              "#fb9f3a"
             ],
             [
              0.8888888888888888,
              "#fdca26"
             ],
             [
              1,
              "#f0f921"
             ]
            ],
            "type": "histogram2dcontour"
           }
          ],
          "mesh3d": [
           {
            "colorbar": {
             "outlinewidth": 0,
             "ticks": ""
            },
            "type": "mesh3d"
           }
          ],
          "parcoords": [
           {
            "line": {
             "colorbar": {
              "outlinewidth": 0,
              "ticks": ""
             }
            },
            "type": "parcoords"
           }
          ],
          "pie": [
           {
            "automargin": true,
            "type": "pie"
           }
          ],
          "scatter": [
           {
            "fillpattern": {
             "fillmode": "overlay",
             "size": 10,
             "solidity": 0.2
            },
            "type": "scatter"
           }
          ],
          "scatter3d": [
           {
            "line": {
             "colorbar": {
              "outlinewidth": 0,
              "ticks": ""
             }
            },
            "marker": {
             "colorbar": {
              "outlinewidth": 0,
              "ticks": ""
             }
            },
            "type": "scatter3d"
           }
          ],
          "scattercarpet": [
           {
            "marker": {
             "colorbar": {
              "outlinewidth": 0,
              "ticks": ""
             }
            },
            "type": "scattercarpet"
           }
          ],
          "scattergeo": [
           {
            "marker": {
             "colorbar": {
              "outlinewidth": 0,
              "ticks": ""
             }
            },
            "type": "scattergeo"
           }
          ],
          "scattergl": [
           {
            "marker": {
             "colorbar": {
              "outlinewidth": 0,
              "ticks": ""
             }
            },
            "type": "scattergl"
           }
          ],
          "scattermap": [
           {
            "marker": {
             "colorbar": {
              "outlinewidth": 0,
              "ticks": ""
             }
            },
            "type": "scattermap"
           }
          ],
          "scattermapbox": [
           {
            "marker": {
             "colorbar": {
              "outlinewidth": 0,
              "ticks": ""
             }
            },
            "type": "scattermapbox"
           }
          ],
          "scatterpolar": [
           {
            "marker": {
             "colorbar": {
              "outlinewidth": 0,
              "ticks": ""
             }
            },
            "type": "scatterpolar"
           }
          ],
          "scatterpolargl": [
           {
            "marker": {
             "colorbar": {
              "outlinewidth": 0,
              "ticks": ""
             }
            },
            "type": "scatterpolargl"
           }
          ],
          "scatterternary": [
           {
            "marker": {
             "colorbar": {
              "outlinewidth": 0,
              "ticks": ""
             }
            },
            "type": "scatterternary"
           }
          ],
          "surface": [
           {
            "colorbar": {
             "outlinewidth": 0,
             "ticks": ""
            },
            "colorscale": [
             [
              0,
              "#0d0887"
             ],
             [
              0.1111111111111111,
              "#46039f"
             ],
             [
              0.2222222222222222,
              "#7201a8"
             ],
             [
              0.3333333333333333,
              "#9c179e"
             ],
             [
              0.4444444444444444,
              "#bd3786"
             ],
             [
              0.5555555555555556,
              "#d8576b"
             ],
             [
              0.6666666666666666,
              "#ed7953"
             ],
             [
              0.7777777777777778,
              "#fb9f3a"
             ],
             [
              0.8888888888888888,
              "#fdca26"
             ],
             [
              1,
              "#f0f921"
             ]
            ],
            "type": "surface"
           }
          ],
          "table": [
           {
            "cells": {
             "fill": {
              "color": "#EBF0F8"
             },
             "line": {
              "color": "white"
             }
            },
            "header": {
             "fill": {
              "color": "#C8D4E3"
             },
             "line": {
              "color": "white"
             }
            },
            "type": "table"
           }
          ]
         },
         "layout": {
          "annotationdefaults": {
           "arrowcolor": "#2a3f5f",
           "arrowhead": 0,
           "arrowwidth": 1
          },
          "autotypenumbers": "strict",
          "coloraxis": {
           "colorbar": {
            "outlinewidth": 0,
            "ticks": ""
           }
          },
          "colorscale": {
           "diverging": [
            [
             0,
             "#8e0152"
            ],
            [
             0.1,
             "#c51b7d"
            ],
            [
             0.2,
             "#de77ae"
            ],
            [
             0.3,
             "#f1b6da"
            ],
            [
             0.4,
             "#fde0ef"
            ],
            [
             0.5,
             "#f7f7f7"
            ],
            [
             0.6,
             "#e6f5d0"
            ],
            [
             0.7,
             "#b8e186"
            ],
            [
             0.8,
             "#7fbc41"
            ],
            [
             0.9,
             "#4d9221"
            ],
            [
             1,
             "#276419"
            ]
           ],
           "sequential": [
            [
             0,
             "#0d0887"
            ],
            [
             0.1111111111111111,
             "#46039f"
            ],
            [
             0.2222222222222222,
             "#7201a8"
            ],
            [
             0.3333333333333333,
             "#9c179e"
            ],
            [
             0.4444444444444444,
             "#bd3786"
            ],
            [
             0.5555555555555556,
             "#d8576b"
            ],
            [
             0.6666666666666666,
             "#ed7953"
            ],
            [
             0.7777777777777778,
             "#fb9f3a"
            ],
            [
             0.8888888888888888,
             "#fdca26"
            ],
            [
             1,
             "#f0f921"
            ]
           ],
           "sequentialminus": [
            [
             0,
             "#0d0887"
            ],
            [
             0.1111111111111111,
             "#46039f"
            ],
            [
             0.2222222222222222,
             "#7201a8"
            ],
            [
             0.3333333333333333,
             "#9c179e"
            ],
            [
             0.4444444444444444,
             "#bd3786"
            ],
            [
             0.5555555555555556,
             "#d8576b"
            ],
            [
             0.6666666666666666,
             "#ed7953"
            ],
            [
             0.7777777777777778,
             "#fb9f3a"
            ],
            [
             0.8888888888888888,
             "#fdca26"
            ],
            [
             1,
             "#f0f921"
            ]
           ]
          },
          "colorway": [
           "#636efa",
           "#EF553B",
           "#00cc96",
           "#ab63fa",
           "#FFA15A",
           "#19d3f3",
           "#FF6692",
           "#B6E880",
           "#FF97FF",
           "#FECB52"
          ],
          "font": {
           "color": "#2a3f5f"
          },
          "geo": {
           "bgcolor": "white",
           "lakecolor": "white",
           "landcolor": "#E5ECF6",
           "showlakes": true,
           "showland": true,
           "subunitcolor": "white"
          },
          "hoverlabel": {
           "align": "left"
          },
          "hovermode": "closest",
          "mapbox": {
           "style": "light"
          },
          "paper_bgcolor": "white",
          "plot_bgcolor": "#E5ECF6",
          "polar": {
           "angularaxis": {
            "gridcolor": "white",
            "linecolor": "white",
            "ticks": ""
           },
           "bgcolor": "#E5ECF6",
           "radialaxis": {
            "gridcolor": "white",
            "linecolor": "white",
            "ticks": ""
           }
          },
          "scene": {
           "xaxis": {
            "backgroundcolor": "#E5ECF6",
            "gridcolor": "white",
            "gridwidth": 2,
            "linecolor": "white",
            "showbackground": true,
            "ticks": "",
            "zerolinecolor": "white"
           },
           "yaxis": {
            "backgroundcolor": "#E5ECF6",
            "gridcolor": "white",
            "gridwidth": 2,
            "linecolor": "white",
            "showbackground": true,
            "ticks": "",
            "zerolinecolor": "white"
           },
           "zaxis": {
            "backgroundcolor": "#E5ECF6",
            "gridcolor": "white",
            "gridwidth": 2,
            "linecolor": "white",
            "showbackground": true,
            "ticks": "",
            "zerolinecolor": "white"
           }
          },
          "shapedefaults": {
           "line": {
            "color": "#2a3f5f"
           }
          },
          "ternary": {
           "aaxis": {
            "gridcolor": "white",
            "linecolor": "white",
            "ticks": ""
           },
           "baxis": {
            "gridcolor": "white",
            "linecolor": "white",
            "ticks": ""
           },
           "bgcolor": "#E5ECF6",
           "caxis": {
            "gridcolor": "white",
            "linecolor": "white",
            "ticks": ""
           }
          },
          "title": {
           "x": 0.05
          },
          "xaxis": {
           "automargin": true,
           "gridcolor": "white",
           "linecolor": "white",
           "ticks": "",
           "title": {
            "standoff": 15
           },
           "zerolinecolor": "white",
           "zerolinewidth": 2
          },
          "yaxis": {
           "automargin": true,
           "gridcolor": "white",
           "linecolor": "white",
           "ticks": "",
           "title": {
            "standoff": 15
           },
           "zerolinecolor": "white",
           "zerolinewidth": 2
          }
         }
        },
        "title": {
         "text": "全企業の欠損率分布 fy-stock-dividend.csv"
        },
        "xaxis": {
         "anchor": "y",
         "domain": [
          0,
          1
         ],
         "title": {
          "text": "平均欠損率"
         }
        },
        "yaxis": {
         "anchor": "x",
         "domain": [
          0,
          1
         ],
         "title": {
          "text": "count"
         }
        }
       }
      }
     },
     "metadata": {},
     "output_type": "display_data"
    },
    {
     "data": {
      "text/html": [
       "<div>\n",
       "<style scoped>\n",
       "    .dataframe tbody tr th:only-of-type {\n",
       "        vertical-align: middle;\n",
       "    }\n",
       "\n",
       "    .dataframe tbody tr th {\n",
       "        vertical-align: top;\n",
       "    }\n",
       "\n",
       "    .dataframe thead th {\n",
       "        text-align: right;\n",
       "    }\n",
       "</style>\n",
       "<table border=\"1\" class=\"dataframe\">\n",
       "  <thead>\n",
       "    <tr style=\"text-align: right;\">\n",
       "      <th></th>\n",
       "      <th>コード</th>\n",
       "      <th>平均欠損率</th>\n",
       "    </tr>\n",
       "  </thead>\n",
       "  <tbody>\n",
       "    <tr>\n",
       "      <th>4421</th>\n",
       "      <td>9986</td>\n",
       "      <td>0.222222</td>\n",
       "    </tr>\n",
       "    <tr>\n",
       "      <th>4414</th>\n",
       "      <td>9977</td>\n",
       "      <td>0.222222</td>\n",
       "    </tr>\n",
       "    <tr>\n",
       "      <th>7</th>\n",
       "      <td>1376</td>\n",
       "      <td>0.222222</td>\n",
       "    </tr>\n",
       "    <tr>\n",
       "      <th>12</th>\n",
       "      <td>1381</td>\n",
       "      <td>0.222222</td>\n",
       "    </tr>\n",
       "    <tr>\n",
       "      <th>4287</th>\n",
       "      <td>9726</td>\n",
       "      <td>0.222222</td>\n",
       "    </tr>\n",
       "    <tr>\n",
       "      <th>4282</th>\n",
       "      <td>9717</td>\n",
       "      <td>0.222222</td>\n",
       "    </tr>\n",
       "    <tr>\n",
       "      <th>4281</th>\n",
       "      <td>9716</td>\n",
       "      <td>0.222222</td>\n",
       "    </tr>\n",
       "    <tr>\n",
       "      <th>4277</th>\n",
       "      <td>9708</td>\n",
       "      <td>0.222222</td>\n",
       "    </tr>\n",
       "    <tr>\n",
       "      <th>4270</th>\n",
       "      <td>9698</td>\n",
       "      <td>0.222222</td>\n",
       "    </tr>\n",
       "    <tr>\n",
       "      <th>4260</th>\n",
       "      <td>9682</td>\n",
       "      <td>0.222222</td>\n",
       "    </tr>\n",
       "    <tr>\n",
       "      <th>4250</th>\n",
       "      <td>9661</td>\n",
       "      <td>0.222222</td>\n",
       "    </tr>\n",
       "    <tr>\n",
       "      <th>4247</th>\n",
       "      <td>9651</td>\n",
       "      <td>0.222222</td>\n",
       "    </tr>\n",
       "    <tr>\n",
       "      <th>4242</th>\n",
       "      <td>9640</td>\n",
       "      <td>0.222222</td>\n",
       "    </tr>\n",
       "    <tr>\n",
       "      <th>4236</th>\n",
       "      <td>9632</td>\n",
       "      <td>0.222222</td>\n",
       "    </tr>\n",
       "    <tr>\n",
       "      <th>4234</th>\n",
       "      <td>9629</td>\n",
       "      <td>0.222222</td>\n",
       "    </tr>\n",
       "    <tr>\n",
       "      <th>4212</th>\n",
       "      <td>9560</td>\n",
       "      <td>0.222222</td>\n",
       "    </tr>\n",
       "    <tr>\n",
       "      <th>4208</th>\n",
       "      <td>9554</td>\n",
       "      <td>0.222222</td>\n",
       "    </tr>\n",
       "    <tr>\n",
       "      <th>4152</th>\n",
       "      <td>9423</td>\n",
       "      <td>0.222222</td>\n",
       "    </tr>\n",
       "    <tr>\n",
       "      <th>4151</th>\n",
       "      <td>9422</td>\n",
       "      <td>0.222222</td>\n",
       "    </tr>\n",
       "    <tr>\n",
       "      <th>349</th>\n",
       "      <td>2326</td>\n",
       "      <td>0.222222</td>\n",
       "    </tr>\n",
       "    <tr>\n",
       "      <th>345</th>\n",
       "      <td>231A</td>\n",
       "      <td>0.222222</td>\n",
       "    </tr>\n",
       "    <tr>\n",
       "      <th>339</th>\n",
       "      <td>2305</td>\n",
       "      <td>0.222222</td>\n",
       "    </tr>\n",
       "    <tr>\n",
       "      <th>337</th>\n",
       "      <td>2303</td>\n",
       "      <td>0.222222</td>\n",
       "    </tr>\n",
       "    <tr>\n",
       "      <th>336</th>\n",
       "      <td>2301</td>\n",
       "      <td>0.222222</td>\n",
       "    </tr>\n",
       "    <tr>\n",
       "      <th>333</th>\n",
       "      <td>2294</td>\n",
       "      <td>0.222222</td>\n",
       "    </tr>\n",
       "    <tr>\n",
       "      <th>293</th>\n",
       "      <td>2193</td>\n",
       "      <td>0.222222</td>\n",
       "    </tr>\n",
       "    <tr>\n",
       "      <th>290</th>\n",
       "      <td>2186</td>\n",
       "      <td>0.222222</td>\n",
       "    </tr>\n",
       "    <tr>\n",
       "      <th>274</th>\n",
       "      <td>2163</td>\n",
       "      <td>0.222222</td>\n",
       "    </tr>\n",
       "    <tr>\n",
       "      <th>264</th>\n",
       "      <td>2152</td>\n",
       "      <td>0.222222</td>\n",
       "    </tr>\n",
       "    <tr>\n",
       "      <th>250</th>\n",
       "      <td>2124</td>\n",
       "      <td>0.222222</td>\n",
       "    </tr>\n",
       "    <tr>\n",
       "      <th>249</th>\n",
       "      <td>2122</td>\n",
       "      <td>0.222222</td>\n",
       "    </tr>\n",
       "    <tr>\n",
       "      <th>221</th>\n",
       "      <td>1983</td>\n",
       "      <td>0.222222</td>\n",
       "    </tr>\n",
       "    <tr>\n",
       "      <th>220</th>\n",
       "      <td>1982</td>\n",
       "      <td>0.222222</td>\n",
       "    </tr>\n",
       "    <tr>\n",
       "      <th>166</th>\n",
       "      <td>1897</td>\n",
       "      <td>0.222222</td>\n",
       "    </tr>\n",
       "    <tr>\n",
       "      <th>158</th>\n",
       "      <td>1883</td>\n",
       "      <td>0.222222</td>\n",
       "    </tr>\n",
       "    <tr>\n",
       "      <th>419</th>\n",
       "      <td>2454</td>\n",
       "      <td>0.222222</td>\n",
       "    </tr>\n",
       "    <tr>\n",
       "      <th>413</th>\n",
       "      <td>2438</td>\n",
       "      <td>0.222222</td>\n",
       "    </tr>\n",
       "    <tr>\n",
       "      <th>399</th>\n",
       "      <td>2417</td>\n",
       "      <td>0.222222</td>\n",
       "    </tr>\n",
       "    <tr>\n",
       "      <th>393</th>\n",
       "      <td>2408</td>\n",
       "      <td>0.222222</td>\n",
       "    </tr>\n",
       "    <tr>\n",
       "      <th>387</th>\n",
       "      <td>2397</td>\n",
       "      <td>0.222222</td>\n",
       "    </tr>\n",
       "    <tr>\n",
       "      <th>384</th>\n",
       "      <td>2391</td>\n",
       "      <td>0.222222</td>\n",
       "    </tr>\n",
       "    <tr>\n",
       "      <th>381</th>\n",
       "      <td>2385</td>\n",
       "      <td>0.222222</td>\n",
       "    </tr>\n",
       "    <tr>\n",
       "      <th>379</th>\n",
       "      <td>2379</td>\n",
       "      <td>0.222222</td>\n",
       "    </tr>\n",
       "    <tr>\n",
       "      <th>371</th>\n",
       "      <td>2370</td>\n",
       "      <td>0.222222</td>\n",
       "    </tr>\n",
       "    <tr>\n",
       "      <th>368</th>\n",
       "      <td>2354</td>\n",
       "      <td>0.222222</td>\n",
       "    </tr>\n",
       "    <tr>\n",
       "      <th>364</th>\n",
       "      <td>2349</td>\n",
       "      <td>0.222222</td>\n",
       "    </tr>\n",
       "    <tr>\n",
       "      <th>362</th>\n",
       "      <td>2344</td>\n",
       "      <td>0.222222</td>\n",
       "    </tr>\n",
       "    <tr>\n",
       "      <th>360</th>\n",
       "      <td>2341</td>\n",
       "      <td>0.222222</td>\n",
       "    </tr>\n",
       "    <tr>\n",
       "      <th>358</th>\n",
       "      <td>2338</td>\n",
       "      <td>0.222222</td>\n",
       "    </tr>\n",
       "    <tr>\n",
       "      <th>350</th>\n",
       "      <td>2327</td>\n",
       "      <td>0.222222</td>\n",
       "    </tr>\n",
       "    <tr>\n",
       "      <th>496</th>\n",
       "      <td>2676</td>\n",
       "      <td>0.222222</td>\n",
       "    </tr>\n",
       "    <tr>\n",
       "      <th>491</th>\n",
       "      <td>2669</td>\n",
       "      <td>0.222222</td>\n",
       "    </tr>\n",
       "    <tr>\n",
       "      <th>485</th>\n",
       "      <td>2659</td>\n",
       "      <td>0.222222</td>\n",
       "    </tr>\n",
       "    <tr>\n",
       "      <th>484</th>\n",
       "      <td>2656</td>\n",
       "      <td>0.222222</td>\n",
       "    </tr>\n",
       "    <tr>\n",
       "      <th>458</th>\n",
       "      <td>2573</td>\n",
       "      <td>0.222222</td>\n",
       "    </tr>\n",
       "    <tr>\n",
       "      <th>456</th>\n",
       "      <td>2540</td>\n",
       "      <td>0.222222</td>\n",
       "    </tr>\n",
       "    <tr>\n",
       "      <th>443</th>\n",
       "      <td>2491</td>\n",
       "      <td>0.222222</td>\n",
       "    </tr>\n",
       "    <tr>\n",
       "      <th>441</th>\n",
       "      <td>2489</td>\n",
       "      <td>0.222222</td>\n",
       "    </tr>\n",
       "    <tr>\n",
       "      <th>440</th>\n",
       "      <td>2488</td>\n",
       "      <td>0.222222</td>\n",
       "    </tr>\n",
       "    <tr>\n",
       "      <th>439</th>\n",
       "      <td>2487</td>\n",
       "      <td>0.222222</td>\n",
       "    </tr>\n",
       "    <tr>\n",
       "      <th>436</th>\n",
       "      <td>2483</td>\n",
       "      <td>0.222222</td>\n",
       "    </tr>\n",
       "    <tr>\n",
       "      <th>435</th>\n",
       "      <td>2481</td>\n",
       "      <td>0.222222</td>\n",
       "    </tr>\n",
       "    <tr>\n",
       "      <th>434</th>\n",
       "      <td>2480</td>\n",
       "      <td>0.222222</td>\n",
       "    </tr>\n",
       "    <tr>\n",
       "      <th>431</th>\n",
       "      <td>2477</td>\n",
       "      <td>0.222222</td>\n",
       "    </tr>\n",
       "    <tr>\n",
       "      <th>430</th>\n",
       "      <td>2475</td>\n",
       "      <td>0.222222</td>\n",
       "    </tr>\n",
       "    <tr>\n",
       "      <th>913</th>\n",
       "      <td>3416</td>\n",
       "      <td>0.222222</td>\n",
       "    </tr>\n",
       "    <tr>\n",
       "      <th>869</th>\n",
       "      <td>334A</td>\n",
       "      <td>0.222222</td>\n",
       "    </tr>\n",
       "    <tr>\n",
       "      <th>862</th>\n",
       "      <td>332A</td>\n",
       "      <td>0.222222</td>\n",
       "    </tr>\n",
       "    <tr>\n",
       "      <th>850</th>\n",
       "      <td>3316</td>\n",
       "      <td>0.222222</td>\n",
       "    </tr>\n",
       "    <tr>\n",
       "      <th>779</th>\n",
       "      <td>3183</td>\n",
       "      <td>0.222222</td>\n",
       "    </tr>\n",
       "    <tr>\n",
       "      <th>752</th>\n",
       "      <td>3148</td>\n",
       "      <td>0.222222</td>\n",
       "    </tr>\n",
       "    <tr>\n",
       "      <th>747</th>\n",
       "      <td>3138</td>\n",
       "      <td>0.222222</td>\n",
       "    </tr>\n",
       "    <tr>\n",
       "      <th>707</th>\n",
       "      <td>3076</td>\n",
       "      <td>0.222222</td>\n",
       "    </tr>\n",
       "    <tr>\n",
       "      <th>608</th>\n",
       "      <td>2908</td>\n",
       "      <td>0.222222</td>\n",
       "    </tr>\n",
       "    <tr>\n",
       "      <th>577</th>\n",
       "      <td>2815</td>\n",
       "      <td>0.222222</td>\n",
       "    </tr>\n",
       "    <tr>\n",
       "      <th>569</th>\n",
       "      <td>2806</td>\n",
       "      <td>0.222222</td>\n",
       "    </tr>\n",
       "    <tr>\n",
       "      <th>562</th>\n",
       "      <td>2795</td>\n",
       "      <td>0.222222</td>\n",
       "    </tr>\n",
       "    <tr>\n",
       "      <th>561</th>\n",
       "      <td>2792</td>\n",
       "      <td>0.222222</td>\n",
       "    </tr>\n",
       "    <tr>\n",
       "      <th>554</th>\n",
       "      <td>2782</td>\n",
       "      <td>0.222222</td>\n",
       "    </tr>\n",
       "    <tr>\n",
       "      <th>515</th>\n",
       "      <td>2706</td>\n",
       "      <td>0.222222</td>\n",
       "    </tr>\n",
       "    <tr>\n",
       "      <th>1052</th>\n",
       "      <td>3661</td>\n",
       "      <td>0.222222</td>\n",
       "    </tr>\n",
       "    <tr>\n",
       "      <th>1045</th>\n",
       "      <td>3655</td>\n",
       "      <td>0.222222</td>\n",
       "    </tr>\n",
       "    <tr>\n",
       "      <th>1044</th>\n",
       "      <td>3653</td>\n",
       "      <td>0.222222</td>\n",
       "    </tr>\n",
       "    <tr>\n",
       "      <th>1043</th>\n",
       "      <td>3652</td>\n",
       "      <td>0.222222</td>\n",
       "    </tr>\n",
       "    <tr>\n",
       "      <th>1041</th>\n",
       "      <td>3648</td>\n",
       "      <td>0.222222</td>\n",
       "    </tr>\n",
       "    <tr>\n",
       "      <th>1037</th>\n",
       "      <td>3641</td>\n",
       "      <td>0.222222</td>\n",
       "    </tr>\n",
       "    <tr>\n",
       "      <th>1032</th>\n",
       "      <td>3634</td>\n",
       "      <td>0.222222</td>\n",
       "    </tr>\n",
       "    <tr>\n",
       "      <th>1030</th>\n",
       "      <td>3632</td>\n",
       "      <td>0.222222</td>\n",
       "    </tr>\n",
       "    <tr>\n",
       "      <th>1023</th>\n",
       "      <td>3623</td>\n",
       "      <td>0.222222</td>\n",
       "    </tr>\n",
       "    <tr>\n",
       "      <th>1015</th>\n",
       "      <td>3600</td>\n",
       "      <td>0.222222</td>\n",
       "    </tr>\n",
       "    <tr>\n",
       "      <th>1009</th>\n",
       "      <td>3580</td>\n",
       "      <td>0.222222</td>\n",
       "    </tr>\n",
       "    <tr>\n",
       "      <th>990</th>\n",
       "      <td>3549</td>\n",
       "      <td>0.222222</td>\n",
       "    </tr>\n",
       "    <tr>\n",
       "      <th>923</th>\n",
       "      <td>3426</td>\n",
       "      <td>0.222222</td>\n",
       "    </tr>\n",
       "    <tr>\n",
       "      <th>919</th>\n",
       "      <td>3421</td>\n",
       "      <td>0.222222</td>\n",
       "    </tr>\n",
       "    <tr>\n",
       "      <th>1155</th>\n",
       "      <td>3835</td>\n",
       "      <td>0.222222</td>\n",
       "    </tr>\n",
       "    <tr>\n",
       "      <th>1154</th>\n",
       "      <td>3834</td>\n",
       "      <td>0.222222</td>\n",
       "    </tr>\n",
       "    <tr>\n",
       "      <th>1152</th>\n",
       "      <td>3826</td>\n",
       "      <td>0.222222</td>\n",
       "    </tr>\n",
       "    <tr>\n",
       "      <th>1135</th>\n",
       "      <td>3798</td>\n",
       "      <td>0.222222</td>\n",
       "    </tr>\n",
       "    <tr>\n",
       "      <th>1134</th>\n",
       "      <td>3796</td>\n",
       "      <td>0.222222</td>\n",
       "    </tr>\n",
       "    <tr>\n",
       "      <th>1129</th>\n",
       "      <td>3787</td>\n",
       "      <td>0.222222</td>\n",
       "    </tr>\n",
       "    <tr>\n",
       "      <th>1126</th>\n",
       "      <td>3781</td>\n",
       "      <td>0.222222</td>\n",
       "    </tr>\n",
       "    <tr>\n",
       "      <th>1116</th>\n",
       "      <td>3770</td>\n",
       "      <td>0.222222</td>\n",
       "    </tr>\n",
       "    <tr>\n",
       "      <th>1113</th>\n",
       "      <td>3767</td>\n",
       "      <td>0.222222</td>\n",
       "    </tr>\n",
       "    <tr>\n",
       "      <th>1112</th>\n",
       "      <td>3766</td>\n",
       "      <td>0.222222</td>\n",
       "    </tr>\n",
       "    <tr>\n",
       "      <th>1110</th>\n",
       "      <td>3763</td>\n",
       "      <td>0.222222</td>\n",
       "    </tr>\n",
       "    <tr>\n",
       "      <th>1092</th>\n",
       "      <td>3724</td>\n",
       "      <td>0.222222</td>\n",
       "    </tr>\n",
       "    <tr>\n",
       "      <th>1091</th>\n",
       "      <td>3723</td>\n",
       "      <td>0.222222</td>\n",
       "    </tr>\n",
       "    <tr>\n",
       "      <th>1088</th>\n",
       "      <td>3711</td>\n",
       "      <td>0.222222</td>\n",
       "    </tr>\n",
       "    <tr>\n",
       "      <th>1054</th>\n",
       "      <td>3663</td>\n",
       "      <td>0.222222</td>\n",
       "    </tr>\n",
       "    <tr>\n",
       "      <th>1417</th>\n",
       "      <td>4240</td>\n",
       "      <td>0.222222</td>\n",
       "    </tr>\n",
       "    <tr>\n",
       "      <th>1385</th>\n",
       "      <td>4194</td>\n",
       "      <td>0.222222</td>\n",
       "    </tr>\n",
       "    <tr>\n",
       "      <th>1326</th>\n",
       "      <td>4070</td>\n",
       "      <td>0.222222</td>\n",
       "    </tr>\n",
       "    <tr>\n",
       "      <th>1288</th>\n",
       "      <td>4016</td>\n",
       "      <td>0.222222</td>\n",
       "    </tr>\n",
       "    <tr>\n",
       "      <th>1239</th>\n",
       "      <td>3953</td>\n",
       "      <td>0.222222</td>\n",
       "    </tr>\n",
       "    <tr>\n",
       "      <th>1238</th>\n",
       "      <td>3952</td>\n",
       "      <td>0.222222</td>\n",
       "    </tr>\n",
       "    <tr>\n",
       "      <th>1235</th>\n",
       "      <td>3948</td>\n",
       "      <td>0.222222</td>\n",
       "    </tr>\n",
       "    <tr>\n",
       "      <th>1227</th>\n",
       "      <td>3939</td>\n",
       "      <td>0.222222</td>\n",
       "    </tr>\n",
       "    <tr>\n",
       "      <th>1185</th>\n",
       "      <td>3892</td>\n",
       "      <td>0.222222</td>\n",
       "    </tr>\n",
       "    <tr>\n",
       "      <th>1171</th>\n",
       "      <td>3852</td>\n",
       "      <td>0.222222</td>\n",
       "    </tr>\n",
       "    <tr>\n",
       "      <th>1169</th>\n",
       "      <td>3850</td>\n",
       "      <td>0.222222</td>\n",
       "    </tr>\n",
       "    <tr>\n",
       "      <th>1168</th>\n",
       "      <td>3849</td>\n",
       "      <td>0.222222</td>\n",
       "    </tr>\n",
       "    <tr>\n",
       "      <th>1166</th>\n",
       "      <td>3847</td>\n",
       "      <td>0.222222</td>\n",
       "    </tr>\n",
       "    <tr>\n",
       "      <th>1160</th>\n",
       "      <td>3841</td>\n",
       "      <td>0.222222</td>\n",
       "    </tr>\n",
       "    <tr>\n",
       "      <th>1156</th>\n",
       "      <td>3836</td>\n",
       "      <td>0.222222</td>\n",
       "    </tr>\n",
       "    <tr>\n",
       "      <th>1542</th>\n",
       "      <td>4418</td>\n",
       "      <td>0.222222</td>\n",
       "    </tr>\n",
       "    <tr>\n",
       "      <th>1508</th>\n",
       "      <td>4377</td>\n",
       "      <td>0.222222</td>\n",
       "    </tr>\n",
       "    <tr>\n",
       "      <th>1504</th>\n",
       "      <td>4373</td>\n",
       "      <td>0.222222</td>\n",
       "    </tr>\n",
       "    <tr>\n",
       "      <th>1502</th>\n",
       "      <td>4371</td>\n",
       "      <td>0.222222</td>\n",
       "    </tr>\n",
       "    <tr>\n",
       "      <th>1496</th>\n",
       "      <td>4365</td>\n",
       "      <td>0.222222</td>\n",
       "    </tr>\n",
       "    <tr>\n",
       "      <th>1491</th>\n",
       "      <td>4356</td>\n",
       "      <td>0.222222</td>\n",
       "    </tr>\n",
       "    <tr>\n",
       "      <th>1486</th>\n",
       "      <td>4348</td>\n",
       "      <td>0.222222</td>\n",
       "    </tr>\n",
       "    <tr>\n",
       "      <th>1483</th>\n",
       "      <td>4345</td>\n",
       "      <td>0.222222</td>\n",
       "    </tr>\n",
       "    <tr>\n",
       "      <th>1480</th>\n",
       "      <td>4342</td>\n",
       "      <td>0.222222</td>\n",
       "    </tr>\n",
       "    <tr>\n",
       "      <th>1476</th>\n",
       "      <td>4335</td>\n",
       "      <td>0.222222</td>\n",
       "    </tr>\n",
       "    <tr>\n",
       "      <th>1474</th>\n",
       "      <td>4333</td>\n",
       "      <td>0.222222</td>\n",
       "    </tr>\n",
       "    <tr>\n",
       "      <th>1472</th>\n",
       "      <td>4327</td>\n",
       "      <td>0.222222</td>\n",
       "    </tr>\n",
       "    <tr>\n",
       "      <th>1461</th>\n",
       "      <td>4312</td>\n",
       "      <td>0.222222</td>\n",
       "    </tr>\n",
       "    <tr>\n",
       "      <th>1455</th>\n",
       "      <td>4299</td>\n",
       "      <td>0.222222</td>\n",
       "    </tr>\n",
       "    <tr>\n",
       "      <th>1451</th>\n",
       "      <td>4291</td>\n",
       "      <td>0.222222</td>\n",
       "    </tr>\n",
       "    <tr>\n",
       "      <th>1448</th>\n",
       "      <td>4287</td>\n",
       "      <td>0.222222</td>\n",
       "    </tr>\n",
       "    <tr>\n",
       "      <th>1652</th>\n",
       "      <td>4571</td>\n",
       "      <td>0.222222</td>\n",
       "    </tr>\n",
       "    <tr>\n",
       "      <th>1647</th>\n",
       "      <td>4565</td>\n",
       "      <td>0.222222</td>\n",
       "    </tr>\n",
       "    <tr>\n",
       "      <th>1646</th>\n",
       "      <td>4564</td>\n",
       "      <td>0.222222</td>\n",
       "    </tr>\n",
       "    <tr>\n",
       "      <th>1645</th>\n",
       "      <td>4563</td>\n",
       "      <td>0.222222</td>\n",
       "    </tr>\n",
       "    <tr>\n",
       "      <th>1636</th>\n",
       "      <td>4551</td>\n",
       "      <td>0.222222</td>\n",
       "    </tr>\n",
       "    <tr>\n",
       "      <th>1635</th>\n",
       "      <td>4550</td>\n",
       "      <td>0.222222</td>\n",
       "    </tr>\n",
       "    <tr>\n",
       "      <th>1634</th>\n",
       "      <td>4549</td>\n",
       "      <td>0.222222</td>\n",
       "    </tr>\n",
       "    <tr>\n",
       "      <th>1625</th>\n",
       "      <td>4536</td>\n",
       "      <td>0.222222</td>\n",
       "    </tr>\n",
       "    <tr>\n",
       "      <th>1624</th>\n",
       "      <td>4534</td>\n",
       "      <td>0.222222</td>\n",
       "    </tr>\n",
       "    <tr>\n",
       "      <th>1614</th>\n",
       "      <td>4517</td>\n",
       "      <td>0.222222</td>\n",
       "    </tr>\n",
       "    <tr>\n",
       "      <th>1613</th>\n",
       "      <td>4516</td>\n",
       "      <td>0.222222</td>\n",
       "    </tr>\n",
       "    <tr>\n",
       "      <th>1591</th>\n",
       "      <td>4485</td>\n",
       "      <td>0.222222</td>\n",
       "    </tr>\n",
       "    <tr>\n",
       "      <th>1582</th>\n",
       "      <td>4476</td>\n",
       "      <td>0.222222</td>\n",
       "    </tr>\n",
       "    <tr>\n",
       "      <th>1568</th>\n",
       "      <td>4445</td>\n",
       "      <td>0.222222</td>\n",
       "    </tr>\n",
       "    <tr>\n",
       "      <th>1564</th>\n",
       "      <td>4441</td>\n",
       "      <td>0.222222</td>\n",
       "    </tr>\n",
       "    <tr>\n",
       "      <th>1553</th>\n",
       "      <td>4430</td>\n",
       "      <td>0.222222</td>\n",
       "    </tr>\n",
       "    <tr>\n",
       "      <th>1744</th>\n",
       "      <td>4716</td>\n",
       "      <td>0.222222</td>\n",
       "    </tr>\n",
       "    <tr>\n",
       "      <th>1743</th>\n",
       "      <td>4714</td>\n",
       "      <td>0.222222</td>\n",
       "    </tr>\n",
       "    <tr>\n",
       "      <th>1737</th>\n",
       "      <td>4704</td>\n",
       "      <td>0.222222</td>\n",
       "    </tr>\n",
       "    <tr>\n",
       "      <th>1733</th>\n",
       "      <td>4694</td>\n",
       "      <td>0.222222</td>\n",
       "    </tr>\n",
       "    <tr>\n",
       "      <th>1728</th>\n",
       "      <td>4686</td>\n",
       "      <td>0.222222</td>\n",
       "    </tr>\n",
       "    <tr>\n",
       "      <th>1727</th>\n",
       "      <td>4685</td>\n",
       "      <td>0.222222</td>\n",
       "    </tr>\n",
       "    <tr>\n",
       "      <th>1726</th>\n",
       "      <td>4684</td>\n",
       "      <td>0.222222</td>\n",
       "    </tr>\n",
       "    <tr>\n",
       "      <th>1701</th>\n",
       "      <td>4644</td>\n",
       "      <td>0.222222</td>\n",
       "    </tr>\n",
       "    <tr>\n",
       "      <th>1700</th>\n",
       "      <td>4642</td>\n",
       "      <td>0.222222</td>\n",
       "    </tr>\n",
       "    <tr>\n",
       "      <th>1690</th>\n",
       "      <td>4627</td>\n",
       "      <td>0.222222</td>\n",
       "    </tr>\n",
       "    <tr>\n",
       "      <th>1687</th>\n",
       "      <td>4624</td>\n",
       "      <td>0.222222</td>\n",
       "    </tr>\n",
       "    <tr>\n",
       "      <th>1685</th>\n",
       "      <td>4621</td>\n",
       "      <td>0.222222</td>\n",
       "    </tr>\n",
       "    <tr>\n",
       "      <th>1661</th>\n",
       "      <td>4582</td>\n",
       "      <td>0.222222</td>\n",
       "    </tr>\n",
       "    <tr>\n",
       "      <th>1660</th>\n",
       "      <td>4581</td>\n",
       "      <td>0.222222</td>\n",
       "    </tr>\n",
       "    <tr>\n",
       "      <th>1655</th>\n",
       "      <td>4575</td>\n",
       "      <td>0.222222</td>\n",
       "    </tr>\n",
       "    <tr>\n",
       "      <th>1792</th>\n",
       "      <td>4813</td>\n",
       "      <td>0.222222</td>\n",
       "    </tr>\n",
       "    <tr>\n",
       "      <th>1791</th>\n",
       "      <td>4812</td>\n",
       "      <td>0.222222</td>\n",
       "    </tr>\n",
       "    <tr>\n",
       "      <th>1785</th>\n",
       "      <td>4784</td>\n",
       "      <td>0.222222</td>\n",
       "    </tr>\n",
       "    <tr>\n",
       "      <th>1779</th>\n",
       "      <td>4772</td>\n",
       "      <td>0.222222</td>\n",
       "    </tr>\n",
       "    <tr>\n",
       "      <th>1777</th>\n",
       "      <td>4770</td>\n",
       "      <td>0.222222</td>\n",
       "    </tr>\n",
       "    <tr>\n",
       "      <th>1776</th>\n",
       "      <td>4769</td>\n",
       "      <td>0.222222</td>\n",
       "    </tr>\n",
       "    <tr>\n",
       "      <th>1768</th>\n",
       "      <td>4761</td>\n",
       "      <td>0.222222</td>\n",
       "    </tr>\n",
       "    <tr>\n",
       "      <th>1760</th>\n",
       "      <td>4746</td>\n",
       "      <td>0.222222</td>\n",
       "    </tr>\n",
       "    <tr>\n",
       "      <th>1759</th>\n",
       "      <td>4745</td>\n",
       "      <td>0.222222</td>\n",
       "    </tr>\n",
       "    <tr>\n",
       "      <th>1758</th>\n",
       "      <td>4743</td>\n",
       "      <td>0.222222</td>\n",
       "    </tr>\n",
       "    <tr>\n",
       "      <th>1754</th>\n",
       "      <td>4734</td>\n",
       "      <td>0.222222</td>\n",
       "    </tr>\n",
       "    <tr>\n",
       "      <th>1753</th>\n",
       "      <td>4733</td>\n",
       "      <td>0.222222</td>\n",
       "    </tr>\n",
       "    <tr>\n",
       "      <th>1751</th>\n",
       "      <td>4728</td>\n",
       "      <td>0.222222</td>\n",
       "    </tr>\n",
       "    <tr>\n",
       "      <th>1746</th>\n",
       "      <td>4719</td>\n",
       "      <td>0.222222</td>\n",
       "    </tr>\n",
       "    <tr>\n",
       "      <th>1872</th>\n",
       "      <td>4974</td>\n",
       "      <td>0.222222</td>\n",
       "    </tr>\n",
       "    <tr>\n",
       "      <th>1871</th>\n",
       "      <td>4973</td>\n",
       "      <td>0.222222</td>\n",
       "    </tr>\n",
       "    <tr>\n",
       "      <th>1863</th>\n",
       "      <td>4962</td>\n",
       "      <td>0.222222</td>\n",
       "    </tr>\n",
       "    <tr>\n",
       "      <th>1861</th>\n",
       "      <td>4958</td>\n",
       "      <td>0.222222</td>\n",
       "    </tr>\n",
       "    <tr>\n",
       "      <th>1849</th>\n",
       "      <td>4931</td>\n",
       "      <td>0.222222</td>\n",
       "    </tr>\n",
       "    <tr>\n",
       "      <th>1846</th>\n",
       "      <td>4928</td>\n",
       "      <td>0.222222</td>\n",
       "    </tr>\n",
       "    <tr>\n",
       "      <th>1841</th>\n",
       "      <td>4923</td>\n",
       "      <td>0.222222</td>\n",
       "    </tr>\n",
       "    <tr>\n",
       "      <th>1839</th>\n",
       "      <td>4921</td>\n",
       "      <td>0.222222</td>\n",
       "    </tr>\n",
       "    <tr>\n",
       "      <th>1837</th>\n",
       "      <td>4919</td>\n",
       "      <td>0.222222</td>\n",
       "    </tr>\n",
       "    <tr>\n",
       "      <th>1813</th>\n",
       "      <td>4849</td>\n",
       "      <td>0.222222</td>\n",
       "    </tr>\n",
       "    <tr>\n",
       "      <th>1811</th>\n",
       "      <td>4847</td>\n",
       "      <td>0.222222</td>\n",
       "    </tr>\n",
       "    <tr>\n",
       "      <th>1808</th>\n",
       "      <td>4839</td>\n",
       "      <td>0.222222</td>\n",
       "    </tr>\n",
       "    <tr>\n",
       "      <th>1807</th>\n",
       "      <td>4838</td>\n",
       "      <td>0.222222</td>\n",
       "    </tr>\n",
       "    <tr>\n",
       "      <th>1803</th>\n",
       "      <td>4832</td>\n",
       "      <td>0.222222</td>\n",
       "    </tr>\n",
       "    <tr>\n",
       "      <th>1798</th>\n",
       "      <td>4825</td>\n",
       "      <td>0.222222</td>\n",
       "    </tr>\n",
       "    <tr>\n",
       "      <th>1794</th>\n",
       "      <td>4816</td>\n",
       "      <td>0.222222</td>\n",
       "    </tr>\n",
       "    <tr>\n",
       "      <th>2156</th>\n",
       "      <td>5844</td>\n",
       "      <td>0.222222</td>\n",
       "    </tr>\n",
       "    <tr>\n",
       "      <th>2149</th>\n",
       "      <td>5832</td>\n",
       "      <td>0.222222</td>\n",
       "    </tr>\n",
       "    <tr>\n",
       "      <th>2148</th>\n",
       "      <td>5831</td>\n",
       "      <td>0.222222</td>\n",
       "    </tr>\n",
       "    <tr>\n",
       "      <th>2144</th>\n",
       "      <td>5819</td>\n",
       "      <td>0.222222</td>\n",
       "    </tr>\n",
       "    <tr>\n",
       "      <th>2111</th>\n",
       "      <td>5695</td>\n",
       "      <td>0.222222</td>\n",
       "    </tr>\n",
       "    <tr>\n",
       "      <th>2066</th>\n",
       "      <td>5541</td>\n",
       "      <td>0.222222</td>\n",
       "    </tr>\n",
       "    <tr>\n",
       "      <th>2058</th>\n",
       "      <td>5484</td>\n",
       "      <td>0.222222</td>\n",
       "    </tr>\n",
       "    <tr>\n",
       "      <th>2050</th>\n",
       "      <td>5461</td>\n",
       "      <td>0.222222</td>\n",
       "    </tr>\n",
       "    <tr>\n",
       "      <th>2040</th>\n",
       "      <td>5411</td>\n",
       "      <td>0.222222</td>\n",
       "    </tr>\n",
       "    <tr>\n",
       "      <th>2036</th>\n",
       "      <td>5401</td>\n",
       "      <td>0.222222</td>\n",
       "    </tr>\n",
       "    <tr>\n",
       "      <th>2029</th>\n",
       "      <td>5384</td>\n",
       "      <td>0.222222</td>\n",
       "    </tr>\n",
       "    <tr>\n",
       "      <th>2006</th>\n",
       "      <td>5304</td>\n",
       "      <td>0.222222</td>\n",
       "    </tr>\n",
       "    <tr>\n",
       "      <th>1902</th>\n",
       "      <td>5025</td>\n",
       "      <td>0.222222</td>\n",
       "    </tr>\n",
       "    <tr>\n",
       "      <th>1895</th>\n",
       "      <td>5015</td>\n",
       "      <td>0.222222</td>\n",
       "    </tr>\n",
       "    <tr>\n",
       "      <th>2337</th>\n",
       "      <td>6146</td>\n",
       "      <td>0.222222</td>\n",
       "    </tr>\n",
       "    <tr>\n",
       "      <th>2326</th>\n",
       "      <td>6134</td>\n",
       "      <td>0.222222</td>\n",
       "    </tr>\n",
       "    <tr>\n",
       "      <th>2307</th>\n",
       "      <td>6091</td>\n",
       "      <td>0.222222</td>\n",
       "    </tr>\n",
       "    <tr>\n",
       "      <th>2297</th>\n",
       "      <td>6080</td>\n",
       "      <td>0.222222</td>\n",
       "    </tr>\n",
       "    <tr>\n",
       "      <th>2272</th>\n",
       "      <td>6047</td>\n",
       "      <td>0.222222</td>\n",
       "    </tr>\n",
       "    <tr>\n",
       "      <th>2249</th>\n",
       "      <td>6018</td>\n",
       "      <td>0.222222</td>\n",
       "    </tr>\n",
       "    <tr>\n",
       "      <th>2246</th>\n",
       "      <td>6005</td>\n",
       "      <td>0.222222</td>\n",
       "    </tr>\n",
       "    <tr>\n",
       "      <th>2228</th>\n",
       "      <td>5979</td>\n",
       "      <td>0.222222</td>\n",
       "    </tr>\n",
       "    <tr>\n",
       "      <th>2208</th>\n",
       "      <td>5951</td>\n",
       "      <td>0.222222</td>\n",
       "    </tr>\n",
       "    <tr>\n",
       "      <th>2205</th>\n",
       "      <td>5947</td>\n",
       "      <td>0.222222</td>\n",
       "    </tr>\n",
       "    <tr>\n",
       "      <th>2203</th>\n",
       "      <td>5945</td>\n",
       "      <td>0.222222</td>\n",
       "    </tr>\n",
       "    <tr>\n",
       "      <th>2190</th>\n",
       "      <td>5928</td>\n",
       "      <td>0.222222</td>\n",
       "    </tr>\n",
       "    <tr>\n",
       "      <th>2187</th>\n",
       "      <td>5921</td>\n",
       "      <td>0.222222</td>\n",
       "    </tr>\n",
       "    <tr>\n",
       "      <th>2182</th>\n",
       "      <td>5909</td>\n",
       "      <td>0.222222</td>\n",
       "    </tr>\n",
       "    <tr>\n",
       "      <th>2175</th>\n",
       "      <td>5900</td>\n",
       "      <td>0.222222</td>\n",
       "    </tr>\n",
       "    <tr>\n",
       "      <th>2480</th>\n",
       "      <td>6345</td>\n",
       "      <td>0.222222</td>\n",
       "    </tr>\n",
       "    <tr>\n",
       "      <th>2453</th>\n",
       "      <td>6309</td>\n",
       "      <td>0.222222</td>\n",
       "    </tr>\n",
       "    <tr>\n",
       "      <th>2442</th>\n",
       "      <td>6295</td>\n",
       "      <td>0.222222</td>\n",
       "    </tr>\n",
       "    <tr>\n",
       "      <th>2430</th>\n",
       "      <td>6278</td>\n",
       "      <td>0.222222</td>\n",
       "    </tr>\n",
       "    <tr>\n",
       "      <th>2424</th>\n",
       "      <td>6271</td>\n",
       "      <td>0.222222</td>\n",
       "    </tr>\n",
       "    <tr>\n",
       "      <th>2419</th>\n",
       "      <td>6265</td>\n",
       "      <td>0.222222</td>\n",
       "    </tr>\n",
       "    <tr>\n",
       "      <th>2415</th>\n",
       "      <td>6257</td>\n",
       "      <td>0.222222</td>\n",
       "    </tr>\n",
       "    <tr>\n",
       "      <th>2413</th>\n",
       "      <td>6255</td>\n",
       "      <td>0.222222</td>\n",
       "    </tr>\n",
       "    <tr>\n",
       "      <th>2410</th>\n",
       "      <td>6249</td>\n",
       "      <td>0.222222</td>\n",
       "    </tr>\n",
       "    <tr>\n",
       "      <th>2409</th>\n",
       "      <td>6248</td>\n",
       "      <td>0.222222</td>\n",
       "    </tr>\n",
       "    <tr>\n",
       "      <th>2354</th>\n",
       "      <td>6173</td>\n",
       "      <td>0.222222</td>\n",
       "    </tr>\n",
       "    <tr>\n",
       "      <th>2348</th>\n",
       "      <td>6164</td>\n",
       "      <td>0.222222</td>\n",
       "    </tr>\n",
       "    <tr>\n",
       "      <th>2347</th>\n",
       "      <td>6161</td>\n",
       "      <td>0.222222</td>\n",
       "    </tr>\n",
       "    <tr>\n",
       "      <th>2344</th>\n",
       "      <td>6157</td>\n",
       "      <td>0.222222</td>\n",
       "    </tr>\n",
       "    <tr>\n",
       "      <th>2343</th>\n",
       "      <td>6156</td>\n",
       "      <td>0.222222</td>\n",
       "    </tr>\n",
       "    <tr>\n",
       "      <th>2341</th>\n",
       "      <td>6151</td>\n",
       "      <td>0.222222</td>\n",
       "    </tr>\n",
       "    <tr>\n",
       "      <th>2600</th>\n",
       "      <td>6525</td>\n",
       "      <td>0.222222</td>\n",
       "    </tr>\n",
       "    <tr>\n",
       "      <th>2597</th>\n",
       "      <td>6522</td>\n",
       "      <td>0.222222</td>\n",
       "    </tr>\n",
       "    <tr>\n",
       "      <th>2582</th>\n",
       "      <td>6497</td>\n",
       "      <td>0.222222</td>\n",
       "    </tr>\n",
       "    <tr>\n",
       "      <th>2572</th>\n",
       "      <td>6485</td>\n",
       "      <td>0.222222</td>\n",
       "    </tr>\n",
       "    <tr>\n",
       "      <th>2571</th>\n",
       "      <td>6484</td>\n",
       "      <td>0.222222</td>\n",
       "    </tr>\n",
       "    <tr>\n",
       "      <th>2570</th>\n",
       "      <td>6482</td>\n",
       "      <td>0.222222</td>\n",
       "    </tr>\n",
       "    <tr>\n",
       "      <th>2551</th>\n",
       "      <td>6459</td>\n",
       "      <td>0.222222</td>\n",
       "    </tr>\n",
       "    <tr>\n",
       "      <th>2539</th>\n",
       "      <td>6432</td>\n",
       "      <td>0.222222</td>\n",
       "    </tr>\n",
       "    <tr>\n",
       "      <th>2533</th>\n",
       "      <td>6419</td>\n",
       "      <td>0.222222</td>\n",
       "    </tr>\n",
       "    <tr>\n",
       "      <th>2531</th>\n",
       "      <td>6417</td>\n",
       "      <td>0.222222</td>\n",
       "    </tr>\n",
       "    <tr>\n",
       "      <th>2529</th>\n",
       "      <td>6414</td>\n",
       "      <td>0.222222</td>\n",
       "    </tr>\n",
       "    <tr>\n",
       "      <th>2508</th>\n",
       "      <td>6382</td>\n",
       "      <td>0.222222</td>\n",
       "    </tr>\n",
       "    <tr>\n",
       "      <th>2494</th>\n",
       "      <td>6365</td>\n",
       "      <td>0.222222</td>\n",
       "    </tr>\n",
       "    <tr>\n",
       "      <th>2481</th>\n",
       "      <td>6346</td>\n",
       "      <td>0.222222</td>\n",
       "    </tr>\n",
       "    <tr>\n",
       "      <th>4142</th>\n",
       "      <td>9409</td>\n",
       "      <td>0.222222</td>\n",
       "    </tr>\n",
       "    <tr>\n",
       "      <th>4137</th>\n",
       "      <td>9402</td>\n",
       "      <td>0.222222</td>\n",
       "    </tr>\n",
       "    <tr>\n",
       "      <th>4135</th>\n",
       "      <td>9399</td>\n",
       "      <td>0.222222</td>\n",
       "    </tr>\n",
       "    <tr>\n",
       "      <th>4131</th>\n",
       "      <td>9384</td>\n",
       "      <td>0.222222</td>\n",
       "    </tr>\n",
       "    <tr>\n",
       "      <th>4127</th>\n",
       "      <td>9376</td>\n",
       "      <td>0.222222</td>\n",
       "    </tr>\n",
       "    <tr>\n",
       "      <th>4107</th>\n",
       "      <td>9347</td>\n",
       "      <td>0.222222</td>\n",
       "    </tr>\n",
       "    <tr>\n",
       "      <th>4097</th>\n",
       "      <td>9337</td>\n",
       "      <td>0.222222</td>\n",
       "    </tr>\n",
       "    <tr>\n",
       "      <th>4093</th>\n",
       "      <td>9331</td>\n",
       "      <td>0.222222</td>\n",
       "    </tr>\n",
       "    <tr>\n",
       "      <th>4091</th>\n",
       "      <td>9327</td>\n",
       "      <td>0.222222</td>\n",
       "    </tr>\n",
       "    <tr>\n",
       "      <th>4060</th>\n",
       "      <td>9265</td>\n",
       "      <td>0.222222</td>\n",
       "    </tr>\n",
       "    <tr>\n",
       "      <th>3976</th>\n",
       "      <td>9085</td>\n",
       "      <td>0.222222</td>\n",
       "    </tr>\n",
       "    <tr>\n",
       "      <th>3954</th>\n",
       "      <td>9058</td>\n",
       "      <td>0.222222</td>\n",
       "    </tr>\n",
       "    <tr>\n",
       "      <th>3910</th>\n",
       "      <td>8945</td>\n",
       "      <td>0.222222</td>\n",
       "    </tr>\n",
       "    <tr>\n",
       "      <th>3885</th>\n",
       "      <td>8898</td>\n",
       "      <td>0.222222</td>\n",
       "    </tr>\n",
       "    <tr>\n",
       "      <th>3851</th>\n",
       "      <td>8795</td>\n",
       "      <td>0.222222</td>\n",
       "    </tr>\n",
       "    <tr>\n",
       "      <th>2793</th>\n",
       "      <td>6836</td>\n",
       "      <td>0.222222</td>\n",
       "    </tr>\n",
       "    <tr>\n",
       "      <th>2791</th>\n",
       "      <td>6834</td>\n",
       "      <td>0.222222</td>\n",
       "    </tr>\n",
       "    <tr>\n",
       "      <th>2787</th>\n",
       "      <td>6823</td>\n",
       "      <td>0.222222</td>\n",
       "    </tr>\n",
       "    <tr>\n",
       "      <th>2785</th>\n",
       "      <td>6820</td>\n",
       "      <td>0.222222</td>\n",
       "    </tr>\n",
       "    <tr>\n",
       "      <th>2777</th>\n",
       "      <td>6806</td>\n",
       "      <td>0.222222</td>\n",
       "    </tr>\n",
       "    <tr>\n",
       "      <th>2772</th>\n",
       "      <td>6797</td>\n",
       "      <td>0.222222</td>\n",
       "    </tr>\n",
       "    <tr>\n",
       "      <th>2755</th>\n",
       "      <td>6769</td>\n",
       "      <td>0.222222</td>\n",
       "    </tr>\n",
       "    <tr>\n",
       "      <th>2733</th>\n",
       "      <td>6731</td>\n",
       "      <td>0.222222</td>\n",
       "    </tr>\n",
       "    <tr>\n",
       "      <th>2732</th>\n",
       "      <td>6730</td>\n",
       "      <td>0.222222</td>\n",
       "    </tr>\n",
       "    <tr>\n",
       "      <th>2725</th>\n",
       "      <td>6718</td>\n",
       "      <td>0.222222</td>\n",
       "    </tr>\n",
       "    <tr>\n",
       "      <th>2724</th>\n",
       "      <td>6715</td>\n",
       "      <td>0.222222</td>\n",
       "    </tr>\n",
       "    <tr>\n",
       "      <th>2710</th>\n",
       "      <td>6678</td>\n",
       "      <td>0.222222</td>\n",
       "    </tr>\n",
       "    <tr>\n",
       "      <th>2700</th>\n",
       "      <td>6662</td>\n",
       "      <td>0.222222</td>\n",
       "    </tr>\n",
       "    <tr>\n",
       "      <th>2667</th>\n",
       "      <td>6620</td>\n",
       "      <td>0.222222</td>\n",
       "    </tr>\n",
       "    <tr>\n",
       "      <th>2612</th>\n",
       "      <td>6543</td>\n",
       "      <td>0.222222</td>\n",
       "    </tr>\n",
       "    <tr>\n",
       "      <th>2610</th>\n",
       "      <td>6541</td>\n",
       "      <td>0.222222</td>\n",
       "    </tr>\n",
       "    <tr>\n",
       "      <th>2960</th>\n",
       "      <td>7090</td>\n",
       "      <td>0.222222</td>\n",
       "    </tr>\n",
       "    <tr>\n",
       "      <th>2959</th>\n",
       "      <td>7089</td>\n",
       "      <td>0.222222</td>\n",
       "    </tr>\n",
       "    <tr>\n",
       "      <th>2936</th>\n",
       "      <td>7066</td>\n",
       "      <td>0.222222</td>\n",
       "    </tr>\n",
       "    <tr>\n",
       "      <th>2916</th>\n",
       "      <td>7040</td>\n",
       "      <td>0.222222</td>\n",
       "    </tr>\n",
       "    <tr>\n",
       "      <th>2900</th>\n",
       "      <td>7011</td>\n",
       "      <td>0.222222</td>\n",
       "    </tr>\n",
       "    <tr>\n",
       "      <th>2876</th>\n",
       "      <td>6964</td>\n",
       "      <td>0.222222</td>\n",
       "    </tr>\n",
       "    <tr>\n",
       "      <th>2868</th>\n",
       "      <td>6954</td>\n",
       "      <td>0.222222</td>\n",
       "    </tr>\n",
       "    <tr>\n",
       "      <th>2865</th>\n",
       "      <td>6947</td>\n",
       "      <td>0.222222</td>\n",
       "    </tr>\n",
       "    <tr>\n",
       "      <th>2861</th>\n",
       "      <td>6943</td>\n",
       "      <td>0.222222</td>\n",
       "    </tr>\n",
       "    <tr>\n",
       "      <th>2854</th>\n",
       "      <td>6929</td>\n",
       "      <td>0.222222</td>\n",
       "    </tr>\n",
       "    <tr>\n",
       "      <th>2841</th>\n",
       "      <td>6912</td>\n",
       "      <td>0.222222</td>\n",
       "    </tr>\n",
       "    <tr>\n",
       "      <th>2833</th>\n",
       "      <td>6898</td>\n",
       "      <td>0.222222</td>\n",
       "    </tr>\n",
       "    <tr>\n",
       "      <th>2831</th>\n",
       "      <td>6896</td>\n",
       "      <td>0.222222</td>\n",
       "    </tr>\n",
       "    <tr>\n",
       "      <th>2816</th>\n",
       "      <td>6866</td>\n",
       "      <td>0.222222</td>\n",
       "    </tr>\n",
       "    <tr>\n",
       "      <th>2812</th>\n",
       "      <td>6861</td>\n",
       "      <td>0.222222</td>\n",
       "    </tr>\n",
       "    <tr>\n",
       "      <th>3095</th>\n",
       "      <td>7321</td>\n",
       "      <td>0.222222</td>\n",
       "    </tr>\n",
       "    <tr>\n",
       "      <th>3093</th>\n",
       "      <td>7318</td>\n",
       "      <td>0.222222</td>\n",
       "    </tr>\n",
       "    <tr>\n",
       "      <th>3084</th>\n",
       "      <td>7297</td>\n",
       "      <td>0.222222</td>\n",
       "    </tr>\n",
       "    <tr>\n",
       "      <th>3041</th>\n",
       "      <td>7235</td>\n",
       "      <td>0.222222</td>\n",
       "    </tr>\n",
       "    <tr>\n",
       "      <th>3033</th>\n",
       "      <td>7222</td>\n",
       "      <td>0.222222</td>\n",
       "    </tr>\n",
       "    <tr>\n",
       "      <th>3016</th>\n",
       "      <td>7196</td>\n",
       "      <td>0.222222</td>\n",
       "    </tr>\n",
       "    <tr>\n",
       "      <th>3012</th>\n",
       "      <td>7189</td>\n",
       "      <td>0.222222</td>\n",
       "    </tr>\n",
       "    <tr>\n",
       "      <th>3010</th>\n",
       "      <td>7186</td>\n",
       "      <td>0.222222</td>\n",
       "    </tr>\n",
       "    <tr>\n",
       "      <th>3008</th>\n",
       "      <td>7184</td>\n",
       "      <td>0.222222</td>\n",
       "    </tr>\n",
       "    <tr>\n",
       "      <th>3004</th>\n",
       "      <td>7180</td>\n",
       "      <td>0.222222</td>\n",
       "    </tr>\n",
       "    <tr>\n",
       "      <th>3001</th>\n",
       "      <td>7173</td>\n",
       "      <td>0.222222</td>\n",
       "    </tr>\n",
       "    <tr>\n",
       "      <th>2994</th>\n",
       "      <td>7161</td>\n",
       "      <td>0.222222</td>\n",
       "    </tr>\n",
       "    <tr>\n",
       "      <th>2993</th>\n",
       "      <td>7157</td>\n",
       "      <td>0.222222</td>\n",
       "    </tr>\n",
       "    <tr>\n",
       "      <th>2992</th>\n",
       "      <td>7150</td>\n",
       "      <td>0.222222</td>\n",
       "    </tr>\n",
       "    <tr>\n",
       "      <th>2990</th>\n",
       "      <td>7140</td>\n",
       "      <td>0.222222</td>\n",
       "    </tr>\n",
       "    <tr>\n",
       "      <th>2971</th>\n",
       "      <td>7111</td>\n",
       "      <td>0.222222</td>\n",
       "    </tr>\n",
       "    <tr>\n",
       "      <th>3173</th>\n",
       "      <td>7451</td>\n",
       "      <td>0.222222</td>\n",
       "    </tr>\n",
       "    <tr>\n",
       "      <th>3171</th>\n",
       "      <td>7448</td>\n",
       "      <td>0.222222</td>\n",
       "    </tr>\n",
       "    <tr>\n",
       "      <th>3170</th>\n",
       "      <td>7447</td>\n",
       "      <td>0.222222</td>\n",
       "    </tr>\n",
       "    <tr>\n",
       "      <th>3143</th>\n",
       "      <td>7389</td>\n",
       "      <td>0.222222</td>\n",
       "    </tr>\n",
       "    <tr>\n",
       "      <th>3140</th>\n",
       "      <td>7384</td>\n",
       "      <td>0.222222</td>\n",
       "    </tr>\n",
       "    <tr>\n",
       "      <th>3138</th>\n",
       "      <td>7381</td>\n",
       "      <td>0.222222</td>\n",
       "    </tr>\n",
       "    <tr>\n",
       "      <th>3137</th>\n",
       "      <td>7380</td>\n",
       "      <td>0.222222</td>\n",
       "    </tr>\n",
       "    <tr>\n",
       "      <th>3133</th>\n",
       "      <td>7376</td>\n",
       "      <td>0.222222</td>\n",
       "    </tr>\n",
       "    <tr>\n",
       "      <th>3130</th>\n",
       "      <td>7373</td>\n",
       "      <td>0.222222</td>\n",
       "    </tr>\n",
       "    <tr>\n",
       "      <th>3126</th>\n",
       "      <td>7369</td>\n",
       "      <td>0.222222</td>\n",
       "    </tr>\n",
       "    <tr>\n",
       "      <th>3109</th>\n",
       "      <td>7350</td>\n",
       "      <td>0.222222</td>\n",
       "    </tr>\n",
       "    <tr>\n",
       "      <th>3104</th>\n",
       "      <td>7339</td>\n",
       "      <td>0.222222</td>\n",
       "    </tr>\n",
       "    <tr>\n",
       "      <th>3102</th>\n",
       "      <td>7337</td>\n",
       "      <td>0.222222</td>\n",
       "    </tr>\n",
       "    <tr>\n",
       "      <th>3100</th>\n",
       "      <td>7327</td>\n",
       "      <td>0.222222</td>\n",
       "    </tr>\n",
       "    <tr>\n",
       "      <th>3099</th>\n",
       "      <td>7326</td>\n",
       "      <td>0.222222</td>\n",
       "    </tr>\n",
       "    <tr>\n",
       "      <th>3096</th>\n",
       "      <td>7322</td>\n",
       "      <td>0.222222</td>\n",
       "    </tr>\n",
       "    <tr>\n",
       "      <th>3305</th>\n",
       "      <td>7675</td>\n",
       "      <td>0.222222</td>\n",
       "    </tr>\n",
       "    <tr>\n",
       "      <th>3303</th>\n",
       "      <td>7673</td>\n",
       "      <td>0.222222</td>\n",
       "    </tr>\n",
       "    <tr>\n",
       "      <th>3293</th>\n",
       "      <td>7637</td>\n",
       "      <td>0.222222</td>\n",
       "    </tr>\n",
       "    <tr>\n",
       "      <th>3290</th>\n",
       "      <td>7634</td>\n",
       "      <td>0.222222</td>\n",
       "    </tr>\n",
       "    <tr>\n",
       "      <th>3276</th>\n",
       "      <td>7611</td>\n",
       "      <td>0.222222</td>\n",
       "    </tr>\n",
       "    <tr>\n",
       "      <th>3273</th>\n",
       "      <td>7608</td>\n",
       "      <td>0.222222</td>\n",
       "    </tr>\n",
       "    <tr>\n",
       "      <th>3268</th>\n",
       "      <td>7603</td>\n",
       "      <td>0.222222</td>\n",
       "    </tr>\n",
       "    <tr>\n",
       "      <th>3261</th>\n",
       "      <td>7595</td>\n",
       "      <td>0.222222</td>\n",
       "    </tr>\n",
       "    <tr>\n",
       "      <th>3240</th>\n",
       "      <td>7552</td>\n",
       "      <td>0.222222</td>\n",
       "    </tr>\n",
       "    <tr>\n",
       "      <th>3237</th>\n",
       "      <td>7545</td>\n",
       "      <td>0.222222</td>\n",
       "    </tr>\n",
       "    <tr>\n",
       "      <th>3236</th>\n",
       "      <td>7544</td>\n",
       "      <td>0.222222</td>\n",
       "    </tr>\n",
       "    <tr>\n",
       "      <th>3209</th>\n",
       "      <td>7504</td>\n",
       "      <td>0.222222</td>\n",
       "    </tr>\n",
       "    <tr>\n",
       "      <th>3207</th>\n",
       "      <td>7501</td>\n",
       "      <td>0.222222</td>\n",
       "    </tr>\n",
       "    <tr>\n",
       "      <th>3206</th>\n",
       "      <td>7500</td>\n",
       "      <td>0.222222</td>\n",
       "    </tr>\n",
       "    <tr>\n",
       "      <th>3200</th>\n",
       "      <td>7488</td>\n",
       "      <td>0.222222</td>\n",
       "    </tr>\n",
       "    <tr>\n",
       "      <th>3481</th>\n",
       "      <td>7937</td>\n",
       "      <td>0.222222</td>\n",
       "    </tr>\n",
       "    <tr>\n",
       "      <th>3477</th>\n",
       "      <td>7928</td>\n",
       "      <td>0.222222</td>\n",
       "    </tr>\n",
       "    <tr>\n",
       "      <th>3461</th>\n",
       "      <td>7908</td>\n",
       "      <td>0.222222</td>\n",
       "    </tr>\n",
       "    <tr>\n",
       "      <th>3457</th>\n",
       "      <td>7902</td>\n",
       "      <td>0.222222</td>\n",
       "    </tr>\n",
       "    <tr>\n",
       "      <th>3430</th>\n",
       "      <td>7865</td>\n",
       "      <td>0.222222</td>\n",
       "    </tr>\n",
       "    <tr>\n",
       "      <th>3419</th>\n",
       "      <td>7849</td>\n",
       "      <td>0.222222</td>\n",
       "    </tr>\n",
       "    <tr>\n",
       "      <th>3413</th>\n",
       "      <td>7839</td>\n",
       "      <td>0.222222</td>\n",
       "    </tr>\n",
       "    <tr>\n",
       "      <th>3408</th>\n",
       "      <td>7833</td>\n",
       "      <td>0.222222</td>\n",
       "    </tr>\n",
       "    <tr>\n",
       "      <th>3402</th>\n",
       "      <td>7823</td>\n",
       "      <td>0.222222</td>\n",
       "    </tr>\n",
       "    <tr>\n",
       "      <th>3367</th>\n",
       "      <td>7774</td>\n",
       "      <td>0.222222</td>\n",
       "    </tr>\n",
       "    <tr>\n",
       "      <th>3364</th>\n",
       "      <td>7768</td>\n",
       "      <td>0.222222</td>\n",
       "    </tr>\n",
       "    <tr>\n",
       "      <th>3358</th>\n",
       "      <td>7749</td>\n",
       "      <td>0.222222</td>\n",
       "    </tr>\n",
       "    <tr>\n",
       "      <th>3343</th>\n",
       "      <td>7730</td>\n",
       "      <td>0.222222</td>\n",
       "    </tr>\n",
       "    <tr>\n",
       "      <th>3325</th>\n",
       "      <td>7703</td>\n",
       "      <td>0.222222</td>\n",
       "    </tr>\n",
       "    <tr>\n",
       "      <th>3320</th>\n",
       "      <td>7695</td>\n",
       "      <td>0.222222</td>\n",
       "    </tr>\n",
       "    <tr>\n",
       "      <th>3311</th>\n",
       "      <td>7682</td>\n",
       "      <td>0.222222</td>\n",
       "    </tr>\n",
       "    <tr>\n",
       "      <th>3630</th>\n",
       "      <td>8145</td>\n",
       "      <td>0.222222</td>\n",
       "    </tr>\n",
       "    <tr>\n",
       "      <th>3609</th>\n",
       "      <td>8117</td>\n",
       "      <td>0.222222</td>\n",
       "    </tr>\n",
       "    <tr>\n",
       "      <th>3602</th>\n",
       "      <td>8105</td>\n",
       "      <td>0.222222</td>\n",
       "    </tr>\n",
       "    <tr>\n",
       "      <th>3596</th>\n",
       "      <td>8096</td>\n",
       "      <td>0.222222</td>\n",
       "    </tr>\n",
       "    <tr>\n",
       "      <th>3585</th>\n",
       "      <td>8081</td>\n",
       "      <td>0.222222</td>\n",
       "    </tr>\n",
       "    <tr>\n",
       "      <th>3564</th>\n",
       "      <td>8052</td>\n",
       "      <td>0.222222</td>\n",
       "    </tr>\n",
       "    <tr>\n",
       "      <th>3551</th>\n",
       "      <td>8035</td>\n",
       "      <td>0.222222</td>\n",
       "    </tr>\n",
       "    <tr>\n",
       "      <th>3528</th>\n",
       "      <td>7999</td>\n",
       "      <td>0.222222</td>\n",
       "    </tr>\n",
       "    <tr>\n",
       "      <th>3521</th>\n",
       "      <td>7989</td>\n",
       "      <td>0.222222</td>\n",
       "    </tr>\n",
       "    <tr>\n",
       "      <th>3518</th>\n",
       "      <td>7986</td>\n",
       "      <td>0.222222</td>\n",
       "    </tr>\n",
       "    <tr>\n",
       "      <th>3509</th>\n",
       "      <td>7974</td>\n",
       "      <td>0.222222</td>\n",
       "    </tr>\n",
       "    <tr>\n",
       "      <th>3506</th>\n",
       "      <td>7970</td>\n",
       "      <td>0.222222</td>\n",
       "    </tr>\n",
       "    <tr>\n",
       "      <th>3501</th>\n",
       "      <td>7961</td>\n",
       "      <td>0.222222</td>\n",
       "    </tr>\n",
       "    <tr>\n",
       "      <th>3499</th>\n",
       "      <td>7958</td>\n",
       "      <td>0.222222</td>\n",
       "    </tr>\n",
       "    <tr>\n",
       "      <th>3492</th>\n",
       "      <td>7950</td>\n",
       "      <td>0.222222</td>\n",
       "    </tr>\n",
       "    <tr>\n",
       "      <th>3491</th>\n",
       "      <td>7949</td>\n",
       "      <td>0.222222</td>\n",
       "    </tr>\n",
       "    <tr>\n",
       "      <th>3717</th>\n",
       "      <td>8338</td>\n",
       "      <td>0.222222</td>\n",
       "    </tr>\n",
       "    <tr>\n",
       "      <th>3716</th>\n",
       "      <td>8337</td>\n",
       "      <td>0.222222</td>\n",
       "    </tr>\n",
       "    <tr>\n",
       "      <th>3715</th>\n",
       "      <td>8336</td>\n",
       "      <td>0.222222</td>\n",
       "    </tr>\n",
       "    <tr>\n",
       "      <th>3714</th>\n",
       "      <td>8334</td>\n",
       "      <td>0.222222</td>\n",
       "    </tr>\n",
       "    <tr>\n",
       "      <th>3713</th>\n",
       "      <td>8333</td>\n",
       "      <td>0.222222</td>\n",
       "    </tr>\n",
       "    <tr>\n",
       "      <th>3712</th>\n",
       "      <td>8331</td>\n",
       "      <td>0.222222</td>\n",
       "    </tr>\n",
       "    <tr>\n",
       "      <th>3711</th>\n",
       "      <td>8327</td>\n",
       "      <td>0.222222</td>\n",
       "    </tr>\n",
       "    <tr>\n",
       "      <th>3710</th>\n",
       "      <td>8316</td>\n",
       "      <td>0.222222</td>\n",
       "    </tr>\n",
       "    <tr>\n",
       "      <th>3709</th>\n",
       "      <td>8309</td>\n",
       "      <td>0.222222</td>\n",
       "    </tr>\n",
       "    <tr>\n",
       "      <th>3708</th>\n",
       "      <td>8308</td>\n",
       "      <td>0.222222</td>\n",
       "    </tr>\n",
       "    <tr>\n",
       "      <th>3707</th>\n",
       "      <td>8306</td>\n",
       "      <td>0.222222</td>\n",
       "    </tr>\n",
       "    <tr>\n",
       "      <th>3706</th>\n",
       "      <td>8304</td>\n",
       "      <td>0.222222</td>\n",
       "    </tr>\n",
       "    <tr>\n",
       "      <th>3705</th>\n",
       "      <td>8303</td>\n",
       "      <td>0.222222</td>\n",
       "    </tr>\n",
       "    <tr>\n",
       "      <th>3684</th>\n",
       "      <td>8253</td>\n",
       "      <td>0.222222</td>\n",
       "    </tr>\n",
       "    <tr>\n",
       "      <th>3673</th>\n",
       "      <td>8227</td>\n",
       "      <td>0.222222</td>\n",
       "    </tr>\n",
       "    <tr>\n",
       "      <th>3658</th>\n",
       "      <td>8198</td>\n",
       "      <td>0.222222</td>\n",
       "    </tr>\n",
       "    <tr>\n",
       "      <th>3733</th>\n",
       "      <td>8362</td>\n",
       "      <td>0.222222</td>\n",
       "    </tr>\n",
       "    <tr>\n",
       "      <th>3732</th>\n",
       "      <td>8361</td>\n",
       "      <td>0.222222</td>\n",
       "    </tr>\n",
       "    <tr>\n",
       "      <th>3731</th>\n",
       "      <td>8360</td>\n",
       "      <td>0.222222</td>\n",
       "    </tr>\n",
       "    <tr>\n",
       "      <th>3730</th>\n",
       "      <td>8359</td>\n",
       "      <td>0.222222</td>\n",
       "    </tr>\n",
       "    <tr>\n",
       "      <th>3729</th>\n",
       "      <td>8358</td>\n",
       "      <td>0.222222</td>\n",
       "    </tr>\n",
       "    <tr>\n",
       "      <th>3728</th>\n",
       "      <td>8356</td>\n",
       "      <td>0.222222</td>\n",
       "    </tr>\n",
       "    <tr>\n",
       "      <th>3727</th>\n",
       "      <td>8355</td>\n",
       "      <td>0.222222</td>\n",
       "    </tr>\n",
       "    <tr>\n",
       "      <th>3726</th>\n",
       "      <td>8354</td>\n",
       "      <td>0.222222</td>\n",
       "    </tr>\n",
       "    <tr>\n",
       "      <th>3725</th>\n",
       "      <td>8350</td>\n",
       "      <td>0.222222</td>\n",
       "    </tr>\n",
       "    <tr>\n",
       "      <th>3724</th>\n",
       "      <td>8349</td>\n",
       "      <td>0.222222</td>\n",
       "    </tr>\n",
       "    <tr>\n",
       "      <th>3723</th>\n",
       "      <td>8346</td>\n",
       "      <td>0.222222</td>\n",
       "    </tr>\n",
       "    <tr>\n",
       "      <th>3722</th>\n",
       "      <td>8345</td>\n",
       "      <td>0.222222</td>\n",
       "    </tr>\n",
       "    <tr>\n",
       "      <th>3721</th>\n",
       "      <td>8344</td>\n",
       "      <td>0.222222</td>\n",
       "    </tr>\n",
       "    <tr>\n",
       "      <th>3720</th>\n",
       "      <td>8343</td>\n",
       "      <td>0.222222</td>\n",
       "    </tr>\n",
       "    <tr>\n",
       "      <th>3719</th>\n",
       "      <td>8342</td>\n",
       "      <td>0.222222</td>\n",
       "    </tr>\n",
       "    <tr>\n",
       "      <th>3718</th>\n",
       "      <td>8341</td>\n",
       "      <td>0.222222</td>\n",
       "    </tr>\n",
       "    <tr>\n",
       "      <th>3749</th>\n",
       "      <td>8387</td>\n",
       "      <td>0.222222</td>\n",
       "    </tr>\n",
       "    <tr>\n",
       "      <th>3748</th>\n",
       "      <td>8386</td>\n",
       "      <td>0.222222</td>\n",
       "    </tr>\n",
       "    <tr>\n",
       "      <th>3747</th>\n",
       "      <td>8385</td>\n",
       "      <td>0.222222</td>\n",
       "    </tr>\n",
       "    <tr>\n",
       "      <th>3746</th>\n",
       "      <td>8383</td>\n",
       "      <td>0.222222</td>\n",
       "    </tr>\n",
       "    <tr>\n",
       "      <th>3745</th>\n",
       "      <td>8382</td>\n",
       "      <td>0.222222</td>\n",
       "    </tr>\n",
       "    <tr>\n",
       "      <th>3744</th>\n",
       "      <td>8381</td>\n",
       "      <td>0.222222</td>\n",
       "    </tr>\n",
       "    <tr>\n",
       "      <th>3743</th>\n",
       "      <td>8379</td>\n",
       "      <td>0.222222</td>\n",
       "    </tr>\n",
       "    <tr>\n",
       "      <th>3742</th>\n",
       "      <td>8377</td>\n",
       "      <td>0.222222</td>\n",
       "    </tr>\n",
       "    <tr>\n",
       "      <th>3741</th>\n",
       "      <td>8370</td>\n",
       "      <td>0.222222</td>\n",
       "    </tr>\n",
       "    <tr>\n",
       "      <th>3740</th>\n",
       "      <td>8369</td>\n",
       "      <td>0.222222</td>\n",
       "    </tr>\n",
       "    <tr>\n",
       "      <th>3739</th>\n",
       "      <td>8368</td>\n",
       "      <td>0.222222</td>\n",
       "    </tr>\n",
       "    <tr>\n",
       "      <th>3738</th>\n",
       "      <td>8367</td>\n",
       "      <td>0.222222</td>\n",
       "    </tr>\n",
       "    <tr>\n",
       "      <th>3737</th>\n",
       "      <td>8366</td>\n",
       "      <td>0.222222</td>\n",
       "    </tr>\n",
       "    <tr>\n",
       "      <th>3736</th>\n",
       "      <td>8365</td>\n",
       "      <td>0.222222</td>\n",
       "    </tr>\n",
       "    <tr>\n",
       "      <th>3735</th>\n",
       "      <td>8364</td>\n",
       "      <td>0.222222</td>\n",
       "    </tr>\n",
       "    <tr>\n",
       "      <th>3734</th>\n",
       "      <td>8363</td>\n",
       "      <td>0.222222</td>\n",
       "    </tr>\n",
       "    <tr>\n",
       "      <th>3770</th>\n",
       "      <td>8508</td>\n",
       "      <td>0.222222</td>\n",
       "    </tr>\n",
       "    <tr>\n",
       "      <th>3768</th>\n",
       "      <td>8462</td>\n",
       "      <td>0.222222</td>\n",
       "    </tr>\n",
       "    <tr>\n",
       "      <th>3763</th>\n",
       "      <td>8418</td>\n",
       "      <td>0.222222</td>\n",
       "    </tr>\n",
       "    <tr>\n",
       "      <th>3762</th>\n",
       "      <td>8416</td>\n",
       "      <td>0.222222</td>\n",
       "    </tr>\n",
       "    <tr>\n",
       "      <th>3761</th>\n",
       "      <td>8411</td>\n",
       "      <td>0.222222</td>\n",
       "    </tr>\n",
       "    <tr>\n",
       "      <th>3760</th>\n",
       "      <td>8410</td>\n",
       "      <td>0.222222</td>\n",
       "    </tr>\n",
       "    <tr>\n",
       "      <th>3759</th>\n",
       "      <td>8404</td>\n",
       "      <td>0.222222</td>\n",
       "    </tr>\n",
       "    <tr>\n",
       "      <th>3758</th>\n",
       "      <td>8403</td>\n",
       "      <td>0.222222</td>\n",
       "    </tr>\n",
       "    <tr>\n",
       "      <th>3757</th>\n",
       "      <td>8399</td>\n",
       "      <td>0.222222</td>\n",
       "    </tr>\n",
       "    <tr>\n",
       "      <th>3756</th>\n",
       "      <td>8398</td>\n",
       "      <td>0.222222</td>\n",
       "    </tr>\n",
       "    <tr>\n",
       "      <th>3755</th>\n",
       "      <td>8397</td>\n",
       "      <td>0.222222</td>\n",
       "    </tr>\n",
       "    <tr>\n",
       "      <th>3754</th>\n",
       "      <td>8396</td>\n",
       "      <td>0.222222</td>\n",
       "    </tr>\n",
       "    <tr>\n",
       "      <th>3753</th>\n",
       "      <td>8395</td>\n",
       "      <td>0.222222</td>\n",
       "    </tr>\n",
       "    <tr>\n",
       "      <th>3752</th>\n",
       "      <td>8393</td>\n",
       "      <td>0.222222</td>\n",
       "    </tr>\n",
       "    <tr>\n",
       "      <th>3751</th>\n",
       "      <td>8392</td>\n",
       "      <td>0.222222</td>\n",
       "    </tr>\n",
       "    <tr>\n",
       "      <th>3750</th>\n",
       "      <td>8388</td>\n",
       "      <td>0.222222</td>\n",
       "    </tr>\n",
       "    <tr>\n",
       "      <th>3791</th>\n",
       "      <td>8562</td>\n",
       "      <td>0.222222</td>\n",
       "    </tr>\n",
       "    <tr>\n",
       "      <th>3790</th>\n",
       "      <td>8560</td>\n",
       "      <td>0.222222</td>\n",
       "    </tr>\n",
       "    <tr>\n",
       "      <th>3789</th>\n",
       "      <td>8559</td>\n",
       "      <td>0.222222</td>\n",
       "    </tr>\n",
       "    <tr>\n",
       "      <th>3788</th>\n",
       "      <td>8558</td>\n",
       "      <td>0.222222</td>\n",
       "    </tr>\n",
       "    <tr>\n",
       "      <th>3787</th>\n",
       "      <td>8554</td>\n",
       "      <td>0.222222</td>\n",
       "    </tr>\n",
       "    <tr>\n",
       "      <th>3786</th>\n",
       "      <td>8551</td>\n",
       "      <td>0.222222</td>\n",
       "    </tr>\n",
       "    <tr>\n",
       "      <th>3785</th>\n",
       "      <td>8550</td>\n",
       "      <td>0.222222</td>\n",
       "    </tr>\n",
       "    <tr>\n",
       "      <th>3784</th>\n",
       "      <td>8544</td>\n",
       "      <td>0.222222</td>\n",
       "    </tr>\n",
       "    <tr>\n",
       "      <th>3783</th>\n",
       "      <td>8542</td>\n",
       "      <td>0.222222</td>\n",
       "    </tr>\n",
       "    <tr>\n",
       "      <th>3782</th>\n",
       "      <td>8541</td>\n",
       "      <td>0.222222</td>\n",
       "    </tr>\n",
       "    <tr>\n",
       "      <th>3781</th>\n",
       "      <td>8540</td>\n",
       "      <td>0.222222</td>\n",
       "    </tr>\n",
       "    <tr>\n",
       "      <th>3780</th>\n",
       "      <td>8537</td>\n",
       "      <td>0.222222</td>\n",
       "    </tr>\n",
       "    <tr>\n",
       "      <th>3779</th>\n",
       "      <td>8530</td>\n",
       "      <td>0.222222</td>\n",
       "    </tr>\n",
       "    <tr>\n",
       "      <th>3778</th>\n",
       "      <td>8527</td>\n",
       "      <td>0.222222</td>\n",
       "    </tr>\n",
       "    <tr>\n",
       "      <th>3776</th>\n",
       "      <td>8522</td>\n",
       "      <td>0.222222</td>\n",
       "    </tr>\n",
       "    <tr>\n",
       "      <th>3775</th>\n",
       "      <td>8521</td>\n",
       "      <td>0.222222</td>\n",
       "    </tr>\n",
       "    <tr>\n",
       "      <th>3846</th>\n",
       "      <td>8771</td>\n",
       "      <td>0.222222</td>\n",
       "    </tr>\n",
       "    <tr>\n",
       "      <th>3844</th>\n",
       "      <td>8766</td>\n",
       "      <td>0.222222</td>\n",
       "    </tr>\n",
       "    <tr>\n",
       "      <th>3843</th>\n",
       "      <td>8761</td>\n",
       "      <td>0.222222</td>\n",
       "    </tr>\n",
       "    <tr>\n",
       "      <th>3842</th>\n",
       "      <td>8755</td>\n",
       "      <td>0.222222</td>\n",
       "    </tr>\n",
       "    <tr>\n",
       "      <th>3839</th>\n",
       "      <td>8746</td>\n",
       "      <td>0.222222</td>\n",
       "    </tr>\n",
       "    <tr>\n",
       "      <th>3837</th>\n",
       "      <td>8740</td>\n",
       "      <td>0.222222</td>\n",
       "    </tr>\n",
       "    <tr>\n",
       "      <th>3833</th>\n",
       "      <td>8729</td>\n",
       "      <td>0.222222</td>\n",
       "    </tr>\n",
       "    <tr>\n",
       "      <th>3832</th>\n",
       "      <td>8725</td>\n",
       "      <td>0.222222</td>\n",
       "    </tr>\n",
       "    <tr>\n",
       "      <th>3831</th>\n",
       "      <td>8715</td>\n",
       "      <td>0.222222</td>\n",
       "    </tr>\n",
       "    <tr>\n",
       "      <th>3830</th>\n",
       "      <td>8714</td>\n",
       "      <td>0.222222</td>\n",
       "    </tr>\n",
       "    <tr>\n",
       "      <th>3829</th>\n",
       "      <td>8713</td>\n",
       "      <td>0.222222</td>\n",
       "    </tr>\n",
       "    <tr>\n",
       "      <th>3821</th>\n",
       "      <td>8700</td>\n",
       "      <td>0.222222</td>\n",
       "    </tr>\n",
       "    <tr>\n",
       "      <th>3816</th>\n",
       "      <td>8630</td>\n",
       "      <td>0.222222</td>\n",
       "    </tr>\n",
       "    <tr>\n",
       "      <th>3812</th>\n",
       "      <td>8617</td>\n",
       "      <td>0.222222</td>\n",
       "    </tr>\n",
       "    <tr>\n",
       "      <th>3805</th>\n",
       "      <td>8600</td>\n",
       "      <td>0.222222</td>\n",
       "    </tr>\n",
       "    <tr>\n",
       "      <th>3792</th>\n",
       "      <td>8563</td>\n",
       "      <td>0.222222</td>\n",
       "    </tr>\n",
       "    <tr>\n",
       "      <th>21</th>\n",
       "      <td>1414</td>\n",
       "      <td>0.222222</td>\n",
       "    </tr>\n",
       "    <tr>\n",
       "      <th>4404</th>\n",
       "      <td>9962</td>\n",
       "      <td>0.222222</td>\n",
       "    </tr>\n",
       "    <tr>\n",
       "      <th>4389</th>\n",
       "      <td>9932</td>\n",
       "      <td>0.222222</td>\n",
       "    </tr>\n",
       "    <tr>\n",
       "      <th>4382</th>\n",
       "      <td>9914</td>\n",
       "      <td>0.222222</td>\n",
       "    </tr>\n",
       "    <tr>\n",
       "      <th>4375</th>\n",
       "      <td>9902</td>\n",
       "      <td>0.222222</td>\n",
       "    </tr>\n",
       "    <tr>\n",
       "      <th>4373</th>\n",
       "      <td>9899</td>\n",
       "      <td>0.222222</td>\n",
       "    </tr>\n",
       "    <tr>\n",
       "      <th>4361</th>\n",
       "      <td>9876</td>\n",
       "      <td>0.222222</td>\n",
       "    </tr>\n",
       "    <tr>\n",
       "      <th>4360</th>\n",
       "      <td>9873</td>\n",
       "      <td>0.222222</td>\n",
       "    </tr>\n",
       "    <tr>\n",
       "      <th>4359</th>\n",
       "      <td>9872</td>\n",
       "      <td>0.222222</td>\n",
       "    </tr>\n",
       "    <tr>\n",
       "      <th>4353</th>\n",
       "      <td>9854</td>\n",
       "      <td>0.222222</td>\n",
       "    </tr>\n",
       "    <tr>\n",
       "      <th>4349</th>\n",
       "      <td>9849</td>\n",
       "      <td>0.222222</td>\n",
       "    </tr>\n",
       "    <tr>\n",
       "      <th>4321</th>\n",
       "      <td>9790</td>\n",
       "      <td>0.222222</td>\n",
       "    </tr>\n",
       "    <tr>\n",
       "      <th>4298</th>\n",
       "      <td>9744</td>\n",
       "      <td>0.222222</td>\n",
       "    </tr>\n",
       "    <tr>\n",
       "      <th>4294</th>\n",
       "      <td>9739</td>\n",
       "      <td>0.222222</td>\n",
       "    </tr>\n",
       "    <tr>\n",
       "      <th>4292</th>\n",
       "      <td>9734</td>\n",
       "      <td>0.222222</td>\n",
       "    </tr>\n",
       "    <tr>\n",
       "      <th>155</th>\n",
       "      <td>1879</td>\n",
       "      <td>0.222222</td>\n",
       "    </tr>\n",
       "    <tr>\n",
       "      <th>146</th>\n",
       "      <td>1865</td>\n",
       "      <td>0.222222</td>\n",
       "    </tr>\n",
       "    <tr>\n",
       "      <th>132</th>\n",
       "      <td>1832</td>\n",
       "      <td>0.222222</td>\n",
       "    </tr>\n",
       "    <tr>\n",
       "      <th>112</th>\n",
       "      <td>1799</td>\n",
       "      <td>0.222222</td>\n",
       "    </tr>\n",
       "    <tr>\n",
       "      <th>107</th>\n",
       "      <td>1788</td>\n",
       "      <td>0.222222</td>\n",
       "    </tr>\n",
       "    <tr>\n",
       "      <th>106</th>\n",
       "      <td>1787</td>\n",
       "      <td>0.222222</td>\n",
       "    </tr>\n",
       "    <tr>\n",
       "      <th>100</th>\n",
       "      <td>1777</td>\n",
       "      <td>0.222222</td>\n",
       "    </tr>\n",
       "    <tr>\n",
       "      <th>99</th>\n",
       "      <td>1776</td>\n",
       "      <td>0.222222</td>\n",
       "    </tr>\n",
       "    <tr>\n",
       "      <th>94</th>\n",
       "      <td>1768</td>\n",
       "      <td>0.222222</td>\n",
       "    </tr>\n",
       "    <tr>\n",
       "      <th>93</th>\n",
       "      <td>1766</td>\n",
       "      <td>0.222222</td>\n",
       "    </tr>\n",
       "    <tr>\n",
       "      <th>83</th>\n",
       "      <td>1737</td>\n",
       "      <td>0.222222</td>\n",
       "    </tr>\n",
       "    <tr>\n",
       "      <th>76</th>\n",
       "      <td>1723</td>\n",
       "      <td>0.222222</td>\n",
       "    </tr>\n",
       "    <tr>\n",
       "      <th>70</th>\n",
       "      <td>1717</td>\n",
       "      <td>0.222222</td>\n",
       "    </tr>\n",
       "    <tr>\n",
       "      <th>49</th>\n",
       "      <td>148A</td>\n",
       "      <td>0.222222</td>\n",
       "    </tr>\n",
       "    <tr>\n",
       "      <th>46</th>\n",
       "      <td>145A</td>\n",
       "      <td>0.222222</td>\n",
       "    </tr>\n",
       "    <tr>\n",
       "      <th>31</th>\n",
       "      <td>1433</td>\n",
       "      <td>0.215278</td>\n",
       "    </tr>\n",
       "    <tr>\n",
       "      <th>4364</th>\n",
       "      <td>9882</td>\n",
       "      <td>0.215278</td>\n",
       "    </tr>\n",
       "    <tr>\n",
       "      <th>3262</th>\n",
       "      <td>7596</td>\n",
       "      <td>0.215278</td>\n",
       "    </tr>\n",
       "    <tr>\n",
       "      <th>2873</th>\n",
       "      <td>6961</td>\n",
       "      <td>0.215278</td>\n",
       "    </tr>\n",
       "    <tr>\n",
       "      <th>4146</th>\n",
       "      <td>9416</td>\n",
       "      <td>0.215278</td>\n",
       "    </tr>\n",
       "    <tr>\n",
       "      <th>2556</th>\n",
       "      <td>6464</td>\n",
       "      <td>0.215278</td>\n",
       "    </tr>\n",
       "    <tr>\n",
       "      <th>2557</th>\n",
       "      <td>6465</td>\n",
       "      <td>0.215278</td>\n",
       "    </tr>\n",
       "    <tr>\n",
       "      <th>2304</th>\n",
       "      <td>6088</td>\n",
       "      <td>0.215278</td>\n",
       "    </tr>\n",
       "    <tr>\n",
       "      <th>2022</th>\n",
       "      <td>5357</td>\n",
       "      <td>0.215278</td>\n",
       "    </tr>\n",
       "    <tr>\n",
       "      <th>2043</th>\n",
       "      <td>5444</td>\n",
       "      <td>0.215278</td>\n",
       "    </tr>\n",
       "    <tr>\n",
       "      <th>1769</th>\n",
       "      <td>4762</td>\n",
       "      <td>0.215278</td>\n",
       "    </tr>\n",
       "    <tr>\n",
       "      <th>1772</th>\n",
       "      <td>4765</td>\n",
       "      <td>0.215278</td>\n",
       "    </tr>\n",
       "    <tr>\n",
       "      <th>1665</th>\n",
       "      <td>4586</td>\n",
       "      <td>0.215278</td>\n",
       "    </tr>\n",
       "    <tr>\n",
       "      <th>1205</th>\n",
       "      <td>3917</td>\n",
       "      <td>0.215278</td>\n",
       "    </tr>\n",
       "    <tr>\n",
       "      <th>1075</th>\n",
       "      <td>3687</td>\n",
       "      <td>0.215278</td>\n",
       "    </tr>\n",
       "    <tr>\n",
       "      <th>1031</th>\n",
       "      <td>3633</td>\n",
       "      <td>0.215278</td>\n",
       "    </tr>\n",
       "    <tr>\n",
       "      <th>1033</th>\n",
       "      <td>3635</td>\n",
       "      <td>0.215278</td>\n",
       "    </tr>\n",
       "    <tr>\n",
       "      <th>832</th>\n",
       "      <td>3275</td>\n",
       "      <td>0.215278</td>\n",
       "    </tr>\n",
       "    <tr>\n",
       "      <th>474</th>\n",
       "      <td>2612</td>\n",
       "      <td>0.215278</td>\n",
       "    </tr>\n",
       "    <tr>\n",
       "      <th>354</th>\n",
       "      <td>2332</td>\n",
       "      <td>0.215278</td>\n",
       "    </tr>\n",
       "    <tr>\n",
       "      <th>4251</th>\n",
       "      <td>9663</td>\n",
       "      <td>0.215278</td>\n",
       "    </tr>\n",
       "    <tr>\n",
       "      <th>6</th>\n",
       "      <td>1375</td>\n",
       "      <td>0.215278</td>\n",
       "    </tr>\n",
       "  </tbody>\n",
       "</table>\n",
       "</div>"
      ],
      "text/plain": [
       "       コード     平均欠損率\n",
       "4421  9986  0.222222\n",
       "4414  9977  0.222222\n",
       "7     1376  0.222222\n",
       "12    1381  0.222222\n",
       "4287  9726  0.222222\n",
       "4282  9717  0.222222\n",
       "4281  9716  0.222222\n",
       "4277  9708  0.222222\n",
       "4270  9698  0.222222\n",
       "4260  9682  0.222222\n",
       "4250  9661  0.222222\n",
       "4247  9651  0.222222\n",
       "4242  9640  0.222222\n",
       "4236  9632  0.222222\n",
       "4234  9629  0.222222\n",
       "4212  9560  0.222222\n",
       "4208  9554  0.222222\n",
       "4152  9423  0.222222\n",
       "4151  9422  0.222222\n",
       "349   2326  0.222222\n",
       "345   231A  0.222222\n",
       "339   2305  0.222222\n",
       "337   2303  0.222222\n",
       "336   2301  0.222222\n",
       "333   2294  0.222222\n",
       "293   2193  0.222222\n",
       "290   2186  0.222222\n",
       "274   2163  0.222222\n",
       "264   2152  0.222222\n",
       "250   2124  0.222222\n",
       "249   2122  0.222222\n",
       "221   1983  0.222222\n",
       "220   1982  0.222222\n",
       "166   1897  0.222222\n",
       "158   1883  0.222222\n",
       "419   2454  0.222222\n",
       "413   2438  0.222222\n",
       "399   2417  0.222222\n",
       "393   2408  0.222222\n",
       "387   2397  0.222222\n",
       "384   2391  0.222222\n",
       "381   2385  0.222222\n",
       "379   2379  0.222222\n",
       "371   2370  0.222222\n",
       "368   2354  0.222222\n",
       "364   2349  0.222222\n",
       "362   2344  0.222222\n",
       "360   2341  0.222222\n",
       "358   2338  0.222222\n",
       "350   2327  0.222222\n",
       "496   2676  0.222222\n",
       "491   2669  0.222222\n",
       "485   2659  0.222222\n",
       "484   2656  0.222222\n",
       "458   2573  0.222222\n",
       "456   2540  0.222222\n",
       "443   2491  0.222222\n",
       "441   2489  0.222222\n",
       "440   2488  0.222222\n",
       "439   2487  0.222222\n",
       "436   2483  0.222222\n",
       "435   2481  0.222222\n",
       "434   2480  0.222222\n",
       "431   2477  0.222222\n",
       "430   2475  0.222222\n",
       "913   3416  0.222222\n",
       "869   334A  0.222222\n",
       "862   332A  0.222222\n",
       "850   3316  0.222222\n",
       "779   3183  0.222222\n",
       "752   3148  0.222222\n",
       "747   3138  0.222222\n",
       "707   3076  0.222222\n",
       "608   2908  0.222222\n",
       "577   2815  0.222222\n",
       "569   2806  0.222222\n",
       "562   2795  0.222222\n",
       "561   2792  0.222222\n",
       "554   2782  0.222222\n",
       "515   2706  0.222222\n",
       "1052  3661  0.222222\n",
       "1045  3655  0.222222\n",
       "1044  3653  0.222222\n",
       "1043  3652  0.222222\n",
       "1041  3648  0.222222\n",
       "1037  3641  0.222222\n",
       "1032  3634  0.222222\n",
       "1030  3632  0.222222\n",
       "1023  3623  0.222222\n",
       "1015  3600  0.222222\n",
       "1009  3580  0.222222\n",
       "990   3549  0.222222\n",
       "923   3426  0.222222\n",
       "919   3421  0.222222\n",
       "1155  3835  0.222222\n",
       "1154  3834  0.222222\n",
       "1152  3826  0.222222\n",
       "1135  3798  0.222222\n",
       "1134  3796  0.222222\n",
       "1129  3787  0.222222\n",
       "1126  3781  0.222222\n",
       "1116  3770  0.222222\n",
       "1113  3767  0.222222\n",
       "1112  3766  0.222222\n",
       "1110  3763  0.222222\n",
       "1092  3724  0.222222\n",
       "1091  3723  0.222222\n",
       "1088  3711  0.222222\n",
       "1054  3663  0.222222\n",
       "1417  4240  0.222222\n",
       "1385  4194  0.222222\n",
       "1326  4070  0.222222\n",
       "1288  4016  0.222222\n",
       "1239  3953  0.222222\n",
       "1238  3952  0.222222\n",
       "1235  3948  0.222222\n",
       "1227  3939  0.222222\n",
       "1185  3892  0.222222\n",
       "1171  3852  0.222222\n",
       "1169  3850  0.222222\n",
       "1168  3849  0.222222\n",
       "1166  3847  0.222222\n",
       "1160  3841  0.222222\n",
       "1156  3836  0.222222\n",
       "1542  4418  0.222222\n",
       "1508  4377  0.222222\n",
       "1504  4373  0.222222\n",
       "1502  4371  0.222222\n",
       "1496  4365  0.222222\n",
       "1491  4356  0.222222\n",
       "1486  4348  0.222222\n",
       "1483  4345  0.222222\n",
       "1480  4342  0.222222\n",
       "1476  4335  0.222222\n",
       "1474  4333  0.222222\n",
       "1472  4327  0.222222\n",
       "1461  4312  0.222222\n",
       "1455  4299  0.222222\n",
       "1451  4291  0.222222\n",
       "1448  4287  0.222222\n",
       "1652  4571  0.222222\n",
       "1647  4565  0.222222\n",
       "1646  4564  0.222222\n",
       "1645  4563  0.222222\n",
       "1636  4551  0.222222\n",
       "1635  4550  0.222222\n",
       "1634  4549  0.222222\n",
       "1625  4536  0.222222\n",
       "1624  4534  0.222222\n",
       "1614  4517  0.222222\n",
       "1613  4516  0.222222\n",
       "1591  4485  0.222222\n",
       "1582  4476  0.222222\n",
       "1568  4445  0.222222\n",
       "1564  4441  0.222222\n",
       "1553  4430  0.222222\n",
       "1744  4716  0.222222\n",
       "1743  4714  0.222222\n",
       "1737  4704  0.222222\n",
       "1733  4694  0.222222\n",
       "1728  4686  0.222222\n",
       "1727  4685  0.222222\n",
       "1726  4684  0.222222\n",
       "1701  4644  0.222222\n",
       "1700  4642  0.222222\n",
       "1690  4627  0.222222\n",
       "1687  4624  0.222222\n",
       "1685  4621  0.222222\n",
       "1661  4582  0.222222\n",
       "1660  4581  0.222222\n",
       "1655  4575  0.222222\n",
       "1792  4813  0.222222\n",
       "1791  4812  0.222222\n",
       "1785  4784  0.222222\n",
       "1779  4772  0.222222\n",
       "1777  4770  0.222222\n",
       "1776  4769  0.222222\n",
       "1768  4761  0.222222\n",
       "1760  4746  0.222222\n",
       "1759  4745  0.222222\n",
       "1758  4743  0.222222\n",
       "1754  4734  0.222222\n",
       "1753  4733  0.222222\n",
       "1751  4728  0.222222\n",
       "1746  4719  0.222222\n",
       "1872  4974  0.222222\n",
       "1871  4973  0.222222\n",
       "1863  4962  0.222222\n",
       "1861  4958  0.222222\n",
       "1849  4931  0.222222\n",
       "1846  4928  0.222222\n",
       "1841  4923  0.222222\n",
       "1839  4921  0.222222\n",
       "1837  4919  0.222222\n",
       "1813  4849  0.222222\n",
       "1811  4847  0.222222\n",
       "1808  4839  0.222222\n",
       "1807  4838  0.222222\n",
       "1803  4832  0.222222\n",
       "1798  4825  0.222222\n",
       "1794  4816  0.222222\n",
       "2156  5844  0.222222\n",
       "2149  5832  0.222222\n",
       "2148  5831  0.222222\n",
       "2144  5819  0.222222\n",
       "2111  5695  0.222222\n",
       "2066  5541  0.222222\n",
       "2058  5484  0.222222\n",
       "2050  5461  0.222222\n",
       "2040  5411  0.222222\n",
       "2036  5401  0.222222\n",
       "2029  5384  0.222222\n",
       "2006  5304  0.222222\n",
       "1902  5025  0.222222\n",
       "1895  5015  0.222222\n",
       "2337  6146  0.222222\n",
       "2326  6134  0.222222\n",
       "2307  6091  0.222222\n",
       "2297  6080  0.222222\n",
       "2272  6047  0.222222\n",
       "2249  6018  0.222222\n",
       "2246  6005  0.222222\n",
       "2228  5979  0.222222\n",
       "2208  5951  0.222222\n",
       "2205  5947  0.222222\n",
       "2203  5945  0.222222\n",
       "2190  5928  0.222222\n",
       "2187  5921  0.222222\n",
       "2182  5909  0.222222\n",
       "2175  5900  0.222222\n",
       "2480  6345  0.222222\n",
       "2453  6309  0.222222\n",
       "2442  6295  0.222222\n",
       "2430  6278  0.222222\n",
       "2424  6271  0.222222\n",
       "2419  6265  0.222222\n",
       "2415  6257  0.222222\n",
       "2413  6255  0.222222\n",
       "2410  6249  0.222222\n",
       "2409  6248  0.222222\n",
       "2354  6173  0.222222\n",
       "2348  6164  0.222222\n",
       "2347  6161  0.222222\n",
       "2344  6157  0.222222\n",
       "2343  6156  0.222222\n",
       "2341  6151  0.222222\n",
       "2600  6525  0.222222\n",
       "2597  6522  0.222222\n",
       "2582  6497  0.222222\n",
       "2572  6485  0.222222\n",
       "2571  6484  0.222222\n",
       "2570  6482  0.222222\n",
       "2551  6459  0.222222\n",
       "2539  6432  0.222222\n",
       "2533  6419  0.222222\n",
       "2531  6417  0.222222\n",
       "2529  6414  0.222222\n",
       "2508  6382  0.222222\n",
       "2494  6365  0.222222\n",
       "2481  6346  0.222222\n",
       "4142  9409  0.222222\n",
       "4137  9402  0.222222\n",
       "4135  9399  0.222222\n",
       "4131  9384  0.222222\n",
       "4127  9376  0.222222\n",
       "4107  9347  0.222222\n",
       "4097  9337  0.222222\n",
       "4093  9331  0.222222\n",
       "4091  9327  0.222222\n",
       "4060  9265  0.222222\n",
       "3976  9085  0.222222\n",
       "3954  9058  0.222222\n",
       "3910  8945  0.222222\n",
       "3885  8898  0.222222\n",
       "3851  8795  0.222222\n",
       "2793  6836  0.222222\n",
       "2791  6834  0.222222\n",
       "2787  6823  0.222222\n",
       "2785  6820  0.222222\n",
       "2777  6806  0.222222\n",
       "2772  6797  0.222222\n",
       "2755  6769  0.222222\n",
       "2733  6731  0.222222\n",
       "2732  6730  0.222222\n",
       "2725  6718  0.222222\n",
       "2724  6715  0.222222\n",
       "2710  6678  0.222222\n",
       "2700  6662  0.222222\n",
       "2667  6620  0.222222\n",
       "2612  6543  0.222222\n",
       "2610  6541  0.222222\n",
       "2960  7090  0.222222\n",
       "2959  7089  0.222222\n",
       "2936  7066  0.222222\n",
       "2916  7040  0.222222\n",
       "2900  7011  0.222222\n",
       "2876  6964  0.222222\n",
       "2868  6954  0.222222\n",
       "2865  6947  0.222222\n",
       "2861  6943  0.222222\n",
       "2854  6929  0.222222\n",
       "2841  6912  0.222222\n",
       "2833  6898  0.222222\n",
       "2831  6896  0.222222\n",
       "2816  6866  0.222222\n",
       "2812  6861  0.222222\n",
       "3095  7321  0.222222\n",
       "3093  7318  0.222222\n",
       "3084  7297  0.222222\n",
       "3041  7235  0.222222\n",
       "3033  7222  0.222222\n",
       "3016  7196  0.222222\n",
       "3012  7189  0.222222\n",
       "3010  7186  0.222222\n",
       "3008  7184  0.222222\n",
       "3004  7180  0.222222\n",
       "3001  7173  0.222222\n",
       "2994  7161  0.222222\n",
       "2993  7157  0.222222\n",
       "2992  7150  0.222222\n",
       "2990  7140  0.222222\n",
       "2971  7111  0.222222\n",
       "3173  7451  0.222222\n",
       "3171  7448  0.222222\n",
       "3170  7447  0.222222\n",
       "3143  7389  0.222222\n",
       "3140  7384  0.222222\n",
       "3138  7381  0.222222\n",
       "3137  7380  0.222222\n",
       "3133  7376  0.222222\n",
       "3130  7373  0.222222\n",
       "3126  7369  0.222222\n",
       "3109  7350  0.222222\n",
       "3104  7339  0.222222\n",
       "3102  7337  0.222222\n",
       "3100  7327  0.222222\n",
       "3099  7326  0.222222\n",
       "3096  7322  0.222222\n",
       "3305  7675  0.222222\n",
       "3303  7673  0.222222\n",
       "3293  7637  0.222222\n",
       "3290  7634  0.222222\n",
       "3276  7611  0.222222\n",
       "3273  7608  0.222222\n",
       "3268  7603  0.222222\n",
       "3261  7595  0.222222\n",
       "3240  7552  0.222222\n",
       "3237  7545  0.222222\n",
       "3236  7544  0.222222\n",
       "3209  7504  0.222222\n",
       "3207  7501  0.222222\n",
       "3206  7500  0.222222\n",
       "3200  7488  0.222222\n",
       "3481  7937  0.222222\n",
       "3477  7928  0.222222\n",
       "3461  7908  0.222222\n",
       "3457  7902  0.222222\n",
       "3430  7865  0.222222\n",
       "3419  7849  0.222222\n",
       "3413  7839  0.222222\n",
       "3408  7833  0.222222\n",
       "3402  7823  0.222222\n",
       "3367  7774  0.222222\n",
       "3364  7768  0.222222\n",
       "3358  7749  0.222222\n",
       "3343  7730  0.222222\n",
       "3325  7703  0.222222\n",
       "3320  7695  0.222222\n",
       "3311  7682  0.222222\n",
       "3630  8145  0.222222\n",
       "3609  8117  0.222222\n",
       "3602  8105  0.222222\n",
       "3596  8096  0.222222\n",
       "3585  8081  0.222222\n",
       "3564  8052  0.222222\n",
       "3551  8035  0.222222\n",
       "3528  7999  0.222222\n",
       "3521  7989  0.222222\n",
       "3518  7986  0.222222\n",
       "3509  7974  0.222222\n",
       "3506  7970  0.222222\n",
       "3501  7961  0.222222\n",
       "3499  7958  0.222222\n",
       "3492  7950  0.222222\n",
       "3491  7949  0.222222\n",
       "3717  8338  0.222222\n",
       "3716  8337  0.222222\n",
       "3715  8336  0.222222\n",
       "3714  8334  0.222222\n",
       "3713  8333  0.222222\n",
       "3712  8331  0.222222\n",
       "3711  8327  0.222222\n",
       "3710  8316  0.222222\n",
       "3709  8309  0.222222\n",
       "3708  8308  0.222222\n",
       "3707  8306  0.222222\n",
       "3706  8304  0.222222\n",
       "3705  8303  0.222222\n",
       "3684  8253  0.222222\n",
       "3673  8227  0.222222\n",
       "3658  8198  0.222222\n",
       "3733  8362  0.222222\n",
       "3732  8361  0.222222\n",
       "3731  8360  0.222222\n",
       "3730  8359  0.222222\n",
       "3729  8358  0.222222\n",
       "3728  8356  0.222222\n",
       "3727  8355  0.222222\n",
       "3726  8354  0.222222\n",
       "3725  8350  0.222222\n",
       "3724  8349  0.222222\n",
       "3723  8346  0.222222\n",
       "3722  8345  0.222222\n",
       "3721  8344  0.222222\n",
       "3720  8343  0.222222\n",
       "3719  8342  0.222222\n",
       "3718  8341  0.222222\n",
       "3749  8387  0.222222\n",
       "3748  8386  0.222222\n",
       "3747  8385  0.222222\n",
       "3746  8383  0.222222\n",
       "3745  8382  0.222222\n",
       "3744  8381  0.222222\n",
       "3743  8379  0.222222\n",
       "3742  8377  0.222222\n",
       "3741  8370  0.222222\n",
       "3740  8369  0.222222\n",
       "3739  8368  0.222222\n",
       "3738  8367  0.222222\n",
       "3737  8366  0.222222\n",
       "3736  8365  0.222222\n",
       "3735  8364  0.222222\n",
       "3734  8363  0.222222\n",
       "3770  8508  0.222222\n",
       "3768  8462  0.222222\n",
       "3763  8418  0.222222\n",
       "3762  8416  0.222222\n",
       "3761  8411  0.222222\n",
       "3760  8410  0.222222\n",
       "3759  8404  0.222222\n",
       "3758  8403  0.222222\n",
       "3757  8399  0.222222\n",
       "3756  8398  0.222222\n",
       "3755  8397  0.222222\n",
       "3754  8396  0.222222\n",
       "3753  8395  0.222222\n",
       "3752  8393  0.222222\n",
       "3751  8392  0.222222\n",
       "3750  8388  0.222222\n",
       "3791  8562  0.222222\n",
       "3790  8560  0.222222\n",
       "3789  8559  0.222222\n",
       "3788  8558  0.222222\n",
       "3787  8554  0.222222\n",
       "3786  8551  0.222222\n",
       "3785  8550  0.222222\n",
       "3784  8544  0.222222\n",
       "3783  8542  0.222222\n",
       "3782  8541  0.222222\n",
       "3781  8540  0.222222\n",
       "3780  8537  0.222222\n",
       "3779  8530  0.222222\n",
       "3778  8527  0.222222\n",
       "3776  8522  0.222222\n",
       "3775  8521  0.222222\n",
       "3846  8771  0.222222\n",
       "3844  8766  0.222222\n",
       "3843  8761  0.222222\n",
       "3842  8755  0.222222\n",
       "3839  8746  0.222222\n",
       "3837  8740  0.222222\n",
       "3833  8729  0.222222\n",
       "3832  8725  0.222222\n",
       "3831  8715  0.222222\n",
       "3830  8714  0.222222\n",
       "3829  8713  0.222222\n",
       "3821  8700  0.222222\n",
       "3816  8630  0.222222\n",
       "3812  8617  0.222222\n",
       "3805  8600  0.222222\n",
       "3792  8563  0.222222\n",
       "21    1414  0.222222\n",
       "4404  9962  0.222222\n",
       "4389  9932  0.222222\n",
       "4382  9914  0.222222\n",
       "4375  9902  0.222222\n",
       "4373  9899  0.222222\n",
       "4361  9876  0.222222\n",
       "4360  9873  0.222222\n",
       "4359  9872  0.222222\n",
       "4353  9854  0.222222\n",
       "4349  9849  0.222222\n",
       "4321  9790  0.222222\n",
       "4298  9744  0.222222\n",
       "4294  9739  0.222222\n",
       "4292  9734  0.222222\n",
       "155   1879  0.222222\n",
       "146   1865  0.222222\n",
       "132   1832  0.222222\n",
       "112   1799  0.222222\n",
       "107   1788  0.222222\n",
       "106   1787  0.222222\n",
       "100   1777  0.222222\n",
       "99    1776  0.222222\n",
       "94    1768  0.222222\n",
       "93    1766  0.222222\n",
       "83    1737  0.222222\n",
       "76    1723  0.222222\n",
       "70    1717  0.222222\n",
       "49    148A  0.222222\n",
       "46    145A  0.222222\n",
       "31    1433  0.215278\n",
       "4364  9882  0.215278\n",
       "3262  7596  0.215278\n",
       "2873  6961  0.215278\n",
       "4146  9416  0.215278\n",
       "2556  6464  0.215278\n",
       "2557  6465  0.215278\n",
       "2304  6088  0.215278\n",
       "2022  5357  0.215278\n",
       "2043  5444  0.215278\n",
       "1769  4762  0.215278\n",
       "1772  4765  0.215278\n",
       "1665  4586  0.215278\n",
       "1205  3917  0.215278\n",
       "1075  3687  0.215278\n",
       "1031  3633  0.215278\n",
       "1033  3635  0.215278\n",
       "832   3275  0.215278\n",
       "474   2612  0.215278\n",
       "354   2332  0.215278\n",
       "4251  9663  0.215278\n",
       "6     1375  0.215278"
      ]
     },
     "metadata": {},
     "output_type": "display_data"
    }
   ],
   "source": [
    "# ファイルごとに分析する\n",
    "target_file = files[0]\n",
    "# ヒストグラム表示\n",
    "fig = px.histogram(\n",
    "    missing_score[target_file],  # 最初のファイルのデータを使用\n",
    "    x=\"平均欠損率\",\n",
    "    nbins=50,\n",
    "    title=\"全企業の欠損率分布 \"+filename,\n",
    "    labels={\"平均欠損率\": \"平均欠損率\"}\n",
    ")\n",
    "fig.show()\n",
    "# 該当レンジの企業を抽出\n",
    "peak_rate = 0.22  # ヒストグラムで突出している欠損率\n",
    "tolerance = 0.005\n",
    "peak_group = missing_score[target_file][\n",
    "    (missing_score[target_file][\"平均欠損率\"] > peak_rate - tolerance) &\n",
    "    (missing_score[target_file][\"平均欠損率\"] < peak_rate + tolerance)\n",
    "]\n",
    "pd.set_option('display.max_rows', None)\n",
    "display(peak_group.sort_values(by=\"平均欠損率\", ascending=False))\n"
   ]
  },
  {
   "cell_type": "markdown",
   "metadata": {},
   "source": [
    "# OLD --- IGNORE ---"
   ]
  },
  {
   "cell_type": "code",
   "execution_count": null,
   "metadata": {},
   "outputs": [],
   "source": [
    "# IR bankのデータから必要なデータを吸い上げる\n",
    "import pandas as pd\n",
    "import myLibStandard as myLib\n",
    "myLib.set_DisplayOption()\n",
    "\n",
    "# BSから必要なデータを取得\n",
    "dfBalanceSheet = pd.DataFrame()\n",
    "dl = [\"fy-balance-sheet\", \"fy-cash-flow-statement\", \"fy-profit-and-loss\", \"fy-stock-dividend\"]\n",
    "for folder in range(2010, 2026):\n",
    "    df = pd.read_csv(myLib.pathDataDomesticData + str(folder) + \"/fy-balance-sheet.csv\",\\\n",
    "    header=1, index_col=[\"コード\", \"年度\"], dtype={\"コード\":\"str\"})\n",
    "    dfBalanceSheet = pd.concat([dfBalanceSheet, df], axis=0, join=\"outer\")\n",
    "dfBalanceSheet = dfBalanceSheet.sort_index()\n",
    "dfBalanceSheet = dfBalanceSheet.loc[~dfBalanceSheet.index.duplicated(\"last\")]\n",
    "\n",
    "# PLから必要なデータを取得\n",
    "dfProftLoss = pd.DataFrame()\n",
    "for folder in range(2010, 2026):\n",
    "    df = pd.read_csv(myLib.pathDataDomesticData + str(folder) + \"/\" + \"fy-profit-and-loss.csv\",\\\n",
    "    header=1, index_col=[\"コード\", \"年度\"], dtype={\"コード\":\"str\"})\n",
    "    dfProftLoss = pd.concat([dfProftLoss, df], axis=0, join=\"outer\")\n",
    "dfProftLoss = dfProftLoss.sort_index()\n",
    "dfProftLoss = dfProftLoss.loc[~dfProftLoss.index.duplicated(\"last\")]\n",
    "\n",
    "# SDから必要なデータを取得\n",
    "dfStockDividend = pd.DataFrame()\n",
    "for folder in range(2010, 2026):\n",
    "    df = pd.read_csv(myLib.pathDataDomesticData + str(folder) + \"/\" + \"fy-stock-dividend.csv\",\\\n",
    "    header=1, index_col=[\"コード\", \"年度\"], dtype={\"コード\":\"str\"})\n",
    "    dfStockDividend = pd.concat([dfStockDividend, df], axis=0, join=\"outer\")\n",
    "dfStockDividend = dfStockDividend.loc[~dfStockDividend.index.duplicated(\"last\")]\n",
    "dfStockDividend = dfStockDividend.sort_index(level=[\"コード\"])\n",
    "#display(dfStockDividend)\n",
    "\n",
    "dfAll = pd.concat([dfBalanceSheet, dfProftLoss], axis=1, join=\"outer\")\n",
    "dfAll = pd.concat([dfAll, dfStockDividend], axis=1, join=\"outer\")\n",
    "dfAll = dfAll.sort_index()\n",
    "#display(dfAll.head(1000))\n",
    "dfAll.to_csv(myLib.pathDataSummaryDomesticData + \"IR_Bank_Data.csv\")\n"
   ]
  },
  {
   "cell_type": "code",
   "execution_count": null,
   "metadata": {},
   "outputs": [],
   "source": [
    "# データがないセルを\"-\"からnullに変換する\n",
    "import pandas as pd\n",
    "import math\n",
    "import myLibStandard as myLib\n",
    "myLib.set_DisplayOption()\n",
    "\n",
    "dfAll = pd.read_csv(myLib.pathDataSummaryDomesticData + \"IR_Bank_Data.csv\",index_col=[\"コード\", \"年度\"], dtype=\"str\")\n",
    "dfAll = dfAll.sort_index()\n",
    "for column in dfAll:\n",
    "    dfAll[column] = dfAll[column].replace(\"-\", math.nan)\n",
    "    dfAll[column] = dfAll[column].replace(0, math.nan)\n",
    "\n",
    "dfAll.to_csv(myLib.pathDataSummaryDomesticData + \"IR_Bank_Data.csv\")"
   ]
  },
  {
   "cell_type": "code",
   "execution_count": null,
   "metadata": {},
   "outputs": [],
   "source": [
    "# データが0の場合はNANにする（ゼロ割り算エラーを避けるため）\n",
    "import pandas as pd\n",
    "import math\n",
    "import myLibStandard as myLib\n",
    "myLib.set_DisplayOption()\n",
    "dfAll = pd.read_csv(myLib.pathDataSummaryDomesticData + \"IR_Bank_Data.csv\", dtype={\"コード\":\"str\"})\n",
    "\n",
    "for i in dfAll.index:\n",
    "    if dfAll.loc[i, \"EPS\"] == 0:\n",
    "        dfAll.loc[i, \"EPS\"] = math.nan\n",
    "    if dfAll.loc[i, \"BPS\"] == 0:\n",
    "        dfAll.loc[i, \"BPS\"] = math.nan\n",
    "dfAll = dfAll.set_index([\"コード\", \"年度\"])\n",
    "#display(dfAll.head(1000))\n",
    "dfAll.to_csv(myLib.pathDataSummaryDomesticData + \"IR_Bank_Data.csv\")"
   ]
  },
  {
   "cell_type": "markdown",
   "metadata": {},
   "source": [
    "##### 銘柄名や業種を取得"
   ]
  },
  {
   "cell_type": "code",
   "execution_count": null,
   "metadata": {},
   "outputs": [],
   "source": [
    "# シンボルリスト取得、保存\n",
    "from stocksymbol import StockSymbol\n",
    "api_key = '63ed951b-b643-48b1-bfe7-90c7a4f96349'\n",
    "ss = StockSymbol(api_key)\n",
    "symbol_list_japan = ss.get_symbol_list(market=\"Japan\") # \"us\" or \"america\" will also work\n",
    "df = symbol_list_japan\n",
    "df = pd.DataFrame(df)\n",
    "df.to_csv(myLib.pathDataSummaryDomesticData + \"symbol.csv\")"
   ]
  },
  {
   "cell_type": "code",
   "execution_count": null,
   "metadata": {},
   "outputs": [],
   "source": [
    "# Code一覧から銘柄の情報を取得し、登録する。ないものはデータから削除する\n",
    "import pandas as pd\n",
    "import myLibStandard as myLib\n",
    "import warnings\n",
    "#warnings.simplefilter('ignore')\n",
    "myLib.set_DisplayOption()\n",
    "\n",
    "dfAll = pd.read_csv(myLib.pathDataSummaryDomesticData + \"IR_Bank_Data.csv\",index_col=[\"コード\", \"年度\"], dtype={\"コード\":str})\n",
    "dfCode = pd.read_csv(myLib.pathDataSummaryDomesticData + \"CodeData.csv\",usecols=[\"コード\", \"銘柄名\", \"市場・商品区分\", \"33業種区分\"],\\\n",
    "index_col=[\"コード\"], dtype=str)\n",
    "dfAll[\"銘柄\"] = None\n",
    "dfAll[\"市場\"] = None\n",
    "dfAll[\"業種\"] = None\n",
    "dfAll = dfAll.sort_index()\n",
    "dlCode = dfAll.groupby(level='コード').size().index.tolist()\n",
    "dlDelCode = []\n",
    "for code in dlCode:\n",
    "    try:\n",
    "        dfAll.loc[(code,), \"銘柄\"] = dfCode.loc[code, \"銘柄名\"]\n",
    "        dfAll.loc[(code,), \"市場\"] = dfCode.loc[code, \"市場・商品区分\"]\n",
    "        dfAll.loc[(code,), \"業種\"] = dfCode.loc[code, \"33業種区分\"]\n",
    "    except KeyError:\n",
    "        dlDelCode.append(code)\n",
    "\n",
    "dfAll = dfAll.reset_index(\"年度\")\n",
    "for dl in dlDelCode:\n",
    "    dfAll = dfAll.drop(dl,axis=0)\n",
    "dfAll.to_csv(myLib.pathDataSummaryDomesticData + \"DataPreprocessing.csv\")"
   ]
  },
  {
   "cell_type": "markdown",
   "metadata": {},
   "source": [
    "##### 銘柄のテーマ情報を取得し登録する"
   ]
  },
  {
   "cell_type": "code",
   "execution_count": null,
   "metadata": {},
   "outputs": [],
   "source": [
    "# テーマ情報をCSVからとってきてテーマフラグを立てる\n",
    "import pandas as pd\n",
    "import myLibStandard as myLib\n",
    "import warnings\n",
    "myLib.set_DisplayOption()\n",
    "\n",
    "dfAll = pd.read_csv(myLib.pathDataSummaryDomesticData + \"DataPreprocessing.csv\",index_col=\"コード\", dtype={\"コード\":str})\n",
    "\n",
    "def get_ThemeList(filname):\n",
    "    df = pd.read_csv(myLib.pathDataDomesticData + filname, index_col=\"コード\", dtype={\"コード\":str})\n",
    "    return df\n",
    "\n",
    "dlname = [\"DOE採用銘柄\", \"円高メリット\", \"減配なし\", \"親子上場\", \"累進配当\"]\n",
    "for name in dlname:\n",
    "    dfTheme = get_ThemeList(name + \".csv\")\n",
    "    for code in dfTheme.index:\n",
    "        if code in dfAll.index:\n",
    "            dfAll.loc[code, name] = 1\n",
    "\n",
    "dfAll.to_csv(myLib.pathDataSummaryDomesticData + \"DataPreprocessing.csv\")\n"
   ]
  },
  {
   "cell_type": "markdown",
   "metadata": {},
   "source": [
    "## 分析値の計算、追加"
   ]
  },
  {
   "cell_type": "markdown",
   "metadata": {},
   "source": [
    "##### データの登録（PER, PBR, MIX係数, 簡易理論株価, 安全域, 時価総額, 配当利回り, 資産価値を含めたPERを登録する）"
   ]
  },
  {
   "cell_type": "code",
   "execution_count": null,
   "metadata": {},
   "outputs": [],
   "source": [
    "# PER, PBR, 簡易理論株価, 安全域, 配当利回り, MIX係数, 時価総額, を登録する (※長時間)\n",
    "import pandas as pd\n",
    "import math\n",
    "import datetime\n",
    "import calendar\n",
    "from yahooquery import Ticker\n",
    "import myLibStandard as myLib\n",
    "import warnings\n",
    "warnings.simplefilter('ignore', FutureWarning)\n",
    "myLib.set_DisplayOption()\n",
    "\n",
    "#dfSymbol = pd.read_csv(myLib.pathDataSummaryDomesticData + \"symbol.csv\", dtype={\"symbol\":str})\n",
    "dfAll = pd.read_csv(myLib.pathDataSummaryDomesticData + \"DataPreprocessing.csv\",index_col=[\"コード\", \"年度\"], dtype={\"コード\":\"str\"})\n",
    "#dfAll = pd.read_csv(myLib.pathDataSummaryDomesticData + \"DomesticDataTable.csv\",index_col=[\"コード\", \"年度\"], dtype={\"コード\":str})\n",
    "\n",
    "dfAll[\"PER\"] = math.nan\n",
    "dfAll[\"PBR\"] = math.nan\n",
    "dfAll[\"簡易理論株価\"] = math.nan\n",
    "dfAll[\"安全域\"] = math.nan\n",
    "dfAll[\"配当利回り\"] = math.nan\n",
    "dfAll[\"MIX係数\"] = math.nan\n",
    "dfAll[\"時価総額\"] = math.nan\n",
    "dfAll[\"株価\"] = math.nan\n",
    "dfAll[\"営業利益率\"] = math.nan\n",
    "dfAll[\"経常利益率\"] = math.nan\n",
    "dfAll[\"純利益率\"] = math.nan\n",
    "dfAll[\"配当将来期待\"] = round(dfAll[\"ROE\"] - dfAll[\"純資産配当率\"] ,1)\n",
    "\n",
    "def get_StockValue(symbol):\n",
    "    yqData = Ticker(symbol+\".T\")\n",
    "    stockValue = yqData.history(start=\"2010-03-01\")\n",
    "    stockValue = stockValue.reset_index(level=[\"date\",'symbol'])\n",
    "    stockValue[\"date\"] = stockValue[\"date\"].apply(lambda x: pd.to_datetime(x).tz_localize(None))\n",
    "    stockValue[\"date\"] = pd.to_datetime(stockValue[\"date\"])\n",
    "    stockValue = stockValue.set_index(\"date\")\n",
    "    stockValue = stockValue[\"close\"].resample(\"D\").ffill()\n",
    "    return stockValue\n",
    "    #return pd.Series()\n",
    "\n",
    "dfAll = dfAll.sort_index()\n",
    "dlCode = dfAll.groupby(level='コード').size().index.tolist()\n",
    "i=0\n",
    "for code in dlCode:\n",
    "    if (i>=0) and (i<5000):\n",
    "        print(code)\n",
    "        dsStock = get_StockValue(str(code))\n",
    "        for date in dfAll.loc[(code,)].index:\n",
    "            dtDate = datetime.datetime.strptime(date, '%Y/%m')\n",
    "            dtDate = datetime.date(dtDate.year, dtDate.month, calendar.monthrange(dtDate.year, dtDate.month)[1])\n",
    "            try:\n",
    "                stockValue = dsStock.loc[dtDate.strftime(\"%Y-%m-%d\")]\n",
    "            except KeyError:\n",
    "                stockValue = math.nan\n",
    "            eps = float(dfAll.loc[(code, date), \"EPS\"])\n",
    "            bps = float(dfAll.loc[(code, date), \"BPS\"])\n",
    "            if eps < 0:\n",
    "                dfAll.loc[(code, date), \"PER\"] = math.nan\n",
    "            else:\n",
    "                dfAll.loc[(code, date), \"PER\"] = round(stockValue / eps, 2)\n",
    "            dfAll.loc[(code, date), \"簡易理論株価\"] = round(bps + eps * 10,2)\n",
    "            dfAll.loc[(code, date), \"PBR\"] = round(stockValue / bps, 2)\n",
    "            dfAll.loc[(code, date), \"配当利回り\"] = round(float(dfAll.loc[(code, date), \"一株配当\"] / stockValue *100),2)\n",
    "            dfAll.loc[(code, date), \"安全域\"] = round(dfAll.loc[(code, date), \"簡易理論株価\"] / stockValue, 2)\n",
    "            dfAll.loc[(code, date), \"MIX係数\"] = dfAll.loc[(code, date), \"PER\"] * dfAll.loc[(code, date), \"PBR\"]\n",
    "            dfAll.loc[(code, date), \"時価総額\"] = dfAll.loc[(code, date), \"PER\"] * dfAll.loc[(code, date), \"純利益\"]\n",
    "            dfAll.loc[(code, date), \"株価\"] = stockValue\n",
    "            dfAll.loc[(code, date), \"営業利益率\"] = round(dfAll.loc[(code, date), \"営業利益\"] / dfAll.loc[(code, date), \"売上高\"] * 100 ,2)\n",
    "            dfAll.loc[(code, date), \"経常利益率\"] = round(dfAll.loc[(code, date), \"経常利益\"] / dfAll.loc[(code, date), \"売上高\"] * 100 ,2)\n",
    "            dfAll.loc[(code, date), \"純利益率\"] = round(dfAll.loc[(code, date), \"純利益\"] / dfAll.loc[(code, date), \"売上高\"] * 100 ,2)\n",
    "    i+=1\n",
    "    if i%10==0:\n",
    "        print(code,i)\n",
    "        dfAll.to_csv(myLib.pathDataSummaryDomesticData + \"DomesticDataTable.csv\")\n",
    "dfAll.to_csv(myLib.pathDataSummaryDomesticData + \"DomesticDataTable.csv\")"
   ]
  },
  {
   "cell_type": "code",
   "execution_count": null,
   "metadata": {},
   "outputs": [],
   "source": [
    "# 資産価値を含めたPERを登録する (※長時間)\n",
    "import pandas as pd\n",
    "import math\n",
    "import datetime\n",
    "import calendar\n",
    "from yahooquery import Ticker\n",
    "import yfinance as yf\n",
    "import myLibStandard as myLib\n",
    "import warnings\n",
    "#warnings.simplefilter('ignore', FutureWarning)\n",
    "myLib.set_DisplayOption()\n",
    "\n",
    "#dfSymbol = pd.read_csv(myLib.pathDataSummaryDomesticData + \"symbol.csv\", dtype={\"symbol\":\"str\"})\n",
    "dfAll = pd.read_csv(myLib.pathDataSummaryDomesticData + \"DomesticDataTable.csv\",index_col=[\"コード\", \"年度\"], dtype={\"コード\":\"str\"})\n",
    "dfAll[\"資産価値を含めたPER\"] = math.nan\n",
    "\n",
    "dfAll = dfAll.sort_index()\n",
    "dlCode = dfAll.groupby(level='コード').size().index.tolist()\n",
    "#display(dlCode)\n",
    "i=0\n",
    "for code in dlCode:\n",
    "    if (i>=0) & (i<=5000):\n",
    "        print(code)\n",
    "        try:\n",
    "            balance_sheet = Ticker(code+\".T\").balance_sheet().reset_index().set_index(\"asOfDate\")\n",
    "        except AttributeError:\n",
    "            balance_sheet = Ticker(code+\".T\").balance_sheet()\n",
    "        #display(balance_sheet)\n",
    "        if type(balance_sheet) != str:\n",
    "            for date in balance_sheet.index:\n",
    "                dtDate = datetime.date(date.year,date.month,1)\n",
    "                strDate = datetime.date.strftime(dtDate, \"%Y/%m\")\n",
    "                try:\n",
    "                    CurrentAssets = balance_sheet.loc[date, \"CurrentAssets\"]\n",
    "                except KeyError:\n",
    "                    CurrentAssets = math.nan\n",
    "                try:\n",
    "                    NetDebt = balance_sheet.loc[date, \"NetDebt\"]\n",
    "                except KeyError:\n",
    "                    NetDebt = balance_sheet.loc[date, \"TotalAssets\"] - balance_sheet.loc[date, \"StockholdersEquity\"]\n",
    "                try:\n",
    "                    AvailableForSaleSecurities = balance_sheet.loc[date, \"AvailableForSaleSecurities\"]\n",
    "                except KeyError:\n",
    "                    AvailableForSaleSecurities = math.nan\n",
    "                netCash = CurrentAssets + NetDebt * 0.7 -AvailableForSaleSecurities\n",
    "                #print(netCash)\n",
    "                #print(date)\n",
    "                #display(dfAll.loc[(code, )].index)\n",
    "                try:\n",
    "                    dfAll.loc[(code, strDate), \"資産価値を含めたPER\"] = round(\\\n",
    "                    (dfAll.loc[(code, strDate), \"時価総額\"] - netCash) / dfAll.loc[(code, strDate), \"純利益\"], 2)\n",
    "                except KeyError:\n",
    "                    dfAll.loc[(code, strDate),:] = math.nan\n",
    "                    dfAll.loc[(code, strDate), \"資産価値を含めたPER\"] = round(\\\n",
    "                    (dfAll.loc[(code, strDate), \"時価総額\"] - netCash) / dfAll.loc[(code, strDate), \"純利益\"], 2)\n",
    "                #print(code, strDate, dfAll.loc[(code, strDate), \"資産価値を含めたPER\"])\n",
    "    i+=1\n",
    "    if i%10==0:\n",
    "        print(i)\n",
    "        dfAll.to_csv(myLib.pathDataSummaryDomesticData + \"DomesticDataTable.csv\")\n",
    "        #break\n",
    "dfAll.to_csv(myLib.pathDataSummaryDomesticData + \"DomesticDataTable.csv\")"
   ]
  },
  {
   "cell_type": "markdown",
   "metadata": {},
   "source": [
    "## 最新日付のファイルの準備"
   ]
  },
  {
   "cell_type": "code",
   "execution_count": null,
   "metadata": {},
   "outputs": [],
   "source": [
    "# 最新日付のみのデータフレームを作成する（※中時間）\n",
    "import pandas as pd\n",
    "import myLibStandard as myLib\n",
    "myLib.set_DisplayOption()\n",
    "\n",
    "dfAll = pd.read_csv(myLib.pathDataSummaryDomesticData + \"DomesticDataTable.csv\",parse_dates=[1],index_col=[\"コード\", \"年度\"], dtype={\"コード\":str})\n",
    "dfAll = dfAll.sort_index()\n",
    "dlCode = dfAll.groupby(level='コード').size().index.tolist()\n",
    "dfMaxDate = pd.DataFrame()\n",
    "for code in dlCode:\n",
    "    maxDate = dfAll.loc[(code,)].index.max()\n",
    "    #display(dfAll.loc[(code,maxDate)])\n",
    "    #print(code)\n",
    "    if maxDate.year >= 2024:\n",
    "        ds = dfAll.loc[(code,maxDate)].to_frame().T\n",
    "        dfMaxDate = pd.concat([dfMaxDate,ds],axis=0)\n",
    "dfMaxDate.index.names = [\"コード\", \"年度\"]\n",
    "dfMaxDate.to_csv(myLib.pathDataSummaryDomesticData + \"DomesticDataTableMaxDate.csv\")"
   ]
  },
  {
   "cell_type": "markdown",
   "metadata": {},
   "source": []
  }
 ],
 "metadata": {
  "kernelspec": {
   "display_name": ".venv",
   "language": "python",
   "name": "python3"
  },
  "language_info": {
   "codemirror_mode": {
    "name": "ipython",
    "version": 3
   },
   "file_extension": ".py",
   "mimetype": "text/x-python",
   "name": "python",
   "nbconvert_exporter": "python",
   "pygments_lexer": "ipython3",
   "version": "3.13.7"
  }
 },
 "nbformat": 4,
 "nbformat_minor": 2
}
