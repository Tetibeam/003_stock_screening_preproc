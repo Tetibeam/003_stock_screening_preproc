{
 "cells": [
  {
   "cell_type": "markdown",
   "metadata": {},
   "source": [
    "## 📊 分析の流れ\n",
    "<details>\n",
    "<summary><b>目次</b></summary>\n",
    "\n",
    "1. **データ読み込み**\n",
    "1. **欠損値処理**\n",
    "    - 欠損列処理  \n",
    "    - 欠損値処理  \n",
    "    - 異常値処理  \n",
    "1. **集計**\n",
    "1. **データ出力**\n",
    "</details>"
   ]
  },
  {
   "cell_type": "code",
   "execution_count": null,
   "metadata": {},
   "outputs": [],
   "source": [
    "import yaml\n",
    "import os\n",
    "import pandas as pd\n",
    "import numpy as np\n",
    "import plotly.express as px\n",
    "import plotly.graph_objects as go\n"
   ]
  },
  {
   "cell_type": "markdown",
   "metadata": {},
   "source": [
    "## 📥 データの読み込み"
   ]
  },
  {
   "cell_type": "code",
   "execution_count": null,
   "metadata": {},
   "outputs": [],
   "source": [
    "# 設定読み込み\n",
    "with open(\"setting.yaml\", \"r\", encoding=\"utf-8\") as f:\n",
    "    setting = yaml.safe_load(f)\n",
    "base_path = setting[\"data_path\"]\n",
    "years = setting[\"years\"]\n",
    "files = setting[\"files\"]\n",
    "files_reference = setting[\"files_reference\"]\n",
    "output_path = setting[\"output\"][\"base_path\"]\n",
    "output_files = setting[\"output\"][\"files\"]\n",
    "# 出力ファイルのフォルダ作成\n",
    "os.makedirs(output_path, exist_ok=True)"
   ]
  },
  {
   "cell_type": "markdown",
   "metadata": {},
   "source": [
    "## 🔍 欠損列処理\n",
    "4つファイルの列が各年度で同じかを目視で確認しておきます。\n",
    "問題がある場合は処理します。\n",
    "<details><summary><b>結果</b></summary>\n",
    "すべてのファイルで同じ列が登録されています。問題ありません。\n",
    "\n",
    "- fy-balance-sheet.csv\n",
    "- fy-cash-flow-statement.csv\n",
    "- fy-profit-and-loss.csv\n",
    "- fy-stock-dividend.csv\n",
    "</details>\n"
   ]
  },
  {
   "cell_type": "code",
   "execution_count": null,
   "metadata": {},
   "outputs": [],
   "source": [
    "for filename in files:\n",
    "    merged = []\n",
    "    for year in years:\n",
    "        file_path = os.path.join(base_path, str(year), filename)\n",
    "        if os.path.exists(file_path):\n",
    "            df = pd.read_csv(file_path,header=1)\n",
    "            print(\"年：\",year,\" \",\"ファイル名:\",filename,\" \",\"列\",df.columns.to_list())"
   ]
  },
  {
   "cell_type": "markdown",
   "metadata": {},
   "source": [
    "## 🧹 欠損値処理\n",
    "ここでは、後の分析・スクリーニングの処理を適切に設計するため、欠損値の傾向を確認します。  \n",
    "⚠️ **注意※** csvファイルには欠損値に\"-\"が入っているため、NaNに置き換えて読み込みます。\n",
    "<details><summary><b>分析内容</b></summary>\n",
    "\n",
    "- 列ごとの欠損値の数・割合を確認する\n",
    "- 年ごとの欠損率の傾向を確認\n",
    "- 全企業の欠損率分布を見る\n",
    "<br>\n",
    "</details>\n",
    "<details><summary><b>結果と考察</b></summary>\n",
    "\n",
    "- fy-balance-sheet.csv\n",
    "- fy-cash-flow-statement.csv\n",
    "- fy-profit-and-loss.csv\n",
    "- fy-stock-dividend.csv\n",
    "</details>\n"
   ]
  },
  {
   "cell_type": "markdown",
   "metadata": {},
   "source": [
    "### ４つのファイル結合"
   ]
  },
  {
   "cell_type": "code",
   "execution_count": null,
   "metadata": {},
   "outputs": [],
   "source": [
    "all_df = {}\n",
    "missing_year_df = {}\n",
    "for filename in files:\n",
    "    if filename not in missing_year_df:\n",
    "        all_df[filename] = pd.DataFrame()\n",
    "        missing_year_df[filename] = pd.DataFrame()\n",
    "    for year in years:\n",
    "        file_path = os.path.join(base_path, str(year), filename)\n",
    "        if os.path.exists(file_path):\n",
    "            df = pd.read_csv(file_path,header=1,na_values=\"-\")\n",
    "            all_df[filename] = pd.concat([all_df[filename], df], ignore_index=True) # 全データ結合\n",
    "            missing_rate = df.isnull().mean().to_frame(name=\"missing_rate\")\n",
    "            missing_rate[\"year\"] = year\n",
    "            missing_rate = missing_rate.reset_index().rename(columns={\"index\": \"column_name\"})\n",
    "            missing_year_df[filename] = pd.concat([missing_year_df[filename], missing_rate], ignore_index=True)\n",
    "#display(all_df[files[0]].head(100))"
   ]
  },
  {
   "cell_type": "markdown",
   "metadata": {},
   "source": [
    "### 列ごとの欠損値の割合を確認する"
   ]
  },
  {
   "cell_type": "code",
   "execution_count": null,
   "metadata": {},
   "outputs": [],
   "source": [
    "\n",
    "missing_column_df = {}\n",
    "for filename in files:\n",
    "    if filename not in missing_column_df:\n",
    "        missing_column_df[filename] = pd.DataFrame()\n",
    "    missing_column_df[filename] = all_df[filename].isna().mean()\n",
    "    fig = px.bar(missing_column_df[filename], x=missing_column_df[filename].index,\n",
    "                    y=missing_column_df[filename].values)\n",
    "    fig.show()"
   ]
  },
  {
   "cell_type": "markdown",
   "metadata": {},
   "source": [
    "### 年ごとの欠損率の傾向を確認（折れ線グラフ）"
   ]
  },
  {
   "cell_type": "code",
   "execution_count": null,
   "metadata": {},
   "outputs": [],
   "source": [
    "# 各カラムの欠損率推移を折れ線グラフで表示\n",
    "for filename in files:\n",
    "    fig = px.line(\n",
    "        missing_year_df[filename],  # 最初のファイルのデータを使用\n",
    "        x=\"year\",\n",
    "        y=\"missing_rate\",\n",
    "        color=\"column_name\",   # 列ごとに色分け\n",
    "        markers=True,\n",
    "        title=\"各列の欠損率の推移\"\n",
    "    )\n",
    "    fig.show()"
   ]
  },
  {
   "cell_type": "markdown",
   "metadata": {},
   "source": [
    "### 年ごとの欠損率の傾向を確認（折れ線グラフ）"
   ]
  },
  {
   "cell_type": "code",
   "execution_count": null,
   "metadata": {},
   "outputs": [],
   "source": [
    "# 年ごとの欠損率の傾向を確認（ヒートマップ）\n",
    "\n",
    "for filename in missing_year_df:\n",
    "    pivot_table = missing_year_df[filename].pivot(index=\"column_name\", columns=\"year\", values=\"missing_rate\")\n",
    "    fig = go.Figure(data=go.Heatmap(\n",
    "        z=pivot_table.values,\n",
    "        x=pivot_table.columns,\n",
    "        y=pivot_table.index,\n",
    "        colorscale=\"Viridis\",\n",
    "        colorbar=dict(title=\"Missing Rate\")\n",
    "    ))\n",
    "    fig.update_layout(\n",
    "        title=f\"{filename} の欠損率ヒートマップ\",\n",
    "        xaxis_title=\"Year\",\n",
    "        yaxis_title=\"Column Name\"\n",
    "    )\n",
    "    fig.show()"
   ]
  },
  {
   "cell_type": "markdown",
   "metadata": {},
   "source": [
    "### 全企業の欠損率分布を見る（ヒストグラム）"
   ]
  },
  {
   "cell_type": "code",
   "execution_count": null,
   "metadata": {},
   "outputs": [],
   "source": [
    "# コードごとに平均欠損率を計算する\n",
    "missing_score = {}\n",
    "for filename in files:\n",
    "    # コードごとに欠損率を計算\n",
    "    missing_score[filename] = pd.DataFrame()\n",
    "    missing_score[filename] = (\n",
    "        all_df[filename]\n",
    "        .groupby(\"コード\")\n",
    "        .agg(lambda x: x.isnull().mean())  # 各列ごとの欠損率\n",
    "        .mean(axis=1)                      # 列平均\n",
    "        .reset_index(name=\"平均欠損率\")\n",
    "    )\n",
    "    #pd.set_option('display.max_rows', None)\n",
    "    #display(missing_score[filename].info())"
   ]
  },
  {
   "cell_type": "code",
   "execution_count": 25,
   "metadata": {},
   "outputs": [
    {
     "data": {
      "text/plain": [
       "短期借入金     0.979902\n",
       "長期借入金     0.957614\n",
       "利益剰余金     0.019196\n",
       "BPS       0.018165\n",
       "株主資本      0.017392\n",
       "自己資本比率    0.002448\n",
       "総資産       0.002061\n",
       "純資産       0.000386\n",
       "年度        0.000000\n",
       "dtype: float64"
      ]
     },
     "metadata": {},
     "output_type": "display_data"
    },
    {
     "name": "stdout",
     "output_type": "stream",
     "text": [
      "全体 年次欠損率:\n",
      "           年度     短期借入金     長期借入金\n",
      "0    2010/01  0.461538  0.384615\n",
      "1    2010/02  0.372881  0.361582\n",
      "2    2010/03  0.343200  0.376662\n",
      "3    2010/04  0.611111  0.416667\n",
      "4    2010/05  0.500000  0.388889\n",
      "..       ...       ...       ...\n",
      "178  2024/11  0.400000  0.184615\n",
      "179  2024/12  0.414480  0.343891\n",
      "180  2025/01  0.492308  0.323077\n",
      "181  2025/02  0.411215  0.266355\n",
      "182  2025/03  0.336153  0.306768\n",
      "\n",
      "[183 rows x 3 columns]\n"
     ]
    },
    {
     "data": {
      "application/vnd.plotly.v1+json": {
       "config": {
        "plotlyServerURL": "https://plot.ly"
       },
       "data": [
        {
         "hovertemplate": "variable=短期借入金<br>年度=%{x}<br>value=%{y}<extra></extra>",
         "legendgroup": "短期借入金",
         "line": {
          "color": "#636efa",
          "dash": "solid"
         },
         "marker": {
          "symbol": "circle"
         },
         "mode": "lines+markers",
         "name": "短期借入金",
         "orientation": "v",
         "showlegend": true,
         "type": "scatter",
         "x": [
          "2010/01",
          "2010/02",
          "2010/03",
          "2010/04",
          "2010/05",
          "2010/06",
          "2010/07",
          "2010/08",
          "2010/09",
          "2010/10",
          "2010/11",
          "2010/12",
          "2011/01",
          "2011/02",
          "2011/03",
          "2011/04",
          "2011/05",
          "2011/06",
          "2011/07",
          "2011/08",
          "2011/09",
          "2011/10",
          "2011/11",
          "2011/12",
          "2012/01",
          "2012/02",
          "2012/03",
          "2012/04",
          "2012/05",
          "2012/06",
          "2012/07",
          "2012/08",
          "2012/09",
          "2012/10",
          "2012/11",
          "2012/12",
          "2013/01",
          "2013/02",
          "2013/03",
          "2013/04",
          "2013/05",
          "2013/06",
          "2013/07",
          "2013/08",
          "2013/09",
          "2013/10",
          "2013/11",
          "2013/12",
          "2014/01",
          "2014/02",
          "2014/03",
          "2014/04",
          "2014/05",
          "2014/06",
          "2014/07",
          "2014/08",
          "2014/09",
          "2014/10",
          "2014/11",
          "2014/12",
          "2015/01",
          "2015/02",
          "2015/03",
          "2015/04",
          "2015/05",
          "2015/06",
          "2015/07",
          "2015/08",
          "2015/09",
          "2015/10",
          "2015/11",
          "2015/12",
          "2016/01",
          "2016/02",
          "2016/03",
          "2016/04",
          "2016/05",
          "2016/06",
          "2016/07",
          "2016/08",
          "2016/09",
          "2016/10",
          "2016/11",
          "2016/12",
          "2017/01",
          "2017/02",
          "2017/03",
          "2017/04",
          "2017/05",
          "2017/06",
          "2017/07",
          "2017/08",
          "2017/09",
          "2017/10",
          "2017/11",
          "2017/12",
          "2018/01",
          "2018/02",
          "2018/03",
          "2018/04",
          "2018/05",
          "2018/06",
          "2018/07",
          "2018/08",
          "2018/09",
          "2018/10",
          "2018/11",
          "2018/12",
          "2019/01",
          "2019/02",
          "2019/03",
          "2019/04",
          "2019/05",
          "2019/06",
          "2019/07",
          "2019/08",
          "2019/09",
          "2019/10",
          "2019/11",
          "2019/12",
          "2020/01",
          "2020/02",
          "2020/03",
          "2020/04",
          "2020/05",
          "2020/06",
          "2020/07",
          "2020/08",
          "2020/09",
          "2020/10",
          "2020/11",
          "2020/12",
          "2021/01",
          "2021/02",
          "2021/03",
          "2021/04",
          "2021/05",
          "2021/06",
          "2021/07",
          "2021/08",
          "2021/09",
          "2021/10",
          "2021/11",
          "2021/12",
          "2022/01",
          "2022/02",
          "2022/03",
          "2022/04",
          "2022/05",
          "2022/06",
          "2022/07",
          "2022/08",
          "2022/09",
          "2022/10",
          "2022/11",
          "2022/12",
          "2023/01",
          "2023/02",
          "2023/03",
          "2023/04",
          "2023/05",
          "2023/06",
          "2023/07",
          "2023/08",
          "2023/09",
          "2023/10",
          "2023/11",
          "2023/12",
          "2024/01",
          "2024/02",
          "2024/03",
          "2024/04",
          "2024/05",
          "2024/06",
          "2024/07",
          "2024/08",
          "2024/09",
          "2024/10",
          "2024/11",
          "2024/12",
          "2025/01",
          "2025/02",
          "2025/03"
         ],
         "xaxis": "x",
         "y": {
          "bdata": "ntiJndiJ3T+yFUHDSd3XP3BfgZL+9tU/5DiO4ziO4z8AAAAAAADgP6c72G+1MeQ/lVJKKaWU4j+xEzuxEzvhP1TObuFXY+I/GqRBGqRB2j+3bdu2bdvWP1HdDtXtUN0/btu2bdu23T+f4pIhWEfbP7wE/E4mVNY/bCivobyG4j9T5LNuMEXeP+E+gvsI7uM/Fl/xFV/x5T/44IMPPvjgP47jOI7jOOI/mpmZmZmZ2T/ylCBPCfLUPyyPCE21X90/SpCnBHlK4D9hpB0rEEbaP7J3P2PvftY/sRM7sRM74T/u3Llz587dP4ug4aTuy+M/dVAHdVAH5T8TP6PEzyjhP8prKK+hvOI/27Zt27Zt2z9MZzGdxXTWPxspTacIfNw/+xxSE4y34j8pUOtXCtTaP2182B1ZrNY/0iAN0iAN4j+myGfdYIrcP1NKKaWUUuI/NUiDNEiD5D/5GSV+RonfPysGSnijqeM/AAAAAAAA4D9DeQ3lNZTXP37f933f990/Ccs9jbDc4z/p1DzIXT/bP9xm2Qrk0dY/AAAAAAAA4D8zMzMzMzPfP9EHVMfe2uA/ZCELWchC5j/sUbgehevhP0YXXXTRReM/27Zt27Zt2z8cx3Ecx3HcP19fX19fX98/vLu7u7u74z8or6G8hvLaP5vExjM/Ntc/8xrKayiv4T9mZmZmZmbeP8hahg7Y7eE/4eUUvJyC5z+DNEiDNEjjP8ECCyywwOI/ln0OqQnG2z/XdV3XdV3XPwFrvlk0CeA/gnW0eZ/i4j/btm3btm3bP/QIAq/KFtg/kiRJkiRJ4j8AAAAAAADgP1uE/DU7auE/h7VvWPuG5T+SJEmSJEniP7q9lhziKuM/mpmZmZmZ2T9LS0tLS0vbPzlBuBv7HuE/ciM3ciM34j8pXI/C9SjcP37YhdyHXdg/ERERERER4T9ddNFFF13gPzIyMjIyMuI/7+7u7u7u5j8zMzMzMzPjP+1zSE0w3uI/AAAAAAAA4D/kOI7jOI7bP0/YE/aEPeE/dNFFF1104T81sHdMDezdP9F1WSAvitY/R31no76z4T8ssMACCyzgP2NL8G3+CuM/AAAAAAAA5z8FMbmCmFzhP9FeQnsJ7eE/HLmRG7mR2z/QusEU+azbP4dbzUoJNOA/khu5kRu54T+Ji9kqcTHbP5C+HX4M49U/AAAAAAAA4D/wxdUPOirgP0fcEXfEHeE/tbS0tLS05D8AAAAAAADhP4IDBw4cOOA/24G5dmCu3T8AAAAAAADYPwWzpBwQGd4/KfEzSvyM4j+amZmZmZnZP7a8Zf8tntU/cT0K16Nw3T+rqqqqqqrcPwbEptKQc98/ciM3ciM34j+sD431obHeP4X2EtpLaN8/WmFzINEK2z8zMzMzMzPTPynZtYmSXds/C1nIQhay4D+WexphuafZPyK/Ee+0D9U/VVVVVVVV4T93hsS8nSHhP47jOI7jON4/AAAAAAAA5T+eRKZhu1neP4dQSTeK2d8/PDw8PDw83D9YfMVXfMXXPwSl2XTj39s/OL3pTW964z+VD+N+XVLZP8BVsWoAXNU/FrKQhSxk4T8NiXk7Q2LeP4KJ/k5Wy9s/9DzP8zzP4z8gdFTgi6vfP31j2gSUot4/zLUDc+3A3D+mpaWlpaXVP2IJR/X3eds/q6qqqqqq4j++noo0fVDYP7sdqtuhutU/fWejvrNR3z9ZGb4RBSbdP5gSwSP99dw/syzLsizL4j8NiXk7Q2LeP9FeQnsJ7d0/586dO3fu3D87qIM6qIPaP6BVW1Dvqds/xpJfLPnF4j+XX8HQ8ivYP+DEYKCyCdU/n/RJn/RJ3z8eHh4eHh7eP1Mmwa7Cl9s/lnsaYbmn4T/V77klTv3ePwiuop0pvd4/Wt1pdafV3T+amZmZmZnZP5vVhprVhto/IPiBH/iB3z8HN/uFWFHaP2WCbIyIg9U/",
          "dtype": "f8"
         },
         "yaxis": "y"
        },
        {
         "hovertemplate": "variable=長期借入金<br>年度=%{x}<br>value=%{y}<extra></extra>",
         "legendgroup": "長期借入金",
         "line": {
          "color": "#EF553B",
          "dash": "solid"
         },
         "marker": {
          "symbol": "circle"
         },
         "mode": "lines+markers",
         "name": "長期借入金",
         "orientation": "v",
         "showlegend": true,
         "type": "scatter",
         "x": [
          "2010/01",
          "2010/02",
          "2010/03",
          "2010/04",
          "2010/05",
          "2010/06",
          "2010/07",
          "2010/08",
          "2010/09",
          "2010/10",
          "2010/11",
          "2010/12",
          "2011/01",
          "2011/02",
          "2011/03",
          "2011/04",
          "2011/05",
          "2011/06",
          "2011/07",
          "2011/08",
          "2011/09",
          "2011/10",
          "2011/11",
          "2011/12",
          "2012/01",
          "2012/02",
          "2012/03",
          "2012/04",
          "2012/05",
          "2012/06",
          "2012/07",
          "2012/08",
          "2012/09",
          "2012/10",
          "2012/11",
          "2012/12",
          "2013/01",
          "2013/02",
          "2013/03",
          "2013/04",
          "2013/05",
          "2013/06",
          "2013/07",
          "2013/08",
          "2013/09",
          "2013/10",
          "2013/11",
          "2013/12",
          "2014/01",
          "2014/02",
          "2014/03",
          "2014/04",
          "2014/05",
          "2014/06",
          "2014/07",
          "2014/08",
          "2014/09",
          "2014/10",
          "2014/11",
          "2014/12",
          "2015/01",
          "2015/02",
          "2015/03",
          "2015/04",
          "2015/05",
          "2015/06",
          "2015/07",
          "2015/08",
          "2015/09",
          "2015/10",
          "2015/11",
          "2015/12",
          "2016/01",
          "2016/02",
          "2016/03",
          "2016/04",
          "2016/05",
          "2016/06",
          "2016/07",
          "2016/08",
          "2016/09",
          "2016/10",
          "2016/11",
          "2016/12",
          "2017/01",
          "2017/02",
          "2017/03",
          "2017/04",
          "2017/05",
          "2017/06",
          "2017/07",
          "2017/08",
          "2017/09",
          "2017/10",
          "2017/11",
          "2017/12",
          "2018/01",
          "2018/02",
          "2018/03",
          "2018/04",
          "2018/05",
          "2018/06",
          "2018/07",
          "2018/08",
          "2018/09",
          "2018/10",
          "2018/11",
          "2018/12",
          "2019/01",
          "2019/02",
          "2019/03",
          "2019/04",
          "2019/05",
          "2019/06",
          "2019/07",
          "2019/08",
          "2019/09",
          "2019/10",
          "2019/11",
          "2019/12",
          "2020/01",
          "2020/02",
          "2020/03",
          "2020/04",
          "2020/05",
          "2020/06",
          "2020/07",
          "2020/08",
          "2020/09",
          "2020/10",
          "2020/11",
          "2020/12",
          "2021/01",
          "2021/02",
          "2021/03",
          "2021/04",
          "2021/05",
          "2021/06",
          "2021/07",
          "2021/08",
          "2021/09",
          "2021/10",
          "2021/11",
          "2021/12",
          "2022/01",
          "2022/02",
          "2022/03",
          "2022/04",
          "2022/05",
          "2022/06",
          "2022/07",
          "2022/08",
          "2022/09",
          "2022/10",
          "2022/11",
          "2022/12",
          "2023/01",
          "2023/02",
          "2023/03",
          "2023/04",
          "2023/05",
          "2023/06",
          "2023/07",
          "2023/08",
          "2023/09",
          "2023/10",
          "2023/11",
          "2023/12",
          "2024/01",
          "2024/02",
          "2024/03",
          "2024/04",
          "2024/05",
          "2024/06",
          "2024/07",
          "2024/08",
          "2024/09",
          "2024/10",
          "2024/11",
          "2024/12",
          "2025/01",
          "2025/02",
          "2025/03"
         ],
         "xaxis": "x",
         "y": {
          "bdata": "2Ymd2Imd2D+83kZ/KCTXP7SBWYM8G9g/q6qqqqqq2j85juM4juPYP1LJeVnEJ+A/rbXWWmut5T9f6IVe6IXeP7uFX42J9OA/2Ymd2Imd2D+SJEmSJEnaP4QQQgghhOA/AAAAAAAA2D8RrKPN+xTXPyIvnoY3dNg/DeU1lNdQ3j92gynyWTfYP3UW01lMZ+E/Fl/xFV/x5T8ffPDBBx/cPwAAAAAAAOA/zczMzMzM3D9wWPuGtW/YP5x4PSlzDOA/mpmZmZmZ2T9uiVO/55bYPzZpMWzSYtg/GqRBGqRB2j/Lli1btmzZP6n78tiKoOE/1EEd1EEd5D+CuXZgrh3YP8prKK+hvN4/AAAAAAAA4D9VVVVVVVXVP4Rjkofs6N8/463sc0hN4D85juM4juPYP6+/OBlEHtg/XL7lW77l2z+fdYMp8lnXP/jee++9994/0iAN0iAN4j9kIQtZyELWPwAAAAAAAOA/pze96U1v2j9DeQ3lNZTXP7/v+77v+94/uacRlnsa4T/aYmX4RhTYP2zoMqQnhtc/Q3kN5TWU1z/NzMzMzMzYPzdMcxf8Vdw/Tm9605ve5D+amZmZmZnZP+miiy666OA/4eUUvJyC1z+WZVmWZVnWP6alpaWlpd0/7+7u7u7u3j9ItawDbffWP7s1uolqs9c/UV5DeQ3l1T/NzMzMzMzYP3TAbo+1DN0/5hS8nIKX4z8apEEapEHaP6iffvrpp98/ZZ9DaoLx1j8URVEURVHUP/PNokmANd8/ikuGYB1t3j+owlPhqfDUP1ug3snQI9g/VVVVVVVV1T9T1pQ1ZU3ZP8BmRy1C/to/dNFFF1104T+rqqqqqqraPy8sRkJp490/yFOCPCXI0z+mpaWlpaXVP0pI/YKJtd4/IPiBH/iB3z97FK5H4XrUP37YhdyHXdg/mpmZmZmZ2T8XXXTRRRfVP5ybm5ubm9s/AAAAAAAA4D+8u7u7u7vbP1zZ55CaYNw/VVVVVVVV1T8AAAAAAADYP6Ev6Av6gt4/AAAAAAAA4D8KcVZ+QpzVP21vafiSkNY/Z6O+s1Hf2T9VVVVVVVXVP+W648WW4Ns/AAAAAAAA3j/qOxv1nY3aP+0ltJfQXto/2Ymd2Imd2D/JZ91ginzWP34n3Ty7S9s/0Qu90Au94D/b0ZlUOzrTP5C+HX4M49U/q6qqqqqq2j9U4IurH3TUP+KOuCPuiNs/AAAAAAAA4D9VVVVVVVXXP8uWLVu2bNk/grl2YK4d2D9yHMdxHMfRP01b4+/mEdo/6k1vetOb3j8auEVAD1bTP9IEkA5TkdU/exSuR+F61D+rqqqqqqrWP44RTPR3sto/GHqhF3qh1z+8nIKXU/DSP47jOI7jONY/v13qyfjt0j8WX/EVX/HFP4qSXZso2dU/kYUsZCEL2T+5pxGWexrRP3OmsLJMONQ/AAAAAAAA1D9VVVVVVVXVP3Icx3Ecx9E/AAAAAAAA1T/QUYEvrn7QP5d6Mn671NM/8fDw8PDw0D9YfMVXfMXHP+rGv7eOoNQ/kYUsZCEL2T8HzxEo2mrQP79BcWnsG9Q/C1nIQhay0D9lk0022WTTPwbEptKQc88/EARBEARB0D8dFfji6gfNP/Ceb0ybgNI/24G5dmCuzT88PDw8PDzMPxe8dwQujdQ/x3Ecx3Ec1z90uD877+LRP3D0BEdPcNQ/TK4gJlcQ0z/sZ4uV4RvRP/ZcxbLxzdA/HMdxHMdxzD900UUXXXTRP3Icx3Ecx9E//Pjx48ePzz/btm3btm3LP+6XKukrhNU/exSuR+F61D/9CoaWX8HQP4P23C8T+NM/n/RJn/RJzz/FUH85IsXQP/S3OK3ZPtE/1AjLPY2wzD9G2rECYaTNP3waYbmnEdY/+DPhz4Q/0z8YeqEXeqHHPxZRAhZRAtY/1Uqt1Eqt1D/qWg5u9gvRP1ifN4QUotM/",
          "dtype": "f8"
         },
         "yaxis": "y"
        }
       ],
       "layout": {
        "legend": {
         "title": {
          "text": "variable"
         },
         "tracegroupgap": 0
        },
        "template": {
         "data": {
          "bar": [
           {
            "error_x": {
             "color": "#2a3f5f"
            },
            "error_y": {
             "color": "#2a3f5f"
            },
            "marker": {
             "line": {
              "color": "#E5ECF6",
              "width": 0.5
             },
             "pattern": {
              "fillmode": "overlay",
              "size": 10,
              "solidity": 0.2
             }
            },
            "type": "bar"
           }
          ],
          "barpolar": [
           {
            "marker": {
             "line": {
              "color": "#E5ECF6",
              "width": 0.5
             },
             "pattern": {
              "fillmode": "overlay",
              "size": 10,
              "solidity": 0.2
             }
            },
            "type": "barpolar"
           }
          ],
          "carpet": [
           {
            "aaxis": {
             "endlinecolor": "#2a3f5f",
             "gridcolor": "white",
             "linecolor": "white",
             "minorgridcolor": "white",
             "startlinecolor": "#2a3f5f"
            },
            "baxis": {
             "endlinecolor": "#2a3f5f",
             "gridcolor": "white",
             "linecolor": "white",
             "minorgridcolor": "white",
             "startlinecolor": "#2a3f5f"
            },
            "type": "carpet"
           }
          ],
          "choropleth": [
           {
            "colorbar": {
             "outlinewidth": 0,
             "ticks": ""
            },
            "type": "choropleth"
           }
          ],
          "contour": [
           {
            "colorbar": {
             "outlinewidth": 0,
             "ticks": ""
            },
            "colorscale": [
             [
              0,
              "#0d0887"
             ],
             [
              0.1111111111111111,
              "#46039f"
             ],
             [
              0.2222222222222222,
              "#7201a8"
             ],
             [
              0.3333333333333333,
              "#9c179e"
             ],
             [
              0.4444444444444444,
              "#bd3786"
             ],
             [
              0.5555555555555556,
              "#d8576b"
             ],
             [
              0.6666666666666666,
              "#ed7953"
             ],
             [
              0.7777777777777778,
              "#fb9f3a"
             ],
             [
              0.8888888888888888,
              "#fdca26"
             ],
             [
              1,
              "#f0f921"
             ]
            ],
            "type": "contour"
           }
          ],
          "contourcarpet": [
           {
            "colorbar": {
             "outlinewidth": 0,
             "ticks": ""
            },
            "type": "contourcarpet"
           }
          ],
          "heatmap": [
           {
            "colorbar": {
             "outlinewidth": 0,
             "ticks": ""
            },
            "colorscale": [
             [
              0,
              "#0d0887"
             ],
             [
              0.1111111111111111,
              "#46039f"
             ],
             [
              0.2222222222222222,
              "#7201a8"
             ],
             [
              0.3333333333333333,
              "#9c179e"
             ],
             [
              0.4444444444444444,
              "#bd3786"
             ],
             [
              0.5555555555555556,
              "#d8576b"
             ],
             [
              0.6666666666666666,
              "#ed7953"
             ],
             [
              0.7777777777777778,
              "#fb9f3a"
             ],
             [
              0.8888888888888888,
              "#fdca26"
             ],
             [
              1,
              "#f0f921"
             ]
            ],
            "type": "heatmap"
           }
          ],
          "histogram": [
           {
            "marker": {
             "pattern": {
              "fillmode": "overlay",
              "size": 10,
              "solidity": 0.2
             }
            },
            "type": "histogram"
           }
          ],
          "histogram2d": [
           {
            "colorbar": {
             "outlinewidth": 0,
             "ticks": ""
            },
            "colorscale": [
             [
              0,
              "#0d0887"
             ],
             [
              0.1111111111111111,
              "#46039f"
             ],
             [
              0.2222222222222222,
              "#7201a8"
             ],
             [
              0.3333333333333333,
              "#9c179e"
             ],
             [
              0.4444444444444444,
              "#bd3786"
             ],
             [
              0.5555555555555556,
              "#d8576b"
             ],
             [
              0.6666666666666666,
              "#ed7953"
             ],
             [
              0.7777777777777778,
              "#fb9f3a"
             ],
             [
              0.8888888888888888,
              "#fdca26"
             ],
             [
              1,
              "#f0f921"
             ]
            ],
            "type": "histogram2d"
           }
          ],
          "histogram2dcontour": [
           {
            "colorbar": {
             "outlinewidth": 0,
             "ticks": ""
            },
            "colorscale": [
             [
              0,
              "#0d0887"
             ],
             [
              0.1111111111111111,
              "#46039f"
             ],
             [
              0.2222222222222222,
              "#7201a8"
             ],
             [
              0.3333333333333333,
              "#9c179e"
             ],
             [
              0.4444444444444444,
              "#bd3786"
             ],
             [
              0.5555555555555556,
              "#d8576b"
             ],
             [
              0.6666666666666666,
              "#ed7953"
             ],
             [
              0.7777777777777778,
              "#fb9f3a"
             ],
             [
              0.8888888888888888,
              "#fdca26"
             ],
             [
              1,
              "#f0f921"
             ]
            ],
            "type": "histogram2dcontour"
           }
          ],
          "mesh3d": [
           {
            "colorbar": {
             "outlinewidth": 0,
             "ticks": ""
            },
            "type": "mesh3d"
           }
          ],
          "parcoords": [
           {
            "line": {
             "colorbar": {
              "outlinewidth": 0,
              "ticks": ""
             }
            },
            "type": "parcoords"
           }
          ],
          "pie": [
           {
            "automargin": true,
            "type": "pie"
           }
          ],
          "scatter": [
           {
            "fillpattern": {
             "fillmode": "overlay",
             "size": 10,
             "solidity": 0.2
            },
            "type": "scatter"
           }
          ],
          "scatter3d": [
           {
            "line": {
             "colorbar": {
              "outlinewidth": 0,
              "ticks": ""
             }
            },
            "marker": {
             "colorbar": {
              "outlinewidth": 0,
              "ticks": ""
             }
            },
            "type": "scatter3d"
           }
          ],
          "scattercarpet": [
           {
            "marker": {
             "colorbar": {
              "outlinewidth": 0,
              "ticks": ""
             }
            },
            "type": "scattercarpet"
           }
          ],
          "scattergeo": [
           {
            "marker": {
             "colorbar": {
              "outlinewidth": 0,
              "ticks": ""
             }
            },
            "type": "scattergeo"
           }
          ],
          "scattergl": [
           {
            "marker": {
             "colorbar": {
              "outlinewidth": 0,
              "ticks": ""
             }
            },
            "type": "scattergl"
           }
          ],
          "scattermap": [
           {
            "marker": {
             "colorbar": {
              "outlinewidth": 0,
              "ticks": ""
             }
            },
            "type": "scattermap"
           }
          ],
          "scattermapbox": [
           {
            "marker": {
             "colorbar": {
              "outlinewidth": 0,
              "ticks": ""
             }
            },
            "type": "scattermapbox"
           }
          ],
          "scatterpolar": [
           {
            "marker": {
             "colorbar": {
              "outlinewidth": 0,
              "ticks": ""
             }
            },
            "type": "scatterpolar"
           }
          ],
          "scatterpolargl": [
           {
            "marker": {
             "colorbar": {
              "outlinewidth": 0,
              "ticks": ""
             }
            },
            "type": "scatterpolargl"
           }
          ],
          "scatterternary": [
           {
            "marker": {
             "colorbar": {
              "outlinewidth": 0,
              "ticks": ""
             }
            },
            "type": "scatterternary"
           }
          ],
          "surface": [
           {
            "colorbar": {
             "outlinewidth": 0,
             "ticks": ""
            },
            "colorscale": [
             [
              0,
              "#0d0887"
             ],
             [
              0.1111111111111111,
              "#46039f"
             ],
             [
              0.2222222222222222,
              "#7201a8"
             ],
             [
              0.3333333333333333,
              "#9c179e"
             ],
             [
              0.4444444444444444,
              "#bd3786"
             ],
             [
              0.5555555555555556,
              "#d8576b"
             ],
             [
              0.6666666666666666,
              "#ed7953"
             ],
             [
              0.7777777777777778,
              "#fb9f3a"
             ],
             [
              0.8888888888888888,
              "#fdca26"
             ],
             [
              1,
              "#f0f921"
             ]
            ],
            "type": "surface"
           }
          ],
          "table": [
           {
            "cells": {
             "fill": {
              "color": "#EBF0F8"
             },
             "line": {
              "color": "white"
             }
            },
            "header": {
             "fill": {
              "color": "#C8D4E3"
             },
             "line": {
              "color": "white"
             }
            },
            "type": "table"
           }
          ]
         },
         "layout": {
          "annotationdefaults": {
           "arrowcolor": "#2a3f5f",
           "arrowhead": 0,
           "arrowwidth": 1
          },
          "autotypenumbers": "strict",
          "coloraxis": {
           "colorbar": {
            "outlinewidth": 0,
            "ticks": ""
           }
          },
          "colorscale": {
           "diverging": [
            [
             0,
             "#8e0152"
            ],
            [
             0.1,
             "#c51b7d"
            ],
            [
             0.2,
             "#de77ae"
            ],
            [
             0.3,
             "#f1b6da"
            ],
            [
             0.4,
             "#fde0ef"
            ],
            [
             0.5,
             "#f7f7f7"
            ],
            [
             0.6,
             "#e6f5d0"
            ],
            [
             0.7,
             "#b8e186"
            ],
            [
             0.8,
             "#7fbc41"
            ],
            [
             0.9,
             "#4d9221"
            ],
            [
             1,
             "#276419"
            ]
           ],
           "sequential": [
            [
             0,
             "#0d0887"
            ],
            [
             0.1111111111111111,
             "#46039f"
            ],
            [
             0.2222222222222222,
             "#7201a8"
            ],
            [
             0.3333333333333333,
             "#9c179e"
            ],
            [
             0.4444444444444444,
             "#bd3786"
            ],
            [
             0.5555555555555556,
             "#d8576b"
            ],
            [
             0.6666666666666666,
             "#ed7953"
            ],
            [
             0.7777777777777778,
             "#fb9f3a"
            ],
            [
             0.8888888888888888,
             "#fdca26"
            ],
            [
             1,
             "#f0f921"
            ]
           ],
           "sequentialminus": [
            [
             0,
             "#0d0887"
            ],
            [
             0.1111111111111111,
             "#46039f"
            ],
            [
             0.2222222222222222,
             "#7201a8"
            ],
            [
             0.3333333333333333,
             "#9c179e"
            ],
            [
             0.4444444444444444,
             "#bd3786"
            ],
            [
             0.5555555555555556,
             "#d8576b"
            ],
            [
             0.6666666666666666,
             "#ed7953"
            ],
            [
             0.7777777777777778,
             "#fb9f3a"
            ],
            [
             0.8888888888888888,
             "#fdca26"
            ],
            [
             1,
             "#f0f921"
            ]
           ]
          },
          "colorway": [
           "#636efa",
           "#EF553B",
           "#00cc96",
           "#ab63fa",
           "#FFA15A",
           "#19d3f3",
           "#FF6692",
           "#B6E880",
           "#FF97FF",
           "#FECB52"
          ],
          "font": {
           "color": "#2a3f5f"
          },
          "geo": {
           "bgcolor": "white",
           "lakecolor": "white",
           "landcolor": "#E5ECF6",
           "showlakes": true,
           "showland": true,
           "subunitcolor": "white"
          },
          "hoverlabel": {
           "align": "left"
          },
          "hovermode": "closest",
          "mapbox": {
           "style": "light"
          },
          "paper_bgcolor": "white",
          "plot_bgcolor": "#E5ECF6",
          "polar": {
           "angularaxis": {
            "gridcolor": "white",
            "linecolor": "white",
            "ticks": ""
           },
           "bgcolor": "#E5ECF6",
           "radialaxis": {
            "gridcolor": "white",
            "linecolor": "white",
            "ticks": ""
           }
          },
          "scene": {
           "xaxis": {
            "backgroundcolor": "#E5ECF6",
            "gridcolor": "white",
            "gridwidth": 2,
            "linecolor": "white",
            "showbackground": true,
            "ticks": "",
            "zerolinecolor": "white"
           },
           "yaxis": {
            "backgroundcolor": "#E5ECF6",
            "gridcolor": "white",
            "gridwidth": 2,
            "linecolor": "white",
            "showbackground": true,
            "ticks": "",
            "zerolinecolor": "white"
           },
           "zaxis": {
            "backgroundcolor": "#E5ECF6",
            "gridcolor": "white",
            "gridwidth": 2,
            "linecolor": "white",
            "showbackground": true,
            "ticks": "",
            "zerolinecolor": "white"
           }
          },
          "shapedefaults": {
           "line": {
            "color": "#2a3f5f"
           }
          },
          "ternary": {
           "aaxis": {
            "gridcolor": "white",
            "linecolor": "white",
            "ticks": ""
           },
           "baxis": {
            "gridcolor": "white",
            "linecolor": "white",
            "ticks": ""
           },
           "bgcolor": "#E5ECF6",
           "caxis": {
            "gridcolor": "white",
            "linecolor": "white",
            "ticks": ""
           }
          },
          "title": {
           "x": 0.05
          },
          "xaxis": {
           "automargin": true,
           "gridcolor": "white",
           "linecolor": "white",
           "ticks": "",
           "title": {
            "standoff": 15
           },
           "zerolinecolor": "white",
           "zerolinewidth": 2
          },
          "yaxis": {
           "automargin": true,
           "gridcolor": "white",
           "linecolor": "white",
           "ticks": "",
           "title": {
            "standoff": 15
           },
           "zerolinecolor": "white",
           "zerolinewidth": 2
          }
         }
        },
        "title": {
         "text": "各列の欠損率の推移"
        },
        "xaxis": {
         "anchor": "y",
         "domain": [
          0,
          1
         ],
         "title": {
          "text": "年度"
         }
        },
        "yaxis": {
         "anchor": "x",
         "domain": [
          0,
          1
         ],
         "title": {
          "text": "value"
         }
        }
       }
      }
     },
     "metadata": {},
     "output_type": "display_data"
    }
   ],
   "source": [
    "# 分析\n",
    "target_file = files[0]\n",
    "\n",
    "# ヒストグラム表示\n",
    "fig = px.histogram(\n",
    "    missing_score[target_file],  # 最初のファイルのデータを使用\n",
    "    x=\"平均欠損率\",\n",
    "    nbins=50,\n",
    "    title=\"全企業の欠損率分布\"+files[0],\n",
    "    labels={\"平均欠損率\": \"平均欠損率\"}\n",
    ")\n",
    "#fig.show()\n",
    "# 特定範囲の欠損率を持つコードを抽出\n",
    "threshold_low = 0.215\n",
    "threshold_high= 0.225\n",
    "filtered_codes = missing_score[target_file][\n",
    "    (missing_score[target_file][\"平均欠損率\"] >= threshold_low) &\n",
    "    (missing_score[target_file][\"平均欠損率\"] < threshold_high)\n",
    "]\n",
    "#display(filtered_codes)\n",
    "# 列別欠損率\n",
    "df_all = all_df[target_file] \n",
    "df_by_code = df_all.set_index(\"コード\") # 企業コードを index にする\n",
    "#print(df_by_code)\n",
    "codes = filtered_codes[\"コード\"].tolist() # 企業コードをリスト化\n",
    "subset = df_by_code.loc[df_by_code.index.isin(codes)] # 企業コードのデータ抽出\n",
    "# print(subset)\n",
    "col_missing = subset.isnull().mean().sort_values(ascending=False) # 列別欠損率\n",
    "display(col_missing)\n",
    "\n",
    "#年次別の欠損率推移確認\n",
    "df = all_df[target_file] \n",
    "year_all = df.groupby('年度')[['短期借入金','長期借入金']].apply(lambda d: d.isnull().mean())\n",
    "year_all = year_all.reset_index()\n",
    "print(\"全体 年次欠損率:\\n\", year_all)\n",
    "# 欠損率の推移を可視化\n",
    "fig = px.line(\n",
    "    year_all,\n",
    "    x=\"年度\",\n",
    "    y=[\"短期借入金\", \"長期借入金\"],  # 複数列を同時に表示\n",
    "    markers=True,\n",
    "    title=\"各列の欠損率の推移\"\n",
    ")\n",
    "fig.show()"
   ]
  },
  {
   "cell_type": "markdown",
   "metadata": {},
   "source": [
    "# OLD --- IGNORE ---"
   ]
  },
  {
   "cell_type": "code",
   "execution_count": null,
   "metadata": {},
   "outputs": [],
   "source": [
    "# IR bankのデータから必要なデータを吸い上げる\n",
    "import pandas as pd\n",
    "import myLibStandard as myLib\n",
    "myLib.set_DisplayOption()\n",
    "\n",
    "# BSから必要なデータを取得\n",
    "dfBalanceSheet = pd.DataFrame()\n",
    "dl = [\"fy-balance-sheet\", \"fy-cash-flow-statement\", \"fy-profit-and-loss\", \"fy-stock-dividend\"]\n",
    "for folder in range(2010, 2026):\n",
    "    df = pd.read_csv(myLib.pathDataDomesticData + str(folder) + \"/fy-balance-sheet.csv\",\\\n",
    "    header=1, index_col=[\"コード\", \"年度\"], dtype={\"コード\":\"str\"})\n",
    "    dfBalanceSheet = pd.concat([dfBalanceSheet, df], axis=0, join=\"outer\")\n",
    "dfBalanceSheet = dfBalanceSheet.sort_index()\n",
    "dfBalanceSheet = dfBalanceSheet.loc[~dfBalanceSheet.index.duplicated(\"last\")]\n",
    "\n",
    "# PLから必要なデータを取得\n",
    "dfProftLoss = pd.DataFrame()\n",
    "for folder in range(2010, 2026):\n",
    "    df = pd.read_csv(myLib.pathDataDomesticData + str(folder) + \"/\" + \"fy-profit-and-loss.csv\",\\\n",
    "    header=1, index_col=[\"コード\", \"年度\"], dtype={\"コード\":\"str\"})\n",
    "    dfProftLoss = pd.concat([dfProftLoss, df], axis=0, join=\"outer\")\n",
    "dfProftLoss = dfProftLoss.sort_index()\n",
    "dfProftLoss = dfProftLoss.loc[~dfProftLoss.index.duplicated(\"last\")]\n",
    "\n",
    "# SDから必要なデータを取得\n",
    "dfStockDividend = pd.DataFrame()\n",
    "for folder in range(2010, 2026):\n",
    "    df = pd.read_csv(myLib.pathDataDomesticData + str(folder) + \"/\" + \"fy-stock-dividend.csv\",\\\n",
    "    header=1, index_col=[\"コード\", \"年度\"], dtype={\"コード\":\"str\"})\n",
    "    dfStockDividend = pd.concat([dfStockDividend, df], axis=0, join=\"outer\")\n",
    "dfStockDividend = dfStockDividend.loc[~dfStockDividend.index.duplicated(\"last\")]\n",
    "dfStockDividend = dfStockDividend.sort_index(level=[\"コード\"])\n",
    "#display(dfStockDividend)\n",
    "\n",
    "dfAll = pd.concat([dfBalanceSheet, dfProftLoss], axis=1, join=\"outer\")\n",
    "dfAll = pd.concat([dfAll, dfStockDividend], axis=1, join=\"outer\")\n",
    "dfAll = dfAll.sort_index()\n",
    "#display(dfAll.head(1000))\n",
    "dfAll.to_csv(myLib.pathDataSummaryDomesticData + \"IR_Bank_Data.csv\")\n"
   ]
  },
  {
   "cell_type": "code",
   "execution_count": null,
   "metadata": {},
   "outputs": [],
   "source": [
    "# データがないセルを\"-\"からnullに変換する\n",
    "import pandas as pd\n",
    "import math\n",
    "import myLibStandard as myLib\n",
    "myLib.set_DisplayOption()\n",
    "\n",
    "dfAll = pd.read_csv(myLib.pathDataSummaryDomesticData + \"IR_Bank_Data.csv\",index_col=[\"コード\", \"年度\"], dtype=\"str\")\n",
    "dfAll = dfAll.sort_index()\n",
    "for column in dfAll:\n",
    "    dfAll[column] = dfAll[column].replace(\"-\", math.nan)\n",
    "    dfAll[column] = dfAll[column].replace(0, math.nan)\n",
    "\n",
    "dfAll.to_csv(myLib.pathDataSummaryDomesticData + \"IR_Bank_Data.csv\")"
   ]
  },
  {
   "cell_type": "code",
   "execution_count": null,
   "metadata": {},
   "outputs": [],
   "source": [
    "# データが0の場合はNANにする（ゼロ割り算エラーを避けるため）\n",
    "import pandas as pd\n",
    "import math\n",
    "import myLibStandard as myLib\n",
    "myLib.set_DisplayOption()\n",
    "dfAll = pd.read_csv(myLib.pathDataSummaryDomesticData + \"IR_Bank_Data.csv\", dtype={\"コード\":\"str\"})\n",
    "\n",
    "for i in dfAll.index:\n",
    "    if dfAll.loc[i, \"EPS\"] == 0:\n",
    "        dfAll.loc[i, \"EPS\"] = math.nan\n",
    "    if dfAll.loc[i, \"BPS\"] == 0:\n",
    "        dfAll.loc[i, \"BPS\"] = math.nan\n",
    "dfAll = dfAll.set_index([\"コード\", \"年度\"])\n",
    "#display(dfAll.head(1000))\n",
    "dfAll.to_csv(myLib.pathDataSummaryDomesticData + \"IR_Bank_Data.csv\")"
   ]
  },
  {
   "cell_type": "markdown",
   "metadata": {},
   "source": [
    "##### 銘柄名や業種を取得"
   ]
  },
  {
   "cell_type": "code",
   "execution_count": null,
   "metadata": {},
   "outputs": [],
   "source": [
    "# シンボルリスト取得、保存\n",
    "from stocksymbol import StockSymbol\n",
    "api_key = '63ed951b-b643-48b1-bfe7-90c7a4f96349'\n",
    "ss = StockSymbol(api_key)\n",
    "symbol_list_japan = ss.get_symbol_list(market=\"Japan\") # \"us\" or \"america\" will also work\n",
    "df = symbol_list_japan\n",
    "df = pd.DataFrame(df)\n",
    "df.to_csv(myLib.pathDataSummaryDomesticData + \"symbol.csv\")"
   ]
  },
  {
   "cell_type": "code",
   "execution_count": null,
   "metadata": {},
   "outputs": [],
   "source": [
    "# Code一覧から銘柄の情報を取得し、登録する。ないものはデータから削除する\n",
    "import pandas as pd\n",
    "import myLibStandard as myLib\n",
    "import warnings\n",
    "#warnings.simplefilter('ignore')\n",
    "myLib.set_DisplayOption()\n",
    "\n",
    "dfAll = pd.read_csv(myLib.pathDataSummaryDomesticData + \"IR_Bank_Data.csv\",index_col=[\"コード\", \"年度\"], dtype={\"コード\":str})\n",
    "dfCode = pd.read_csv(myLib.pathDataSummaryDomesticData + \"CodeData.csv\",usecols=[\"コード\", \"銘柄名\", \"市場・商品区分\", \"33業種区分\"],\\\n",
    "index_col=[\"コード\"], dtype=str)\n",
    "dfAll[\"銘柄\"] = None\n",
    "dfAll[\"市場\"] = None\n",
    "dfAll[\"業種\"] = None\n",
    "dfAll = dfAll.sort_index()\n",
    "dlCode = dfAll.groupby(level='コード').size().index.tolist()\n",
    "dlDelCode = []\n",
    "for code in dlCode:\n",
    "    try:\n",
    "        dfAll.loc[(code,), \"銘柄\"] = dfCode.loc[code, \"銘柄名\"]\n",
    "        dfAll.loc[(code,), \"市場\"] = dfCode.loc[code, \"市場・商品区分\"]\n",
    "        dfAll.loc[(code,), \"業種\"] = dfCode.loc[code, \"33業種区分\"]\n",
    "    except KeyError:\n",
    "        dlDelCode.append(code)\n",
    "\n",
    "dfAll = dfAll.reset_index(\"年度\")\n",
    "for dl in dlDelCode:\n",
    "    dfAll = dfAll.drop(dl,axis=0)\n",
    "dfAll.to_csv(myLib.pathDataSummaryDomesticData + \"DataPreprocessing.csv\")"
   ]
  },
  {
   "cell_type": "markdown",
   "metadata": {},
   "source": [
    "##### 銘柄のテーマ情報を取得し登録する"
   ]
  },
  {
   "cell_type": "code",
   "execution_count": null,
   "metadata": {},
   "outputs": [],
   "source": [
    "# テーマ情報をCSVからとってきてテーマフラグを立てる\n",
    "import pandas as pd\n",
    "import myLibStandard as myLib\n",
    "import warnings\n",
    "myLib.set_DisplayOption()\n",
    "\n",
    "dfAll = pd.read_csv(myLib.pathDataSummaryDomesticData + \"DataPreprocessing.csv\",index_col=\"コード\", dtype={\"コード\":str})\n",
    "\n",
    "def get_ThemeList(filname):\n",
    "    df = pd.read_csv(myLib.pathDataDomesticData + filname, index_col=\"コード\", dtype={\"コード\":str})\n",
    "    return df\n",
    "\n",
    "dlname = [\"DOE採用銘柄\", \"円高メリット\", \"減配なし\", \"親子上場\", \"累進配当\"]\n",
    "for name in dlname:\n",
    "    dfTheme = get_ThemeList(name + \".csv\")\n",
    "    for code in dfTheme.index:\n",
    "        if code in dfAll.index:\n",
    "            dfAll.loc[code, name] = 1\n",
    "\n",
    "dfAll.to_csv(myLib.pathDataSummaryDomesticData + \"DataPreprocessing.csv\")\n"
   ]
  },
  {
   "cell_type": "markdown",
   "metadata": {},
   "source": [
    "## 分析値の計算、追加"
   ]
  },
  {
   "cell_type": "markdown",
   "metadata": {},
   "source": [
    "##### データの登録（PER, PBR, MIX係数, 簡易理論株価, 安全域, 時価総額, 配当利回り, 資産価値を含めたPERを登録する）"
   ]
  },
  {
   "cell_type": "code",
   "execution_count": null,
   "metadata": {},
   "outputs": [],
   "source": [
    "# PER, PBR, 簡易理論株価, 安全域, 配当利回り, MIX係数, 時価総額, を登録する (※長時間)\n",
    "import pandas as pd\n",
    "import math\n",
    "import datetime\n",
    "import calendar\n",
    "from yahooquery import Ticker\n",
    "import myLibStandard as myLib\n",
    "import warnings\n",
    "warnings.simplefilter('ignore', FutureWarning)\n",
    "myLib.set_DisplayOption()\n",
    "\n",
    "#dfSymbol = pd.read_csv(myLib.pathDataSummaryDomesticData + \"symbol.csv\", dtype={\"symbol\":str})\n",
    "dfAll = pd.read_csv(myLib.pathDataSummaryDomesticData + \"DataPreprocessing.csv\",index_col=[\"コード\", \"年度\"], dtype={\"コード\":\"str\"})\n",
    "#dfAll = pd.read_csv(myLib.pathDataSummaryDomesticData + \"DomesticDataTable.csv\",index_col=[\"コード\", \"年度\"], dtype={\"コード\":str})\n",
    "\n",
    "dfAll[\"PER\"] = math.nan\n",
    "dfAll[\"PBR\"] = math.nan\n",
    "dfAll[\"簡易理論株価\"] = math.nan\n",
    "dfAll[\"安全域\"] = math.nan\n",
    "dfAll[\"配当利回り\"] = math.nan\n",
    "dfAll[\"MIX係数\"] = math.nan\n",
    "dfAll[\"時価総額\"] = math.nan\n",
    "dfAll[\"株価\"] = math.nan\n",
    "dfAll[\"営業利益率\"] = math.nan\n",
    "dfAll[\"経常利益率\"] = math.nan\n",
    "dfAll[\"純利益率\"] = math.nan\n",
    "dfAll[\"配当将来期待\"] = round(dfAll[\"ROE\"] - dfAll[\"純資産配当率\"] ,1)\n",
    "\n",
    "def get_StockValue(symbol):\n",
    "    yqData = Ticker(symbol+\".T\")\n",
    "    stockValue = yqData.history(start=\"2010-03-01\")\n",
    "    stockValue = stockValue.reset_index(level=[\"date\",'symbol'])\n",
    "    stockValue[\"date\"] = stockValue[\"date\"].apply(lambda x: pd.to_datetime(x).tz_localize(None))\n",
    "    stockValue[\"date\"] = pd.to_datetime(stockValue[\"date\"])\n",
    "    stockValue = stockValue.set_index(\"date\")\n",
    "    stockValue = stockValue[\"close\"].resample(\"D\").ffill()\n",
    "    return stockValue\n",
    "    #return pd.Series()\n",
    "\n",
    "dfAll = dfAll.sort_index()\n",
    "dlCode = dfAll.groupby(level='コード').size().index.tolist()\n",
    "i=0\n",
    "for code in dlCode:\n",
    "    if (i>=0) and (i<5000):\n",
    "        print(code)\n",
    "        dsStock = get_StockValue(str(code))\n",
    "        for date in dfAll.loc[(code,)].index:\n",
    "            dtDate = datetime.datetime.strptime(date, '%Y/%m')\n",
    "            dtDate = datetime.date(dtDate.year, dtDate.month, calendar.monthrange(dtDate.year, dtDate.month)[1])\n",
    "            try:\n",
    "                stockValue = dsStock.loc[dtDate.strftime(\"%Y-%m-%d\")]\n",
    "            except KeyError:\n",
    "                stockValue = math.nan\n",
    "            eps = float(dfAll.loc[(code, date), \"EPS\"])\n",
    "            bps = float(dfAll.loc[(code, date), \"BPS\"])\n",
    "            if eps < 0:\n",
    "                dfAll.loc[(code, date), \"PER\"] = math.nan\n",
    "            else:\n",
    "                dfAll.loc[(code, date), \"PER\"] = round(stockValue / eps, 2)\n",
    "            dfAll.loc[(code, date), \"簡易理論株価\"] = round(bps + eps * 10,2)\n",
    "            dfAll.loc[(code, date), \"PBR\"] = round(stockValue / bps, 2)\n",
    "            dfAll.loc[(code, date), \"配当利回り\"] = round(float(dfAll.loc[(code, date), \"一株配当\"] / stockValue *100),2)\n",
    "            dfAll.loc[(code, date), \"安全域\"] = round(dfAll.loc[(code, date), \"簡易理論株価\"] / stockValue, 2)\n",
    "            dfAll.loc[(code, date), \"MIX係数\"] = dfAll.loc[(code, date), \"PER\"] * dfAll.loc[(code, date), \"PBR\"]\n",
    "            dfAll.loc[(code, date), \"時価総額\"] = dfAll.loc[(code, date), \"PER\"] * dfAll.loc[(code, date), \"純利益\"]\n",
    "            dfAll.loc[(code, date), \"株価\"] = stockValue\n",
    "            dfAll.loc[(code, date), \"営業利益率\"] = round(dfAll.loc[(code, date), \"営業利益\"] / dfAll.loc[(code, date), \"売上高\"] * 100 ,2)\n",
    "            dfAll.loc[(code, date), \"経常利益率\"] = round(dfAll.loc[(code, date), \"経常利益\"] / dfAll.loc[(code, date), \"売上高\"] * 100 ,2)\n",
    "            dfAll.loc[(code, date), \"純利益率\"] = round(dfAll.loc[(code, date), \"純利益\"] / dfAll.loc[(code, date), \"売上高\"] * 100 ,2)\n",
    "    i+=1\n",
    "    if i%10==0:\n",
    "        print(code,i)\n",
    "        dfAll.to_csv(myLib.pathDataSummaryDomesticData + \"DomesticDataTable.csv\")\n",
    "dfAll.to_csv(myLib.pathDataSummaryDomesticData + \"DomesticDataTable.csv\")"
   ]
  },
  {
   "cell_type": "code",
   "execution_count": null,
   "metadata": {},
   "outputs": [],
   "source": [
    "# 資産価値を含めたPERを登録する (※長時間)\n",
    "import pandas as pd\n",
    "import math\n",
    "import datetime\n",
    "import calendar\n",
    "from yahooquery import Ticker\n",
    "import yfinance as yf\n",
    "import myLibStandard as myLib\n",
    "import warnings\n",
    "#warnings.simplefilter('ignore', FutureWarning)\n",
    "myLib.set_DisplayOption()\n",
    "\n",
    "#dfSymbol = pd.read_csv(myLib.pathDataSummaryDomesticData + \"symbol.csv\", dtype={\"symbol\":\"str\"})\n",
    "dfAll = pd.read_csv(myLib.pathDataSummaryDomesticData + \"DomesticDataTable.csv\",index_col=[\"コード\", \"年度\"], dtype={\"コード\":\"str\"})\n",
    "dfAll[\"資産価値を含めたPER\"] = math.nan\n",
    "\n",
    "dfAll = dfAll.sort_index()\n",
    "dlCode = dfAll.groupby(level='コード').size().index.tolist()\n",
    "#display(dlCode)\n",
    "i=0\n",
    "for code in dlCode:\n",
    "    if (i>=0) & (i<=5000):\n",
    "        print(code)\n",
    "        try:\n",
    "            balance_sheet = Ticker(code+\".T\").balance_sheet().reset_index().set_index(\"asOfDate\")\n",
    "        except AttributeError:\n",
    "            balance_sheet = Ticker(code+\".T\").balance_sheet()\n",
    "        #display(balance_sheet)\n",
    "        if type(balance_sheet) != str:\n",
    "            for date in balance_sheet.index:\n",
    "                dtDate = datetime.date(date.year,date.month,1)\n",
    "                strDate = datetime.date.strftime(dtDate, \"%Y/%m\")\n",
    "                try:\n",
    "                    CurrentAssets = balance_sheet.loc[date, \"CurrentAssets\"]\n",
    "                except KeyError:\n",
    "                    CurrentAssets = math.nan\n",
    "                try:\n",
    "                    NetDebt = balance_sheet.loc[date, \"NetDebt\"]\n",
    "                except KeyError:\n",
    "                    NetDebt = balance_sheet.loc[date, \"TotalAssets\"] - balance_sheet.loc[date, \"StockholdersEquity\"]\n",
    "                try:\n",
    "                    AvailableForSaleSecurities = balance_sheet.loc[date, \"AvailableForSaleSecurities\"]\n",
    "                except KeyError:\n",
    "                    AvailableForSaleSecurities = math.nan\n",
    "                netCash = CurrentAssets + NetDebt * 0.7 -AvailableForSaleSecurities\n",
    "                #print(netCash)\n",
    "                #print(date)\n",
    "                #display(dfAll.loc[(code, )].index)\n",
    "                try:\n",
    "                    dfAll.loc[(code, strDate), \"資産価値を含めたPER\"] = round(\\\n",
    "                    (dfAll.loc[(code, strDate), \"時価総額\"] - netCash) / dfAll.loc[(code, strDate), \"純利益\"], 2)\n",
    "                except KeyError:\n",
    "                    dfAll.loc[(code, strDate),:] = math.nan\n",
    "                    dfAll.loc[(code, strDate), \"資産価値を含めたPER\"] = round(\\\n",
    "                    (dfAll.loc[(code, strDate), \"時価総額\"] - netCash) / dfAll.loc[(code, strDate), \"純利益\"], 2)\n",
    "                #print(code, strDate, dfAll.loc[(code, strDate), \"資産価値を含めたPER\"])\n",
    "    i+=1\n",
    "    if i%10==0:\n",
    "        print(i)\n",
    "        dfAll.to_csv(myLib.pathDataSummaryDomesticData + \"DomesticDataTable.csv\")\n",
    "        #break\n",
    "dfAll.to_csv(myLib.pathDataSummaryDomesticData + \"DomesticDataTable.csv\")"
   ]
  },
  {
   "cell_type": "markdown",
   "metadata": {},
   "source": [
    "## 最新日付のファイルの準備"
   ]
  },
  {
   "cell_type": "code",
   "execution_count": null,
   "metadata": {},
   "outputs": [],
   "source": [
    "# 最新日付のみのデータフレームを作成する（※中時間）\n",
    "import pandas as pd\n",
    "import myLibStandard as myLib\n",
    "myLib.set_DisplayOption()\n",
    "\n",
    "dfAll = pd.read_csv(myLib.pathDataSummaryDomesticData + \"DomesticDataTable.csv\",parse_dates=[1],index_col=[\"コード\", \"年度\"], dtype={\"コード\":str})\n",
    "dfAll = dfAll.sort_index()\n",
    "dlCode = dfAll.groupby(level='コード').size().index.tolist()\n",
    "dfMaxDate = pd.DataFrame()\n",
    "for code in dlCode:\n",
    "    maxDate = dfAll.loc[(code,)].index.max()\n",
    "    #display(dfAll.loc[(code,maxDate)])\n",
    "    #print(code)\n",
    "    if maxDate.year >= 2024:\n",
    "        ds = dfAll.loc[(code,maxDate)].to_frame().T\n",
    "        dfMaxDate = pd.concat([dfMaxDate,ds],axis=0)\n",
    "dfMaxDate.index.names = [\"コード\", \"年度\"]\n",
    "dfMaxDate.to_csv(myLib.pathDataSummaryDomesticData + \"DomesticDataTableMaxDate.csv\")"
   ]
  },
  {
   "cell_type": "markdown",
   "metadata": {},
   "source": []
  }
 ],
 "metadata": {
  "kernelspec": {
   "display_name": ".venv",
   "language": "python",
   "name": "python3"
  },
  "language_info": {
   "codemirror_mode": {
    "name": "ipython",
    "version": 3
   },
   "file_extension": ".py",
   "mimetype": "text/x-python",
   "name": "python",
   "nbconvert_exporter": "python",
   "pygments_lexer": "ipython3",
   "version": "3.13.7"
  }
 },
 "nbformat": 4,
 "nbformat_minor": 2
}
